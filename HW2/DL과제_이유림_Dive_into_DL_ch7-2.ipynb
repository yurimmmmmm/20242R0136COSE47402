{
  "nbformat": 4,
  "nbformat_minor": 0,
  "metadata": {
    "colab": {
      "provenance": []
    },
    "kernelspec": {
      "name": "python3",
      "display_name": "Python 3"
    },
    "language_info": {
      "name": "python"
    }
  },
  "cells": [
    {
      "cell_type": "markdown",
      "source": [
        "# Installation"
      ],
      "metadata": {
        "id": "qeS-9yWsIlgV"
      }
    },
    {
      "cell_type": "code",
      "execution_count": null,
      "metadata": {
        "id": "JAAIxmZ3Iisb",
        "colab": {
          "base_uri": "https://localhost:8080/",
          "height": 1000
        },
        "outputId": "78927376-cb08-48fd-8204-34026fcc7e38"
      },
      "outputs": [
        {
          "output_type": "stream",
          "name": "stdout",
          "text": [
            "Collecting d2l==1.0.3\n",
            "  Downloading d2l-1.0.3-py3-none-any.whl.metadata (556 bytes)\n",
            "Collecting jupyter==1.0.0 (from d2l==1.0.3)\n",
            "  Downloading jupyter-1.0.0-py2.py3-none-any.whl.metadata (995 bytes)\n",
            "Collecting numpy==1.23.5 (from d2l==1.0.3)\n",
            "  Downloading numpy-1.23.5-cp310-cp310-manylinux_2_17_x86_64.manylinux2014_x86_64.whl.metadata (2.3 kB)\n",
            "Collecting matplotlib==3.7.2 (from d2l==1.0.3)\n",
            "  Downloading matplotlib-3.7.2-cp310-cp310-manylinux_2_17_x86_64.manylinux2014_x86_64.whl.metadata (5.6 kB)\n",
            "Collecting matplotlib-inline==0.1.6 (from d2l==1.0.3)\n",
            "  Downloading matplotlib_inline-0.1.6-py3-none-any.whl.metadata (2.8 kB)\n",
            "Collecting requests==2.31.0 (from d2l==1.0.3)\n",
            "  Downloading requests-2.31.0-py3-none-any.whl.metadata (4.6 kB)\n",
            "Collecting pandas==2.0.3 (from d2l==1.0.3)\n",
            "  Downloading pandas-2.0.3-cp310-cp310-manylinux_2_17_x86_64.manylinux2014_x86_64.whl.metadata (18 kB)\n",
            "Collecting scipy==1.10.1 (from d2l==1.0.3)\n",
            "  Downloading scipy-1.10.1-cp310-cp310-manylinux_2_17_x86_64.manylinux2014_x86_64.whl.metadata (58 kB)\n",
            "\u001b[2K     \u001b[90m━━━━━━━━━━━━━━━━━━━━━━━━━━━━━━━━━━━━━━━━\u001b[0m \u001b[32m58.9/58.9 kB\u001b[0m \u001b[31m1.7 MB/s\u001b[0m eta \u001b[36m0:00:00\u001b[0m\n",
            "\u001b[?25hRequirement already satisfied: notebook in /usr/local/lib/python3.10/dist-packages (from jupyter==1.0.0->d2l==1.0.3) (6.5.5)\n",
            "Collecting qtconsole (from jupyter==1.0.0->d2l==1.0.3)\n",
            "  Downloading qtconsole-5.6.0-py3-none-any.whl.metadata (5.0 kB)\n",
            "Requirement already satisfied: jupyter-console in /usr/local/lib/python3.10/dist-packages (from jupyter==1.0.0->d2l==1.0.3) (6.1.0)\n",
            "Requirement already satisfied: nbconvert in /usr/local/lib/python3.10/dist-packages (from jupyter==1.0.0->d2l==1.0.3) (6.5.4)\n",
            "Requirement already satisfied: ipykernel in /usr/local/lib/python3.10/dist-packages (from jupyter==1.0.0->d2l==1.0.3) (5.5.6)\n",
            "Requirement already satisfied: ipywidgets in /usr/local/lib/python3.10/dist-packages (from jupyter==1.0.0->d2l==1.0.3) (7.7.1)\n",
            "Requirement already satisfied: contourpy>=1.0.1 in /usr/local/lib/python3.10/dist-packages (from matplotlib==3.7.2->d2l==1.0.3) (1.3.0)\n",
            "Requirement already satisfied: cycler>=0.10 in /usr/local/lib/python3.10/dist-packages (from matplotlib==3.7.2->d2l==1.0.3) (0.12.1)\n",
            "Requirement already satisfied: fonttools>=4.22.0 in /usr/local/lib/python3.10/dist-packages (from matplotlib==3.7.2->d2l==1.0.3) (4.54.1)\n",
            "Requirement already satisfied: kiwisolver>=1.0.1 in /usr/local/lib/python3.10/dist-packages (from matplotlib==3.7.2->d2l==1.0.3) (1.4.7)\n",
            "Requirement already satisfied: packaging>=20.0 in /usr/local/lib/python3.10/dist-packages (from matplotlib==3.7.2->d2l==1.0.3) (24.1)\n",
            "Requirement already satisfied: pillow>=6.2.0 in /usr/local/lib/python3.10/dist-packages (from matplotlib==3.7.2->d2l==1.0.3) (10.4.0)\n",
            "Collecting pyparsing<3.1,>=2.3.1 (from matplotlib==3.7.2->d2l==1.0.3)\n",
            "  Downloading pyparsing-3.0.9-py3-none-any.whl.metadata (4.2 kB)\n",
            "Requirement already satisfied: python-dateutil>=2.7 in /usr/local/lib/python3.10/dist-packages (from matplotlib==3.7.2->d2l==1.0.3) (2.8.2)\n",
            "Requirement already satisfied: traitlets in /usr/local/lib/python3.10/dist-packages (from matplotlib-inline==0.1.6->d2l==1.0.3) (5.7.1)\n",
            "Requirement already satisfied: pytz>=2020.1 in /usr/local/lib/python3.10/dist-packages (from pandas==2.0.3->d2l==1.0.3) (2024.2)\n",
            "Requirement already satisfied: tzdata>=2022.1 in /usr/local/lib/python3.10/dist-packages (from pandas==2.0.3->d2l==1.0.3) (2024.2)\n",
            "Requirement already satisfied: charset-normalizer<4,>=2 in /usr/local/lib/python3.10/dist-packages (from requests==2.31.0->d2l==1.0.3) (3.3.2)\n",
            "Requirement already satisfied: idna<4,>=2.5 in /usr/local/lib/python3.10/dist-packages (from requests==2.31.0->d2l==1.0.3) (3.10)\n",
            "Requirement already satisfied: urllib3<3,>=1.21.1 in /usr/local/lib/python3.10/dist-packages (from requests==2.31.0->d2l==1.0.3) (2.2.3)\n",
            "Requirement already satisfied: certifi>=2017.4.17 in /usr/local/lib/python3.10/dist-packages (from requests==2.31.0->d2l==1.0.3) (2024.8.30)\n",
            "Requirement already satisfied: six>=1.5 in /usr/local/lib/python3.10/dist-packages (from python-dateutil>=2.7->matplotlib==3.7.2->d2l==1.0.3) (1.16.0)\n",
            "Requirement already satisfied: ipython-genutils in /usr/local/lib/python3.10/dist-packages (from ipykernel->jupyter==1.0.0->d2l==1.0.3) (0.2.0)\n",
            "Requirement already satisfied: ipython>=5.0.0 in /usr/local/lib/python3.10/dist-packages (from ipykernel->jupyter==1.0.0->d2l==1.0.3) (7.34.0)\n",
            "Requirement already satisfied: jupyter-client in /usr/local/lib/python3.10/dist-packages (from ipykernel->jupyter==1.0.0->d2l==1.0.3) (6.1.12)\n",
            "Requirement already satisfied: tornado>=4.2 in /usr/local/lib/python3.10/dist-packages (from ipykernel->jupyter==1.0.0->d2l==1.0.3) (6.3.3)\n",
            "Requirement already satisfied: widgetsnbextension~=3.6.0 in /usr/local/lib/python3.10/dist-packages (from ipywidgets->jupyter==1.0.0->d2l==1.0.3) (3.6.9)\n",
            "Requirement already satisfied: jupyterlab-widgets>=1.0.0 in /usr/local/lib/python3.10/dist-packages (from ipywidgets->jupyter==1.0.0->d2l==1.0.3) (3.0.13)\n",
            "Requirement already satisfied: prompt-toolkit!=3.0.0,!=3.0.1,<3.1.0,>=2.0.0 in /usr/local/lib/python3.10/dist-packages (from jupyter-console->jupyter==1.0.0->d2l==1.0.3) (3.0.48)\n",
            "Requirement already satisfied: pygments in /usr/local/lib/python3.10/dist-packages (from jupyter-console->jupyter==1.0.0->d2l==1.0.3) (2.18.0)\n",
            "Requirement already satisfied: lxml in /usr/local/lib/python3.10/dist-packages (from nbconvert->jupyter==1.0.0->d2l==1.0.3) (4.9.4)\n",
            "Requirement already satisfied: beautifulsoup4 in /usr/local/lib/python3.10/dist-packages (from nbconvert->jupyter==1.0.0->d2l==1.0.3) (4.12.3)\n",
            "Requirement already satisfied: bleach in /usr/local/lib/python3.10/dist-packages (from nbconvert->jupyter==1.0.0->d2l==1.0.3) (6.1.0)\n",
            "Requirement already satisfied: defusedxml in /usr/local/lib/python3.10/dist-packages (from nbconvert->jupyter==1.0.0->d2l==1.0.3) (0.7.1)\n",
            "Requirement already satisfied: entrypoints>=0.2.2 in /usr/local/lib/python3.10/dist-packages (from nbconvert->jupyter==1.0.0->d2l==1.0.3) (0.4)\n",
            "Requirement already satisfied: jinja2>=3.0 in /usr/local/lib/python3.10/dist-packages (from nbconvert->jupyter==1.0.0->d2l==1.0.3) (3.1.4)\n",
            "Requirement already satisfied: jupyter-core>=4.7 in /usr/local/lib/python3.10/dist-packages (from nbconvert->jupyter==1.0.0->d2l==1.0.3) (5.7.2)\n",
            "Requirement already satisfied: jupyterlab-pygments in /usr/local/lib/python3.10/dist-packages (from nbconvert->jupyter==1.0.0->d2l==1.0.3) (0.3.0)\n",
            "Requirement already satisfied: MarkupSafe>=2.0 in /usr/local/lib/python3.10/dist-packages (from nbconvert->jupyter==1.0.0->d2l==1.0.3) (2.1.5)\n",
            "Requirement already satisfied: mistune<2,>=0.8.1 in /usr/local/lib/python3.10/dist-packages (from nbconvert->jupyter==1.0.0->d2l==1.0.3) (0.8.4)\n",
            "Requirement already satisfied: nbclient>=0.5.0 in /usr/local/lib/python3.10/dist-packages (from nbconvert->jupyter==1.0.0->d2l==1.0.3) (0.10.0)\n",
            "Requirement already satisfied: nbformat>=5.1 in /usr/local/lib/python3.10/dist-packages (from nbconvert->jupyter==1.0.0->d2l==1.0.3) (5.10.4)\n",
            "Requirement already satisfied: pandocfilters>=1.4.1 in /usr/local/lib/python3.10/dist-packages (from nbconvert->jupyter==1.0.0->d2l==1.0.3) (1.5.1)\n",
            "Requirement already satisfied: tinycss2 in /usr/local/lib/python3.10/dist-packages (from nbconvert->jupyter==1.0.0->d2l==1.0.3) (1.3.0)\n",
            "Requirement already satisfied: pyzmq<25,>=17 in /usr/local/lib/python3.10/dist-packages (from notebook->jupyter==1.0.0->d2l==1.0.3) (24.0.1)\n",
            "Requirement already satisfied: argon2-cffi in /usr/local/lib/python3.10/dist-packages (from notebook->jupyter==1.0.0->d2l==1.0.3) (23.1.0)\n",
            "Requirement already satisfied: nest-asyncio>=1.5 in /usr/local/lib/python3.10/dist-packages (from notebook->jupyter==1.0.0->d2l==1.0.3) (1.6.0)\n",
            "Requirement already satisfied: Send2Trash>=1.8.0 in /usr/local/lib/python3.10/dist-packages (from notebook->jupyter==1.0.0->d2l==1.0.3) (1.8.3)\n",
            "Requirement already satisfied: terminado>=0.8.3 in /usr/local/lib/python3.10/dist-packages (from notebook->jupyter==1.0.0->d2l==1.0.3) (0.18.1)\n",
            "Requirement already satisfied: prometheus-client in /usr/local/lib/python3.10/dist-packages (from notebook->jupyter==1.0.0->d2l==1.0.3) (0.21.0)\n",
            "Requirement already satisfied: nbclassic>=0.4.7 in /usr/local/lib/python3.10/dist-packages (from notebook->jupyter==1.0.0->d2l==1.0.3) (1.1.0)\n",
            "Collecting qtpy>=2.4.0 (from qtconsole->jupyter==1.0.0->d2l==1.0.3)\n",
            "  Downloading QtPy-2.4.1-py3-none-any.whl.metadata (12 kB)\n",
            "Requirement already satisfied: setuptools>=18.5 in /usr/local/lib/python3.10/dist-packages (from ipython>=5.0.0->ipykernel->jupyter==1.0.0->d2l==1.0.3) (71.0.4)\n",
            "Collecting jedi>=0.16 (from ipython>=5.0.0->ipykernel->jupyter==1.0.0->d2l==1.0.3)\n",
            "  Using cached jedi-0.19.1-py2.py3-none-any.whl.metadata (22 kB)\n",
            "Requirement already satisfied: decorator in /usr/local/lib/python3.10/dist-packages (from ipython>=5.0.0->ipykernel->jupyter==1.0.0->d2l==1.0.3) (4.4.2)\n",
            "Requirement already satisfied: pickleshare in /usr/local/lib/python3.10/dist-packages (from ipython>=5.0.0->ipykernel->jupyter==1.0.0->d2l==1.0.3) (0.7.5)\n",
            "Requirement already satisfied: backcall in /usr/local/lib/python3.10/dist-packages (from ipython>=5.0.0->ipykernel->jupyter==1.0.0->d2l==1.0.3) (0.2.0)\n",
            "Requirement already satisfied: pexpect>4.3 in /usr/local/lib/python3.10/dist-packages (from ipython>=5.0.0->ipykernel->jupyter==1.0.0->d2l==1.0.3) (4.9.0)\n",
            "Requirement already satisfied: platformdirs>=2.5 in /usr/local/lib/python3.10/dist-packages (from jupyter-core>=4.7->nbconvert->jupyter==1.0.0->d2l==1.0.3) (4.3.6)\n",
            "Requirement already satisfied: notebook-shim>=0.2.3 in /usr/local/lib/python3.10/dist-packages (from nbclassic>=0.4.7->notebook->jupyter==1.0.0->d2l==1.0.3) (0.2.4)\n",
            "Requirement already satisfied: fastjsonschema>=2.15 in /usr/local/lib/python3.10/dist-packages (from nbformat>=5.1->nbconvert->jupyter==1.0.0->d2l==1.0.3) (2.20.0)\n",
            "Requirement already satisfied: jsonschema>=2.6 in /usr/local/lib/python3.10/dist-packages (from nbformat>=5.1->nbconvert->jupyter==1.0.0->d2l==1.0.3) (4.23.0)\n",
            "Requirement already satisfied: wcwidth in /usr/local/lib/python3.10/dist-packages (from prompt-toolkit!=3.0.0,!=3.0.1,<3.1.0,>=2.0.0->jupyter-console->jupyter==1.0.0->d2l==1.0.3) (0.2.13)\n",
            "Requirement already satisfied: ptyprocess in /usr/local/lib/python3.10/dist-packages (from terminado>=0.8.3->notebook->jupyter==1.0.0->d2l==1.0.3) (0.7.0)\n",
            "Requirement already satisfied: argon2-cffi-bindings in /usr/local/lib/python3.10/dist-packages (from argon2-cffi->notebook->jupyter==1.0.0->d2l==1.0.3) (21.2.0)\n",
            "Requirement already satisfied: soupsieve>1.2 in /usr/local/lib/python3.10/dist-packages (from beautifulsoup4->nbconvert->jupyter==1.0.0->d2l==1.0.3) (2.6)\n",
            "Requirement already satisfied: webencodings in /usr/local/lib/python3.10/dist-packages (from bleach->nbconvert->jupyter==1.0.0->d2l==1.0.3) (0.5.1)\n",
            "Requirement already satisfied: parso<0.9.0,>=0.8.3 in /usr/local/lib/python3.10/dist-packages (from jedi>=0.16->ipython>=5.0.0->ipykernel->jupyter==1.0.0->d2l==1.0.3) (0.8.4)\n",
            "Requirement already satisfied: attrs>=22.2.0 in /usr/local/lib/python3.10/dist-packages (from jsonschema>=2.6->nbformat>=5.1->nbconvert->jupyter==1.0.0->d2l==1.0.3) (24.2.0)\n",
            "Requirement already satisfied: jsonschema-specifications>=2023.03.6 in /usr/local/lib/python3.10/dist-packages (from jsonschema>=2.6->nbformat>=5.1->nbconvert->jupyter==1.0.0->d2l==1.0.3) (2023.12.1)\n",
            "Requirement already satisfied: referencing>=0.28.4 in /usr/local/lib/python3.10/dist-packages (from jsonschema>=2.6->nbformat>=5.1->nbconvert->jupyter==1.0.0->d2l==1.0.3) (0.35.1)\n",
            "Requirement already satisfied: rpds-py>=0.7.1 in /usr/local/lib/python3.10/dist-packages (from jsonschema>=2.6->nbformat>=5.1->nbconvert->jupyter==1.0.0->d2l==1.0.3) (0.20.0)\n",
            "Requirement already satisfied: jupyter-server<3,>=1.8 in /usr/local/lib/python3.10/dist-packages (from notebook-shim>=0.2.3->nbclassic>=0.4.7->notebook->jupyter==1.0.0->d2l==1.0.3) (1.24.0)\n",
            "Requirement already satisfied: cffi>=1.0.1 in /usr/local/lib/python3.10/dist-packages (from argon2-cffi-bindings->argon2-cffi->notebook->jupyter==1.0.0->d2l==1.0.3) (1.17.1)\n",
            "Requirement already satisfied: pycparser in /usr/local/lib/python3.10/dist-packages (from cffi>=1.0.1->argon2-cffi-bindings->argon2-cffi->notebook->jupyter==1.0.0->d2l==1.0.3) (2.22)\n",
            "Requirement already satisfied: anyio<4,>=3.1.0 in /usr/local/lib/python3.10/dist-packages (from jupyter-server<3,>=1.8->notebook-shim>=0.2.3->nbclassic>=0.4.7->notebook->jupyter==1.0.0->d2l==1.0.3) (3.7.1)\n",
            "Requirement already satisfied: websocket-client in /usr/local/lib/python3.10/dist-packages (from jupyter-server<3,>=1.8->notebook-shim>=0.2.3->nbclassic>=0.4.7->notebook->jupyter==1.0.0->d2l==1.0.3) (1.8.0)\n",
            "Requirement already satisfied: sniffio>=1.1 in /usr/local/lib/python3.10/dist-packages (from anyio<4,>=3.1.0->jupyter-server<3,>=1.8->notebook-shim>=0.2.3->nbclassic>=0.4.7->notebook->jupyter==1.0.0->d2l==1.0.3) (1.3.1)\n",
            "Requirement already satisfied: exceptiongroup in /usr/local/lib/python3.10/dist-packages (from anyio<4,>=3.1.0->jupyter-server<3,>=1.8->notebook-shim>=0.2.3->nbclassic>=0.4.7->notebook->jupyter==1.0.0->d2l==1.0.3) (1.2.2)\n",
            "Downloading d2l-1.0.3-py3-none-any.whl (111 kB)\n",
            "\u001b[2K   \u001b[90m━━━━━━━━━━━━━━━━━━━━━━━━━━━━━━━━━━━━━━━━\u001b[0m \u001b[32m111.7/111.7 kB\u001b[0m \u001b[31m3.8 MB/s\u001b[0m eta \u001b[36m0:00:00\u001b[0m\n",
            "\u001b[?25hDownloading jupyter-1.0.0-py2.py3-none-any.whl (2.7 kB)\n",
            "Downloading matplotlib-3.7.2-cp310-cp310-manylinux_2_17_x86_64.manylinux2014_x86_64.whl (11.6 MB)\n",
            "\u001b[2K   \u001b[90m━━━━━━━━━━━━━━━━━━━━━━━━━━━━━━━━━━━━━━━━\u001b[0m \u001b[32m11.6/11.6 MB\u001b[0m \u001b[31m62.9 MB/s\u001b[0m eta \u001b[36m0:00:00\u001b[0m\n",
            "\u001b[?25hDownloading matplotlib_inline-0.1.6-py3-none-any.whl (9.4 kB)\n",
            "Downloading numpy-1.23.5-cp310-cp310-manylinux_2_17_x86_64.manylinux2014_x86_64.whl (17.1 MB)\n",
            "\u001b[2K   \u001b[90m━━━━━━━━━━━━━━━━━━━━━━━━━━━━━━━━━━━━━━━━\u001b[0m \u001b[32m17.1/17.1 MB\u001b[0m \u001b[31m47.9 MB/s\u001b[0m eta \u001b[36m0:00:00\u001b[0m\n",
            "\u001b[?25hDownloading pandas-2.0.3-cp310-cp310-manylinux_2_17_x86_64.manylinux2014_x86_64.whl (12.3 MB)\n",
            "\u001b[2K   \u001b[90m━━━━━━━━━━━━━━━━━━━━━━━━━━━━━━━━━━━━━━━━\u001b[0m \u001b[32m12.3/12.3 MB\u001b[0m \u001b[31m64.2 MB/s\u001b[0m eta \u001b[36m0:00:00\u001b[0m\n",
            "\u001b[?25hDownloading requests-2.31.0-py3-none-any.whl (62 kB)\n",
            "\u001b[2K   \u001b[90m━━━━━━━━━━━━━━━━━━━━━━━━━━━━━━━━━━━━━━━━\u001b[0m \u001b[32m62.6/62.6 kB\u001b[0m \u001b[31m4.3 MB/s\u001b[0m eta \u001b[36m0:00:00\u001b[0m\n",
            "\u001b[?25hDownloading scipy-1.10.1-cp310-cp310-manylinux_2_17_x86_64.manylinux2014_x86_64.whl (34.4 MB)\n",
            "\u001b[2K   \u001b[90m━━━━━━━━━━━━━━━━━━━━━━━━━━━━━━━━━━━━━━━━\u001b[0m \u001b[32m34.4/34.4 MB\u001b[0m \u001b[31m19.4 MB/s\u001b[0m eta \u001b[36m0:00:00\u001b[0m\n",
            "\u001b[?25hDownloading pyparsing-3.0.9-py3-none-any.whl (98 kB)\n",
            "\u001b[2K   \u001b[90m━━━━━━━━━━━━━━━━━━━━━━━━━━━━━━━━━━━━━━━━\u001b[0m \u001b[32m98.3/98.3 kB\u001b[0m \u001b[31m5.4 MB/s\u001b[0m eta \u001b[36m0:00:00\u001b[0m\n",
            "\u001b[?25hDownloading qtconsole-5.6.0-py3-none-any.whl (124 kB)\n",
            "\u001b[2K   \u001b[90m━━━━━━━━━━━━━━━━━━━━━━━━━━━━━━━━━━━━━━━━\u001b[0m \u001b[32m124.7/124.7 kB\u001b[0m \u001b[31m8.4 MB/s\u001b[0m eta \u001b[36m0:00:00\u001b[0m\n",
            "\u001b[?25hDownloading QtPy-2.4.1-py3-none-any.whl (93 kB)\n",
            "\u001b[2K   \u001b[90m━━━━━━━━━━━━━━━━━━━━━━━━━━━━━━━━━━━━━━━━\u001b[0m \u001b[32m93.5/93.5 kB\u001b[0m \u001b[31m6.1 MB/s\u001b[0m eta \u001b[36m0:00:00\u001b[0m\n",
            "\u001b[?25hUsing cached jedi-0.19.1-py2.py3-none-any.whl (1.6 MB)\n",
            "Installing collected packages: requests, qtpy, pyparsing, numpy, matplotlib-inline, jedi, scipy, pandas, matplotlib, qtconsole, jupyter, d2l\n",
            "  Attempting uninstall: requests\n",
            "    Found existing installation: requests 2.32.3\n",
            "    Uninstalling requests-2.32.3:\n",
            "      Successfully uninstalled requests-2.32.3\n",
            "  Attempting uninstall: pyparsing\n",
            "    Found existing installation: pyparsing 3.1.4\n",
            "    Uninstalling pyparsing-3.1.4:\n",
            "      Successfully uninstalled pyparsing-3.1.4\n",
            "  Attempting uninstall: numpy\n",
            "    Found existing installation: numpy 1.26.4\n",
            "    Uninstalling numpy-1.26.4:\n",
            "      Successfully uninstalled numpy-1.26.4\n",
            "  Attempting uninstall: matplotlib-inline\n",
            "    Found existing installation: matplotlib-inline 0.1.7\n",
            "    Uninstalling matplotlib-inline-0.1.7:\n",
            "      Successfully uninstalled matplotlib-inline-0.1.7\n",
            "  Attempting uninstall: scipy\n",
            "    Found existing installation: scipy 1.13.1\n",
            "    Uninstalling scipy-1.13.1:\n",
            "      Successfully uninstalled scipy-1.13.1\n",
            "  Attempting uninstall: pandas\n",
            "    Found existing installation: pandas 2.2.2\n",
            "    Uninstalling pandas-2.2.2:\n",
            "      Successfully uninstalled pandas-2.2.2\n",
            "  Attempting uninstall: matplotlib\n",
            "    Found existing installation: matplotlib 3.7.1\n",
            "    Uninstalling matplotlib-3.7.1:\n",
            "      Successfully uninstalled matplotlib-3.7.1\n",
            "\u001b[31mERROR: pip's dependency resolver does not currently take into account all the packages that are installed. This behaviour is the source of the following dependency conflicts.\n",
            "albucore 0.0.16 requires numpy>=1.24, but you have numpy 1.23.5 which is incompatible.\n",
            "albumentations 1.4.15 requires numpy>=1.24.4, but you have numpy 1.23.5 which is incompatible.\n",
            "bigframes 1.21.0 requires numpy>=1.24.0, but you have numpy 1.23.5 which is incompatible.\n",
            "chex 0.1.87 requires numpy>=1.24.1, but you have numpy 1.23.5 which is incompatible.\n",
            "google-colab 1.0.0 requires pandas==2.2.2, but you have pandas 2.0.3 which is incompatible.\n",
            "google-colab 1.0.0 requires requests==2.32.3, but you have requests 2.31.0 which is incompatible.\n",
            "jax 0.4.33 requires numpy>=1.24, but you have numpy 1.23.5 which is incompatible.\n",
            "jaxlib 0.4.33 requires numpy>=1.24, but you have numpy 1.23.5 which is incompatible.\n",
            "mizani 0.11.4 requires pandas>=2.1.0, but you have pandas 2.0.3 which is incompatible.\n",
            "plotnine 0.13.6 requires pandas<3.0.0,>=2.1.0, but you have pandas 2.0.3 which is incompatible.\n",
            "xarray 2024.9.0 requires numpy>=1.24, but you have numpy 1.23.5 which is incompatible.\n",
            "xarray 2024.9.0 requires pandas>=2.1, but you have pandas 2.0.3 which is incompatible.\u001b[0m\u001b[31m\n",
            "\u001b[0mSuccessfully installed d2l-1.0.3 jedi-0.19.1 jupyter-1.0.0 matplotlib-3.7.2 matplotlib-inline-0.1.6 numpy-1.23.5 pandas-2.0.3 pyparsing-3.0.9 qtconsole-5.6.0 qtpy-2.4.1 requests-2.31.0 scipy-1.10.1\n"
          ]
        },
        {
          "output_type": "display_data",
          "data": {
            "application/vnd.colab-display-data+json": {
              "pip_warning": {
                "packages": [
                  "matplotlib",
                  "matplotlib_inline",
                  "mpl_toolkits",
                  "numpy"
                ]
              },
              "id": "a4905183cac04e74b60cf18babdfa55b"
            }
          },
          "metadata": {}
        }
      ],
      "source": [
        "!pip install d2l==1.0.3"
      ]
    },
    {
      "cell_type": "markdown",
      "source": [
        "# 7. Convolution Neural Networks"
      ],
      "metadata": {
        "id": "KFiJDUKnItiJ"
      }
    },
    {
      "cell_type": "markdown",
      "source": [
        "## 7.1. From Fully Connected Layers to Convolutions"
      ],
      "metadata": {
        "id": "-WnwxrfXI15b"
      }
    },
    {
      "cell_type": "markdown",
      "source": [
        "###7.1.1. Invariance"
      ],
      "metadata": {
        "id": "lJ9LSKfGJKVi"
      }
    },
    {
      "cell_type": "markdown",
      "source": [
        "###7.1.2. Constraining the MLP"
      ],
      "metadata": {
        "id": "cYfwi732JOHL"
      }
    },
    {
      "cell_type": "markdown",
      "source": [
        "$$\\begin{aligned} \\left[\\mathbf{H}\\right]_{i, j} &= [\\mathbf{U}]_{i, j} + \\sum_k \\sum_l[\\mathsf{W}]_{i, j, k, l}  [\\mathbf{X}]_{k, l}\\\\ &=  [\\mathbf{U}]_{i, j} +\n",
        "\\sum_a \\sum_b [\\mathsf{V}]_{i, j, a, b}  [\\mathbf{X}]_{i+a, j+b}.\\end{aligned}$$"
      ],
      "metadata": {
        "id": "bVMQzC-cJRVW"
      }
    },
    {
      "cell_type": "markdown",
      "source": [
        "####7.1.2.1. Translation Invariance"
      ],
      "metadata": {
        "id": "iJJ9OGWXJS8j"
      }
    },
    {
      "cell_type": "markdown",
      "source": [
        "$$[\\mathbf{H}]_{i, j} = u + \\sum_a\\sum_b [\\mathbf{V}]_{a, b}  [\\mathbf{X}]_{i+a, j+b}.$$\n"
      ],
      "metadata": {
        "id": "HvOkStwcJZYE"
      }
    },
    {
      "cell_type": "markdown",
      "source": [
        "####7.1.2.2. Locality"
      ],
      "metadata": {
        "id": "SjBt1I87Ja2R"
      }
    },
    {
      "cell_type": "markdown",
      "source": [
        "$$[\\mathbf{H}]_{i, j} = u + \\sum_{a = -\\Delta}^{\\Delta} \\sum_{b = -\\Delta}^{\\Delta} [\\mathbf{V}]_{a, b}  [\\mathbf{X}]_{i+a, j+b}.$$"
      ],
      "metadata": {
        "id": "ym2R9FUNJdQf"
      }
    },
    {
      "cell_type": "markdown",
      "source": [
        "###7.1.3. Convolutions"
      ],
      "metadata": {
        "id": "JLsHzN_RJjLf"
      }
    },
    {
      "cell_type": "markdown",
      "source": [
        "$$(f * g)(\\mathbf{x}) = \\int f(\\mathbf{z}) g(\\mathbf{x}-\\mathbf{z}) d\\mathbf{z}.$$"
      ],
      "metadata": {
        "id": "DvAAgLJJJlcu"
      }
    },
    {
      "cell_type": "markdown",
      "source": [
        "$$(f * g)(i) = \\sum_a f(a) g(i-a).$$"
      ],
      "metadata": {
        "id": "waNkfmTjJolb"
      }
    },
    {
      "cell_type": "markdown",
      "source": [
        "\n",
        "$$(f * g)(i, j) = \\sum_a\\sum_b f(a, b) g(i-a, j-b).$$"
      ],
      "metadata": {
        "id": "5RiEVEVFJqt5"
      }
    },
    {
      "cell_type": "markdown",
      "source": [
        "###7.1.4. Channels"
      ],
      "metadata": {
        "id": "hY35yxnUJuWU"
      }
    },
    {
      "cell_type": "markdown",
      "source": [
        "$$[\\mathsf{H}]_{i,j,d} = \\sum_{a = -\\Delta}^{\\Delta} \\sum_{b = -\\Delta}^{\\Delta} \\sum_c [\\mathsf{V}]_{a, b, c, d} [\\mathsf{X}]_{i+a, j+b, c},$$"
      ],
      "metadata": {
        "id": "4kOqQutMJ0aV"
      }
    },
    {
      "cell_type": "markdown",
      "source": [
        "###7.1.5. Exercises & Discussion"
      ],
      "metadata": {
        "id": "eTgP5fs5J2l2"
      }
    },
    {
      "cell_type": "markdown",
      "source": [
        "1. Why might translation invariance not be a good idea after all? Give an example.\n",
        "\n",
        "translation invariance는 동일한 대상이 위치와 무관하게 항상 비슷한 특징을 유지하도록 설계된 특성이다. 즉, 어떤 패턴이 이미지 내 어디에 위치하든 간에 동일한 방식으로 처리된다. 이는 객체의 고유성을 인식하고 위치에 의존하지 않는 일관된 판단을 내릴 수 있게 해주는 좋은 방법론이다.\n",
        "그러나, 위치나 주변 환경에 따라 대상의 의미가 달라지는 경우에는 평행 이동 불변성이 오히려 부적합할 수 있다. 예를 들어, 예를 들어 salt & pepper 노이즈의 경우, 이미지 전반에 흩어진 검은색과 흰색 픽셀은 노이즈로 간주된다. 하지만, 만약 흰색 픽셀이 우유가 담긴 컵 내부에 위치 한다면 이는 노이즈로 취급되어서는 안되는 것과 같다.\n"
      ],
      "metadata": {
        "id": "ZypqZT3FVuG1"
      }
    },
    {
      "cell_type": "markdown",
      "source": [
        "## 7.2. Convolutions for Images"
      ],
      "metadata": {
        "id": "0qmvfJt1I5WU"
      }
    },
    {
      "cell_type": "code",
      "source": [
        "import torch\n",
        "from torch import nn\n",
        "from d2l import torch as d2l"
      ],
      "metadata": {
        "id": "gjS8XV5xQkat"
      },
      "execution_count": null,
      "outputs": []
    },
    {
      "cell_type": "markdown",
      "source": [
        "###7.2.1. The Cross-Correlation Operation"
      ],
      "metadata": {
        "id": "k740BgabUZQA"
      }
    },
    {
      "cell_type": "markdown",
      "source": [
        "$$(n_\\textrm{h}-k_\\textrm{h}+1) \\times (n_\\textrm{w}-k_\\textrm{w}+1).$$\n"
      ],
      "metadata": {
        "id": "Or8opJrDKJeY"
      }
    },
    {
      "cell_type": "code",
      "source": [
        "def corr2d(X, K):\n",
        "    h, w = K.shape\n",
        "    Y = torch.zeros((X.shape[0] - h + 1, X.shape[1] - w + 1))\n",
        "    for i in range(Y.shape[0]):\n",
        "        for j in range(Y.shape[1]):\n",
        "            Y[i, j] = (X[i:i + h, j:j + w] * K).sum()\n",
        "    return Y"
      ],
      "metadata": {
        "id": "VGvXeclkQp4r"
      },
      "execution_count": null,
      "outputs": []
    },
    {
      "cell_type": "code",
      "source": [
        "X = torch.tensor([[0.0, 1.0, 2.0], [3.0, 4.0, 5.0], [6.0, 7.0, 8.0]])\n",
        "K = torch.tensor([[0.0, 1.0], [2.0, 3.0]])\n",
        "corr2d(X, K)"
      ],
      "metadata": {
        "id": "VJZuGVUrUHgN",
        "colab": {
          "base_uri": "https://localhost:8080/"
        },
        "outputId": "6ddc4e0e-f0bf-49be-ec8b-3a333bb06b7c"
      },
      "execution_count": null,
      "outputs": [
        {
          "output_type": "execute_result",
          "data": {
            "text/plain": [
              "tensor([[19., 25.],\n",
              "        [37., 43.]])"
            ]
          },
          "metadata": {},
          "execution_count": 3
        }
      ]
    },
    {
      "cell_type": "markdown",
      "source": [
        "###7.2.2.Convolutional Layers"
      ],
      "metadata": {
        "id": "wBHTpkA9UcZX"
      }
    },
    {
      "cell_type": "code",
      "source": [
        "class Conv2D(nn.Module):\n",
        "  def __init__(self, kernel_size):\n",
        "    super().__init___()\n",
        "    self.weight = nn.Parameter(torch.rand(kernel_Size))\n",
        "    sel.bias = nn.Parameter(torch.zeors(1))\n",
        "\n",
        "  def forward(self, x):\n",
        "    return corr2d(x, self.weight) + self.bias"
      ],
      "metadata": {
        "id": "GANhGGGFUgHU"
      },
      "execution_count": null,
      "outputs": []
    },
    {
      "cell_type": "markdown",
      "source": [
        "###7.2.3. Object Edge Detection in Images"
      ],
      "metadata": {
        "id": "amKdGRRrU6pf"
      }
    },
    {
      "cell_type": "code",
      "source": [
        "X = torch.ones((6, 8))\n",
        "X[:, 2:6] = 0\n",
        "X"
      ],
      "metadata": {
        "id": "1R_fYwB0U7ul",
        "colab": {
          "base_uri": "https://localhost:8080/"
        },
        "outputId": "a613f65b-ffe0-4579-9aa6-16a57d6c05c9"
      },
      "execution_count": null,
      "outputs": [
        {
          "output_type": "execute_result",
          "data": {
            "text/plain": [
              "tensor([[1., 1., 0., 0., 0., 0., 1., 1.],\n",
              "        [1., 1., 0., 0., 0., 0., 1., 1.],\n",
              "        [1., 1., 0., 0., 0., 0., 1., 1.],\n",
              "        [1., 1., 0., 0., 0., 0., 1., 1.],\n",
              "        [1., 1., 0., 0., 0., 0., 1., 1.],\n",
              "        [1., 1., 0., 0., 0., 0., 1., 1.]])"
            ]
          },
          "metadata": {},
          "execution_count": 5
        }
      ]
    },
    {
      "cell_type": "code",
      "source": [
        "K = torch.tensor([[1.0, -1.0]])\n",
        "K"
      ],
      "metadata": {
        "id": "eaU5zVVIVHRB",
        "colab": {
          "base_uri": "https://localhost:8080/"
        },
        "outputId": "db9556dd-f73f-4cc5-ba83-eb4856d615fd"
      },
      "execution_count": null,
      "outputs": [
        {
          "output_type": "execute_result",
          "data": {
            "text/plain": [
              "tensor([[ 1., -1.]])"
            ]
          },
          "metadata": {},
          "execution_count": 6
        }
      ]
    },
    {
      "cell_type": "code",
      "source": [
        "Y = corr2d(X, K)\n",
        "Y"
      ],
      "metadata": {
        "id": "1HISSj-6VMG9",
        "colab": {
          "base_uri": "https://localhost:8080/"
        },
        "outputId": "ebe3820e-9ff0-4c18-ba4f-50cf6402e2b9"
      },
      "execution_count": null,
      "outputs": [
        {
          "output_type": "execute_result",
          "data": {
            "text/plain": [
              "tensor([[ 0.,  1.,  0.,  0.,  0., -1.,  0.],\n",
              "        [ 0.,  1.,  0.,  0.,  0., -1.,  0.],\n",
              "        [ 0.,  1.,  0.,  0.,  0., -1.,  0.],\n",
              "        [ 0.,  1.,  0.,  0.,  0., -1.,  0.],\n",
              "        [ 0.,  1.,  0.,  0.,  0., -1.,  0.],\n",
              "        [ 0.,  1.,  0.,  0.,  0., -1.,  0.]])"
            ]
          },
          "metadata": {},
          "execution_count": 7
        }
      ]
    },
    {
      "cell_type": "code",
      "source": [
        "corr2d(X.t(), K)"
      ],
      "metadata": {
        "id": "Qb-NFb61VNZz",
        "colab": {
          "base_uri": "https://localhost:8080/"
        },
        "outputId": "ad64ccf8-52cd-4a5a-c345-a02da3f03538"
      },
      "execution_count": null,
      "outputs": [
        {
          "output_type": "execute_result",
          "data": {
            "text/plain": [
              "tensor([[0., 0., 0., 0., 0.],\n",
              "        [0., 0., 0., 0., 0.],\n",
              "        [0., 0., 0., 0., 0.],\n",
              "        [0., 0., 0., 0., 0.],\n",
              "        [0., 0., 0., 0., 0.],\n",
              "        [0., 0., 0., 0., 0.],\n",
              "        [0., 0., 0., 0., 0.],\n",
              "        [0., 0., 0., 0., 0.]])"
            ]
          },
          "metadata": {},
          "execution_count": 8
        }
      ]
    },
    {
      "cell_type": "markdown",
      "source": [
        "###7.2.4. Learning a Kernel"
      ],
      "metadata": {
        "id": "Pc6C20B2VX6l"
      }
    },
    {
      "cell_type": "code",
      "source": [
        "conv2d = nn.LazyConv2d(1, kernel_size=(1, 2), bias=False)\n",
        "\n",
        "X = X.reshape((1, 1, 6, 8))\n",
        "Y = Y.reshape((1, 1, 6, 7))\n",
        "lr = 3e-2  # Learning rate\n",
        "\n",
        "for i in range(10):\n",
        "    Y_hat = conv2d(X)\n",
        "    l = (Y_hat - Y) ** 2\n",
        "    conv2d.zero_grad()\n",
        "    l.sum().backward()\n",
        "    conv2d.weight.data[:] -= lr * conv2d.weight.grad\n",
        "    if (i + 1) % 2 == 0:\n",
        "        print(f'epoch {i + 1}, loss {l.sum():.3f}')"
      ],
      "metadata": {
        "id": "a5e-hFMWVbTL",
        "colab": {
          "base_uri": "https://localhost:8080/"
        },
        "outputId": "f5d78877-d973-4d52-b6bb-1d8f3af8f819"
      },
      "execution_count": null,
      "outputs": [
        {
          "output_type": "stream",
          "name": "stdout",
          "text": [
            "epoch 2, loss 0.858\n",
            "epoch 4, loss 0.167\n",
            "epoch 6, loss 0.037\n",
            "epoch 8, loss 0.010\n",
            "epoch 10, loss 0.003\n"
          ]
        }
      ]
    },
    {
      "cell_type": "code",
      "source": [
        "conv2d.weight.data.reshape((1, 2))"
      ],
      "metadata": {
        "id": "D46RjPepbwZR",
        "colab": {
          "base_uri": "https://localhost:8080/"
        },
        "outputId": "a61f2308-cb13-466d-fdb5-7e9b150c7c7d"
      },
      "execution_count": null,
      "outputs": [
        {
          "output_type": "execute_result",
          "data": {
            "text/plain": [
              "tensor([[ 0.9901, -1.0008]])"
            ]
          },
          "metadata": {},
          "execution_count": 10
        }
      ]
    },
    {
      "cell_type": "markdown",
      "source": [
        "###7.2.5. Exercises & Discussion"
      ],
      "metadata": {
        "id": "SyBbX1eLb3CO"
      }
    },
    {
      "cell_type": "code",
      "source": [
        "XX = torch.arange(48, dtype=torch.float32).reshape((1, 1, 6, 8))\n",
        "XX"
      ],
      "metadata": {
        "colab": {
          "base_uri": "https://localhost:8080/"
        },
        "id": "t6JRmm3eaHZl",
        "outputId": "9b6fdfad-a27b-4dad-c47c-46fcf92f11d9"
      },
      "execution_count": null,
      "outputs": [
        {
          "output_type": "execute_result",
          "data": {
            "text/plain": [
              "tensor([[[[ 0.,  1.,  2.,  3.,  4.,  5.,  6.,  7.],\n",
              "          [ 8.,  9., 10., 11., 12., 13., 14., 15.],\n",
              "          [16., 17., 18., 19., 20., 21., 22., 23.],\n",
              "          [24., 25., 26., 27., 28., 29., 30., 31.],\n",
              "          [32., 33., 34., 35., 36., 37., 38., 39.],\n",
              "          [40., 41., 42., 43., 44., 45., 46., 47.]]]])"
            ]
          },
          "metadata": {},
          "execution_count": 11
        }
      ]
    },
    {
      "cell_type": "code",
      "source": [
        "# blur_kenel with padding\n",
        "blur_kernel = torch.tensor([[1.0, 1.0, 1.0],\n",
        "                            [1.0, 1.0, 1.0],\n",
        "                            [1.0, 1.0, 1.0]]) / 9.0\n",
        "\n",
        "conv_blur = nn.Conv2d(1, 1, kernel_size=(3, 3), padding=1, bias=False)\n",
        "conv_blur.weight.data = blur_kernel.reshape((1, 1, 3, 3))  # 출력, 입력, 높이, 너비\n",
        "Y_blur = conv_blur(XX)\n",
        "\n",
        "print(f\"Original XX:\\n{XX[0, 0]}\")\n",
        "print(f\"Blurred XX:\\n{Y_blur[0, 0]}\")"
      ],
      "metadata": {
        "colab": {
          "base_uri": "https://localhost:8080/"
        },
        "id": "F8Ns1BVEZv4E",
        "outputId": "c87d2b51-27f5-4c29-fe73-e10eb4075661"
      },
      "execution_count": null,
      "outputs": [
        {
          "output_type": "stream",
          "name": "stdout",
          "text": [
            "Original XX:\n",
            "tensor([[ 0.,  1.,  2.,  3.,  4.,  5.,  6.,  7.],\n",
            "        [ 8.,  9., 10., 11., 12., 13., 14., 15.],\n",
            "        [16., 17., 18., 19., 20., 21., 22., 23.],\n",
            "        [24., 25., 26., 27., 28., 29., 30., 31.],\n",
            "        [32., 33., 34., 35., 36., 37., 38., 39.],\n",
            "        [40., 41., 42., 43., 44., 45., 46., 47.]])\n",
            "Blurred XX:\n",
            "tensor([[ 2.0000,  3.3333,  4.0000,  4.6667,  5.3333,  6.0000,  6.6667,  4.6667],\n",
            "        [ 5.6667,  9.0000, 10.0000, 11.0000, 12.0000, 13.0000, 14.0000,  9.6667],\n",
            "        [11.0000, 17.0000, 18.0000, 19.0000, 20.0000, 21.0000, 22.0000, 15.0000],\n",
            "        [16.3333, 25.0000, 26.0000, 27.0000, 28.0000, 29.0000, 30.0000, 20.3333],\n",
            "        [21.6667, 33.0000, 34.0000, 35.0000, 36.0000, 37.0000, 38.0000, 25.6667],\n",
            "        [16.2222, 24.6667, 25.3333, 26.0000, 26.6667, 27.3333, 28.0000, 18.8889]],\n",
            "       grad_fn=<SelectBackward0>)\n"
          ]
        }
      ]
    },
    {
      "cell_type": "code",
      "source": [
        "# blur_kenel without padding\n",
        "conv_blur2 = nn.Conv2d(1, 1, kernel_size=(3, 3), padding=0, bias=False)\n",
        "conv_blur.weight.data = blur_kernel.reshape((1, 1, 3, 3))  # 출력, 입력, 높이, 너비\n",
        "Y_blur2 = conv_blur2(XX)\n",
        "\n",
        "print(f\"Original XX:\\n{XX[0, 0]}\")\n",
        "print(f\"Blurred XX:\\n{Y_blur2[0, 0]}\")"
      ],
      "metadata": {
        "colab": {
          "base_uri": "https://localhost:8080/"
        },
        "id": "A0D-H330bNxd",
        "outputId": "affe67c8-4755-4615-a29f-f5c10805de0c"
      },
      "execution_count": null,
      "outputs": [
        {
          "output_type": "stream",
          "name": "stdout",
          "text": [
            "Original XX:\n",
            "tensor([[ 0.,  1.,  2.,  3.,  4.,  5.,  6.,  7.],\n",
            "        [ 8.,  9., 10., 11., 12., 13., 14., 15.],\n",
            "        [16., 17., 18., 19., 20., 21., 22., 23.],\n",
            "        [24., 25., 26., 27., 28., 29., 30., 31.],\n",
            "        [32., 33., 34., 35., 36., 37., 38., 39.],\n",
            "        [40., 41., 42., 43., 44., 45., 46., 47.]])\n",
            "Blurred XX:\n",
            "tensor([[ -2.4661,  -2.9893,  -3.5124,  -4.0355,  -4.5587,  -5.0818],\n",
            "        [ -6.6512,  -7.1743,  -7.6974,  -8.2206,  -8.7437,  -9.2668],\n",
            "        [-10.8362, -11.3593, -11.8825, -12.4056, -12.9287, -13.4518],\n",
            "        [-15.0212, -15.5443, -16.0675, -16.5906, -17.1137, -17.6369]],\n",
            "       grad_fn=<SelectBackward0>)\n"
          ]
        }
      ]
    },
    {
      "cell_type": "code",
      "source": [
        "# sharpening_kenel with padding\n",
        "sharpen_kernel = torch.tensor([[0.0, -1.0, 0.0],\n",
        "                               [-1.0, 5.0, -1.0],\n",
        "                               [0.0, -1.0, 0.0]])\n",
        "\n",
        "conv_sharpen = nn.Conv2d(1, 1, kernel_size=(3, 3), padding=1, bias=False)\n",
        "\n",
        "conv_sharpen.weight.data = sharpen_kernel.reshape((1, 1, 3, 3)) # 출력, 입력, 높이, 너비\n",
        "\n",
        "Y_sharpen = conv_sharpen(XX)\n",
        "\n",
        "print(f\"Original XX:\\n{X[0, 0]}\")\n",
        "print(f\"Sharpened XX:\\n{Y_sharpen[0, 0]}\")"
      ],
      "metadata": {
        "colab": {
          "base_uri": "https://localhost:8080/"
        },
        "id": "ZUiu1SYOZ0YA",
        "outputId": "a07e967d-b21b-4936-9524-36dcd3d439eb"
      },
      "execution_count": null,
      "outputs": [
        {
          "output_type": "stream",
          "name": "stdout",
          "text": [
            "Original XX:\n",
            "tensor([[1., 1., 0., 0., 0., 0., 1., 1.],\n",
            "        [1., 1., 0., 0., 0., 0., 1., 1.],\n",
            "        [1., 1., 0., 0., 0., 0., 1., 1.],\n",
            "        [1., 1., 0., 0., 0., 0., 1., 1.],\n",
            "        [1., 1., 0., 0., 0., 0., 1., 1.],\n",
            "        [1., 1., 0., 0., 0., 0., 1., 1.]])\n",
            "Sharpened XX:\n",
            "tensor([[ -9.,  -6.,  -4.,  -2.,   0.,   2.,   4.,  14.],\n",
            "        [ 15.,   9.,  10.,  11.,  12.,  13.,  14.,  31.],\n",
            "        [ 31.,  17.,  18.,  19.,  20.,  21.,  22.,  47.],\n",
            "        [ 47.,  25.,  26.,  27.,  28.,  29.,  30.,  63.],\n",
            "        [ 63.,  33.,  34.,  35.,  36.,  37.,  38.,  79.],\n",
            "        [127.,  90.,  92.,  94.,  96.,  98., 100., 150.]],\n",
            "       grad_fn=<SelectBackward0>)\n"
          ]
        }
      ]
    },
    {
      "cell_type": "code",
      "source": [
        "# sharpening_kenel without padding\n",
        "sharpen_kernel = torch.tensor([[0.0, -1.0, 0.0],\n",
        "                               [-1.0, 5.0, -1.0],\n",
        "                               [0.0, -1.0, 0.0]])\n",
        "\n",
        "conv_sharpen2 = nn.Conv2d(1, 1, kernel_size=(3, 3), padding=0, bias=False)\n",
        "\n",
        "conv_sharpen.weight.data = sharpen_kernel.reshape((1, 1, 3, 3)) # 출력, 입력, 높이, 너비\n",
        "\n",
        "Y_sharpen2 = conv_sharpen2(XX)\n",
        "\n",
        "print(f\"Original XX:\\n{XX[0, 0]}\")\n",
        "print(f\"Sharpened XX:\\n{Y_sharpen2[0, 0]}\")"
      ],
      "metadata": {
        "colab": {
          "base_uri": "https://localhost:8080/"
        },
        "id": "9XfO8dexbgAU",
        "outputId": "a57b5cb5-37ad-4e86-82bb-5a6906de6a1f"
      },
      "execution_count": null,
      "outputs": [
        {
          "output_type": "stream",
          "name": "stdout",
          "text": [
            "Original XX:\n",
            "tensor([[ 0.,  1.,  2.,  3.,  4.,  5.,  6.,  7.],\n",
            "        [ 8.,  9., 10., 11., 12., 13., 14., 15.],\n",
            "        [16., 17., 18., 19., 20., 21., 22., 23.],\n",
            "        [24., 25., 26., 27., 28., 29., 30., 31.],\n",
            "        [32., 33., 34., 35., 36., 37., 38., 39.],\n",
            "        [40., 41., 42., 43., 44., 45., 46., 47.]])\n",
            "Sharpened XX:\n",
            "tensor([[2.2773, 2.5347, 2.7921, 3.0494, 3.3068, 3.5642],\n",
            "        [4.3363, 4.5936, 4.8510, 5.1084, 5.3657, 5.6231],\n",
            "        [6.3952, 6.6526, 6.9100, 7.1673, 7.4247, 7.6821],\n",
            "        [8.4542, 8.7115, 8.9689, 9.2263, 9.4836, 9.7410]],\n",
            "       grad_fn=<SelectBackward0>)\n"
          ]
        }
      ]
    },
    {
      "cell_type": "code",
      "source": [
        "XX = torch.arange(48, dtype=torch.float32).reshape((1, 1, 6, 8))\n",
        "Y_blur = conv_blur(XX)\n",
        "Y_sharpen_blur = conv_sharpen(Y_blur)\n",
        "Y_sharpen_blur[0,0]"
      ],
      "metadata": {
        "colab": {
          "base_uri": "https://localhost:8080/"
        },
        "id": "EE-QsmnAb38i",
        "outputId": "1ba93fb0-329a-4222-c830-708a99318774"
      },
      "execution_count": null,
      "outputs": [
        {
          "output_type": "execute_result",
          "data": {
            "text/plain": [
              "tensor([[ 1.0000,  1.6667,  2.0000,  3.0000,  4.0000,  5.0000,  8.6667,  7.0000],\n",
              "        [ 6.3333,  9.0000,  8.0000,  9.3333, 10.6667, 12.0000, 18.6667, 14.6667],\n",
              "        [16.0000, 22.0000, 18.0000, 19.0000, 20.0000, 21.0000, 30.0000, 23.0000],\n",
              "        [24.0000, 32.6667, 26.0000, 27.0000, 28.0000, 29.0000, 40.6667, 31.0000],\n",
              "        [42.7778, 59.6667, 50.6667, 52.0000, 53.3333, 54.6667, 69.3333, 51.1111],\n",
              "        [34.7778, 48.7778, 42.0000, 43.0000, 44.0000, 45.0000, 55.7778, 40.7778]],\n",
              "       grad_fn=<SelectBackward0>)"
            ]
          },
          "metadata": {},
          "execution_count": 16
        }
      ]
    },
    {
      "cell_type": "code",
      "source": [
        "XX = torch.arange(48, dtype=torch.float32).reshape((1, 1, 6, 8))\n",
        "Y_sharpen = conv_sharpen(XX)\n",
        "Y_blur_sharpen = conv_blur(Y_sharpen)\n",
        "Y_blur_sharpen[0,0]"
      ],
      "metadata": {
        "colab": {
          "base_uri": "https://localhost:8080/"
        },
        "id": "RawYZf6hcPEu",
        "outputId": "3a655f66-b3c5-4d56-db3a-4b980d795d72"
      },
      "execution_count": null,
      "outputs": [
        {
          "output_type": "execute_result",
          "data": {
            "text/plain": [
              "tensor([[ 1.0000,  1.6667,  2.0000,  3.0000,  4.0000,  5.0000,  8.6667,  7.0000],\n",
              "        [ 6.3333,  9.0000,  8.0000,  9.3333, 10.6667, 12.0000, 18.6667, 14.6667],\n",
              "        [16.0000, 22.0000, 18.0000, 19.0000, 20.0000, 21.0000, 30.0000, 23.0000],\n",
              "        [24.0000, 32.6667, 26.0000, 27.0000, 28.0000, 29.0000, 40.6667, 31.0000],\n",
              "        [42.7778, 59.6667, 50.6667, 52.0000, 53.3333, 54.6667, 69.3333, 51.1111],\n",
              "        [34.7778, 48.7778, 42.0000, 43.0000, 44.0000, 45.0000, 55.7778, 40.7778]],\n",
              "       grad_fn=<SelectBackward0>)"
            ]
          },
          "metadata": {},
          "execution_count": 17
        }
      ]
    },
    {
      "cell_type": "code",
      "source": [
        "XX = torch.arange(48, dtype=torch.float32).reshape((1, 1, 6, 8))\n",
        "Y_sharpen = conv_sharpen(XX)\n",
        "Y_blur_sharpen = conv_blur(Y_sharpen)\n",
        "Y_blur_sharpen2 = conv_blur(Y_blur_sharpen)\n",
        "Y_blur_sharpen2[0,0]"
      ],
      "metadata": {
        "colab": {
          "base_uri": "https://localhost:8080/"
        },
        "id": "un9h05C9cZ4e",
        "outputId": "b58c0fb6-1b2e-41b8-c958-5e78ab14e157"
      },
      "execution_count": null,
      "outputs": [
        {
          "output_type": "execute_result",
          "data": {
            "text/plain": [
              "tensor([[ 2.0000,  3.1111,  3.6667,  4.1111,  4.8889,  6.5556,  7.3333,  5.4444],\n",
              "        [ 6.2222,  9.3333, 10.2222, 10.4444, 11.5556, 14.4444, 15.5556, 11.3333],\n",
              "        [12.2222, 18.0000, 19.0000, 18.4444, 19.5556, 23.3333, 24.4444, 17.5556],\n",
              "        [21.9012, 32.4198, 34.1111, 32.6667, 33.7778, 38.4444, 38.8642, 27.2346],\n",
              "        [26.9630, 40.1481, 42.4198, 40.6667, 41.7778, 46.6420, 46.3704, 32.0741],\n",
              "        [20.6667, 30.9630, 32.9012, 31.6667, 32.4444, 35.7901, 35.1852, 24.1111]],\n",
              "       grad_fn=<SelectBackward0>)"
            ]
          },
          "metadata": {},
          "execution_count": 18
        }
      ]
    },
    {
      "cell_type": "markdown",
      "source": [
        "##7.3. Padding and Stride"
      ],
      "metadata": {
        "id": "Ot0jFo-pI_wH"
      }
    },
    {
      "cell_type": "markdown",
      "source": [
        "###7.3.1. Padding"
      ],
      "metadata": {
        "id": "y5gjy5Y-gDHT"
      }
    },
    {
      "cell_type": "markdown",
      "source": [
        "$$(n_\\textrm{h}-k_\\textrm{h}+p_\\textrm{h}+1)\\times(n_\\textrm{w}-k_\\textrm{w}+p_\\textrm{w}+1).$$"
      ],
      "metadata": {
        "id": "_6WEWzYMKYJL"
      }
    },
    {
      "cell_type": "code",
      "source": [
        "import torch\n",
        "from torch import nn"
      ],
      "metadata": {
        "id": "cRAH-dSkdBWr"
      },
      "execution_count": null,
      "outputs": []
    },
    {
      "cell_type": "code",
      "source": [
        "def comp_conv2d(conv2d, X):\n",
        "  X = X.reshape((1, 1) + X.shape)\n",
        "  Y = conv2d(X)\n",
        "  return Y.reshape(Y.shape[2:])\n",
        "\n",
        "conv2d = nn.LazyConv2d(1, kernel_size=3, padding=1)\n",
        "X = torch.rand(size=(8, 8))\n",
        "comp_conv2d(conv2d, X).shape"
      ],
      "metadata": {
        "id": "V1PgSuOTdKJj",
        "colab": {
          "base_uri": "https://localhost:8080/"
        },
        "outputId": "d29e1fac-d5e4-4247-a3f0-36217fec2548"
      },
      "execution_count": null,
      "outputs": [
        {
          "output_type": "execute_result",
          "data": {
            "text/plain": [
              "torch.Size([8, 8])"
            ]
          },
          "metadata": {},
          "execution_count": 20
        }
      ]
    },
    {
      "cell_type": "code",
      "source": [
        "conv2d = nn.LazyConv2d(1, kernel_size=(5, 3), padding=(2, 1))\n",
        "comp_conv2d(conv2d, X).shape"
      ],
      "metadata": {
        "id": "YmESzmyufq78",
        "colab": {
          "base_uri": "https://localhost:8080/"
        },
        "outputId": "de3bea79-f7a5-4ff4-b410-0808129f5d3c"
      },
      "execution_count": null,
      "outputs": [
        {
          "output_type": "execute_result",
          "data": {
            "text/plain": [
              "torch.Size([8, 8])"
            ]
          },
          "metadata": {},
          "execution_count": 21
        }
      ]
    },
    {
      "cell_type": "markdown",
      "source": [
        "###7.3.2. Stride"
      ],
      "metadata": {
        "id": "z99NqXWxgFIn"
      }
    },
    {
      "cell_type": "markdown",
      "source": [
        "$$\\lfloor(n_\\textrm{h}-k_\\textrm{h}+p_\\textrm{h}+s_\\textrm{h})/s_\\textrm{h}\\rfloor \\times \\lfloor(n_\\textrm{w}-k_\\textrm{w}+p_\\textrm{w}+s_\\textrm{w})/s_\\textrm{w}\\rfloor.$$"
      ],
      "metadata": {
        "id": "wQtCFhZbKgiq"
      }
    },
    {
      "cell_type": "code",
      "source": [
        "conv2d = nn.LazyConv2d(1, kernel_size=3, padding=1, stride=2)\n",
        "comp_conv2d(conv2d, X).shape"
      ],
      "metadata": {
        "id": "F0dHyUGfgMVd",
        "colab": {
          "base_uri": "https://localhost:8080/"
        },
        "outputId": "f0491ca0-3cc0-44b8-e9a0-3e6697e6e459"
      },
      "execution_count": null,
      "outputs": [
        {
          "output_type": "execute_result",
          "data": {
            "text/plain": [
              "torch.Size([4, 4])"
            ]
          },
          "metadata": {},
          "execution_count": 22
        }
      ]
    },
    {
      "cell_type": "code",
      "source": [
        "conv2d = nn.LazyConv2d(1, kernel_size=(3, 5), padding=(0,1), stride=(3,4))\n",
        "comp_conv2d(conv2d, X).shape"
      ],
      "metadata": {
        "id": "Vq7F2g5XgXcA",
        "colab": {
          "base_uri": "https://localhost:8080/"
        },
        "outputId": "20ce7fef-272f-4746-f500-a82ee511788f"
      },
      "execution_count": null,
      "outputs": [
        {
          "output_type": "execute_result",
          "data": {
            "text/plain": [
              "torch.Size([2, 2])"
            ]
          },
          "metadata": {},
          "execution_count": 23
        }
      ]
    },
    {
      "cell_type": "markdown",
      "source": [
        "###7.3.3. Exercises & Discussion"
      ],
      "metadata": {
        "id": "7pcbWRfYgrHg"
      }
    },
    {
      "cell_type": "code",
      "source": [
        "import torch.nn.functional as F\n",
        "import matplotlib.pyplot as plt\n",
        "\n",
        "XX = torch.rand(size=(8, 8))\n",
        "\n",
        "print(\"Original Tensor:\\n\", XX)\n",
        "print(\"Original Size:\", XX.shape)\n",
        "fig, axs = plt.subplots(1, 1, figsize=(5, 5))\n",
        "\n",
        "axs.imshow(XX, cmap='gray')\n",
        "axs.set_title('Original Tensor')\n",
        "axs.axis('off')\n",
        "\n",
        "plt.show()"
      ],
      "metadata": {
        "colab": {
          "base_uri": "https://localhost:8080/",
          "height": 614
        },
        "id": "tjRl3u0Qf98R",
        "outputId": "c3040f2c-6950-4f32-e81b-0413538ef147"
      },
      "execution_count": null,
      "outputs": [
        {
          "output_type": "stream",
          "name": "stdout",
          "text": [
            "Original Tensor:\n",
            " tensor([[0.7466, 0.9087, 0.8305, 0.0171, 0.6441, 0.1480, 0.2851, 0.7510],\n",
            "        [0.8484, 0.1730, 0.9319, 0.9652, 0.8219, 0.1411, 0.1296, 0.0068],\n",
            "        [0.8125, 0.3581, 0.7833, 0.2872, 0.9305, 0.4410, 0.2444, 0.9410],\n",
            "        [0.3678, 0.9417, 0.4195, 0.0455, 0.6367, 0.4954, 0.7643, 0.9118],\n",
            "        [0.5310, 0.1462, 0.9949, 0.9351, 0.3730, 0.4932, 0.9559, 0.5176],\n",
            "        [0.6877, 0.2745, 0.7656, 0.6829, 0.3328, 0.9009, 0.5575, 0.1342],\n",
            "        [0.0357, 0.0938, 0.0647, 0.3473, 0.2083, 0.1898, 0.1483, 0.2437],\n",
            "        [0.4011, 0.9999, 0.7190, 0.4084, 0.3277, 0.7588, 0.0238, 0.2529]])\n",
            "Original Size: torch.Size([8, 8])\n"
          ]
        },
        {
          "output_type": "display_data",
          "data": {
            "text/plain": [
              "<Figure size 500x500 with 1 Axes>"
            ],
            "image/png": "[encoded data removed]"
          },
          "metadata": {}
        }
      ]
    },
    {
      "cell_type": "code",
      "source": [
        "XX_reflect = F.pad(XX, pad=(1, 1), mode='reflect')\n",
        "\n",
        "print(\"Reflect Padding Tensor:\\n\", XX_reflect)\n",
        "print(\"Reflect Padding Size:\", XX_reflect.shape)\n",
        "fig, axs = plt.subplots(1, 1, figsize=(5, 5))\n",
        "\n",
        "\n",
        "axs.imshow(XX_reflect, cmap='gray')\n",
        "axs.set_title('Reflect Padding')\n",
        "axs.axis('off')\n",
        "\n",
        "plt.show()"
      ],
      "metadata": {
        "colab": {
          "base_uri": "https://localhost:8080/",
          "height": 675
        },
        "id": "aU8o1rRsevlC",
        "outputId": "0fde8149-8bb9-4461-b76d-b71975e8b578"
      },
      "execution_count": null,
      "outputs": [
        {
          "output_type": "stream",
          "name": "stdout",
          "text": [
            "Reflect Padding Tensor:\n",
            " tensor([[0.9087, 0.7466, 0.9087, 0.8305, 0.0171, 0.6441, 0.1480, 0.2851, 0.7510,\n",
            "         0.2851],\n",
            "        [0.1730, 0.8484, 0.1730, 0.9319, 0.9652, 0.8219, 0.1411, 0.1296, 0.0068,\n",
            "         0.1296],\n",
            "        [0.3581, 0.8125, 0.3581, 0.7833, 0.2872, 0.9305, 0.4410, 0.2444, 0.9410,\n",
            "         0.2444],\n",
            "        [0.9417, 0.3678, 0.9417, 0.4195, 0.0455, 0.6367, 0.4954, 0.7643, 0.9118,\n",
            "         0.7643],\n",
            "        [0.1462, 0.5310, 0.1462, 0.9949, 0.9351, 0.3730, 0.4932, 0.9559, 0.5176,\n",
            "         0.9559],\n",
            "        [0.2745, 0.6877, 0.2745, 0.7656, 0.6829, 0.3328, 0.9009, 0.5575, 0.1342,\n",
            "         0.5575],\n",
            "        [0.0938, 0.0357, 0.0938, 0.0647, 0.3473, 0.2083, 0.1898, 0.1483, 0.2437,\n",
            "         0.1483],\n",
            "        [0.9999, 0.4011, 0.9999, 0.7190, 0.4084, 0.3277, 0.7588, 0.0238, 0.2529,\n",
            "         0.0238]])\n",
            "Reflect Padding Size: torch.Size([8, 10])\n"
          ]
        },
        {
          "output_type": "display_data",
          "data": {
            "text/plain": [
              "<Figure size 500x500 with 1 Axes>"
            ],
            "image/png": "[encoded data removed]"
          },
          "metadata": {}
        }
      ]
    },
    {
      "cell_type": "code",
      "source": [
        "XX_replicate = F.pad(XX, pad=(1, 1), mode='replicate')\n",
        "print(\"Replicate Padding Tensor:\\n\", XX_replicate)\n",
        "print(\"Replicate Padding Size:\", XX_replicate.shape)\n",
        "# 시각적으로 비교하여 확인 (matplotlib 사용)\n",
        "fig, axs = plt.subplots(1, 1, figsize=(5, 5))\n",
        "\n",
        "# Replicate Padding 적용된 이미지\n",
        "axs.imshow(XX_replicate, cmap='gray')\n",
        "axs.set_title('Replicate Padding')\n",
        "axs.axis('off')\n",
        "plt.show()"
      ],
      "metadata": {
        "colab": {
          "base_uri": "https://localhost:8080/",
          "height": 675
        },
        "id": "9wfDyvWKfQT1",
        "outputId": "72c59fe8-c054-4e9d-d4ba-b64966026663"
      },
      "execution_count": null,
      "outputs": [
        {
          "output_type": "stream",
          "name": "stdout",
          "text": [
            "Replicate Padding Tensor:\n",
            " tensor([[0.7466, 0.7466, 0.9087, 0.8305, 0.0171, 0.6441, 0.1480, 0.2851, 0.7510,\n",
            "         0.7510],\n",
            "        [0.8484, 0.8484, 0.1730, 0.9319, 0.9652, 0.8219, 0.1411, 0.1296, 0.0068,\n",
            "         0.0068],\n",
            "        [0.8125, 0.8125, 0.3581, 0.7833, 0.2872, 0.9305, 0.4410, 0.2444, 0.9410,\n",
            "         0.9410],\n",
            "        [0.3678, 0.3678, 0.9417, 0.4195, 0.0455, 0.6367, 0.4954, 0.7643, 0.9118,\n",
            "         0.9118],\n",
            "        [0.5310, 0.5310, 0.1462, 0.9949, 0.9351, 0.3730, 0.4932, 0.9559, 0.5176,\n",
            "         0.5176],\n",
            "        [0.6877, 0.6877, 0.2745, 0.7656, 0.6829, 0.3328, 0.9009, 0.5575, 0.1342,\n",
            "         0.1342],\n",
            "        [0.0357, 0.0357, 0.0938, 0.0647, 0.3473, 0.2083, 0.1898, 0.1483, 0.2437,\n",
            "         0.2437],\n",
            "        [0.4011, 0.4011, 0.9999, 0.7190, 0.4084, 0.3277, 0.7588, 0.0238, 0.2529,\n",
            "         0.2529]])\n",
            "Replicate Padding Size: torch.Size([8, 10])\n"
          ]
        },
        {
          "output_type": "display_data",
          "data": {
            "text/plain": [
              "<Figure size 500x500 with 1 Axes>"
            ],
            "image/png": "[encoded data removed]"
          },
          "metadata": {}
        }
      ]
    },
    {
      "cell_type": "code",
      "source": [
        "print(\"Original Tensor:\\n\", XX[0])\n",
        "print(\"Reflect Padding Tensor:\\n\", XX_reflect[0])\n",
        "print(\"Replicate Padding Tensor:\\n\", XX_replicate[0])"
      ],
      "metadata": {
        "colab": {
          "base_uri": "https://localhost:8080/"
        },
        "id": "slhwXLMCfTHP",
        "outputId": "5e225abe-500a-495b-f7e1-a923490af063"
      },
      "execution_count": null,
      "outputs": [
        {
          "output_type": "stream",
          "name": "stdout",
          "text": [
            "Original Tensor:\n",
            " tensor([0.7466, 0.9087, 0.8305, 0.0171, 0.6441, 0.1480, 0.2851, 0.7510])\n",
            "Reflect Padding Tensor:\n",
            " tensor([0.9087, 0.7466, 0.9087, 0.8305, 0.0171, 0.6441, 0.1480, 0.2851, 0.7510,\n",
            "        0.2851])\n",
            "Replicate Padding Tensor:\n",
            " tensor([0.7466, 0.7466, 0.9087, 0.8305, 0.0171, 0.6441, 0.1480, 0.2851, 0.7510,\n",
            "        0.7510])\n"
          ]
        }
      ]
    },
    {
      "cell_type": "markdown",
      "source": [
        "##7.4. Multiple Input and Multiple Output Channels"
      ],
      "metadata": {
        "id": "N58iUNzTJDC2"
      }
    },
    {
      "cell_type": "code",
      "source": [
        "import torch\n",
        "from d2l import torch as d2l"
      ],
      "metadata": {
        "id": "e-ZmOIsjgv5e"
      },
      "execution_count": null,
      "outputs": []
    },
    {
      "cell_type": "markdown",
      "source": [
        "###7.4.1. Multiple Input Channels"
      ],
      "metadata": {
        "id": "ELPgMZh9gxJI"
      }
    },
    {
      "cell_type": "code",
      "source": [
        "def corr2d_multi_in(X, K):\n",
        "  return sum(d2l.corr2d(x, k) for x, k in zip(X, K))"
      ],
      "metadata": {
        "id": "AX6lg6pghf6n"
      },
      "execution_count": null,
      "outputs": []
    },
    {
      "cell_type": "code",
      "source": [
        "X = torch.tensor([[[0.0, 1.0, 2.0], [3.0, 4.0, 5.0], [6.0, 7.0, 8.0]],\n",
        "               [[1.0, 2.0, 3.0], [4.0, 5.0, 6.0], [7.0, 8.0, 9.0]]])\n",
        "K = torch.tensor([[[0.0, 1.0], [2.0, 3.0]], [[1.0, 2.0], [3.0, 4.0]]])\n",
        "\n",
        "corr2d_multi_in(X, K)"
      ],
      "metadata": {
        "colab": {
          "base_uri": "https://localhost:8080/"
        },
        "id": "sWhNlQvjiF-D",
        "outputId": "2178c749-c2c9-4672-896b-f5a07dd27122"
      },
      "execution_count": null,
      "outputs": [
        {
          "output_type": "execute_result",
          "data": {
            "text/plain": [
              "tensor([[ 56.,  72.],\n",
              "        [104., 120.]])"
            ]
          },
          "metadata": {},
          "execution_count": 30
        }
      ]
    },
    {
      "cell_type": "markdown",
      "source": [
        "###7.4.2. Multiple Output Channels"
      ],
      "metadata": {
        "id": "NaFA3eU5j83C"
      }
    },
    {
      "cell_type": "code",
      "source": [
        "def corr2d_multi_in_out(X, K):\n",
        "    return torch.stack([corr2d_multi_in(X, k) for k in K], 0)"
      ],
      "metadata": {
        "id": "SML5q62-kD04"
      },
      "execution_count": null,
      "outputs": []
    },
    {
      "cell_type": "code",
      "source": [
        "K = torch.stack((K, K + 1, K + 2), 0)\n",
        "K.shape"
      ],
      "metadata": {
        "id": "WrxjCw11kRZb",
        "colab": {
          "base_uri": "https://localhost:8080/"
        },
        "outputId": "61b7cc55-8cc2-44c6-8860-b9823c0aa2a0"
      },
      "execution_count": null,
      "outputs": [
        {
          "output_type": "execute_result",
          "data": {
            "text/plain": [
              "torch.Size([3, 2, 2, 2])"
            ]
          },
          "metadata": {},
          "execution_count": 32
        }
      ]
    },
    {
      "cell_type": "code",
      "source": [
        "corr2d_multi_in_out(X, K)"
      ],
      "metadata": {
        "id": "cgaiQRFNkzxd",
        "colab": {
          "base_uri": "https://localhost:8080/"
        },
        "outputId": "74c9c098-efe4-4955-d692-dfb23ce37a8b"
      },
      "execution_count": null,
      "outputs": [
        {
          "output_type": "execute_result",
          "data": {
            "text/plain": [
              "tensor([[[ 56.,  72.],\n",
              "         [104., 120.]],\n",
              "\n",
              "        [[ 76., 100.],\n",
              "         [148., 172.]],\n",
              "\n",
              "        [[ 96., 128.],\n",
              "         [192., 224.]]])"
            ]
          },
          "metadata": {},
          "execution_count": 33
        }
      ]
    },
    {
      "cell_type": "markdown",
      "source": [
        "###7.4.3. 1 X 1 Convolutional Layer"
      ],
      "metadata": {
        "id": "oYvf1fQ4k6LD"
      }
    },
    {
      "cell_type": "code",
      "source": [
        "def corr2d_multi_in_out_1x1(X, K):\n",
        "    c_i, h, w = X.shape\n",
        "    c_o = K.shape[0]\n",
        "    X = X.reshape((c_i, h * w))\n",
        "    K = K.reshape((c_o, c_i))\n",
        "    Y = torch.matmul(K, X)\n",
        "    return Y.reshape((c_o, h, w))"
      ],
      "metadata": {
        "id": "ttI5sYdTKKRU"
      },
      "execution_count": null,
      "outputs": []
    },
    {
      "cell_type": "code",
      "source": [
        "X = torch.normal(0, 1, (3, 3, 3))\n",
        "K = torch.normal(0, 1, (2, 3, 1, 1))\n",
        "Y1 = corr2d_multi_in_out_1x1(X, K)\n",
        "Y2 = corr2d_multi_in_out(X, K)\n",
        "assert float(torch.abs(Y1 - Y2).sum()) < 1e-6"
      ],
      "metadata": {
        "id": "wxQ10-emKiDn"
      },
      "execution_count": null,
      "outputs": []
    },
    {
      "cell_type": "markdown",
      "source": [
        "### 7.4.4. Execises & Discussion"
      ],
      "metadata": {
        "id": "TBwBzvVmK2xp"
      }
    },
    {
      "cell_type": "markdown",
      "source": [
        "1. 1 x 1 convolution은 왜 필요한가?\n",
        "-> 1 x 1 convolution은 우리가 알고 있는 일반적인 커널과는 달리 주변의 조합을 통해 전체적 혹은 국소적인 특징을 파악하는 것은 아님. 다만 하나의 픽셀 내에 있는 채널의 여러 정보를 추합하여 해당 픽셀에 관한 이해도를 높이고 특징을 잘 추출할 수 있는 역할을 함.\n",
        "\n",
        "2. 그렇다면 Gray Scale에서는 1 x 1 convolution이 무용한가?\n",
        "-> Gray Scale은 RGB 값을 갖지 않기 때문에 대부분 무용할 때가 많음. 그러나 feature map이 이미 생성된 경우 이를 조합하여 새로운 feature map을 생성하거나, 하나의 채널을 여러 개의 채널로 확장하여 학습을 세분화하거나, 채널이 너무 많은 경우 중요한 채널만 남도록 차원을 줄이는 역할에서 1 x 1 convolution이 활용될 수 있다."
      ],
      "metadata": {
        "id": "f_E2z4FkkN8J"
      }
    },
    {
      "cell_type": "markdown",
      "source": [
        "## 7.5. Pooling"
      ],
      "metadata": {
        "id": "KVoCnYkTJOv1"
      }
    },
    {
      "cell_type": "code",
      "source": [
        "import torch\n",
        "from torch import nn\n",
        "from d2l import torch as d2l"
      ],
      "metadata": {
        "id": "rvVaG23SLBSO"
      },
      "execution_count": null,
      "outputs": []
    },
    {
      "cell_type": "markdown",
      "source": [
        "### 7.5.1. Maximum Poolig and Average Pooling"
      ],
      "metadata": {
        "id": "9dXD1y_vLB7P"
      }
    },
    {
      "cell_type": "code",
      "source": [
        "def pool2d(X, pool_size, mode='max'):\n",
        "  p_h, p_w = pool_size\n",
        "  Y = torch.zeros((X.shape[0] - p_h + 1, X.shape[1] - p_w + 1))\n",
        "  for i in range(Y.shape[0]):\n",
        "    for j in range(Y.shape[1]):\n",
        "      if mode == 'max':\n",
        "        Y[i, j] = X[i: i + p_h, j: j + p_w].max()\n",
        "      elif mode == 'avg':\n",
        "        Y[i, j] = X[i: i + p_h, j: j + p_w].mean()\n",
        "  return Y"
      ],
      "metadata": {
        "id": "y91OKW95LRT5"
      },
      "execution_count": null,
      "outputs": []
    },
    {
      "cell_type": "code",
      "source": [
        "X = torch.tensor([[0.0, 1.0, 2.0], [3.0, 4.0, 5.0], [6.0, 7.0, 8.0]])\n",
        "pool2d(X, (2, 2))"
      ],
      "metadata": {
        "id": "RNMEru-dL_ol",
        "colab": {
          "base_uri": "https://localhost:8080/"
        },
        "outputId": "ce4039de-6153-4606-a207-624df09bae84"
      },
      "execution_count": null,
      "outputs": [
        {
          "output_type": "execute_result",
          "data": {
            "text/plain": [
              "tensor([[4., 5.],\n",
              "        [7., 8.]])"
            ]
          },
          "metadata": {},
          "execution_count": 38
        }
      ]
    },
    {
      "cell_type": "code",
      "source": [
        "pool2d(X, (2, 2), 'avg')"
      ],
      "metadata": {
        "id": "ohdavMOoMBB6",
        "colab": {
          "base_uri": "https://localhost:8080/"
        },
        "outputId": "64ef932c-c442-4350-f943-2bafa6e010d0"
      },
      "execution_count": null,
      "outputs": [
        {
          "output_type": "execute_result",
          "data": {
            "text/plain": [
              "tensor([[2., 3.],\n",
              "        [5., 6.]])"
            ]
          },
          "metadata": {},
          "execution_count": 39
        }
      ]
    },
    {
      "cell_type": "markdown",
      "source": [
        "###7.5.2. Padding and Stride"
      ],
      "metadata": {
        "id": "sTUQyOKMMFoM"
      }
    },
    {
      "cell_type": "code",
      "source": [
        "X = torch.arange(16, dtype=torch.float32).reshape((1, 1, 4, 4))\n",
        "X"
      ],
      "metadata": {
        "id": "7RXtNlcDMEB0",
        "colab": {
          "base_uri": "https://localhost:8080/"
        },
        "outputId": "c5c395a5-19bf-4231-ed8e-9bb04f64c82f"
      },
      "execution_count": null,
      "outputs": [
        {
          "output_type": "execute_result",
          "data": {
            "text/plain": [
              "tensor([[[[ 0.,  1.,  2.,  3.],\n",
              "          [ 4.,  5.,  6.,  7.],\n",
              "          [ 8.,  9., 10., 11.],\n",
              "          [12., 13., 14., 15.]]]])"
            ]
          },
          "metadata": {},
          "execution_count": 40
        }
      ]
    },
    {
      "cell_type": "code",
      "source": [
        "pool2d = nn.MaxPool2d(3)\n",
        "pool2d(X)"
      ],
      "metadata": {
        "id": "A0n8MT_JMN0Q",
        "colab": {
          "base_uri": "https://localhost:8080/"
        },
        "outputId": "94caa36c-f646-4514-da30-03ec10e35a59"
      },
      "execution_count": null,
      "outputs": [
        {
          "output_type": "execute_result",
          "data": {
            "text/plain": [
              "tensor([[[[10.]]]])"
            ]
          },
          "metadata": {},
          "execution_count": 41
        }
      ]
    },
    {
      "cell_type": "code",
      "source": [
        "pool2d = nn.MaxPool2d((2,3), stride=(2,3), padding=(0,1))\n",
        "pool2d(X)"
      ],
      "metadata": {
        "id": "bSPrMN2XMVxm",
        "colab": {
          "base_uri": "https://localhost:8080/"
        },
        "outputId": "75590acc-0518-4739-f1ac-f9702b291e84"
      },
      "execution_count": null,
      "outputs": [
        {
          "output_type": "execute_result",
          "data": {
            "text/plain": [
              "tensor([[[[ 5.,  7.],\n",
              "          [13., 15.]]]])"
            ]
          },
          "metadata": {},
          "execution_count": 42
        }
      ]
    },
    {
      "cell_type": "markdown",
      "source": [
        "###7.5.3. Multiple Channels"
      ],
      "metadata": {
        "id": "Bh6jm8ayMde8"
      }
    },
    {
      "cell_type": "code",
      "source": [
        "X = torch.cat((X, X + 1), 1)\n",
        "X"
      ],
      "metadata": {
        "id": "s0pQ_DrVMhf_",
        "colab": {
          "base_uri": "https://localhost:8080/"
        },
        "outputId": "ed8f7343-6cd0-4735-d6cf-fc9a67401503"
      },
      "execution_count": null,
      "outputs": [
        {
          "output_type": "execute_result",
          "data": {
            "text/plain": [
              "tensor([[[[ 0.,  1.,  2.,  3.],\n",
              "          [ 4.,  5.,  6.,  7.],\n",
              "          [ 8.,  9., 10., 11.],\n",
              "          [12., 13., 14., 15.]],\n",
              "\n",
              "         [[ 1.,  2.,  3.,  4.],\n",
              "          [ 5.,  6.,  7.,  8.],\n",
              "          [ 9., 10., 11., 12.],\n",
              "          [13., 14., 15., 16.]]]])"
            ]
          },
          "metadata": {},
          "execution_count": 43
        }
      ]
    },
    {
      "cell_type": "code",
      "source": [
        "pool2d = nn.MaxPool2d(3, padding=1, stride=2)\n",
        "pool2d(X)"
      ],
      "metadata": {
        "id": "4YJ11-3JMh53",
        "colab": {
          "base_uri": "https://localhost:8080/"
        },
        "outputId": "9d88042e-67dc-452f-eee2-3a26c0c5eee5"
      },
      "execution_count": null,
      "outputs": [
        {
          "output_type": "execute_result",
          "data": {
            "text/plain": [
              "tensor([[[[ 5.,  7.],\n",
              "          [13., 15.]],\n",
              "\n",
              "         [[ 6.,  8.],\n",
              "          [14., 16.]]]])"
            ]
          },
          "metadata": {},
          "execution_count": 44
        }
      ]
    },
    {
      "cell_type": "markdown",
      "source": [
        "###7.5.4. Exercises & Discussion"
      ],
      "metadata": {
        "id": "0QmQKMlWMlxf"
      }
    },
    {
      "cell_type": "markdown",
      "source": [
        "1. Why do you expect max-pooling and average pooling to work differently?\n",
        "-> max-pooling은 feature map의 중요한 정보를 중점적으로 남긴다면, average-pooling은 전체적인 특징을 모두 반영하려 하는 pooling 방식이기 때문이다."
      ],
      "metadata": {
        "id": "-RB9ixDUSA5S"
      }
    },
    {
      "cell_type": "markdown",
      "source": [
        "2. layer마다 다른 pooling 방식을 적용하면 어떨까?\n",
        "-> 초기 layer는 주로 국소적인 부분에 집중하여서 특징을 학습하는 경향이 있다. 이 부분에 max-pooling을 적용하면 국소적인 부분을 탐색하는 데 있어 중요한 정보를 잘 뽑아낼 수 있을 것이라고 생각된다. 후기 layer는 주로 전체적인 특징을 학습하기에 이 부분에 average-pooling을 사용한다면 전반적으로 generalizability가 올라갈 수 있지 않을까라고 사려된다.\n",
        "\n",
        "-> 의료 영상 혹은 위성 이미지와 같은 노이즈가 많은 데이터에서는 초기 layer에서 average-pooling을 사용해 노이즈를 줄이고, 후기 Layer에서 max-pooling으로 중요한 특징을 추출하는 것이 좋을 수 있다."
      ],
      "metadata": {
        "id": "fUQmpP0qSf8A"
      }
    },
    {
      "cell_type": "markdown",
      "source": [
        "3. smoothing이 왜 필요할까? 강한 특성 탐지가 더 좋은 건 아닐까?\n",
        "\n",
        "-> 강력한 특징만을 뽑으면 세부적인 특성이 무시될 수 있음. 또한, 국소적인 부분에 집중되어 일관적인 패턴 학습이 어려울 수 있음."
      ],
      "metadata": {
        "id": "0dJGID63UInW"
      }
    },
    {
      "cell_type": "markdown",
      "source": [
        "## 7.6. Convolutional Neural Networks (LeNet)"
      ],
      "metadata": {
        "id": "Cpuf2mR4JTfC"
      }
    },
    {
      "cell_type": "code",
      "source": [
        "import torch\n",
        "from torch import nn\n",
        "from d2l import torch as d2l"
      ],
      "metadata": {
        "id": "J6AJxqe9M8RT"
      },
      "execution_count": null,
      "outputs": []
    },
    {
      "cell_type": "markdown",
      "source": [
        "###7.6.1. LeNet"
      ],
      "metadata": {
        "id": "Tzqvj40rM-Mc"
      }
    },
    {
      "cell_type": "code",
      "source": [
        "def init_cnn(module):\n",
        "  if type(module) == nn.Linear or type(module) == nn.Conv2d:\n",
        "    nn.init.xavier_uniform_(module.weight)\n",
        "\n",
        "class LeNet(d2l.Classifier):\n",
        "  def __init__(self, lr=0.1, num_classes=10):\n",
        "    super().__init__()\n",
        "    self.save_hyperparameters()\n",
        "    self.net = nn.Sequential(\n",
        "        nn.LazyConv2d(6, kernel_size=5, padding=2), nn.Sigmoid(),\n",
        "        nn.AvgPool2d(kernel_size=2, stride=2),\n",
        "        nn.LazyConv2d(16, kernel_size=5), nn.Sigmoid(),\n",
        "        nn.AvgPool2d(kernel_size=2, stride=2),\n",
        "        nn.Flatten(),\n",
        "        nn.LazyLinear(120), nn.Sigmoid(),\n",
        "        nn.LazyLinear(84), nn.Sigmoid(),\n",
        "        nn.LazyLinear(num_classes))"
      ],
      "metadata": {
        "id": "yD287mBWNBJN"
      },
      "execution_count": null,
      "outputs": []
    },
    {
      "cell_type": "code",
      "source": [
        "@d2l.add_to_class(d2l.Classifier)\n",
        "def layer_summary(self, X_shape):\n",
        "  X = torch.randn(*X_shape)\n",
        "  for layer in self.net:\n",
        "    X = layer(X)\n",
        "    print(layer.__class__.__name__, 'output shape:\\t', X.shape)\n",
        "\n",
        "model = LeNet()\n",
        "model.layer_summary((1, 1, 28, 28))"
      ],
      "metadata": {
        "id": "mb1h9jtCOGnb",
        "colab": {
          "base_uri": "https://localhost:8080/"
        },
        "outputId": "0b9617e7-2476-4172-83f4-7fc88c4d258d"
      },
      "execution_count": null,
      "outputs": [
        {
          "output_type": "stream",
          "name": "stdout",
          "text": [
            "Conv2d output shape:\t torch.Size([1, 6, 28, 28])\n",
            "Sigmoid output shape:\t torch.Size([1, 6, 28, 28])\n",
            "AvgPool2d output shape:\t torch.Size([1, 6, 14, 14])\n",
            "Conv2d output shape:\t torch.Size([1, 16, 10, 10])\n",
            "Sigmoid output shape:\t torch.Size([1, 16, 10, 10])\n",
            "AvgPool2d output shape:\t torch.Size([1, 16, 5, 5])\n",
            "Flatten output shape:\t torch.Size([1, 400])\n",
            "Linear output shape:\t torch.Size([1, 120])\n",
            "Sigmoid output shape:\t torch.Size([1, 120])\n",
            "Linear output shape:\t torch.Size([1, 84])\n",
            "Sigmoid output shape:\t torch.Size([1, 84])\n",
            "Linear output shape:\t torch.Size([1, 10])\n"
          ]
        }
      ]
    },
    {
      "cell_type": "markdown",
      "source": [
        "###7.6.2. Training"
      ],
      "metadata": {
        "id": "F_UopxieOg_Q"
      }
    },
    {
      "cell_type": "code",
      "source": [
        "trainer = d2l.Trainer(max_epochs=10, num_gpus=1)\n",
        "data = d2l.FashionMNIST(batch_size=128)\n",
        "model = LeNet(lr=0.1)"
      ],
      "metadata": {
        "id": "Ykv1GgtLOi_J"
      },
      "execution_count": null,
      "outputs": []
    },
    {
      "cell_type": "code",
      "source": [
        "model.apply_init([next(iter(data.get_dataloader(True)))[0]], init_cnn)\n",
        "trainer.fit(model, data)"
      ],
      "metadata": {
        "colab": {
          "base_uri": "https://localhost:8080/",
          "height": 265
        },
        "id": "SC5v9xptIHz7",
        "outputId": "40415b25-e62c-46e3-a52c-c54ea3367310"
      },
      "execution_count": null,
      "outputs": [
        {
          "output_type": "display_data",
          "data": {
            "text/plain": [
              "<Figure size 350x250 with 1 Axes>"
            ],
            "image/svg+xml": "<?xml version=\"1.0\" encoding=\"utf-8\" standalone=\"no\"?>\n<!DOCTYPE svg PUBLIC \"-//W3C//DTD SVG 1.1//EN\"\n  \"http://www.w3.org/Graphics/SVG/1.1/DTD/svg11.dtd\">\n<svg xmlns:xlink=\"http://www.w3.org/1999/xlink\" width=\"238.965625pt\" height=\"183.35625pt\" viewBox=\"0 0 238.965625 183.35625\" xmlns=\"http://www.w3.org/2000/svg\" version=\"1.1\">\n <metadata>\n  <rdf:RDF xmlns:dc=\"http://purl.org/dc/elements/1.1/\" xmlns:cc=\"http://creativecommons.org/ns#\" xmlns:rdf=\"http://www.w3.org/1999/02/22-rdf-syntax-ns#\">\n   <cc:Work>\n    <dc:type rdf:resource=\"http://purl.org/dc/dcmitype/StillImage\"/>\n    <dc:date>2024-10-10T07:17:35.129246</dc:date>\n    <dc:format>image/svg+xml</dc:format>\n    <dc:creator>\n     <cc:Agent>\n      <dc:title>Matplotlib v3.7.2, https://matplotlib.org/</dc:title>\n     </cc:Agent>\n    </dc:creator>\n   </cc:Work>\n  </rdf:RDF>\n </metadata>\n <defs>\n  <style type=\"text/css\">*{stroke-linejoin: round; stroke-linecap: butt}</style>\n </defs>\n <g id=\"figure_1\">\n  <g id=\"patch_1\">\n   <path d=\"M 0 183.35625 \nL 238.965625 183.35625 \nL 238.965625 0 \nL 0 0 \nz\n\" style=\"fill: #ffffff\"/>\n  </g>\n  <g id=\"axes_1\">\n   <g id=\"patch_2\">\n    <path d=\"M 30.103125 145.8 \nL 225.403125 145.8 \nL 225.403125 7.2 \nL 30.103125 7.2 \nz\n\" style=\"fill: #ffffff\"/>\n   </g>\n   <g id=\"matplotlib.axis_1\">\n    <g id=\"xtick_1\">\n     <g id=\"line2d_1\">\n      <defs>\n       <path id=\"m0ed4256be7\" d=\"M 0 0 \nL 0 3.5 \n\" style=\"stroke: #000000; stroke-width: 0.8\"/>\n      </defs>\n      <g>\n       <use xlink:href=\"#m0ed4256be7\" x=\"30.103125\" y=\"145.8\" style=\"stroke: #000000; stroke-width: 0.8\"/>\n      </g>\n     </g>\n     <g id=\"text_1\">\n      <!-- 0 -->\n      <g transform=\"translate(26.921875 160.398438) scale(0.1 -0.1)\">\n       <defs>\n        <path id=\"DejaVuSans-30\" d=\"M 2034 4250 \nQ 1547 4250 1301 3770 \nQ 1056 3291 1056 2328 \nQ 1056 1369 1301 889 \nQ 1547 409 2034 409 \nQ 2525 409 2770 889 \nQ 3016 1369 3016 2328 \nQ 3016 3291 2770 3770 \nQ 2525 4250 2034 4250 \nz\nM 2034 4750 \nQ 2819 4750 3233 4129 \nQ 3647 3509 3647 2328 \nQ 3647 1150 3233 529 \nQ 2819 -91 2034 -91 \nQ 1250 -91 836 529 \nQ 422 1150 422 2328 \nQ 422 3509 836 4129 \nQ 1250 4750 2034 4750 \nz\n\" transform=\"scale(0.015625)\"/>\n       </defs>\n       <use xlink:href=\"#DejaVuSans-30\"/>\n      </g>\n     </g>\n    </g>\n    <g id=\"xtick_2\">\n     <g id=\"line2d_2\">\n      <g>\n       <use xlink:href=\"#m0ed4256be7\" x=\"69.163125\" y=\"145.8\" style=\"stroke: #000000; stroke-width: 0.8\"/>\n      </g>\n     </g>\n     <g id=\"text_2\">\n      <!-- 2 -->\n      <g transform=\"translate(65.981875 160.398438) scale(0.1 -0.1)\">\n       <defs>\n        <path id=\"DejaVuSans-32\" d=\"M 1228 531 \nL 3431 531 \nL 3431 0 \nL 469 0 \nL 469 531 \nQ 828 903 1448 1529 \nQ 2069 2156 2228 2338 \nQ 2531 2678 2651 2914 \nQ 2772 3150 2772 3378 \nQ 2772 3750 2511 3984 \nQ 2250 4219 1831 4219 \nQ 1534 4219 1204 4116 \nQ 875 4013 500 3803 \nL 500 4441 \nQ 881 4594 1212 4672 \nQ 1544 4750 1819 4750 \nQ 2544 4750 2975 4387 \nQ 3406 4025 3406 3419 \nQ 3406 3131 3298 2873 \nQ 3191 2616 2906 2266 \nQ 2828 2175 2409 1742 \nQ 1991 1309 1228 531 \nz\n\" transform=\"scale(0.015625)\"/>\n       </defs>\n       <use xlink:href=\"#DejaVuSans-32\"/>\n      </g>\n     </g>\n    </g>\n    <g id=\"xtick_3\">\n     <g id=\"line2d_3\">\n      <g>\n       <use xlink:href=\"#m0ed4256be7\" x=\"108.223125\" y=\"145.8\" style=\"stroke: #000000; stroke-width: 0.8\"/>\n      </g>\n     </g>\n     <g id=\"text_3\">\n      <!-- 4 -->\n      <g transform=\"translate(105.041875 160.398438) scale(0.1 -0.1)\">\n       <defs>\n        <path id=\"DejaVuSans-34\" d=\"M 2419 4116 \nL 825 1625 \nL 2419 1625 \nL 2419 4116 \nz\nM 2253 4666 \nL 3047 4666 \nL 3047 1625 \nL 3713 1625 \nL 3713 1100 \nL 3047 1100 \nL 3047 0 \nL 2419 0 \nL 2419 1100 \nL 313 1100 \nL 313 1709 \nL 2253 4666 \nz\n\" transform=\"scale(0.015625)\"/>\n       </defs>\n       <use xlink:href=\"#DejaVuSans-34\"/>\n      </g>\n     </g>\n    </g>\n    <g id=\"xtick_4\">\n     <g id=\"line2d_4\">\n      <g>\n       <use xlink:href=\"#m0ed4256be7\" x=\"147.283125\" y=\"145.8\" style=\"stroke: #000000; stroke-width: 0.8\"/>\n      </g>\n     </g>\n     <g id=\"text_4\">\n      <!-- 6 -->\n      <g transform=\"translate(144.101875 160.398438) scale(0.1 -0.1)\">\n       <defs>\n        <path id=\"DejaVuSans-36\" d=\"M 2113 2584 \nQ 1688 2584 1439 2293 \nQ 1191 2003 1191 1497 \nQ 1191 994 1439 701 \nQ 1688 409 2113 409 \nQ 2538 409 2786 701 \nQ 3034 994 3034 1497 \nQ 3034 2003 2786 2293 \nQ 2538 2584 2113 2584 \nz\nM 3366 4563 \nL 3366 3988 \nQ 3128 4100 2886 4159 \nQ 2644 4219 2406 4219 \nQ 1781 4219 1451 3797 \nQ 1122 3375 1075 2522 \nQ 1259 2794 1537 2939 \nQ 1816 3084 2150 3084 \nQ 2853 3084 3261 2657 \nQ 3669 2231 3669 1497 \nQ 3669 778 3244 343 \nQ 2819 -91 2113 -91 \nQ 1303 -91 875 529 \nQ 447 1150 447 2328 \nQ 447 3434 972 4092 \nQ 1497 4750 2381 4750 \nQ 2619 4750 2861 4703 \nQ 3103 4656 3366 4563 \nz\n\" transform=\"scale(0.015625)\"/>\n       </defs>\n       <use xlink:href=\"#DejaVuSans-36\"/>\n      </g>\n     </g>\n    </g>\n    <g id=\"xtick_5\">\n     <g id=\"line2d_5\">\n      <g>\n       <use xlink:href=\"#m0ed4256be7\" x=\"186.343125\" y=\"145.8\" style=\"stroke: #000000; stroke-width: 0.8\"/>\n      </g>\n     </g>\n     <g id=\"text_5\">\n      <!-- 8 -->\n      <g transform=\"translate(183.161875 160.398438) scale(0.1 -0.1)\">\n       <defs>\n        <path id=\"DejaVuSans-38\" d=\"M 2034 2216 \nQ 1584 2216 1326 1975 \nQ 1069 1734 1069 1313 \nQ 1069 891 1326 650 \nQ 1584 409 2034 409 \nQ 2484 409 2743 651 \nQ 3003 894 3003 1313 \nQ 3003 1734 2745 1975 \nQ 2488 2216 2034 2216 \nz\nM 1403 2484 \nQ 997 2584 770 2862 \nQ 544 3141 544 3541 \nQ 544 4100 942 4425 \nQ 1341 4750 2034 4750 \nQ 2731 4750 3128 4425 \nQ 3525 4100 3525 3541 \nQ 3525 3141 3298 2862 \nQ 3072 2584 2669 2484 \nQ 3125 2378 3379 2068 \nQ 3634 1759 3634 1313 \nQ 3634 634 3220 271 \nQ 2806 -91 2034 -91 \nQ 1263 -91 848 271 \nQ 434 634 434 1313 \nQ 434 1759 690 2068 \nQ 947 2378 1403 2484 \nz\nM 1172 3481 \nQ 1172 3119 1398 2916 \nQ 1625 2713 2034 2713 \nQ 2441 2713 2670 2916 \nQ 2900 3119 2900 3481 \nQ 2900 3844 2670 4047 \nQ 2441 4250 2034 4250 \nQ 1625 4250 1398 4047 \nQ 1172 3844 1172 3481 \nz\n\" transform=\"scale(0.015625)\"/>\n       </defs>\n       <use xlink:href=\"#DejaVuSans-38\"/>\n      </g>\n     </g>\n    </g>\n    <g id=\"xtick_6\">\n     <g id=\"line2d_6\">\n      <g>\n       <use xlink:href=\"#m0ed4256be7\" x=\"225.403125\" y=\"145.8\" style=\"stroke: #000000; stroke-width: 0.8\"/>\n      </g>\n     </g>\n     <g id=\"text_6\">\n      <!-- 10 -->\n      <g transform=\"translate(219.040625 160.398438) scale(0.1 -0.1)\">\n       <defs>\n        <path id=\"DejaVuSans-31\" d=\"M 794 531 \nL 1825 531 \nL 1825 4091 \nL 703 3866 \nL 703 4441 \nL 1819 4666 \nL 2450 4666 \nL 2450 531 \nL 3481 531 \nL 3481 0 \nL 794 0 \nL 794 531 \nz\n\" transform=\"scale(0.015625)\"/>\n       </defs>\n       <use xlink:href=\"#DejaVuSans-31\"/>\n       <use xlink:href=\"#DejaVuSans-30\" x=\"63.623047\"/>\n      </g>\n     </g>\n    </g>\n    <g id=\"text_7\">\n     <!-- epoch -->\n     <g transform=\"translate(112.525 174.076563) scale(0.1 -0.1)\">\n      <defs>\n       <path id=\"DejaVuSans-65\" d=\"M 3597 1894 \nL 3597 1613 \nL 953 1613 \nQ 991 1019 1311 708 \nQ 1631 397 2203 397 \nQ 2534 397 2845 478 \nQ 3156 559 3463 722 \nL 3463 178 \nQ 3153 47 2828 -22 \nQ 2503 -91 2169 -91 \nQ 1331 -91 842 396 \nQ 353 884 353 1716 \nQ 353 2575 817 3079 \nQ 1281 3584 2069 3584 \nQ 2775 3584 3186 3129 \nQ 3597 2675 3597 1894 \nz\nM 3022 2063 \nQ 3016 2534 2758 2815 \nQ 2500 3097 2075 3097 \nQ 1594 3097 1305 2825 \nQ 1016 2553 972 2059 \nL 3022 2063 \nz\n\" transform=\"scale(0.015625)\"/>\n       <path id=\"DejaVuSans-70\" d=\"M 1159 525 \nL 1159 -1331 \nL 581 -1331 \nL 581 3500 \nL 1159 3500 \nL 1159 2969 \nQ 1341 3281 1617 3432 \nQ 1894 3584 2278 3584 \nQ 2916 3584 3314 3078 \nQ 3713 2572 3713 1747 \nQ 3713 922 3314 415 \nQ 2916 -91 2278 -91 \nQ 1894 -91 1617 61 \nQ 1341 213 1159 525 \nz\nM 3116 1747 \nQ 3116 2381 2855 2742 \nQ 2594 3103 2138 3103 \nQ 1681 3103 1420 2742 \nQ 1159 2381 1159 1747 \nQ 1159 1113 1420 752 \nQ 1681 391 2138 391 \nQ 2594 391 2855 752 \nQ 3116 1113 3116 1747 \nz\n\" transform=\"scale(0.015625)\"/>\n       <path id=\"DejaVuSans-6f\" d=\"M 1959 3097 \nQ 1497 3097 1228 2736 \nQ 959 2375 959 1747 \nQ 959 1119 1226 758 \nQ 1494 397 1959 397 \nQ 2419 397 2687 759 \nQ 2956 1122 2956 1747 \nQ 2956 2369 2687 2733 \nQ 2419 3097 1959 3097 \nz\nM 1959 3584 \nQ 2709 3584 3137 3096 \nQ 3566 2609 3566 1747 \nQ 3566 888 3137 398 \nQ 2709 -91 1959 -91 \nQ 1206 -91 779 398 \nQ 353 888 353 1747 \nQ 353 2609 779 3096 \nQ 1206 3584 1959 3584 \nz\n\" transform=\"scale(0.015625)\"/>\n       <path id=\"DejaVuSans-63\" d=\"M 3122 3366 \nL 3122 2828 \nQ 2878 2963 2633 3030 \nQ 2388 3097 2138 3097 \nQ 1578 3097 1268 2742 \nQ 959 2388 959 1747 \nQ 959 1106 1268 751 \nQ 1578 397 2138 397 \nQ 2388 397 2633 464 \nQ 2878 531 3122 666 \nL 3122 134 \nQ 2881 22 2623 -34 \nQ 2366 -91 2075 -91 \nQ 1284 -91 818 406 \nQ 353 903 353 1747 \nQ 353 2603 823 3093 \nQ 1294 3584 2113 3584 \nQ 2378 3584 2631 3529 \nQ 2884 3475 3122 3366 \nz\n\" transform=\"scale(0.015625)\"/>\n       <path id=\"DejaVuSans-68\" d=\"M 3513 2113 \nL 3513 0 \nL 2938 0 \nL 2938 2094 \nQ 2938 2591 2744 2837 \nQ 2550 3084 2163 3084 \nQ 1697 3084 1428 2787 \nQ 1159 2491 1159 1978 \nL 1159 0 \nL 581 0 \nL 581 4863 \nL 1159 4863 \nL 1159 2956 \nQ 1366 3272 1645 3428 \nQ 1925 3584 2291 3584 \nQ 2894 3584 3203 3211 \nQ 3513 2838 3513 2113 \nz\n\" transform=\"scale(0.015625)\"/>\n      </defs>\n      <use xlink:href=\"#DejaVuSans-65\"/>\n      <use xlink:href=\"#DejaVuSans-70\" x=\"61.523438\"/>\n      <use xlink:href=\"#DejaVuSans-6f\" x=\"125\"/>\n      <use xlink:href=\"#DejaVuSans-63\" x=\"186.181641\"/>\n      <use xlink:href=\"#DejaVuSans-68\" x=\"241.162109\"/>\n     </g>\n    </g>\n   </g>\n   <g id=\"matplotlib.axis_2\">\n    <g id=\"ytick_1\">\n     <g id=\"line2d_7\">\n      <defs>\n       <path id=\"m454ac7bb9b\" d=\"M 0 0 \nL -3.5 0 \n\" style=\"stroke: #000000; stroke-width: 0.8\"/>\n      </defs>\n      <g>\n       <use xlink:href=\"#m454ac7bb9b\" x=\"30.103125\" y=\"145.179828\" style=\"stroke: #000000; stroke-width: 0.8\"/>\n      </g>\n     </g>\n     <g id=\"text_8\">\n      <!-- 0.0 -->\n      <g transform=\"translate(7.2 148.979047) scale(0.1 -0.1)\">\n       <defs>\n        <path id=\"DejaVuSans-2e\" d=\"M 684 794 \nL 1344 794 \nL 1344 0 \nL 684 0 \nL 684 794 \nz\n\" transform=\"scale(0.015625)\"/>\n       </defs>\n       <use xlink:href=\"#DejaVuSans-30\"/>\n       <use xlink:href=\"#DejaVuSans-2e\" x=\"63.623047\"/>\n       <use xlink:href=\"#DejaVuSans-30\" x=\"95.410156\"/>\n      </g>\n     </g>\n    </g>\n    <g id=\"ytick_2\">\n     <g id=\"line2d_8\">\n      <g>\n       <use xlink:href=\"#m454ac7bb9b\" x=\"30.103125\" y=\"116.662241\" style=\"stroke: #000000; stroke-width: 0.8\"/>\n      </g>\n     </g>\n     <g id=\"text_9\">\n      <!-- 0.5 -->\n      <g transform=\"translate(7.2 120.461459) scale(0.1 -0.1)\">\n       <defs>\n        <path id=\"DejaVuSans-35\" d=\"M 691 4666 \nL 3169 4666 \nL 3169 4134 \nL 1269 4134 \nL 1269 2991 \nQ 1406 3038 1543 3061 \nQ 1681 3084 1819 3084 \nQ 2600 3084 3056 2656 \nQ 3513 2228 3513 1497 \nQ 3513 744 3044 326 \nQ 2575 -91 1722 -91 \nQ 1428 -91 1123 -41 \nQ 819 9 494 109 \nL 494 744 \nQ 775 591 1075 516 \nQ 1375 441 1709 441 \nQ 2250 441 2565 725 \nQ 2881 1009 2881 1497 \nQ 2881 1984 2565 2268 \nQ 2250 2553 1709 2553 \nQ 1456 2553 1204 2497 \nQ 953 2441 691 2322 \nL 691 4666 \nz\n\" transform=\"scale(0.015625)\"/>\n       </defs>\n       <use xlink:href=\"#DejaVuSans-30\"/>\n       <use xlink:href=\"#DejaVuSans-2e\" x=\"63.623047\"/>\n       <use xlink:href=\"#DejaVuSans-35\" x=\"95.410156\"/>\n      </g>\n     </g>\n    </g>\n    <g id=\"ytick_3\">\n     <g id=\"line2d_9\">\n      <g>\n       <use xlink:href=\"#m454ac7bb9b\" x=\"30.103125\" y=\"88.144653\" style=\"stroke: #000000; stroke-width: 0.8\"/>\n      </g>\n     </g>\n     <g id=\"text_10\">\n      <!-- 1.0 -->\n      <g transform=\"translate(7.2 91.943872) scale(0.1 -0.1)\">\n       <use xlink:href=\"#DejaVuSans-31\"/>\n       <use xlink:href=\"#DejaVuSans-2e\" x=\"63.623047\"/>\n       <use xlink:href=\"#DejaVuSans-30\" x=\"95.410156\"/>\n      </g>\n     </g>\n    </g>\n    <g id=\"ytick_4\">\n     <g id=\"line2d_10\">\n      <g>\n       <use xlink:href=\"#m454ac7bb9b\" x=\"30.103125\" y=\"59.627066\" style=\"stroke: #000000; stroke-width: 0.8\"/>\n      </g>\n     </g>\n     <g id=\"text_11\">\n      <!-- 1.5 -->\n      <g transform=\"translate(7.2 63.426284) scale(0.1 -0.1)\">\n       <use xlink:href=\"#DejaVuSans-31\"/>\n       <use xlink:href=\"#DejaVuSans-2e\" x=\"63.623047\"/>\n       <use xlink:href=\"#DejaVuSans-35\" x=\"95.410156\"/>\n      </g>\n     </g>\n    </g>\n    <g id=\"ytick_5\">\n     <g id=\"line2d_11\">\n      <g>\n       <use xlink:href=\"#m454ac7bb9b\" x=\"30.103125\" y=\"31.109478\" style=\"stroke: #000000; stroke-width: 0.8\"/>\n      </g>\n     </g>\n     <g id=\"text_12\">\n      <!-- 2.0 -->\n      <g transform=\"translate(7.2 34.908697) scale(0.1 -0.1)\">\n       <use xlink:href=\"#DejaVuSans-32\"/>\n       <use xlink:href=\"#DejaVuSans-2e\" x=\"63.623047\"/>\n       <use xlink:href=\"#DejaVuSans-30\" x=\"95.410156\"/>\n      </g>\n     </g>\n    </g>\n   </g>\n   <g id=\"line2d_12\">\n    <path d=\"M 34.954394 13.5 \n\" clip-path=\"url(#p26a535ea5b)\" style=\"fill: none; stroke: #1f77b4; stroke-width: 1.5; stroke-linecap: square\"/>\n   </g>\n   <g id=\"line2d_13\">\n    <path d=\"M 34.954394 13.5 \nL 44.698573 13.574294 \n\" clip-path=\"url(#p26a535ea5b)\" style=\"fill: none; stroke: #1f77b4; stroke-width: 1.5; stroke-linecap: square\"/>\n   </g>\n   <g id=\"line2d_14\">\n    <path d=\"M 34.954394 13.5 \nL 44.698573 13.574294 \n\" clip-path=\"url(#p26a535ea5b)\" style=\"fill: none; stroke: #1f77b4; stroke-width: 1.5; stroke-linecap: square\"/>\n   </g>\n   <g id=\"line2d_15\">\n    <path d=\"M 49.633125 13.703268 \n\" clip-path=\"url(#p26a535ea5b)\" style=\"fill: none; stroke-dasharray: 5.55,2.4; stroke-dashoffset: 0; stroke: #ff7f0e; stroke-width: 1.5\"/>\n   </g>\n   <g id=\"line2d_16\"/>\n   <g id=\"line2d_17\">\n    <path d=\"M 34.954394 13.5 \nL 44.698573 13.574294 \n\" clip-path=\"url(#p26a535ea5b)\" style=\"fill: none; stroke: #1f77b4; stroke-width: 1.5; stroke-linecap: square\"/>\n   </g>\n   <g id=\"line2d_18\">\n    <path d=\"M 49.633125 13.703268 \n\" clip-path=\"url(#p26a535ea5b)\" style=\"fill: none; stroke-dasharray: 5.55,2.4; stroke-dashoffset: 0; stroke: #ff7f0e; stroke-width: 1.5\"/>\n   </g>\n   <g id=\"line2d_19\">\n    <path d=\"M 49.633125 139.5 \n\" clip-path=\"url(#p26a535ea5b)\" style=\"fill: none; stroke-dasharray: 9.6,2.4,1.5,2.4; stroke-dashoffset: 0; stroke: #2ca02c; stroke-width: 1.5\"/>\n   </g>\n   <g id=\"line2d_20\">\n    <path d=\"M 34.954394 13.5 \nL 44.698573 13.574294 \nL 54.442752 13.599824 \n\" clip-path=\"url(#p26a535ea5b)\" style=\"fill: none; stroke: #1f77b4; stroke-width: 1.5; stroke-linecap: square\"/>\n   </g>\n   <g id=\"line2d_21\">\n    <path d=\"M 49.633125 13.703268 \n\" clip-path=\"url(#p26a535ea5b)\" style=\"fill: none; stroke-dasharray: 5.55,2.4; stroke-dashoffset: 0; stroke: #ff7f0e; stroke-width: 1.5\"/>\n   </g>\n   <g id=\"line2d_22\">\n    <path d=\"M 49.633125 139.5 \n\" clip-path=\"url(#p26a535ea5b)\" style=\"fill: none; stroke-dasharray: 9.6,2.4,1.5,2.4; stroke-dashoffset: 0; stroke: #2ca02c; stroke-width: 1.5\"/>\n   </g>\n   <g id=\"line2d_23\">\n    <path d=\"M 34.954394 13.5 \nL 44.698573 13.574294 \nL 54.442752 13.599824 \nL 64.186931 13.670554 \n\" clip-path=\"url(#p26a535ea5b)\" style=\"fill: none; stroke: #1f77b4; stroke-width: 1.5; stroke-linecap: square\"/>\n   </g>\n   <g id=\"line2d_24\">\n    <path d=\"M 49.633125 13.703268 \n\" clip-path=\"url(#p26a535ea5b)\" style=\"fill: none; stroke-dasharray: 5.55,2.4; stroke-dashoffset: 0; stroke: #ff7f0e; stroke-width: 1.5\"/>\n   </g>\n   <g id=\"line2d_25\">\n    <path d=\"M 49.633125 139.5 \n\" clip-path=\"url(#p26a535ea5b)\" style=\"fill: none; stroke-dasharray: 9.6,2.4,1.5,2.4; stroke-dashoffset: 0; stroke: #2ca02c; stroke-width: 1.5\"/>\n   </g>\n   <g id=\"line2d_26\">\n    <path d=\"M 34.954394 13.5 \nL 44.698573 13.574294 \nL 54.442752 13.599824 \nL 64.186931 13.670554 \n\" clip-path=\"url(#p26a535ea5b)\" style=\"fill: none; stroke: #1f77b4; stroke-width: 1.5; stroke-linecap: square\"/>\n   </g>\n   <g id=\"line2d_27\">\n    <path d=\"M 49.633125 13.703268 \nL 69.163125 13.624678 \n\" clip-path=\"url(#p26a535ea5b)\" style=\"fill: none; stroke-dasharray: 5.55,2.4; stroke-dashoffset: 0; stroke: #ff7f0e; stroke-width: 1.5\"/>\n   </g>\n   <g id=\"line2d_28\">\n    <path d=\"M 49.633125 139.5 \n\" clip-path=\"url(#p26a535ea5b)\" style=\"fill: none; stroke-dasharray: 9.6,2.4,1.5,2.4; stroke-dashoffset: 0; stroke: #2ca02c; stroke-width: 1.5\"/>\n   </g>\n   <g id=\"line2d_29\">\n    <path d=\"M 34.954394 13.5 \nL 44.698573 13.574294 \nL 54.442752 13.599824 \nL 64.186931 13.670554 \n\" clip-path=\"url(#p26a535ea5b)\" style=\"fill: none; stroke: #1f77b4; stroke-width: 1.5; stroke-linecap: square\"/>\n   </g>\n   <g id=\"line2d_30\">\n    <path d=\"M 49.633125 13.703268 \nL 69.163125 13.624678 \n\" clip-path=\"url(#p26a535ea5b)\" style=\"fill: none; stroke-dasharray: 5.55,2.4; stroke-dashoffset: 0; stroke: #ff7f0e; stroke-width: 1.5\"/>\n   </g>\n   <g id=\"line2d_31\">\n    <path d=\"M 49.633125 139.5 \nL 69.163125 139.5 \n\" clip-path=\"url(#p26a535ea5b)\" style=\"fill: none; stroke-dasharray: 9.6,2.4,1.5,2.4; stroke-dashoffset: 0; stroke: #2ca02c; stroke-width: 1.5\"/>\n   </g>\n   <g id=\"line2d_32\">\n    <path d=\"M 34.954394 13.5 \nL 44.698573 13.574294 \nL 54.442752 13.599824 \nL 64.186931 13.670554 \nL 73.93111 13.803945 \n\" clip-path=\"url(#p26a535ea5b)\" style=\"fill: none; stroke: #1f77b4; stroke-width: 1.5; stroke-linecap: square\"/>\n   </g>\n   <g id=\"line2d_33\">\n    <path d=\"M 49.633125 13.703268 \nL 69.163125 13.624678 \n\" clip-path=\"url(#p26a535ea5b)\" style=\"fill: none; stroke-dasharray: 5.55,2.4; stroke-dashoffset: 0; stroke: #ff7f0e; stroke-width: 1.5\"/>\n   </g>\n   <g id=\"line2d_34\">\n    <path d=\"M 49.633125 139.5 \nL 69.163125 139.5 \n\" clip-path=\"url(#p26a535ea5b)\" style=\"fill: none; stroke-dasharray: 9.6,2.4,1.5,2.4; stroke-dashoffset: 0; stroke: #2ca02c; stroke-width: 1.5\"/>\n   </g>\n   <g id=\"line2d_35\">\n    <path d=\"M 34.954394 13.5 \nL 44.698573 13.574294 \nL 54.442752 13.599824 \nL 64.186931 13.670554 \nL 73.93111 13.803945 \nL 83.675289 14.087939 \n\" clip-path=\"url(#p26a535ea5b)\" style=\"fill: none; stroke: #1f77b4; stroke-width: 1.5; stroke-linecap: square\"/>\n   </g>\n   <g id=\"line2d_36\">\n    <path d=\"M 49.633125 13.703268 \nL 69.163125 13.624678 \n\" clip-path=\"url(#p26a535ea5b)\" style=\"fill: none; stroke-dasharray: 5.55,2.4; stroke-dashoffset: 0; stroke: #ff7f0e; stroke-width: 1.5\"/>\n   </g>\n   <g id=\"line2d_37\">\n    <path d=\"M 49.633125 139.5 \nL 69.163125 139.5 \n\" clip-path=\"url(#p26a535ea5b)\" style=\"fill: none; stroke-dasharray: 9.6,2.4,1.5,2.4; stroke-dashoffset: 0; stroke: #2ca02c; stroke-width: 1.5\"/>\n   </g>\n   <g id=\"line2d_38\">\n    <path d=\"M 34.954394 13.5 \nL 44.698573 13.574294 \nL 54.442752 13.599824 \nL 64.186931 13.670554 \nL 73.93111 13.803945 \nL 83.675289 14.087939 \n\" clip-path=\"url(#p26a535ea5b)\" style=\"fill: none; stroke: #1f77b4; stroke-width: 1.5; stroke-linecap: square\"/>\n   </g>\n   <g id=\"line2d_39\">\n    <path d=\"M 49.633125 13.703268 \nL 69.163125 13.624678 \nL 88.693125 14.334507 \n\" clip-path=\"url(#p26a535ea5b)\" style=\"fill: none; stroke-dasharray: 5.55,2.4; stroke-dashoffset: 0; stroke: #ff7f0e; stroke-width: 1.5\"/>\n   </g>\n   <g id=\"line2d_40\">\n    <path d=\"M 49.633125 139.5 \nL 69.163125 139.5 \n\" clip-path=\"url(#p26a535ea5b)\" style=\"fill: none; stroke-dasharray: 9.6,2.4,1.5,2.4; stroke-dashoffset: 0; stroke: #2ca02c; stroke-width: 1.5\"/>\n   </g>\n   <g id=\"line2d_41\">\n    <path d=\"M 34.954394 13.5 \nL 44.698573 13.574294 \nL 54.442752 13.599824 \nL 64.186931 13.670554 \nL 73.93111 13.803945 \nL 83.675289 14.087939 \n\" clip-path=\"url(#p26a535ea5b)\" style=\"fill: none; stroke: #1f77b4; stroke-width: 1.5; stroke-linecap: square\"/>\n   </g>\n   <g id=\"line2d_42\">\n    <path d=\"M 49.633125 13.703268 \nL 69.163125 13.624678 \nL 88.693125 14.334507 \n\" clip-path=\"url(#p26a535ea5b)\" style=\"fill: none; stroke-dasharray: 5.55,2.4; stroke-dashoffset: 0; stroke: #ff7f0e; stroke-width: 1.5\"/>\n   </g>\n   <g id=\"line2d_43\">\n    <path d=\"M 49.633125 139.5 \nL 69.163125 139.5 \nL 88.693125 139.5 \n\" clip-path=\"url(#p26a535ea5b)\" style=\"fill: none; stroke-dasharray: 9.6,2.4,1.5,2.4; stroke-dashoffset: 0; stroke: #2ca02c; stroke-width: 1.5\"/>\n   </g>\n   <g id=\"line2d_44\">\n    <path d=\"M 34.954394 13.5 \nL 44.698573 13.574294 \nL 54.442752 13.599824 \nL 64.186931 13.670554 \nL 73.93111 13.803945 \nL 83.675289 14.087939 \nL 93.419468 15.634817 \n\" clip-path=\"url(#p26a535ea5b)\" style=\"fill: none; stroke: #1f77b4; stroke-width: 1.5; stroke-linecap: square\"/>\n   </g>\n   <g id=\"line2d_45\">\n    <path d=\"M 49.633125 13.703268 \nL 69.163125 13.624678 \nL 88.693125 14.334507 \n\" clip-path=\"url(#p26a535ea5b)\" style=\"fill: none; stroke-dasharray: 5.55,2.4; stroke-dashoffset: 0; stroke: #ff7f0e; stroke-width: 1.5\"/>\n   </g>\n   <g id=\"line2d_46\">\n    <path d=\"M 49.633125 139.5 \nL 69.163125 139.5 \nL 88.693125 139.5 \n\" clip-path=\"url(#p26a535ea5b)\" style=\"fill: none; stroke-dasharray: 9.6,2.4,1.5,2.4; stroke-dashoffset: 0; stroke: #2ca02c; stroke-width: 1.5\"/>\n   </g>\n   <g id=\"line2d_47\">\n    <path d=\"M 34.954394 13.5 \nL 44.698573 13.574294 \nL 54.442752 13.599824 \nL 64.186931 13.670554 \nL 73.93111 13.803945 \nL 83.675289 14.087939 \nL 93.419468 15.634817 \nL 103.163647 35.660707 \n\" clip-path=\"url(#p26a535ea5b)\" style=\"fill: none; stroke: #1f77b4; stroke-width: 1.5; stroke-linecap: square\"/>\n   </g>\n   <g id=\"line2d_48\">\n    <path d=\"M 49.633125 13.703268 \nL 69.163125 13.624678 \nL 88.693125 14.334507 \n\" clip-path=\"url(#p26a535ea5b)\" style=\"fill: none; stroke-dasharray: 5.55,2.4; stroke-dashoffset: 0; stroke: #ff7f0e; stroke-width: 1.5\"/>\n   </g>\n   <g id=\"line2d_49\">\n    <path d=\"M 49.633125 139.5 \nL 69.163125 139.5 \nL 88.693125 139.5 \n\" clip-path=\"url(#p26a535ea5b)\" style=\"fill: none; stroke-dasharray: 9.6,2.4,1.5,2.4; stroke-dashoffset: 0; stroke: #2ca02c; stroke-width: 1.5\"/>\n   </g>\n   <g id=\"line2d_50\">\n    <path d=\"M 34.954394 13.5 \nL 44.698573 13.574294 \nL 54.442752 13.599824 \nL 64.186931 13.670554 \nL 73.93111 13.803945 \nL 83.675289 14.087939 \nL 93.419468 15.634817 \nL 103.163647 35.660707 \n\" clip-path=\"url(#p26a535ea5b)\" style=\"fill: none; stroke: #1f77b4; stroke-width: 1.5; stroke-linecap: square\"/>\n   </g>\n   <g id=\"line2d_51\">\n    <path d=\"M 49.633125 13.703268 \nL 69.163125 13.624678 \nL 88.693125 14.334507 \nL 108.223125 58.129871 \n\" clip-path=\"url(#p26a535ea5b)\" style=\"fill: none; stroke-dasharray: 5.55,2.4; stroke-dashoffset: 0; stroke: #ff7f0e; stroke-width: 1.5\"/>\n   </g>\n   <g id=\"line2d_52\">\n    <path d=\"M 49.633125 139.5 \nL 69.163125 139.5 \nL 88.693125 139.5 \n\" clip-path=\"url(#p26a535ea5b)\" style=\"fill: none; stroke-dasharray: 9.6,2.4,1.5,2.4; stroke-dashoffset: 0; stroke: #2ca02c; stroke-width: 1.5\"/>\n   </g>\n   <g id=\"line2d_53\">\n    <path d=\"M 34.954394 13.5 \nL 44.698573 13.574294 \nL 54.442752 13.599824 \nL 64.186931 13.670554 \nL 73.93111 13.803945 \nL 83.675289 14.087939 \nL 93.419468 15.634817 \nL 103.163647 35.660707 \n\" clip-path=\"url(#p26a535ea5b)\" style=\"fill: none; stroke: #1f77b4; stroke-width: 1.5; stroke-linecap: square\"/>\n   </g>\n   <g id=\"line2d_54\">\n    <path d=\"M 49.633125 13.703268 \nL 69.163125 13.624678 \nL 88.693125 14.334507 \nL 108.223125 58.129871 \n\" clip-path=\"url(#p26a535ea5b)\" style=\"fill: none; stroke-dasharray: 5.55,2.4; stroke-dashoffset: 0; stroke: #ff7f0e; stroke-width: 1.5\"/>\n   </g>\n   <g id=\"line2d_55\">\n    <path d=\"M 49.633125 139.5 \nL 69.163125 139.5 \nL 88.693125 139.5 \nL 108.223125 116.65096 \n\" clip-path=\"url(#p26a535ea5b)\" style=\"fill: none; stroke-dasharray: 9.6,2.4,1.5,2.4; stroke-dashoffset: 0; stroke: #2ca02c; stroke-width: 1.5\"/>\n   </g>\n   <g id=\"line2d_56\">\n    <path d=\"M 34.954394 13.5 \nL 44.698573 13.574294 \nL 54.442752 13.599824 \nL 64.186931 13.670554 \nL 73.93111 13.803945 \nL 83.675289 14.087939 \nL 93.419468 15.634817 \nL 103.163647 35.660707 \nL 112.907826 68.171689 \n\" clip-path=\"url(#p26a535ea5b)\" style=\"fill: none; stroke: #1f77b4; stroke-width: 1.5; stroke-linecap: square\"/>\n   </g>\n   <g id=\"line2d_57\">\n    <path d=\"M 49.633125 13.703268 \nL 69.163125 13.624678 \nL 88.693125 14.334507 \nL 108.223125 58.129871 \n\" clip-path=\"url(#p26a535ea5b)\" style=\"fill: none; stroke-dasharray: 5.55,2.4; stroke-dashoffset: 0; stroke: #ff7f0e; stroke-width: 1.5\"/>\n   </g>\n   <g id=\"line2d_58\">\n    <path d=\"M 49.633125 139.5 \nL 69.163125 139.5 \nL 88.693125 139.5 \nL 108.223125 116.65096 \n\" clip-path=\"url(#p26a535ea5b)\" style=\"fill: none; stroke-dasharray: 9.6,2.4,1.5,2.4; stroke-dashoffset: 0; stroke: #2ca02c; stroke-width: 1.5\"/>\n   </g>\n   <g id=\"line2d_59\">\n    <path d=\"M 34.954394 13.5 \nL 44.698573 13.574294 \nL 54.442752 13.599824 \nL 64.186931 13.670554 \nL 73.93111 13.803945 \nL 83.675289 14.087939 \nL 93.419468 15.634817 \nL 103.163647 35.660707 \nL 112.907826 68.171689 \nL 122.652006 79.635787 \n\" clip-path=\"url(#p26a535ea5b)\" style=\"fill: none; stroke: #1f77b4; stroke-width: 1.5; stroke-linecap: square\"/>\n   </g>\n   <g id=\"line2d_60\">\n    <path d=\"M 49.633125 13.703268 \nL 69.163125 13.624678 \nL 88.693125 14.334507 \nL 108.223125 58.129871 \n\" clip-path=\"url(#p26a535ea5b)\" style=\"fill: none; stroke-dasharray: 5.55,2.4; stroke-dashoffset: 0; stroke: #ff7f0e; stroke-width: 1.5\"/>\n   </g>\n   <g id=\"line2d_61\">\n    <path d=\"M 49.633125 139.5 \nL 69.163125 139.5 \nL 88.693125 139.5 \nL 108.223125 116.65096 \n\" clip-path=\"url(#p26a535ea5b)\" style=\"fill: none; stroke-dasharray: 9.6,2.4,1.5,2.4; stroke-dashoffset: 0; stroke: #2ca02c; stroke-width: 1.5\"/>\n   </g>\n   <g id=\"line2d_62\">\n    <path d=\"M 34.954394 13.5 \nL 44.698573 13.574294 \nL 54.442752 13.599824 \nL 64.186931 13.670554 \nL 73.93111 13.803945 \nL 83.675289 14.087939 \nL 93.419468 15.634817 \nL 103.163647 35.660707 \nL 112.907826 68.171689 \nL 122.652006 79.635787 \n\" clip-path=\"url(#p26a535ea5b)\" style=\"fill: none; stroke: #1f77b4; stroke-width: 1.5; stroke-linecap: square\"/>\n   </g>\n   <g id=\"line2d_63\">\n    <path d=\"M 49.633125 13.703268 \nL 69.163125 13.624678 \nL 88.693125 14.334507 \nL 108.223125 58.129871 \nL 127.753125 83.324603 \n\" clip-path=\"url(#p26a535ea5b)\" style=\"fill: none; stroke-dasharray: 5.55,2.4; stroke-dashoffset: 0; stroke: #ff7f0e; stroke-width: 1.5\"/>\n   </g>\n   <g id=\"line2d_64\">\n    <path d=\"M 49.633125 139.5 \nL 69.163125 139.5 \nL 88.693125 139.5 \nL 108.223125 116.65096 \n\" clip-path=\"url(#p26a535ea5b)\" style=\"fill: none; stroke-dasharray: 9.6,2.4,1.5,2.4; stroke-dashoffset: 0; stroke: #2ca02c; stroke-width: 1.5\"/>\n   </g>\n   <g id=\"line2d_65\">\n    <path d=\"M 34.954394 13.5 \nL 44.698573 13.574294 \nL 54.442752 13.599824 \nL 64.186931 13.670554 \nL 73.93111 13.803945 \nL 83.675289 14.087939 \nL 93.419468 15.634817 \nL 103.163647 35.660707 \nL 112.907826 68.171689 \nL 122.652006 79.635787 \n\" clip-path=\"url(#p26a535ea5b)\" style=\"fill: none; stroke: #1f77b4; stroke-width: 1.5; stroke-linecap: square\"/>\n   </g>\n   <g id=\"line2d_66\">\n    <path d=\"M 49.633125 13.703268 \nL 69.163125 13.624678 \nL 88.693125 14.334507 \nL 108.223125 58.129871 \nL 127.753125 83.324603 \n\" clip-path=\"url(#p26a535ea5b)\" style=\"fill: none; stroke-dasharray: 5.55,2.4; stroke-dashoffset: 0; stroke: #ff7f0e; stroke-width: 1.5\"/>\n   </g>\n   <g id=\"line2d_67\">\n    <path d=\"M 49.633125 139.5 \nL 69.163125 139.5 \nL 88.693125 139.5 \nL 108.223125 116.65096 \nL 127.753125 111.298272 \n\" clip-path=\"url(#p26a535ea5b)\" style=\"fill: none; stroke-dasharray: 9.6,2.4,1.5,2.4; stroke-dashoffset: 0; stroke: #2ca02c; stroke-width: 1.5\"/>\n   </g>\n   <g id=\"line2d_68\">\n    <path d=\"M 34.954394 13.5 \nL 44.698573 13.574294 \nL 54.442752 13.599824 \nL 64.186931 13.670554 \nL 73.93111 13.803945 \nL 83.675289 14.087939 \nL 93.419468 15.634817 \nL 103.163647 35.660707 \nL 112.907826 68.171689 \nL 122.652006 79.635787 \nL 132.396185 85.996831 \n\" clip-path=\"url(#p26a535ea5b)\" style=\"fill: none; stroke: #1f77b4; stroke-width: 1.5; stroke-linecap: square\"/>\n   </g>\n   <g id=\"line2d_69\">\n    <path d=\"M 49.633125 13.703268 \nL 69.163125 13.624678 \nL 88.693125 14.334507 \nL 108.223125 58.129871 \nL 127.753125 83.324603 \n\" clip-path=\"url(#p26a535ea5b)\" style=\"fill: none; stroke-dasharray: 5.55,2.4; stroke-dashoffset: 0; stroke: #ff7f0e; stroke-width: 1.5\"/>\n   </g>\n   <g id=\"line2d_70\">\n    <path d=\"M 49.633125 139.5 \nL 69.163125 139.5 \nL 88.693125 139.5 \nL 108.223125 116.65096 \nL 127.753125 111.298272 \n\" clip-path=\"url(#p26a535ea5b)\" style=\"fill: none; stroke-dasharray: 9.6,2.4,1.5,2.4; stroke-dashoffset: 0; stroke: #2ca02c; stroke-width: 1.5\"/>\n   </g>\n   <g id=\"line2d_71\">\n    <path d=\"M 34.954394 13.5 \nL 44.698573 13.574294 \nL 54.442752 13.599824 \nL 64.186931 13.670554 \nL 73.93111 13.803945 \nL 83.675289 14.087939 \nL 93.419468 15.634817 \nL 103.163647 35.660707 \nL 112.907826 68.171689 \nL 122.652006 79.635787 \nL 132.396185 85.996831 \nL 142.140364 90.230924 \n\" clip-path=\"url(#p26a535ea5b)\" style=\"fill: none; stroke: #1f77b4; stroke-width: 1.5; stroke-linecap: square\"/>\n   </g>\n   <g id=\"line2d_72\">\n    <path d=\"M 49.633125 13.703268 \nL 69.163125 13.624678 \nL 88.693125 14.334507 \nL 108.223125 58.129871 \nL 127.753125 83.324603 \n\" clip-path=\"url(#p26a535ea5b)\" style=\"fill: none; stroke-dasharray: 5.55,2.4; stroke-dashoffset: 0; stroke: #ff7f0e; stroke-width: 1.5\"/>\n   </g>\n   <g id=\"line2d_73\">\n    <path d=\"M 49.633125 139.5 \nL 69.163125 139.5 \nL 88.693125 139.5 \nL 108.223125 116.65096 \nL 127.753125 111.298272 \n\" clip-path=\"url(#p26a535ea5b)\" style=\"fill: none; stroke-dasharray: 9.6,2.4,1.5,2.4; stroke-dashoffset: 0; stroke: #2ca02c; stroke-width: 1.5\"/>\n   </g>\n   <g id=\"line2d_74\">\n    <path d=\"M 34.954394 13.5 \nL 44.698573 13.574294 \nL 54.442752 13.599824 \nL 64.186931 13.670554 \nL 73.93111 13.803945 \nL 83.675289 14.087939 \nL 93.419468 15.634817 \nL 103.163647 35.660707 \nL 112.907826 68.171689 \nL 122.652006 79.635787 \nL 132.396185 85.996831 \nL 142.140364 90.230924 \n\" clip-path=\"url(#p26a535ea5b)\" style=\"fill: none; stroke: #1f77b4; stroke-width: 1.5; stroke-linecap: square\"/>\n   </g>\n   <g id=\"line2d_75\">\n    <path d=\"M 49.633125 13.703268 \nL 69.163125 13.624678 \nL 88.693125 14.334507 \nL 108.223125 58.129871 \nL 127.753125 83.324603 \nL 147.283125 91.854589 \n\" clip-path=\"url(#p26a535ea5b)\" style=\"fill: none; stroke-dasharray: 5.55,2.4; stroke-dashoffset: 0; stroke: #ff7f0e; stroke-width: 1.5\"/>\n   </g>\n   <g id=\"line2d_76\">\n    <path d=\"M 49.633125 139.5 \nL 69.163125 139.5 \nL 88.693125 139.5 \nL 108.223125 116.65096 \nL 127.753125 111.298272 \n\" clip-path=\"url(#p26a535ea5b)\" style=\"fill: none; stroke-dasharray: 9.6,2.4,1.5,2.4; stroke-dashoffset: 0; stroke: #2ca02c; stroke-width: 1.5\"/>\n   </g>\n   <g id=\"line2d_77\">\n    <path d=\"M 34.954394 13.5 \nL 44.698573 13.574294 \nL 54.442752 13.599824 \nL 64.186931 13.670554 \nL 73.93111 13.803945 \nL 83.675289 14.087939 \nL 93.419468 15.634817 \nL 103.163647 35.660707 \nL 112.907826 68.171689 \nL 122.652006 79.635787 \nL 132.396185 85.996831 \nL 142.140364 90.230924 \n\" clip-path=\"url(#p26a535ea5b)\" style=\"fill: none; stroke: #1f77b4; stroke-width: 1.5; stroke-linecap: square\"/>\n   </g>\n   <g id=\"line2d_78\">\n    <path d=\"M 49.633125 13.703268 \nL 69.163125 13.624678 \nL 88.693125 14.334507 \nL 108.223125 58.129871 \nL 127.753125 83.324603 \nL 147.283125 91.854589 \n\" clip-path=\"url(#p26a535ea5b)\" style=\"fill: none; stroke-dasharray: 5.55,2.4; stroke-dashoffset: 0; stroke: #ff7f0e; stroke-width: 1.5\"/>\n   </g>\n   <g id=\"line2d_79\">\n    <path d=\"M 49.633125 139.5 \nL 69.163125 139.5 \nL 88.693125 139.5 \nL 108.223125 116.65096 \nL 127.753125 111.298272 \nL 147.283125 107.84638 \n\" clip-path=\"url(#p26a535ea5b)\" style=\"fill: none; stroke-dasharray: 9.6,2.4,1.5,2.4; stroke-dashoffset: 0; stroke: #2ca02c; stroke-width: 1.5\"/>\n   </g>\n   <g id=\"line2d_80\">\n    <path d=\"M 34.954394 13.5 \nL 44.698573 13.574294 \nL 54.442752 13.599824 \nL 64.186931 13.670554 \nL 73.93111 13.803945 \nL 83.675289 14.087939 \nL 93.419468 15.634817 \nL 103.163647 35.660707 \nL 112.907826 68.171689 \nL 122.652006 79.635787 \nL 132.396185 85.996831 \nL 142.140364 90.230924 \nL 151.884543 93.568415 \n\" clip-path=\"url(#p26a535ea5b)\" style=\"fill: none; stroke: #1f77b4; stroke-width: 1.5; stroke-linecap: square\"/>\n   </g>\n   <g id=\"line2d_81\">\n    <path d=\"M 49.633125 13.703268 \nL 69.163125 13.624678 \nL 88.693125 14.334507 \nL 108.223125 58.129871 \nL 127.753125 83.324603 \nL 147.283125 91.854589 \n\" clip-path=\"url(#p26a535ea5b)\" style=\"fill: none; stroke-dasharray: 5.55,2.4; stroke-dashoffset: 0; stroke: #ff7f0e; stroke-width: 1.5\"/>\n   </g>\n   <g id=\"line2d_82\">\n    <path d=\"M 49.633125 139.5 \nL 69.163125 139.5 \nL 88.693125 139.5 \nL 108.223125 116.65096 \nL 127.753125 111.298272 \nL 147.283125 107.84638 \n\" clip-path=\"url(#p26a535ea5b)\" style=\"fill: none; stroke-dasharray: 9.6,2.4,1.5,2.4; stroke-dashoffset: 0; stroke: #2ca02c; stroke-width: 1.5\"/>\n   </g>\n   <g id=\"line2d_83\">\n    <path d=\"M 34.954394 13.5 \nL 44.698573 13.574294 \nL 54.442752 13.599824 \nL 64.186931 13.670554 \nL 73.93111 13.803945 \nL 83.675289 14.087939 \nL 93.419468 15.634817 \nL 103.163647 35.660707 \nL 112.907826 68.171689 \nL 122.652006 79.635787 \nL 132.396185 85.996831 \nL 142.140364 90.230924 \nL 151.884543 93.568415 \nL 161.628722 95.430634 \n\" clip-path=\"url(#p26a535ea5b)\" style=\"fill: none; stroke: #1f77b4; stroke-width: 1.5; stroke-linecap: square\"/>\n   </g>\n   <g id=\"line2d_84\">\n    <path d=\"M 49.633125 13.703268 \nL 69.163125 13.624678 \nL 88.693125 14.334507 \nL 108.223125 58.129871 \nL 127.753125 83.324603 \nL 147.283125 91.854589 \n\" clip-path=\"url(#p26a535ea5b)\" style=\"fill: none; stroke-dasharray: 5.55,2.4; stroke-dashoffset: 0; stroke: #ff7f0e; stroke-width: 1.5\"/>\n   </g>\n   <g id=\"line2d_85\">\n    <path d=\"M 49.633125 139.5 \nL 69.163125 139.5 \nL 88.693125 139.5 \nL 108.223125 116.65096 \nL 127.753125 111.298272 \nL 147.283125 107.84638 \n\" clip-path=\"url(#p26a535ea5b)\" style=\"fill: none; stroke-dasharray: 9.6,2.4,1.5,2.4; stroke-dashoffset: 0; stroke: #2ca02c; stroke-width: 1.5\"/>\n   </g>\n   <g id=\"line2d_86\">\n    <path d=\"M 34.954394 13.5 \nL 44.698573 13.574294 \nL 54.442752 13.599824 \nL 64.186931 13.670554 \nL 73.93111 13.803945 \nL 83.675289 14.087939 \nL 93.419468 15.634817 \nL 103.163647 35.660707 \nL 112.907826 68.171689 \nL 122.652006 79.635787 \nL 132.396185 85.996831 \nL 142.140364 90.230924 \nL 151.884543 93.568415 \nL 161.628722 95.430634 \n\" clip-path=\"url(#p26a535ea5b)\" style=\"fill: none; stroke: #1f77b4; stroke-width: 1.5; stroke-linecap: square\"/>\n   </g>\n   <g id=\"line2d_87\">\n    <path d=\"M 49.633125 13.703268 \nL 69.163125 13.624678 \nL 88.693125 14.334507 \nL 108.223125 58.129871 \nL 127.753125 83.324603 \nL 147.283125 91.854589 \nL 166.813125 95.565446 \n\" clip-path=\"url(#p26a535ea5b)\" style=\"fill: none; stroke-dasharray: 5.55,2.4; stroke-dashoffset: 0; stroke: #ff7f0e; stroke-width: 1.5\"/>\n   </g>\n   <g id=\"line2d_88\">\n    <path d=\"M 49.633125 139.5 \nL 69.163125 139.5 \nL 88.693125 139.5 \nL 108.223125 116.65096 \nL 127.753125 111.298272 \nL 147.283125 107.84638 \n\" clip-path=\"url(#p26a535ea5b)\" style=\"fill: none; stroke-dasharray: 9.6,2.4,1.5,2.4; stroke-dashoffset: 0; stroke: #2ca02c; stroke-width: 1.5\"/>\n   </g>\n   <g id=\"line2d_89\">\n    <path d=\"M 34.954394 13.5 \nL 44.698573 13.574294 \nL 54.442752 13.599824 \nL 64.186931 13.670554 \nL 73.93111 13.803945 \nL 83.675289 14.087939 \nL 93.419468 15.634817 \nL 103.163647 35.660707 \nL 112.907826 68.171689 \nL 122.652006 79.635787 \nL 132.396185 85.996831 \nL 142.140364 90.230924 \nL 151.884543 93.568415 \nL 161.628722 95.430634 \n\" clip-path=\"url(#p26a535ea5b)\" style=\"fill: none; stroke: #1f77b4; stroke-width: 1.5; stroke-linecap: square\"/>\n   </g>\n   <g id=\"line2d_90\">\n    <path d=\"M 49.633125 13.703268 \nL 69.163125 13.624678 \nL 88.693125 14.334507 \nL 108.223125 58.129871 \nL 127.753125 83.324603 \nL 147.283125 91.854589 \nL 166.813125 95.565446 \n\" clip-path=\"url(#p26a535ea5b)\" style=\"fill: none; stroke-dasharray: 5.55,2.4; stroke-dashoffset: 0; stroke: #ff7f0e; stroke-width: 1.5\"/>\n   </g>\n   <g id=\"line2d_91\">\n    <path d=\"M 49.633125 139.5 \nL 69.163125 139.5 \nL 88.693125 139.5 \nL 108.223125 116.65096 \nL 127.753125 111.298272 \nL 147.283125 107.84638 \nL 166.813125 106.425013 \n\" clip-path=\"url(#p26a535ea5b)\" style=\"fill: none; stroke-dasharray: 9.6,2.4,1.5,2.4; stroke-dashoffset: 0; stroke: #2ca02c; stroke-width: 1.5\"/>\n   </g>\n   <g id=\"line2d_92\">\n    <path d=\"M 34.954394 13.5 \nL 44.698573 13.574294 \nL 54.442752 13.599824 \nL 64.186931 13.670554 \nL 73.93111 13.803945 \nL 83.675289 14.087939 \nL 93.419468 15.634817 \nL 103.163647 35.660707 \nL 112.907826 68.171689 \nL 122.652006 79.635787 \nL 132.396185 85.996831 \nL 142.140364 90.230924 \nL 151.884543 93.568415 \nL 161.628722 95.430634 \nL 171.372901 96.687908 \n\" clip-path=\"url(#p26a535ea5b)\" style=\"fill: none; stroke: #1f77b4; stroke-width: 1.5; stroke-linecap: square\"/>\n   </g>\n   <g id=\"line2d_93\">\n    <path d=\"M 49.633125 13.703268 \nL 69.163125 13.624678 \nL 88.693125 14.334507 \nL 108.223125 58.129871 \nL 127.753125 83.324603 \nL 147.283125 91.854589 \nL 166.813125 95.565446 \n\" clip-path=\"url(#p26a535ea5b)\" style=\"fill: none; stroke-dasharray: 5.55,2.4; stroke-dashoffset: 0; stroke: #ff7f0e; stroke-width: 1.5\"/>\n   </g>\n   <g id=\"line2d_94\">\n    <path d=\"M 49.633125 139.5 \nL 69.163125 139.5 \nL 88.693125 139.5 \nL 108.223125 116.65096 \nL 127.753125 111.298272 \nL 147.283125 107.84638 \nL 166.813125 106.425013 \n\" clip-path=\"url(#p26a535ea5b)\" style=\"fill: none; stroke-dasharray: 9.6,2.4,1.5,2.4; stroke-dashoffset: 0; stroke: #2ca02c; stroke-width: 1.5\"/>\n   </g>\n   <g id=\"line2d_95\">\n    <path d=\"M 34.954394 13.5 \nL 44.698573 13.574294 \nL 54.442752 13.599824 \nL 64.186931 13.670554 \nL 73.93111 13.803945 \nL 83.675289 14.087939 \nL 93.419468 15.634817 \nL 103.163647 35.660707 \nL 112.907826 68.171689 \nL 122.652006 79.635787 \nL 132.396185 85.996831 \nL 142.140364 90.230924 \nL 151.884543 93.568415 \nL 161.628722 95.430634 \nL 171.372901 96.687908 \nL 181.11708 98.834398 \n\" clip-path=\"url(#p26a535ea5b)\" style=\"fill: none; stroke: #1f77b4; stroke-width: 1.5; stroke-linecap: square\"/>\n   </g>\n   <g id=\"line2d_96\">\n    <path d=\"M 49.633125 13.703268 \nL 69.163125 13.624678 \nL 88.693125 14.334507 \nL 108.223125 58.129871 \nL 127.753125 83.324603 \nL 147.283125 91.854589 \nL 166.813125 95.565446 \n\" clip-path=\"url(#p26a535ea5b)\" style=\"fill: none; stroke-dasharray: 5.55,2.4; stroke-dashoffset: 0; stroke: #ff7f0e; stroke-width: 1.5\"/>\n   </g>\n   <g id=\"line2d_97\">\n    <path d=\"M 49.633125 139.5 \nL 69.163125 139.5 \nL 88.693125 139.5 \nL 108.223125 116.65096 \nL 127.753125 111.298272 \nL 147.283125 107.84638 \nL 166.813125 106.425013 \n\" clip-path=\"url(#p26a535ea5b)\" style=\"fill: none; stroke-dasharray: 9.6,2.4,1.5,2.4; stroke-dashoffset: 0; stroke: #2ca02c; stroke-width: 1.5\"/>\n   </g>\n   <g id=\"line2d_98\">\n    <path d=\"M 34.954394 13.5 \nL 44.698573 13.574294 \nL 54.442752 13.599824 \nL 64.186931 13.670554 \nL 73.93111 13.803945 \nL 83.675289 14.087939 \nL 93.419468 15.634817 \nL 103.163647 35.660707 \nL 112.907826 68.171689 \nL 122.652006 79.635787 \nL 132.396185 85.996831 \nL 142.140364 90.230924 \nL 151.884543 93.568415 \nL 161.628722 95.430634 \nL 171.372901 96.687908 \nL 181.11708 98.834398 \n\" clip-path=\"url(#p26a535ea5b)\" style=\"fill: none; stroke: #1f77b4; stroke-width: 1.5; stroke-linecap: square\"/>\n   </g>\n   <g id=\"line2d_99\">\n    <path d=\"M 49.633125 13.703268 \nL 69.163125 13.624678 \nL 88.693125 14.334507 \nL 108.223125 58.129871 \nL 127.753125 83.324603 \nL 147.283125 91.854589 \nL 166.813125 95.565446 \nL 186.343125 98.315212 \n\" clip-path=\"url(#p26a535ea5b)\" style=\"fill: none; stroke-dasharray: 5.55,2.4; stroke-dashoffset: 0; stroke: #ff7f0e; stroke-width: 1.5\"/>\n   </g>\n   <g id=\"line2d_100\">\n    <path d=\"M 49.633125 139.5 \nL 69.163125 139.5 \nL 88.693125 139.5 \nL 108.223125 116.65096 \nL 127.753125 111.298272 \nL 147.283125 107.84638 \nL 166.813125 106.425013 \n\" clip-path=\"url(#p26a535ea5b)\" style=\"fill: none; stroke-dasharray: 9.6,2.4,1.5,2.4; stroke-dashoffset: 0; stroke: #2ca02c; stroke-width: 1.5\"/>\n   </g>\n   <g id=\"line2d_101\">\n    <path d=\"M 34.954394 13.5 \nL 44.698573 13.574294 \nL 54.442752 13.599824 \nL 64.186931 13.670554 \nL 73.93111 13.803945 \nL 83.675289 14.087939 \nL 93.419468 15.634817 \nL 103.163647 35.660707 \nL 112.907826 68.171689 \nL 122.652006 79.635787 \nL 132.396185 85.996831 \nL 142.140364 90.230924 \nL 151.884543 93.568415 \nL 161.628722 95.430634 \nL 171.372901 96.687908 \nL 181.11708 98.834398 \n\" clip-path=\"url(#p26a535ea5b)\" style=\"fill: none; stroke: #1f77b4; stroke-width: 1.5; stroke-linecap: square\"/>\n   </g>\n   <g id=\"line2d_102\">\n    <path d=\"M 49.633125 13.703268 \nL 69.163125 13.624678 \nL 88.693125 14.334507 \nL 108.223125 58.129871 \nL 127.753125 83.324603 \nL 147.283125 91.854589 \nL 166.813125 95.565446 \nL 186.343125 98.315212 \n\" clip-path=\"url(#p26a535ea5b)\" style=\"fill: none; stroke-dasharray: 5.55,2.4; stroke-dashoffset: 0; stroke: #ff7f0e; stroke-width: 1.5\"/>\n   </g>\n   <g id=\"line2d_103\">\n    <path d=\"M 49.633125 139.5 \nL 69.163125 139.5 \nL 88.693125 139.5 \nL 108.223125 116.65096 \nL 127.753125 111.298272 \nL 147.283125 107.84638 \nL 166.813125 106.425013 \nL 186.343125 105.150295 \n\" clip-path=\"url(#p26a535ea5b)\" style=\"fill: none; stroke-dasharray: 9.6,2.4,1.5,2.4; stroke-dashoffset: 0; stroke: #2ca02c; stroke-width: 1.5\"/>\n   </g>\n   <g id=\"line2d_104\">\n    <path d=\"M 34.954394 13.5 \nL 44.698573 13.574294 \nL 54.442752 13.599824 \nL 64.186931 13.670554 \nL 73.93111 13.803945 \nL 83.675289 14.087939 \nL 93.419468 15.634817 \nL 103.163647 35.660707 \nL 112.907826 68.171689 \nL 122.652006 79.635787 \nL 132.396185 85.996831 \nL 142.140364 90.230924 \nL 151.884543 93.568415 \nL 161.628722 95.430634 \nL 171.372901 96.687908 \nL 181.11708 98.834398 \nL 190.861259 99.768121 \n\" clip-path=\"url(#p26a535ea5b)\" style=\"fill: none; stroke: #1f77b4; stroke-width: 1.5; stroke-linecap: square\"/>\n   </g>\n   <g id=\"line2d_105\">\n    <path d=\"M 49.633125 13.703268 \nL 69.163125 13.624678 \nL 88.693125 14.334507 \nL 108.223125 58.129871 \nL 127.753125 83.324603 \nL 147.283125 91.854589 \nL 166.813125 95.565446 \nL 186.343125 98.315212 \n\" clip-path=\"url(#p26a535ea5b)\" style=\"fill: none; stroke-dasharray: 5.55,2.4; stroke-dashoffset: 0; stroke: #ff7f0e; stroke-width: 1.5\"/>\n   </g>\n   <g id=\"line2d_106\">\n    <path d=\"M 49.633125 139.5 \nL 69.163125 139.5 \nL 88.693125 139.5 \nL 108.223125 116.65096 \nL 127.753125 111.298272 \nL 147.283125 107.84638 \nL 166.813125 106.425013 \nL 186.343125 105.150295 \n\" clip-path=\"url(#p26a535ea5b)\" style=\"fill: none; stroke-dasharray: 9.6,2.4,1.5,2.4; stroke-dashoffset: 0; stroke: #2ca02c; stroke-width: 1.5\"/>\n   </g>\n   <g id=\"line2d_107\">\n    <path d=\"M 34.954394 13.5 \nL 44.698573 13.574294 \nL 54.442752 13.599824 \nL 64.186931 13.670554 \nL 73.93111 13.803945 \nL 83.675289 14.087939 \nL 93.419468 15.634817 \nL 103.163647 35.660707 \nL 112.907826 68.171689 \nL 122.652006 79.635787 \nL 132.396185 85.996831 \nL 142.140364 90.230924 \nL 151.884543 93.568415 \nL 161.628722 95.430634 \nL 171.372901 96.687908 \nL 181.11708 98.834398 \nL 190.861259 99.768121 \nL 200.605438 101.023596 \n\" clip-path=\"url(#p26a535ea5b)\" style=\"fill: none; stroke: #1f77b4; stroke-width: 1.5; stroke-linecap: square\"/>\n   </g>\n   <g id=\"line2d_108\">\n    <path d=\"M 49.633125 13.703268 \nL 69.163125 13.624678 \nL 88.693125 14.334507 \nL 108.223125 58.129871 \nL 127.753125 83.324603 \nL 147.283125 91.854589 \nL 166.813125 95.565446 \nL 186.343125 98.315212 \n\" clip-path=\"url(#p26a535ea5b)\" style=\"fill: none; stroke-dasharray: 5.55,2.4; stroke-dashoffset: 0; stroke: #ff7f0e; stroke-width: 1.5\"/>\n   </g>\n   <g id=\"line2d_109\">\n    <path d=\"M 49.633125 139.5 \nL 69.163125 139.5 \nL 88.693125 139.5 \nL 108.223125 116.65096 \nL 127.753125 111.298272 \nL 147.283125 107.84638 \nL 166.813125 106.425013 \nL 186.343125 105.150295 \n\" clip-path=\"url(#p26a535ea5b)\" style=\"fill: none; stroke-dasharray: 9.6,2.4,1.5,2.4; stroke-dashoffset: 0; stroke: #2ca02c; stroke-width: 1.5\"/>\n   </g>\n   <g id=\"line2d_110\">\n    <path d=\"M 34.954394 13.5 \nL 44.698573 13.574294 \nL 54.442752 13.599824 \nL 64.186931 13.670554 \nL 73.93111 13.803945 \nL 83.675289 14.087939 \nL 93.419468 15.634817 \nL 103.163647 35.660707 \nL 112.907826 68.171689 \nL 122.652006 79.635787 \nL 132.396185 85.996831 \nL 142.140364 90.230924 \nL 151.884543 93.568415 \nL 161.628722 95.430634 \nL 171.372901 96.687908 \nL 181.11708 98.834398 \nL 190.861259 99.768121 \nL 200.605438 101.023596 \n\" clip-path=\"url(#p26a535ea5b)\" style=\"fill: none; stroke: #1f77b4; stroke-width: 1.5; stroke-linecap: square\"/>\n   </g>\n   <g id=\"line2d_111\">\n    <path d=\"M 49.633125 13.703268 \nL 69.163125 13.624678 \nL 88.693125 14.334507 \nL 108.223125 58.129871 \nL 127.753125 83.324603 \nL 147.283125 91.854589 \nL 166.813125 95.565446 \nL 186.343125 98.315212 \nL 205.873125 100.648452 \n\" clip-path=\"url(#p26a535ea5b)\" style=\"fill: none; stroke-dasharray: 5.55,2.4; stroke-dashoffset: 0; stroke: #ff7f0e; stroke-width: 1.5\"/>\n   </g>\n   <g id=\"line2d_112\">\n    <path d=\"M 49.633125 139.5 \nL 69.163125 139.5 \nL 88.693125 139.5 \nL 108.223125 116.65096 \nL 127.753125 111.298272 \nL 147.283125 107.84638 \nL 166.813125 106.425013 \nL 186.343125 105.150295 \n\" clip-path=\"url(#p26a535ea5b)\" style=\"fill: none; stroke-dasharray: 9.6,2.4,1.5,2.4; stroke-dashoffset: 0; stroke: #2ca02c; stroke-width: 1.5\"/>\n   </g>\n   <g id=\"line2d_113\">\n    <path d=\"M 34.954394 13.5 \nL 44.698573 13.574294 \nL 54.442752 13.599824 \nL 64.186931 13.670554 \nL 73.93111 13.803945 \nL 83.675289 14.087939 \nL 93.419468 15.634817 \nL 103.163647 35.660707 \nL 112.907826 68.171689 \nL 122.652006 79.635787 \nL 132.396185 85.996831 \nL 142.140364 90.230924 \nL 151.884543 93.568415 \nL 161.628722 95.430634 \nL 171.372901 96.687908 \nL 181.11708 98.834398 \nL 190.861259 99.768121 \nL 200.605438 101.023596 \n\" clip-path=\"url(#p26a535ea5b)\" style=\"fill: none; stroke: #1f77b4; stroke-width: 1.5; stroke-linecap: square\"/>\n   </g>\n   <g id=\"line2d_114\">\n    <path d=\"M 49.633125 13.703268 \nL 69.163125 13.624678 \nL 88.693125 14.334507 \nL 108.223125 58.129871 \nL 127.753125 83.324603 \nL 147.283125 91.854589 \nL 166.813125 95.565446 \nL 186.343125 98.315212 \nL 205.873125 100.648452 \n\" clip-path=\"url(#p26a535ea5b)\" style=\"fill: none; stroke-dasharray: 5.55,2.4; stroke-dashoffset: 0; stroke: #ff7f0e; stroke-width: 1.5\"/>\n   </g>\n   <g id=\"line2d_115\">\n    <path d=\"M 49.633125 139.5 \nL 69.163125 139.5 \nL 88.693125 139.5 \nL 108.223125 116.65096 \nL 127.753125 111.298272 \nL 147.283125 107.84638 \nL 166.813125 106.425013 \nL 186.343125 105.150295 \nL 205.873125 105.206699 \n\" clip-path=\"url(#p26a535ea5b)\" style=\"fill: none; stroke-dasharray: 9.6,2.4,1.5,2.4; stroke-dashoffset: 0; stroke: #2ca02c; stroke-width: 1.5\"/>\n   </g>\n   <g id=\"line2d_116\">\n    <path d=\"M 34.954394 13.5 \nL 44.698573 13.574294 \nL 54.442752 13.599824 \nL 64.186931 13.670554 \nL 73.93111 13.803945 \nL 83.675289 14.087939 \nL 93.419468 15.634817 \nL 103.163647 35.660707 \nL 112.907826 68.171689 \nL 122.652006 79.635787 \nL 132.396185 85.996831 \nL 142.140364 90.230924 \nL 151.884543 93.568415 \nL 161.628722 95.430634 \nL 171.372901 96.687908 \nL 181.11708 98.834398 \nL 190.861259 99.768121 \nL 200.605438 101.023596 \nL 210.349618 102.569521 \n\" clip-path=\"url(#p26a535ea5b)\" style=\"fill: none; stroke: #1f77b4; stroke-width: 1.5; stroke-linecap: square\"/>\n   </g>\n   <g id=\"line2d_117\">\n    <path d=\"M 49.633125 13.703268 \nL 69.163125 13.624678 \nL 88.693125 14.334507 \nL 108.223125 58.129871 \nL 127.753125 83.324603 \nL 147.283125 91.854589 \nL 166.813125 95.565446 \nL 186.343125 98.315212 \nL 205.873125 100.648452 \n\" clip-path=\"url(#p26a535ea5b)\" style=\"fill: none; stroke-dasharray: 5.55,2.4; stroke-dashoffset: 0; stroke: #ff7f0e; stroke-width: 1.5\"/>\n   </g>\n   <g id=\"line2d_118\">\n    <path d=\"M 49.633125 139.5 \nL 69.163125 139.5 \nL 88.693125 139.5 \nL 108.223125 116.65096 \nL 127.753125 111.298272 \nL 147.283125 107.84638 \nL 166.813125 106.425013 \nL 186.343125 105.150295 \nL 205.873125 105.206699 \n\" clip-path=\"url(#p26a535ea5b)\" style=\"fill: none; stroke-dasharray: 9.6,2.4,1.5,2.4; stroke-dashoffset: 0; stroke: #2ca02c; stroke-width: 1.5\"/>\n   </g>\n   <g id=\"line2d_119\">\n    <path d=\"M 34.954394 13.5 \nL 44.698573 13.574294 \nL 54.442752 13.599824 \nL 64.186931 13.670554 \nL 73.93111 13.803945 \nL 83.675289 14.087939 \nL 93.419468 15.634817 \nL 103.163647 35.660707 \nL 112.907826 68.171689 \nL 122.652006 79.635787 \nL 132.396185 85.996831 \nL 142.140364 90.230924 \nL 151.884543 93.568415 \nL 161.628722 95.430634 \nL 171.372901 96.687908 \nL 181.11708 98.834398 \nL 190.861259 99.768121 \nL 200.605438 101.023596 \nL 210.349618 102.569521 \nL 220.093797 103.380894 \n\" clip-path=\"url(#p26a535ea5b)\" style=\"fill: none; stroke: #1f77b4; stroke-width: 1.5; stroke-linecap: square\"/>\n   </g>\n   <g id=\"line2d_120\">\n    <path d=\"M 49.633125 13.703268 \nL 69.163125 13.624678 \nL 88.693125 14.334507 \nL 108.223125 58.129871 \nL 127.753125 83.324603 \nL 147.283125 91.854589 \nL 166.813125 95.565446 \nL 186.343125 98.315212 \nL 205.873125 100.648452 \n\" clip-path=\"url(#p26a535ea5b)\" style=\"fill: none; stroke-dasharray: 5.55,2.4; stroke-dashoffset: 0; stroke: #ff7f0e; stroke-width: 1.5\"/>\n   </g>\n   <g id=\"line2d_121\">\n    <path d=\"M 49.633125 139.5 \nL 69.163125 139.5 \nL 88.693125 139.5 \nL 108.223125 116.65096 \nL 127.753125 111.298272 \nL 147.283125 107.84638 \nL 166.813125 106.425013 \nL 186.343125 105.150295 \nL 205.873125 105.206699 \n\" clip-path=\"url(#p26a535ea5b)\" style=\"fill: none; stroke-dasharray: 9.6,2.4,1.5,2.4; stroke-dashoffset: 0; stroke: #2ca02c; stroke-width: 1.5\"/>\n   </g>\n   <g id=\"line2d_122\">\n    <path d=\"M 34.954394 13.5 \nL 44.698573 13.574294 \nL 54.442752 13.599824 \nL 64.186931 13.670554 \nL 73.93111 13.803945 \nL 83.675289 14.087939 \nL 93.419468 15.634817 \nL 103.163647 35.660707 \nL 112.907826 68.171689 \nL 122.652006 79.635787 \nL 132.396185 85.996831 \nL 142.140364 90.230924 \nL 151.884543 93.568415 \nL 161.628722 95.430634 \nL 171.372901 96.687908 \nL 181.11708 98.834398 \nL 190.861259 99.768121 \nL 200.605438 101.023596 \nL 210.349618 102.569521 \nL 220.093797 103.380894 \n\" clip-path=\"url(#p26a535ea5b)\" style=\"fill: none; stroke: #1f77b4; stroke-width: 1.5; stroke-linecap: square\"/>\n   </g>\n   <g id=\"line2d_123\">\n    <path d=\"M 49.633125 13.703268 \nL 69.163125 13.624678 \nL 88.693125 14.334507 \nL 108.223125 58.129871 \nL 127.753125 83.324603 \nL 147.283125 91.854589 \nL 166.813125 95.565446 \nL 186.343125 98.315212 \nL 205.873125 100.648452 \nL 225.403125 103.538376 \n\" clip-path=\"url(#p26a535ea5b)\" style=\"fill: none; stroke-dasharray: 5.55,2.4; stroke-dashoffset: 0; stroke: #ff7f0e; stroke-width: 1.5\"/>\n   </g>\n   <g id=\"line2d_124\">\n    <path d=\"M 49.633125 139.5 \nL 69.163125 139.5 \nL 88.693125 139.5 \nL 108.223125 116.65096 \nL 127.753125 111.298272 \nL 147.283125 107.84638 \nL 166.813125 106.425013 \nL 186.343125 105.150295 \nL 205.873125 105.206699 \n\" clip-path=\"url(#p26a535ea5b)\" style=\"fill: none; stroke-dasharray: 9.6,2.4,1.5,2.4; stroke-dashoffset: 0; stroke: #2ca02c; stroke-width: 1.5\"/>\n   </g>\n   <g id=\"line2d_125\">\n    <path d=\"M 34.954394 13.5 \nL 44.698573 13.574294 \nL 54.442752 13.599824 \nL 64.186931 13.670554 \nL 73.93111 13.803945 \nL 83.675289 14.087939 \nL 93.419468 15.634817 \nL 103.163647 35.660707 \nL 112.907826 68.171689 \nL 122.652006 79.635787 \nL 132.396185 85.996831 \nL 142.140364 90.230924 \nL 151.884543 93.568415 \nL 161.628722 95.430634 \nL 171.372901 96.687908 \nL 181.11708 98.834398 \nL 190.861259 99.768121 \nL 200.605438 101.023596 \nL 210.349618 102.569521 \nL 220.093797 103.380894 \n\" clip-path=\"url(#p26a535ea5b)\" style=\"fill: none; stroke: #1f77b4; stroke-width: 1.5; stroke-linecap: square\"/>\n   </g>\n   <g id=\"line2d_126\">\n    <path d=\"M 49.633125 13.703268 \nL 69.163125 13.624678 \nL 88.693125 14.334507 \nL 108.223125 58.129871 \nL 127.753125 83.324603 \nL 147.283125 91.854589 \nL 166.813125 95.565446 \nL 186.343125 98.315212 \nL 205.873125 100.648452 \nL 225.403125 103.538376 \n\" clip-path=\"url(#p26a535ea5b)\" style=\"fill: none; stroke-dasharray: 5.55,2.4; stroke-dashoffset: 0; stroke: #ff7f0e; stroke-width: 1.5\"/>\n   </g>\n   <g id=\"line2d_127\">\n    <path d=\"M 49.633125 139.5 \nL 69.163125 139.5 \nL 88.693125 139.5 \nL 108.223125 116.65096 \nL 127.753125 111.298272 \nL 147.283125 107.84638 \nL 166.813125 106.425013 \nL 186.343125 105.150295 \nL 205.873125 105.206699 \nL 225.403125 103.5992 \n\" clip-path=\"url(#p26a535ea5b)\" style=\"fill: none; stroke-dasharray: 9.6,2.4,1.5,2.4; stroke-dashoffset: 0; stroke: #2ca02c; stroke-width: 1.5\"/>\n   </g>\n   <g id=\"patch_3\">\n    <path d=\"M 30.103125 145.8 \nL 30.103125 7.2 \n\" style=\"fill: none; stroke: #000000; stroke-width: 0.8; stroke-linejoin: miter; stroke-linecap: square\"/>\n   </g>\n   <g id=\"patch_4\">\n    <path d=\"M 225.403125 145.8 \nL 225.403125 7.2 \n\" style=\"fill: none; stroke: #000000; stroke-width: 0.8; stroke-linejoin: miter; stroke-linecap: square\"/>\n   </g>\n   <g id=\"patch_5\">\n    <path d=\"M 30.103125 145.8 \nL 225.403125 145.8 \n\" style=\"fill: none; stroke: #000000; stroke-width: 0.8; stroke-linejoin: miter; stroke-linecap: square\"/>\n   </g>\n   <g id=\"patch_6\">\n    <path d=\"M 30.103125 7.2 \nL 225.403125 7.2 \n\" style=\"fill: none; stroke: #000000; stroke-width: 0.8; stroke-linejoin: miter; stroke-linecap: square\"/>\n   </g>\n   <g id=\"legend_1\">\n    <g id=\"patch_7\">\n     <path d=\"M 138.8125 60.06875 \nL 218.403125 60.06875 \nQ 220.403125 60.06875 220.403125 58.06875 \nL 220.403125 14.2 \nQ 220.403125 12.2 218.403125 12.2 \nL 138.8125 12.2 \nQ 136.8125 12.2 136.8125 14.2 \nL 136.8125 58.06875 \nQ 136.8125 60.06875 138.8125 60.06875 \nz\n\" style=\"fill: #ffffff; opacity: 0.8; stroke: #cccccc; stroke-linejoin: miter\"/>\n    </g>\n    <g id=\"line2d_128\">\n     <path d=\"M 140.8125 20.298438 \nL 150.8125 20.298438 \nL 160.8125 20.298438 \n\" style=\"fill: none; stroke: #1f77b4; stroke-width: 1.5; stroke-linecap: square\"/>\n    </g>\n    <g id=\"text_13\">\n     <!-- train_loss -->\n     <g transform=\"translate(168.8125 23.798438) scale(0.1 -0.1)\">\n      <defs>\n       <path id=\"DejaVuSans-74\" d=\"M 1172 4494 \nL 1172 3500 \nL 2356 3500 \nL 2356 3053 \nL 1172 3053 \nL 1172 1153 \nQ 1172 725 1289 603 \nQ 1406 481 1766 481 \nL 2356 481 \nL 2356 0 \nL 1766 0 \nQ 1100 0 847 248 \nQ 594 497 594 1153 \nL 594 3053 \nL 172 3053 \nL 172 3500 \nL 594 3500 \nL 594 4494 \nL 1172 4494 \nz\n\" transform=\"scale(0.015625)\"/>\n       <path id=\"DejaVuSans-72\" d=\"M 2631 2963 \nQ 2534 3019 2420 3045 \nQ 2306 3072 2169 3072 \nQ 1681 3072 1420 2755 \nQ 1159 2438 1159 1844 \nL 1159 0 \nL 581 0 \nL 581 3500 \nL 1159 3500 \nL 1159 2956 \nQ 1341 3275 1631 3429 \nQ 1922 3584 2338 3584 \nQ 2397 3584 2469 3576 \nQ 2541 3569 2628 3553 \nL 2631 2963 \nz\n\" transform=\"scale(0.015625)\"/>\n       <path id=\"DejaVuSans-61\" d=\"M 2194 1759 \nQ 1497 1759 1228 1600 \nQ 959 1441 959 1056 \nQ 959 750 1161 570 \nQ 1363 391 1709 391 \nQ 2188 391 2477 730 \nQ 2766 1069 2766 1631 \nL 2766 1759 \nL 2194 1759 \nz\nM 3341 1997 \nL 3341 0 \nL 2766 0 \nL 2766 531 \nQ 2569 213 2275 61 \nQ 1981 -91 1556 -91 \nQ 1019 -91 701 211 \nQ 384 513 384 1019 \nQ 384 1609 779 1909 \nQ 1175 2209 1959 2209 \nL 2766 2209 \nL 2766 2266 \nQ 2766 2663 2505 2880 \nQ 2244 3097 1772 3097 \nQ 1472 3097 1187 3025 \nQ 903 2953 641 2809 \nL 641 3341 \nQ 956 3463 1253 3523 \nQ 1550 3584 1831 3584 \nQ 2591 3584 2966 3190 \nQ 3341 2797 3341 1997 \nz\n\" transform=\"scale(0.015625)\"/>\n       <path id=\"DejaVuSans-69\" d=\"M 603 3500 \nL 1178 3500 \nL 1178 0 \nL 603 0 \nL 603 3500 \nz\nM 603 4863 \nL 1178 4863 \nL 1178 4134 \nL 603 4134 \nL 603 4863 \nz\n\" transform=\"scale(0.015625)\"/>\n       <path id=\"DejaVuSans-6e\" d=\"M 3513 2113 \nL 3513 0 \nL 2938 0 \nL 2938 2094 \nQ 2938 2591 2744 2837 \nQ 2550 3084 2163 3084 \nQ 1697 3084 1428 2787 \nQ 1159 2491 1159 1978 \nL 1159 0 \nL 581 0 \nL 581 3500 \nL 1159 3500 \nL 1159 2956 \nQ 1366 3272 1645 3428 \nQ 1925 3584 2291 3584 \nQ 2894 3584 3203 3211 \nQ 3513 2838 3513 2113 \nz\n\" transform=\"scale(0.015625)\"/>\n       <path id=\"DejaVuSans-5f\" d=\"M 3263 -1063 \nL 3263 -1509 \nL -63 -1509 \nL -63 -1063 \nL 3263 -1063 \nz\n\" transform=\"scale(0.015625)\"/>\n       <path id=\"DejaVuSans-6c\" d=\"M 603 4863 \nL 1178 4863 \nL 1178 0 \nL 603 0 \nL 603 4863 \nz\n\" transform=\"scale(0.015625)\"/>\n       <path id=\"DejaVuSans-73\" d=\"M 2834 3397 \nL 2834 2853 \nQ 2591 2978 2328 3040 \nQ 2066 3103 1784 3103 \nQ 1356 3103 1142 2972 \nQ 928 2841 928 2578 \nQ 928 2378 1081 2264 \nQ 1234 2150 1697 2047 \nL 1894 2003 \nQ 2506 1872 2764 1633 \nQ 3022 1394 3022 966 \nQ 3022 478 2636 193 \nQ 2250 -91 1575 -91 \nQ 1294 -91 989 -36 \nQ 684 19 347 128 \nL 347 722 \nQ 666 556 975 473 \nQ 1284 391 1588 391 \nQ 1994 391 2212 530 \nQ 2431 669 2431 922 \nQ 2431 1156 2273 1281 \nQ 2116 1406 1581 1522 \nL 1381 1569 \nQ 847 1681 609 1914 \nQ 372 2147 372 2553 \nQ 372 3047 722 3315 \nQ 1072 3584 1716 3584 \nQ 2034 3584 2315 3537 \nQ 2597 3491 2834 3397 \nz\n\" transform=\"scale(0.015625)\"/>\n      </defs>\n      <use xlink:href=\"#DejaVuSans-74\"/>\n      <use xlink:href=\"#DejaVuSans-72\" x=\"39.208984\"/>\n      <use xlink:href=\"#DejaVuSans-61\" x=\"80.322266\"/>\n      <use xlink:href=\"#DejaVuSans-69\" x=\"141.601562\"/>\n      <use xlink:href=\"#DejaVuSans-6e\" x=\"169.384766\"/>\n      <use xlink:href=\"#DejaVuSans-5f\" x=\"232.763672\"/>\n      <use xlink:href=\"#DejaVuSans-6c\" x=\"282.763672\"/>\n      <use xlink:href=\"#DejaVuSans-6f\" x=\"310.546875\"/>\n      <use xlink:href=\"#DejaVuSans-73\" x=\"371.728516\"/>\n      <use xlink:href=\"#DejaVuSans-73\" x=\"423.828125\"/>\n     </g>\n    </g>\n    <g id=\"line2d_129\">\n     <path d=\"M 140.8125 35.254688 \nL 150.8125 35.254688 \nL 160.8125 35.254688 \n\" style=\"fill: none; stroke-dasharray: 5.55,2.4; stroke-dashoffset: 0; stroke: #ff7f0e; stroke-width: 1.5\"/>\n    </g>\n    <g id=\"text_14\">\n     <!-- val_loss -->\n     <g transform=\"translate(168.8125 38.754688) scale(0.1 -0.1)\">\n      <defs>\n       <path id=\"DejaVuSans-76\" d=\"M 191 3500 \nL 800 3500 \nL 1894 563 \nL 2988 3500 \nL 3597 3500 \nL 2284 0 \nL 1503 0 \nL 191 3500 \nz\n\" transform=\"scale(0.015625)\"/>\n      </defs>\n      <use xlink:href=\"#DejaVuSans-76\"/>\n      <use xlink:href=\"#DejaVuSans-61\" x=\"59.179688\"/>\n      <use xlink:href=\"#DejaVuSans-6c\" x=\"120.458984\"/>\n      <use xlink:href=\"#DejaVuSans-5f\" x=\"148.242188\"/>\n      <use xlink:href=\"#DejaVuSans-6c\" x=\"198.242188\"/>\n      <use xlink:href=\"#DejaVuSans-6f\" x=\"226.025391\"/>\n      <use xlink:href=\"#DejaVuSans-73\" x=\"287.207031\"/>\n      <use xlink:href=\"#DejaVuSans-73\" x=\"339.306641\"/>\n     </g>\n    </g>\n    <g id=\"line2d_130\">\n     <path d=\"M 140.8125 50.210938 \nL 150.8125 50.210938 \nL 160.8125 50.210938 \n\" style=\"fill: none; stroke-dasharray: 9.6,2.4,1.5,2.4; stroke-dashoffset: 0; stroke: #2ca02c; stroke-width: 1.5\"/>\n    </g>\n    <g id=\"text_15\">\n     <!-- val_acc -->\n     <g transform=\"translate(168.8125 53.710938) scale(0.1 -0.1)\">\n      <use xlink:href=\"#DejaVuSans-76\"/>\n      <use xlink:href=\"#DejaVuSans-61\" x=\"59.179688\"/>\n      <use xlink:href=\"#DejaVuSans-6c\" x=\"120.458984\"/>\n      <use xlink:href=\"#DejaVuSans-5f\" x=\"148.242188\"/>\n      <use xlink:href=\"#DejaVuSans-61\" x=\"198.242188\"/>\n      <use xlink:href=\"#DejaVuSans-63\" x=\"259.521484\"/>\n      <use xlink:href=\"#DejaVuSans-63\" x=\"314.501953\"/>\n     </g>\n    </g>\n   </g>\n  </g>\n </g>\n <defs>\n  <clipPath id=\"p26a535ea5b\">\n   <rect x=\"30.103125\" y=\"7.2\" width=\"195.3\" height=\"138.6\"/>\n  </clipPath>\n </defs>\n</svg>\n"
          },
          "metadata": {}
        }
      ]
    },
    {
      "cell_type": "markdown",
      "source": [
        "### 7.6.3. Exercises & Discussion"
      ],
      "metadata": {
        "id": "nhMAMYeTO3J-"
      }
    },
    {
      "cell_type": "code",
      "source": [
        "trainer = d2l.Trainer(max_epochs=10, num_gpus=1)\n",
        "data = d2l.FashionMNIST(batch_size=128)\n",
        "model = LeNet(lr=0.3)\n",
        "model.apply_init([next(iter(data.get_dataloader(True)))[0]], init_cnn)\n",
        "trainer.fit(model, data)"
      ],
      "metadata": {
        "colab": {
          "base_uri": "https://localhost:8080/",
          "height": 265
        },
        "id": "Sbb4DnLIVT40",
        "outputId": "ecf8b55d-456e-4119-aec6-674086b1707d"
      },
      "execution_count": null,
      "outputs": [
        {
          "output_type": "display_data",
          "data": {
            "text/plain": [
              "<Figure size 350x250 with 1 Axes>"
            ],
            "image/svg+xml": "<?xml version=\"1.0\" encoding=\"utf-8\" standalone=\"no\"?>\n<!DOCTYPE svg PUBLIC \"-//W3C//DTD SVG 1.1//EN\"\n  \"http://www.w3.org/Graphics/SVG/1.1/DTD/svg11.dtd\">\n<svg xmlns:xlink=\"http://www.w3.org/1999/xlink\" width=\"238.965625pt\" height=\"183.35625pt\" viewBox=\"0 0 238.965625 183.35625\" xmlns=\"http://www.w3.org/2000/svg\" version=\"1.1\">\n <metadata>\n  <rdf:RDF xmlns:dc=\"http://purl.org/dc/elements/1.1/\" xmlns:cc=\"http://creativecommons.org/ns#\" xmlns:rdf=\"http://www.w3.org/1999/02/22-rdf-syntax-ns#\">\n   <cc:Work>\n    <dc:type rdf:resource=\"http://purl.org/dc/dcmitype/StillImage\"/>\n    <dc:date>2024-10-10T07:34:13.352812</dc:date>\n    <dc:format>image/svg+xml</dc:format>\n    <dc:creator>\n     <cc:Agent>\n      <dc:title>Matplotlib v3.7.2, https://matplotlib.org/</dc:title>\n     </cc:Agent>\n    </dc:creator>\n   </cc:Work>\n  </rdf:RDF>\n </metadata>\n <defs>\n  <style type=\"text/css\">*{stroke-linejoin: round; stroke-linecap: butt}</style>\n </defs>\n <g id=\"figure_1\">\n  <g id=\"patch_1\">\n   <path d=\"M 0 183.35625 \nL 238.965625 183.35625 \nL 238.965625 0 \nL 0 0 \nz\n\" style=\"fill: #ffffff\"/>\n  </g>\n  <g id=\"axes_1\">\n   <g id=\"patch_2\">\n    <path d=\"M 30.103125 145.8 \nL 225.403125 145.8 \nL 225.403125 7.2 \nL 30.103125 7.2 \nz\n\" style=\"fill: #ffffff\"/>\n   </g>\n   <g id=\"matplotlib.axis_1\">\n    <g id=\"xtick_1\">\n     <g id=\"line2d_1\">\n      <defs>\n       <path id=\"mb1c9ced826\" d=\"M 0 0 \nL 0 3.5 \n\" style=\"stroke: #000000; stroke-width: 0.8\"/>\n      </defs>\n      <g>\n       <use xlink:href=\"#mb1c9ced826\" x=\"30.103125\" y=\"145.8\" style=\"stroke: #000000; stroke-width: 0.8\"/>\n      </g>\n     </g>\n     <g id=\"text_1\">\n      <!-- 0 -->\n      <g transform=\"translate(26.921875 160.398438) scale(0.1 -0.1)\">\n       <defs>\n        <path id=\"DejaVuSans-30\" d=\"M 2034 4250 \nQ 1547 4250 1301 3770 \nQ 1056 3291 1056 2328 \nQ 1056 1369 1301 889 \nQ 1547 409 2034 409 \nQ 2525 409 2770 889 \nQ 3016 1369 3016 2328 \nQ 3016 3291 2770 3770 \nQ 2525 4250 2034 4250 \nz\nM 2034 4750 \nQ 2819 4750 3233 4129 \nQ 3647 3509 3647 2328 \nQ 3647 1150 3233 529 \nQ 2819 -91 2034 -91 \nQ 1250 -91 836 529 \nQ 422 1150 422 2328 \nQ 422 3509 836 4129 \nQ 1250 4750 2034 4750 \nz\n\" transform=\"scale(0.015625)\"/>\n       </defs>\n       <use xlink:href=\"#DejaVuSans-30\"/>\n      </g>\n     </g>\n    </g>\n    <g id=\"xtick_2\">\n     <g id=\"line2d_2\">\n      <g>\n       <use xlink:href=\"#mb1c9ced826\" x=\"69.163125\" y=\"145.8\" style=\"stroke: #000000; stroke-width: 0.8\"/>\n      </g>\n     </g>\n     <g id=\"text_2\">\n      <!-- 2 -->\n      <g transform=\"translate(65.981875 160.398438) scale(0.1 -0.1)\">\n       <defs>\n        <path id=\"DejaVuSans-32\" d=\"M 1228 531 \nL 3431 531 \nL 3431 0 \nL 469 0 \nL 469 531 \nQ 828 903 1448 1529 \nQ 2069 2156 2228 2338 \nQ 2531 2678 2651 2914 \nQ 2772 3150 2772 3378 \nQ 2772 3750 2511 3984 \nQ 2250 4219 1831 4219 \nQ 1534 4219 1204 4116 \nQ 875 4013 500 3803 \nL 500 4441 \nQ 881 4594 1212 4672 \nQ 1544 4750 1819 4750 \nQ 2544 4750 2975 4387 \nQ 3406 4025 3406 3419 \nQ 3406 3131 3298 2873 \nQ 3191 2616 2906 2266 \nQ 2828 2175 2409 1742 \nQ 1991 1309 1228 531 \nz\n\" transform=\"scale(0.015625)\"/>\n       </defs>\n       <use xlink:href=\"#DejaVuSans-32\"/>\n      </g>\n     </g>\n    </g>\n    <g id=\"xtick_3\">\n     <g id=\"line2d_3\">\n      <g>\n       <use xlink:href=\"#mb1c9ced826\" x=\"108.223125\" y=\"145.8\" style=\"stroke: #000000; stroke-width: 0.8\"/>\n      </g>\n     </g>\n     <g id=\"text_3\">\n      <!-- 4 -->\n      <g transform=\"translate(105.041875 160.398438) scale(0.1 -0.1)\">\n       <defs>\n        <path id=\"DejaVuSans-34\" d=\"M 2419 4116 \nL 825 1625 \nL 2419 1625 \nL 2419 4116 \nz\nM 2253 4666 \nL 3047 4666 \nL 3047 1625 \nL 3713 1625 \nL 3713 1100 \nL 3047 1100 \nL 3047 0 \nL 2419 0 \nL 2419 1100 \nL 313 1100 \nL 313 1709 \nL 2253 4666 \nz\n\" transform=\"scale(0.015625)\"/>\n       </defs>\n       <use xlink:href=\"#DejaVuSans-34\"/>\n      </g>\n     </g>\n    </g>\n    <g id=\"xtick_4\">\n     <g id=\"line2d_4\">\n      <g>\n       <use xlink:href=\"#mb1c9ced826\" x=\"147.283125\" y=\"145.8\" style=\"stroke: #000000; stroke-width: 0.8\"/>\n      </g>\n     </g>\n     <g id=\"text_4\">\n      <!-- 6 -->\n      <g transform=\"translate(144.101875 160.398438) scale(0.1 -0.1)\">\n       <defs>\n        <path id=\"DejaVuSans-36\" d=\"M 2113 2584 \nQ 1688 2584 1439 2293 \nQ 1191 2003 1191 1497 \nQ 1191 994 1439 701 \nQ 1688 409 2113 409 \nQ 2538 409 2786 701 \nQ 3034 994 3034 1497 \nQ 3034 2003 2786 2293 \nQ 2538 2584 2113 2584 \nz\nM 3366 4563 \nL 3366 3988 \nQ 3128 4100 2886 4159 \nQ 2644 4219 2406 4219 \nQ 1781 4219 1451 3797 \nQ 1122 3375 1075 2522 \nQ 1259 2794 1537 2939 \nQ 1816 3084 2150 3084 \nQ 2853 3084 3261 2657 \nQ 3669 2231 3669 1497 \nQ 3669 778 3244 343 \nQ 2819 -91 2113 -91 \nQ 1303 -91 875 529 \nQ 447 1150 447 2328 \nQ 447 3434 972 4092 \nQ 1497 4750 2381 4750 \nQ 2619 4750 2861 4703 \nQ 3103 4656 3366 4563 \nz\n\" transform=\"scale(0.015625)\"/>\n       </defs>\n       <use xlink:href=\"#DejaVuSans-36\"/>\n      </g>\n     </g>\n    </g>\n    <g id=\"xtick_5\">\n     <g id=\"line2d_5\">\n      <g>\n       <use xlink:href=\"#mb1c9ced826\" x=\"186.343125\" y=\"145.8\" style=\"stroke: #000000; stroke-width: 0.8\"/>\n      </g>\n     </g>\n     <g id=\"text_5\">\n      <!-- 8 -->\n      <g transform=\"translate(183.161875 160.398438) scale(0.1 -0.1)\">\n       <defs>\n        <path id=\"DejaVuSans-38\" d=\"M 2034 2216 \nQ 1584 2216 1326 1975 \nQ 1069 1734 1069 1313 \nQ 1069 891 1326 650 \nQ 1584 409 2034 409 \nQ 2484 409 2743 651 \nQ 3003 894 3003 1313 \nQ 3003 1734 2745 1975 \nQ 2488 2216 2034 2216 \nz\nM 1403 2484 \nQ 997 2584 770 2862 \nQ 544 3141 544 3541 \nQ 544 4100 942 4425 \nQ 1341 4750 2034 4750 \nQ 2731 4750 3128 4425 \nQ 3525 4100 3525 3541 \nQ 3525 3141 3298 2862 \nQ 3072 2584 2669 2484 \nQ 3125 2378 3379 2068 \nQ 3634 1759 3634 1313 \nQ 3634 634 3220 271 \nQ 2806 -91 2034 -91 \nQ 1263 -91 848 271 \nQ 434 634 434 1313 \nQ 434 1759 690 2068 \nQ 947 2378 1403 2484 \nz\nM 1172 3481 \nQ 1172 3119 1398 2916 \nQ 1625 2713 2034 2713 \nQ 2441 2713 2670 2916 \nQ 2900 3119 2900 3481 \nQ 2900 3844 2670 4047 \nQ 2441 4250 2034 4250 \nQ 1625 4250 1398 4047 \nQ 1172 3844 1172 3481 \nz\n\" transform=\"scale(0.015625)\"/>\n       </defs>\n       <use xlink:href=\"#DejaVuSans-38\"/>\n      </g>\n     </g>\n    </g>\n    <g id=\"xtick_6\">\n     <g id=\"line2d_6\">\n      <g>\n       <use xlink:href=\"#mb1c9ced826\" x=\"225.403125\" y=\"145.8\" style=\"stroke: #000000; stroke-width: 0.8\"/>\n      </g>\n     </g>\n     <g id=\"text_6\">\n      <!-- 10 -->\n      <g transform=\"translate(219.040625 160.398438) scale(0.1 -0.1)\">\n       <defs>\n        <path id=\"DejaVuSans-31\" d=\"M 794 531 \nL 1825 531 \nL 1825 4091 \nL 703 3866 \nL 703 4441 \nL 1819 4666 \nL 2450 4666 \nL 2450 531 \nL 3481 531 \nL 3481 0 \nL 794 0 \nL 794 531 \nz\n\" transform=\"scale(0.015625)\"/>\n       </defs>\n       <use xlink:href=\"#DejaVuSans-31\"/>\n       <use xlink:href=\"#DejaVuSans-30\" x=\"63.623047\"/>\n      </g>\n     </g>\n    </g>\n    <g id=\"text_7\">\n     <!-- epoch -->\n     <g transform=\"translate(112.525 174.076563) scale(0.1 -0.1)\">\n      <defs>\n       <path id=\"DejaVuSans-65\" d=\"M 3597 1894 \nL 3597 1613 \nL 953 1613 \nQ 991 1019 1311 708 \nQ 1631 397 2203 397 \nQ 2534 397 2845 478 \nQ 3156 559 3463 722 \nL 3463 178 \nQ 3153 47 2828 -22 \nQ 2503 -91 2169 -91 \nQ 1331 -91 842 396 \nQ 353 884 353 1716 \nQ 353 2575 817 3079 \nQ 1281 3584 2069 3584 \nQ 2775 3584 3186 3129 \nQ 3597 2675 3597 1894 \nz\nM 3022 2063 \nQ 3016 2534 2758 2815 \nQ 2500 3097 2075 3097 \nQ 1594 3097 1305 2825 \nQ 1016 2553 972 2059 \nL 3022 2063 \nz\n\" transform=\"scale(0.015625)\"/>\n       <path id=\"DejaVuSans-70\" d=\"M 1159 525 \nL 1159 -1331 \nL 581 -1331 \nL 581 3500 \nL 1159 3500 \nL 1159 2969 \nQ 1341 3281 1617 3432 \nQ 1894 3584 2278 3584 \nQ 2916 3584 3314 3078 \nQ 3713 2572 3713 1747 \nQ 3713 922 3314 415 \nQ 2916 -91 2278 -91 \nQ 1894 -91 1617 61 \nQ 1341 213 1159 525 \nz\nM 3116 1747 \nQ 3116 2381 2855 2742 \nQ 2594 3103 2138 3103 \nQ 1681 3103 1420 2742 \nQ 1159 2381 1159 1747 \nQ 1159 1113 1420 752 \nQ 1681 391 2138 391 \nQ 2594 391 2855 752 \nQ 3116 1113 3116 1747 \nz\n\" transform=\"scale(0.015625)\"/>\n       <path id=\"DejaVuSans-6f\" d=\"M 1959 3097 \nQ 1497 3097 1228 2736 \nQ 959 2375 959 1747 \nQ 959 1119 1226 758 \nQ 1494 397 1959 397 \nQ 2419 397 2687 759 \nQ 2956 1122 2956 1747 \nQ 2956 2369 2687 2733 \nQ 2419 3097 1959 3097 \nz\nM 1959 3584 \nQ 2709 3584 3137 3096 \nQ 3566 2609 3566 1747 \nQ 3566 888 3137 398 \nQ 2709 -91 1959 -91 \nQ 1206 -91 779 398 \nQ 353 888 353 1747 \nQ 353 2609 779 3096 \nQ 1206 3584 1959 3584 \nz\n\" transform=\"scale(0.015625)\"/>\n       <path id=\"DejaVuSans-63\" d=\"M 3122 3366 \nL 3122 2828 \nQ 2878 2963 2633 3030 \nQ 2388 3097 2138 3097 \nQ 1578 3097 1268 2742 \nQ 959 2388 959 1747 \nQ 959 1106 1268 751 \nQ 1578 397 2138 397 \nQ 2388 397 2633 464 \nQ 2878 531 3122 666 \nL 3122 134 \nQ 2881 22 2623 -34 \nQ 2366 -91 2075 -91 \nQ 1284 -91 818 406 \nQ 353 903 353 1747 \nQ 353 2603 823 3093 \nQ 1294 3584 2113 3584 \nQ 2378 3584 2631 3529 \nQ 2884 3475 3122 3366 \nz\n\" transform=\"scale(0.015625)\"/>\n       <path id=\"DejaVuSans-68\" d=\"M 3513 2113 \nL 3513 0 \nL 2938 0 \nL 2938 2094 \nQ 2938 2591 2744 2837 \nQ 2550 3084 2163 3084 \nQ 1697 3084 1428 2787 \nQ 1159 2491 1159 1978 \nL 1159 0 \nL 581 0 \nL 581 4863 \nL 1159 4863 \nL 1159 2956 \nQ 1366 3272 1645 3428 \nQ 1925 3584 2291 3584 \nQ 2894 3584 3203 3211 \nQ 3513 2838 3513 2113 \nz\n\" transform=\"scale(0.015625)\"/>\n      </defs>\n      <use xlink:href=\"#DejaVuSans-65\"/>\n      <use xlink:href=\"#DejaVuSans-70\" x=\"61.523438\"/>\n      <use xlink:href=\"#DejaVuSans-6f\" x=\"125\"/>\n      <use xlink:href=\"#DejaVuSans-63\" x=\"186.181641\"/>\n      <use xlink:href=\"#DejaVuSans-68\" x=\"241.162109\"/>\n     </g>\n    </g>\n   </g>\n   <g id=\"matplotlib.axis_2\">\n    <g id=\"ytick_1\">\n     <g id=\"line2d_7\">\n      <defs>\n       <path id=\"m6d878334e4\" d=\"M 0 0 \nL -3.5 0 \n\" style=\"stroke: #000000; stroke-width: 0.8\"/>\n      </defs>\n      <g>\n       <use xlink:href=\"#m6d878334e4\" x=\"30.103125\" y=\"127.652176\" style=\"stroke: #000000; stroke-width: 0.8\"/>\n      </g>\n     </g>\n     <g id=\"text_8\">\n      <!-- 0.5 -->\n      <g transform=\"translate(7.2 131.451395) scale(0.1 -0.1)\">\n       <defs>\n        <path id=\"DejaVuSans-2e\" d=\"M 684 794 \nL 1344 794 \nL 1344 0 \nL 684 0 \nL 684 794 \nz\n\" transform=\"scale(0.015625)\"/>\n        <path id=\"DejaVuSans-35\" d=\"M 691 4666 \nL 3169 4666 \nL 3169 4134 \nL 1269 4134 \nL 1269 2991 \nQ 1406 3038 1543 3061 \nQ 1681 3084 1819 3084 \nQ 2600 3084 3056 2656 \nQ 3513 2228 3513 1497 \nQ 3513 744 3044 326 \nQ 2575 -91 1722 -91 \nQ 1428 -91 1123 -41 \nQ 819 9 494 109 \nL 494 744 \nQ 775 591 1075 516 \nQ 1375 441 1709 441 \nQ 2250 441 2565 725 \nQ 2881 1009 2881 1497 \nQ 2881 1984 2565 2268 \nQ 2250 2553 1709 2553 \nQ 1456 2553 1204 2497 \nQ 953 2441 691 2322 \nL 691 4666 \nz\n\" transform=\"scale(0.015625)\"/>\n       </defs>\n       <use xlink:href=\"#DejaVuSans-30\"/>\n       <use xlink:href=\"#DejaVuSans-2e\" x=\"63.623047\"/>\n       <use xlink:href=\"#DejaVuSans-35\" x=\"95.410156\"/>\n      </g>\n     </g>\n    </g>\n    <g id=\"ytick_2\">\n     <g id=\"line2d_8\">\n      <g>\n       <use xlink:href=\"#m6d878334e4\" x=\"30.103125\" y=\"96.338743\" style=\"stroke: #000000; stroke-width: 0.8\"/>\n      </g>\n     </g>\n     <g id=\"text_9\">\n      <!-- 1.0 -->\n      <g transform=\"translate(7.2 100.137962) scale(0.1 -0.1)\">\n       <use xlink:href=\"#DejaVuSans-31\"/>\n       <use xlink:href=\"#DejaVuSans-2e\" x=\"63.623047\"/>\n       <use xlink:href=\"#DejaVuSans-30\" x=\"95.410156\"/>\n      </g>\n     </g>\n    </g>\n    <g id=\"ytick_3\">\n     <g id=\"line2d_9\">\n      <g>\n       <use xlink:href=\"#m6d878334e4\" x=\"30.103125\" y=\"65.02531\" style=\"stroke: #000000; stroke-width: 0.8\"/>\n      </g>\n     </g>\n     <g id=\"text_10\">\n      <!-- 1.5 -->\n      <g transform=\"translate(7.2 68.824529) scale(0.1 -0.1)\">\n       <use xlink:href=\"#DejaVuSans-31\"/>\n       <use xlink:href=\"#DejaVuSans-2e\" x=\"63.623047\"/>\n       <use xlink:href=\"#DejaVuSans-35\" x=\"95.410156\"/>\n      </g>\n     </g>\n    </g>\n    <g id=\"ytick_4\">\n     <g id=\"line2d_10\">\n      <g>\n       <use xlink:href=\"#m6d878334e4\" x=\"30.103125\" y=\"33.711877\" style=\"stroke: #000000; stroke-width: 0.8\"/>\n      </g>\n     </g>\n     <g id=\"text_11\">\n      <!-- 2.0 -->\n      <g transform=\"translate(7.2 37.511096) scale(0.1 -0.1)\">\n       <use xlink:href=\"#DejaVuSans-32\"/>\n       <use xlink:href=\"#DejaVuSans-2e\" x=\"63.623047\"/>\n       <use xlink:href=\"#DejaVuSans-30\" x=\"95.410156\"/>\n      </g>\n     </g>\n    </g>\n   </g>\n   <g id=\"line2d_11\">\n    <path d=\"M 34.954394 13.5 \n\" clip-path=\"url(#pf29bb0ee7a)\" style=\"fill: none; stroke: #1f77b4; stroke-width: 1.5; stroke-linecap: square\"/>\n   </g>\n   <g id=\"line2d_12\">\n    <path d=\"M 34.954394 13.5 \nL 44.698573 16.81226 \n\" clip-path=\"url(#pf29bb0ee7a)\" style=\"fill: none; stroke: #1f77b4; stroke-width: 1.5; stroke-linecap: square\"/>\n   </g>\n   <g id=\"line2d_13\">\n    <path d=\"M 34.954394 13.5 \nL 44.698573 16.81226 \n\" clip-path=\"url(#pf29bb0ee7a)\" style=\"fill: none; stroke: #1f77b4; stroke-width: 1.5; stroke-linecap: square\"/>\n   </g>\n   <g id=\"line2d_14\">\n    <path d=\"M 49.633125 33.741701 \n\" clip-path=\"url(#pf29bb0ee7a)\" style=\"fill: none; stroke-dasharray: 5.55,2.4; stroke-dashoffset: 0; stroke: #ff7f0e; stroke-width: 1.5\"/>\n   </g>\n   <g id=\"line2d_15\"/>\n   <g id=\"line2d_16\">\n    <path d=\"M 34.954394 13.5 \nL 44.698573 16.81226 \n\" clip-path=\"url(#pf29bb0ee7a)\" style=\"fill: none; stroke: #1f77b4; stroke-width: 1.5; stroke-linecap: square\"/>\n   </g>\n   <g id=\"line2d_17\">\n    <path d=\"M 49.633125 33.741701 \n\" clip-path=\"url(#pf29bb0ee7a)\" style=\"fill: none; stroke-dasharray: 5.55,2.4; stroke-dashoffset: 0; stroke: #ff7f0e; stroke-width: 1.5\"/>\n   </g>\n   <g id=\"line2d_18\">\n    <path d=\"M 49.633125 139.5 \n\" clip-path=\"url(#pf29bb0ee7a)\" style=\"fill: none; stroke-dasharray: 9.6,2.4,1.5,2.4; stroke-dashoffset: 0; stroke: #2ca02c; stroke-width: 1.5\"/>\n   </g>\n   <g id=\"line2d_19\">\n    <path d=\"M 34.954394 13.5 \nL 44.698573 16.81226 \nL 54.442752 72.861386 \n\" clip-path=\"url(#pf29bb0ee7a)\" style=\"fill: none; stroke: #1f77b4; stroke-width: 1.5; stroke-linecap: square\"/>\n   </g>\n   <g id=\"line2d_20\">\n    <path d=\"M 49.633125 33.741701 \n\" clip-path=\"url(#pf29bb0ee7a)\" style=\"fill: none; stroke-dasharray: 5.55,2.4; stroke-dashoffset: 0; stroke: #ff7f0e; stroke-width: 1.5\"/>\n   </g>\n   <g id=\"line2d_21\">\n    <path d=\"M 49.633125 139.5 \n\" clip-path=\"url(#pf29bb0ee7a)\" style=\"fill: none; stroke-dasharray: 9.6,2.4,1.5,2.4; stroke-dashoffset: 0; stroke: #2ca02c; stroke-width: 1.5\"/>\n   </g>\n   <g id=\"line2d_22\">\n    <path d=\"M 34.954394 13.5 \nL 44.698573 16.81226 \nL 54.442752 72.861386 \nL 64.186931 96.106664 \n\" clip-path=\"url(#pf29bb0ee7a)\" style=\"fill: none; stroke: #1f77b4; stroke-width: 1.5; stroke-linecap: square\"/>\n   </g>\n   <g id=\"line2d_23\">\n    <path d=\"M 49.633125 33.741701 \n\" clip-path=\"url(#pf29bb0ee7a)\" style=\"fill: none; stroke-dasharray: 5.55,2.4; stroke-dashoffset: 0; stroke: #ff7f0e; stroke-width: 1.5\"/>\n   </g>\n   <g id=\"line2d_24\">\n    <path d=\"M 49.633125 139.5 \n\" clip-path=\"url(#pf29bb0ee7a)\" style=\"fill: none; stroke-dasharray: 9.6,2.4,1.5,2.4; stroke-dashoffset: 0; stroke: #2ca02c; stroke-width: 1.5\"/>\n   </g>\n   <g id=\"line2d_25\">\n    <path d=\"M 34.954394 13.5 \nL 44.698573 16.81226 \nL 54.442752 72.861386 \nL 64.186931 96.106664 \n\" clip-path=\"url(#pf29bb0ee7a)\" style=\"fill: none; stroke: #1f77b4; stroke-width: 1.5; stroke-linecap: square\"/>\n   </g>\n   <g id=\"line2d_26\">\n    <path d=\"M 49.633125 33.741701 \nL 69.163125 101.754494 \n\" clip-path=\"url(#pf29bb0ee7a)\" style=\"fill: none; stroke-dasharray: 5.55,2.4; stroke-dashoffset: 0; stroke: #ff7f0e; stroke-width: 1.5\"/>\n   </g>\n   <g id=\"line2d_27\">\n    <path d=\"M 49.633125 139.5 \n\" clip-path=\"url(#pf29bb0ee7a)\" style=\"fill: none; stroke-dasharray: 9.6,2.4,1.5,2.4; stroke-dashoffset: 0; stroke: #2ca02c; stroke-width: 1.5\"/>\n   </g>\n   <g id=\"line2d_28\">\n    <path d=\"M 34.954394 13.5 \nL 44.698573 16.81226 \nL 54.442752 72.861386 \nL 64.186931 96.106664 \n\" clip-path=\"url(#pf29bb0ee7a)\" style=\"fill: none; stroke: #1f77b4; stroke-width: 1.5; stroke-linecap: square\"/>\n   </g>\n   <g id=\"line2d_29\">\n    <path d=\"M 49.633125 33.741701 \nL 69.163125 101.754494 \n\" clip-path=\"url(#pf29bb0ee7a)\" style=\"fill: none; stroke-dasharray: 5.55,2.4; stroke-dashoffset: 0; stroke: #ff7f0e; stroke-width: 1.5\"/>\n   </g>\n   <g id=\"line2d_30\">\n    <path d=\"M 49.633125 139.5 \nL 69.163125 117.792408 \n\" clip-path=\"url(#pf29bb0ee7a)\" style=\"fill: none; stroke-dasharray: 9.6,2.4,1.5,2.4; stroke-dashoffset: 0; stroke: #2ca02c; stroke-width: 1.5\"/>\n   </g>\n   <g id=\"line2d_31\">\n    <path d=\"M 34.954394 13.5 \nL 44.698573 16.81226 \nL 54.442752 72.861386 \nL 64.186931 96.106664 \nL 73.93111 104.381492 \n\" clip-path=\"url(#pf29bb0ee7a)\" style=\"fill: none; stroke: #1f77b4; stroke-width: 1.5; stroke-linecap: square\"/>\n   </g>\n   <g id=\"line2d_32\">\n    <path d=\"M 49.633125 33.741701 \nL 69.163125 101.754494 \n\" clip-path=\"url(#pf29bb0ee7a)\" style=\"fill: none; stroke-dasharray: 5.55,2.4; stroke-dashoffset: 0; stroke: #ff7f0e; stroke-width: 1.5\"/>\n   </g>\n   <g id=\"line2d_33\">\n    <path d=\"M 49.633125 139.5 \nL 69.163125 117.792408 \n\" clip-path=\"url(#pf29bb0ee7a)\" style=\"fill: none; stroke-dasharray: 9.6,2.4,1.5,2.4; stroke-dashoffset: 0; stroke: #2ca02c; stroke-width: 1.5\"/>\n   </g>\n   <g id=\"line2d_34\">\n    <path d=\"M 34.954394 13.5 \nL 44.698573 16.81226 \nL 54.442752 72.861386 \nL 64.186931 96.106664 \nL 73.93111 104.381492 \nL 83.675289 109.053997 \n\" clip-path=\"url(#pf29bb0ee7a)\" style=\"fill: none; stroke: #1f77b4; stroke-width: 1.5; stroke-linecap: square\"/>\n   </g>\n   <g id=\"line2d_35\">\n    <path d=\"M 49.633125 33.741701 \nL 69.163125 101.754494 \n\" clip-path=\"url(#pf29bb0ee7a)\" style=\"fill: none; stroke-dasharray: 5.55,2.4; stroke-dashoffset: 0; stroke: #ff7f0e; stroke-width: 1.5\"/>\n   </g>\n   <g id=\"line2d_36\">\n    <path d=\"M 49.633125 139.5 \nL 69.163125 117.792408 \n\" clip-path=\"url(#pf29bb0ee7a)\" style=\"fill: none; stroke-dasharray: 9.6,2.4,1.5,2.4; stroke-dashoffset: 0; stroke: #2ca02c; stroke-width: 1.5\"/>\n   </g>\n   <g id=\"line2d_37\">\n    <path d=\"M 34.954394 13.5 \nL 44.698573 16.81226 \nL 54.442752 72.861386 \nL 64.186931 96.106664 \nL 73.93111 104.381492 \nL 83.675289 109.053997 \n\" clip-path=\"url(#pf29bb0ee7a)\" style=\"fill: none; stroke: #1f77b4; stroke-width: 1.5; stroke-linecap: square\"/>\n   </g>\n   <g id=\"line2d_38\">\n    <path d=\"M 49.633125 33.741701 \nL 69.163125 101.754494 \nL 88.693125 111.583909 \n\" clip-path=\"url(#pf29bb0ee7a)\" style=\"fill: none; stroke-dasharray: 5.55,2.4; stroke-dashoffset: 0; stroke: #ff7f0e; stroke-width: 1.5\"/>\n   </g>\n   <g id=\"line2d_39\">\n    <path d=\"M 49.633125 139.5 \nL 69.163125 117.792408 \n\" clip-path=\"url(#pf29bb0ee7a)\" style=\"fill: none; stroke-dasharray: 9.6,2.4,1.5,2.4; stroke-dashoffset: 0; stroke: #2ca02c; stroke-width: 1.5\"/>\n   </g>\n   <g id=\"line2d_40\">\n    <path d=\"M 34.954394 13.5 \nL 44.698573 16.81226 \nL 54.442752 72.861386 \nL 64.186931 96.106664 \nL 73.93111 104.381492 \nL 83.675289 109.053997 \n\" clip-path=\"url(#pf29bb0ee7a)\" style=\"fill: none; stroke: #1f77b4; stroke-width: 1.5; stroke-linecap: square\"/>\n   </g>\n   <g id=\"line2d_41\">\n    <path d=\"M 49.633125 33.741701 \nL 69.163125 101.754494 \nL 88.693125 111.583909 \n\" clip-path=\"url(#pf29bb0ee7a)\" style=\"fill: none; stroke-dasharray: 5.55,2.4; stroke-dashoffset: 0; stroke: #ff7f0e; stroke-width: 1.5\"/>\n   </g>\n   <g id=\"line2d_42\">\n    <path d=\"M 49.633125 139.5 \nL 69.163125 117.792408 \nL 88.693125 113.803909 \n\" clip-path=\"url(#pf29bb0ee7a)\" style=\"fill: none; stroke-dasharray: 9.6,2.4,1.5,2.4; stroke-dashoffset: 0; stroke: #2ca02c; stroke-width: 1.5\"/>\n   </g>\n   <g id=\"line2d_43\">\n    <path d=\"M 34.954394 13.5 \nL 44.698573 16.81226 \nL 54.442752 72.861386 \nL 64.186931 96.106664 \nL 73.93111 104.381492 \nL 83.675289 109.053997 \nL 93.419468 113.518225 \n\" clip-path=\"url(#pf29bb0ee7a)\" style=\"fill: none; stroke: #1f77b4; stroke-width: 1.5; stroke-linecap: square\"/>\n   </g>\n   <g id=\"line2d_44\">\n    <path d=\"M 49.633125 33.741701 \nL 69.163125 101.754494 \nL 88.693125 111.583909 \n\" clip-path=\"url(#pf29bb0ee7a)\" style=\"fill: none; stroke-dasharray: 5.55,2.4; stroke-dashoffset: 0; stroke: #ff7f0e; stroke-width: 1.5\"/>\n   </g>\n   <g id=\"line2d_45\">\n    <path d=\"M 49.633125 139.5 \nL 69.163125 117.792408 \nL 88.693125 113.803909 \n\" clip-path=\"url(#pf29bb0ee7a)\" style=\"fill: none; stroke-dasharray: 9.6,2.4,1.5,2.4; stroke-dashoffset: 0; stroke: #2ca02c; stroke-width: 1.5\"/>\n   </g>\n   <g id=\"line2d_46\">\n    <path d=\"M 34.954394 13.5 \nL 44.698573 16.81226 \nL 54.442752 72.861386 \nL 64.186931 96.106664 \nL 73.93111 104.381492 \nL 83.675289 109.053997 \nL 93.419468 113.518225 \nL 103.163647 115.43283 \n\" clip-path=\"url(#pf29bb0ee7a)\" style=\"fill: none; stroke: #1f77b4; stroke-width: 1.5; stroke-linecap: square\"/>\n   </g>\n   <g id=\"line2d_47\">\n    <path d=\"M 49.633125 33.741701 \nL 69.163125 101.754494 \nL 88.693125 111.583909 \n\" clip-path=\"url(#pf29bb0ee7a)\" style=\"fill: none; stroke-dasharray: 5.55,2.4; stroke-dashoffset: 0; stroke: #ff7f0e; stroke-width: 1.5\"/>\n   </g>\n   <g id=\"line2d_48\">\n    <path d=\"M 49.633125 139.5 \nL 69.163125 117.792408 \nL 88.693125 113.803909 \n\" clip-path=\"url(#pf29bb0ee7a)\" style=\"fill: none; stroke-dasharray: 9.6,2.4,1.5,2.4; stroke-dashoffset: 0; stroke: #2ca02c; stroke-width: 1.5\"/>\n   </g>\n   <g id=\"line2d_49\">\n    <path d=\"M 34.954394 13.5 \nL 44.698573 16.81226 \nL 54.442752 72.861386 \nL 64.186931 96.106664 \nL 73.93111 104.381492 \nL 83.675289 109.053997 \nL 93.419468 113.518225 \nL 103.163647 115.43283 \n\" clip-path=\"url(#pf29bb0ee7a)\" style=\"fill: none; stroke: #1f77b4; stroke-width: 1.5; stroke-linecap: square\"/>\n   </g>\n   <g id=\"line2d_50\">\n    <path d=\"M 49.633125 33.741701 \nL 69.163125 101.754494 \nL 88.693125 111.583909 \nL 108.223125 115.533004 \n\" clip-path=\"url(#pf29bb0ee7a)\" style=\"fill: none; stroke-dasharray: 5.55,2.4; stroke-dashoffset: 0; stroke: #ff7f0e; stroke-width: 1.5\"/>\n   </g>\n   <g id=\"line2d_51\">\n    <path d=\"M 49.633125 139.5 \nL 69.163125 117.792408 \nL 88.693125 113.803909 \n\" clip-path=\"url(#pf29bb0ee7a)\" style=\"fill: none; stroke-dasharray: 9.6,2.4,1.5,2.4; stroke-dashoffset: 0; stroke: #2ca02c; stroke-width: 1.5\"/>\n   </g>\n   <g id=\"line2d_52\">\n    <path d=\"M 34.954394 13.5 \nL 44.698573 16.81226 \nL 54.442752 72.861386 \nL 64.186931 96.106664 \nL 73.93111 104.381492 \nL 83.675289 109.053997 \nL 93.419468 113.518225 \nL 103.163647 115.43283 \n\" clip-path=\"url(#pf29bb0ee7a)\" style=\"fill: none; stroke: #1f77b4; stroke-width: 1.5; stroke-linecap: square\"/>\n   </g>\n   <g id=\"line2d_53\">\n    <path d=\"M 49.633125 33.741701 \nL 69.163125 101.754494 \nL 88.693125 111.583909 \nL 108.223125 115.533004 \n\" clip-path=\"url(#pf29bb0ee7a)\" style=\"fill: none; stroke-dasharray: 5.55,2.4; stroke-dashoffset: 0; stroke: #ff7f0e; stroke-width: 1.5\"/>\n   </g>\n   <g id=\"line2d_54\">\n    <path d=\"M 49.633125 139.5 \nL 69.163125 117.792408 \nL 88.693125 113.803909 \nL 108.223125 112.559052 \n\" clip-path=\"url(#pf29bb0ee7a)\" style=\"fill: none; stroke-dasharray: 9.6,2.4,1.5,2.4; stroke-dashoffset: 0; stroke: #2ca02c; stroke-width: 1.5\"/>\n   </g>\n   <g id=\"line2d_55\">\n    <path d=\"M 34.954394 13.5 \nL 44.698573 16.81226 \nL 54.442752 72.861386 \nL 64.186931 96.106664 \nL 73.93111 104.381492 \nL 83.675289 109.053997 \nL 93.419468 113.518225 \nL 103.163647 115.43283 \nL 112.907826 118.150765 \n\" clip-path=\"url(#pf29bb0ee7a)\" style=\"fill: none; stroke: #1f77b4; stroke-width: 1.5; stroke-linecap: square\"/>\n   </g>\n   <g id=\"line2d_56\">\n    <path d=\"M 49.633125 33.741701 \nL 69.163125 101.754494 \nL 88.693125 111.583909 \nL 108.223125 115.533004 \n\" clip-path=\"url(#pf29bb0ee7a)\" style=\"fill: none; stroke-dasharray: 5.55,2.4; stroke-dashoffset: 0; stroke: #ff7f0e; stroke-width: 1.5\"/>\n   </g>\n   <g id=\"line2d_57\">\n    <path d=\"M 49.633125 139.5 \nL 69.163125 117.792408 \nL 88.693125 113.803909 \nL 108.223125 112.559052 \n\" clip-path=\"url(#pf29bb0ee7a)\" style=\"fill: none; stroke-dasharray: 9.6,2.4,1.5,2.4; stroke-dashoffset: 0; stroke: #2ca02c; stroke-width: 1.5\"/>\n   </g>\n   <g id=\"line2d_58\">\n    <path d=\"M 34.954394 13.5 \nL 44.698573 16.81226 \nL 54.442752 72.861386 \nL 64.186931 96.106664 \nL 73.93111 104.381492 \nL 83.675289 109.053997 \nL 93.419468 113.518225 \nL 103.163647 115.43283 \nL 112.907826 118.150765 \nL 122.652006 119.36445 \n\" clip-path=\"url(#pf29bb0ee7a)\" style=\"fill: none; stroke: #1f77b4; stroke-width: 1.5; stroke-linecap: square\"/>\n   </g>\n   <g id=\"line2d_59\">\n    <path d=\"M 49.633125 33.741701 \nL 69.163125 101.754494 \nL 88.693125 111.583909 \nL 108.223125 115.533004 \n\" clip-path=\"url(#pf29bb0ee7a)\" style=\"fill: none; stroke-dasharray: 5.55,2.4; stroke-dashoffset: 0; stroke: #ff7f0e; stroke-width: 1.5\"/>\n   </g>\n   <g id=\"line2d_60\">\n    <path d=\"M 49.633125 139.5 \nL 69.163125 117.792408 \nL 88.693125 113.803909 \nL 108.223125 112.559052 \n\" clip-path=\"url(#pf29bb0ee7a)\" style=\"fill: none; stroke-dasharray: 9.6,2.4,1.5,2.4; stroke-dashoffset: 0; stroke: #2ca02c; stroke-width: 1.5\"/>\n   </g>\n   <g id=\"line2d_61\">\n    <path d=\"M 34.954394 13.5 \nL 44.698573 16.81226 \nL 54.442752 72.861386 \nL 64.186931 96.106664 \nL 73.93111 104.381492 \nL 83.675289 109.053997 \nL 93.419468 113.518225 \nL 103.163647 115.43283 \nL 112.907826 118.150765 \nL 122.652006 119.36445 \n\" clip-path=\"url(#pf29bb0ee7a)\" style=\"fill: none; stroke: #1f77b4; stroke-width: 1.5; stroke-linecap: square\"/>\n   </g>\n   <g id=\"line2d_62\">\n    <path d=\"M 49.633125 33.741701 \nL 69.163125 101.754494 \nL 88.693125 111.583909 \nL 108.223125 115.533004 \nL 127.753125 118.919414 \n\" clip-path=\"url(#pf29bb0ee7a)\" style=\"fill: none; stroke-dasharray: 5.55,2.4; stroke-dashoffset: 0; stroke: #ff7f0e; stroke-width: 1.5\"/>\n   </g>\n   <g id=\"line2d_63\">\n    <path d=\"M 49.633125 139.5 \nL 69.163125 117.792408 \nL 88.693125 113.803909 \nL 108.223125 112.559052 \n\" clip-path=\"url(#pf29bb0ee7a)\" style=\"fill: none; stroke-dasharray: 9.6,2.4,1.5,2.4; stroke-dashoffset: 0; stroke: #2ca02c; stroke-width: 1.5\"/>\n   </g>\n   <g id=\"line2d_64\">\n    <path d=\"M 34.954394 13.5 \nL 44.698573 16.81226 \nL 54.442752 72.861386 \nL 64.186931 96.106664 \nL 73.93111 104.381492 \nL 83.675289 109.053997 \nL 93.419468 113.518225 \nL 103.163647 115.43283 \nL 112.907826 118.150765 \nL 122.652006 119.36445 \n\" clip-path=\"url(#pf29bb0ee7a)\" style=\"fill: none; stroke: #1f77b4; stroke-width: 1.5; stroke-linecap: square\"/>\n   </g>\n   <g id=\"line2d_65\">\n    <path d=\"M 49.633125 33.741701 \nL 69.163125 101.754494 \nL 88.693125 111.583909 \nL 108.223125 115.533004 \nL 127.753125 118.919414 \n\" clip-path=\"url(#pf29bb0ee7a)\" style=\"fill: none; stroke-dasharray: 5.55,2.4; stroke-dashoffset: 0; stroke: #ff7f0e; stroke-width: 1.5\"/>\n   </g>\n   <g id=\"line2d_66\">\n    <path d=\"M 49.633125 139.5 \nL 69.163125 117.792408 \nL 88.693125 113.803909 \nL 108.223125 112.559052 \nL 127.753125 111.5867 \n\" clip-path=\"url(#pf29bb0ee7a)\" style=\"fill: none; stroke-dasharray: 9.6,2.4,1.5,2.4; stroke-dashoffset: 0; stroke: #2ca02c; stroke-width: 1.5\"/>\n   </g>\n   <g id=\"line2d_67\">\n    <path d=\"M 34.954394 13.5 \nL 44.698573 16.81226 \nL 54.442752 72.861386 \nL 64.186931 96.106664 \nL 73.93111 104.381492 \nL 83.675289 109.053997 \nL 93.419468 113.518225 \nL 103.163647 115.43283 \nL 112.907826 118.150765 \nL 122.652006 119.36445 \nL 132.396185 120.752499 \n\" clip-path=\"url(#pf29bb0ee7a)\" style=\"fill: none; stroke: #1f77b4; stroke-width: 1.5; stroke-linecap: square\"/>\n   </g>\n   <g id=\"line2d_68\">\n    <path d=\"M 49.633125 33.741701 \nL 69.163125 101.754494 \nL 88.693125 111.583909 \nL 108.223125 115.533004 \nL 127.753125 118.919414 \n\" clip-path=\"url(#pf29bb0ee7a)\" style=\"fill: none; stroke-dasharray: 5.55,2.4; stroke-dashoffset: 0; stroke: #ff7f0e; stroke-width: 1.5\"/>\n   </g>\n   <g id=\"line2d_69\">\n    <path d=\"M 49.633125 139.5 \nL 69.163125 117.792408 \nL 88.693125 113.803909 \nL 108.223125 112.559052 \nL 127.753125 111.5867 \n\" clip-path=\"url(#pf29bb0ee7a)\" style=\"fill: none; stroke-dasharray: 9.6,2.4,1.5,2.4; stroke-dashoffset: 0; stroke: #2ca02c; stroke-width: 1.5\"/>\n   </g>\n   <g id=\"line2d_70\">\n    <path d=\"M 34.954394 13.5 \nL 44.698573 16.81226 \nL 54.442752 72.861386 \nL 64.186931 96.106664 \nL 73.93111 104.381492 \nL 83.675289 109.053997 \nL 93.419468 113.518225 \nL 103.163647 115.43283 \nL 112.907826 118.150765 \nL 122.652006 119.36445 \nL 132.396185 120.752499 \nL 142.140364 122.172005 \n\" clip-path=\"url(#pf29bb0ee7a)\" style=\"fill: none; stroke: #1f77b4; stroke-width: 1.5; stroke-linecap: square\"/>\n   </g>\n   <g id=\"line2d_71\">\n    <path d=\"M 49.633125 33.741701 \nL 69.163125 101.754494 \nL 88.693125 111.583909 \nL 108.223125 115.533004 \nL 127.753125 118.919414 \n\" clip-path=\"url(#pf29bb0ee7a)\" style=\"fill: none; stroke-dasharray: 5.55,2.4; stroke-dashoffset: 0; stroke: #ff7f0e; stroke-width: 1.5\"/>\n   </g>\n   <g id=\"line2d_72\">\n    <path d=\"M 49.633125 139.5 \nL 69.163125 117.792408 \nL 88.693125 113.803909 \nL 108.223125 112.559052 \nL 127.753125 111.5867 \n\" clip-path=\"url(#pf29bb0ee7a)\" style=\"fill: none; stroke-dasharray: 9.6,2.4,1.5,2.4; stroke-dashoffset: 0; stroke: #2ca02c; stroke-width: 1.5\"/>\n   </g>\n   <g id=\"line2d_73\">\n    <path d=\"M 34.954394 13.5 \nL 44.698573 16.81226 \nL 54.442752 72.861386 \nL 64.186931 96.106664 \nL 73.93111 104.381492 \nL 83.675289 109.053997 \nL 93.419468 113.518225 \nL 103.163647 115.43283 \nL 112.907826 118.150765 \nL 122.652006 119.36445 \nL 132.396185 120.752499 \nL 142.140364 122.172005 \n\" clip-path=\"url(#pf29bb0ee7a)\" style=\"fill: none; stroke: #1f77b4; stroke-width: 1.5; stroke-linecap: square\"/>\n   </g>\n   <g id=\"line2d_74\">\n    <path d=\"M 49.633125 33.741701 \nL 69.163125 101.754494 \nL 88.693125 111.583909 \nL 108.223125 115.533004 \nL 127.753125 118.919414 \nL 147.283125 120.380599 \n\" clip-path=\"url(#pf29bb0ee7a)\" style=\"fill: none; stroke-dasharray: 5.55,2.4; stroke-dashoffset: 0; stroke: #ff7f0e; stroke-width: 1.5\"/>\n   </g>\n   <g id=\"line2d_75\">\n    <path d=\"M 49.633125 139.5 \nL 69.163125 117.792408 \nL 88.693125 113.803909 \nL 108.223125 112.559052 \nL 127.753125 111.5867 \n\" clip-path=\"url(#pf29bb0ee7a)\" style=\"fill: none; stroke-dasharray: 9.6,2.4,1.5,2.4; stroke-dashoffset: 0; stroke: #2ca02c; stroke-width: 1.5\"/>\n   </g>\n   <g id=\"line2d_76\">\n    <path d=\"M 34.954394 13.5 \nL 44.698573 16.81226 \nL 54.442752 72.861386 \nL 64.186931 96.106664 \nL 73.93111 104.381492 \nL 83.675289 109.053997 \nL 93.419468 113.518225 \nL 103.163647 115.43283 \nL 112.907826 118.150765 \nL 122.652006 119.36445 \nL 132.396185 120.752499 \nL 142.140364 122.172005 \n\" clip-path=\"url(#pf29bb0ee7a)\" style=\"fill: none; stroke: #1f77b4; stroke-width: 1.5; stroke-linecap: square\"/>\n   </g>\n   <g id=\"line2d_77\">\n    <path d=\"M 49.633125 33.741701 \nL 69.163125 101.754494 \nL 88.693125 111.583909 \nL 108.223125 115.533004 \nL 127.753125 118.919414 \nL 147.283125 120.380599 \n\" clip-path=\"url(#pf29bb0ee7a)\" style=\"fill: none; stroke-dasharray: 5.55,2.4; stroke-dashoffset: 0; stroke: #ff7f0e; stroke-width: 1.5\"/>\n   </g>\n   <g id=\"line2d_78\">\n    <path d=\"M 49.633125 139.5 \nL 69.163125 117.792408 \nL 88.693125 113.803909 \nL 108.223125 112.559052 \nL 127.753125 111.5867 \nL 147.283125 111.060268 \n\" clip-path=\"url(#pf29bb0ee7a)\" style=\"fill: none; stroke-dasharray: 9.6,2.4,1.5,2.4; stroke-dashoffset: 0; stroke: #2ca02c; stroke-width: 1.5\"/>\n   </g>\n   <g id=\"line2d_79\">\n    <path d=\"M 34.954394 13.5 \nL 44.698573 16.81226 \nL 54.442752 72.861386 \nL 64.186931 96.106664 \nL 73.93111 104.381492 \nL 83.675289 109.053997 \nL 93.419468 113.518225 \nL 103.163647 115.43283 \nL 112.907826 118.150765 \nL 122.652006 119.36445 \nL 132.396185 120.752499 \nL 142.140364 122.172005 \nL 151.884543 122.642331 \n\" clip-path=\"url(#pf29bb0ee7a)\" style=\"fill: none; stroke: #1f77b4; stroke-width: 1.5; stroke-linecap: square\"/>\n   </g>\n   <g id=\"line2d_80\">\n    <path d=\"M 49.633125 33.741701 \nL 69.163125 101.754494 \nL 88.693125 111.583909 \nL 108.223125 115.533004 \nL 127.753125 118.919414 \nL 147.283125 120.380599 \n\" clip-path=\"url(#pf29bb0ee7a)\" style=\"fill: none; stroke-dasharray: 5.55,2.4; stroke-dashoffset: 0; stroke: #ff7f0e; stroke-width: 1.5\"/>\n   </g>\n   <g id=\"line2d_81\">\n    <path d=\"M 49.633125 139.5 \nL 69.163125 117.792408 \nL 88.693125 113.803909 \nL 108.223125 112.559052 \nL 127.753125 111.5867 \nL 147.283125 111.060268 \n\" clip-path=\"url(#pf29bb0ee7a)\" style=\"fill: none; stroke-dasharray: 9.6,2.4,1.5,2.4; stroke-dashoffset: 0; stroke: #2ca02c; stroke-width: 1.5\"/>\n   </g>\n   <g id=\"line2d_82\">\n    <path d=\"M 34.954394 13.5 \nL 44.698573 16.81226 \nL 54.442752 72.861386 \nL 64.186931 96.106664 \nL 73.93111 104.381492 \nL 83.675289 109.053997 \nL 93.419468 113.518225 \nL 103.163647 115.43283 \nL 112.907826 118.150765 \nL 122.652006 119.36445 \nL 132.396185 120.752499 \nL 142.140364 122.172005 \nL 151.884543 122.642331 \nL 161.628722 124.013553 \n\" clip-path=\"url(#pf29bb0ee7a)\" style=\"fill: none; stroke: #1f77b4; stroke-width: 1.5; stroke-linecap: square\"/>\n   </g>\n   <g id=\"line2d_83\">\n    <path d=\"M 49.633125 33.741701 \nL 69.163125 101.754494 \nL 88.693125 111.583909 \nL 108.223125 115.533004 \nL 127.753125 118.919414 \nL 147.283125 120.380599 \n\" clip-path=\"url(#pf29bb0ee7a)\" style=\"fill: none; stroke-dasharray: 5.55,2.4; stroke-dashoffset: 0; stroke: #ff7f0e; stroke-width: 1.5\"/>\n   </g>\n   <g id=\"line2d_84\">\n    <path d=\"M 49.633125 139.5 \nL 69.163125 117.792408 \nL 88.693125 113.803909 \nL 108.223125 112.559052 \nL 127.753125 111.5867 \nL 147.283125 111.060268 \n\" clip-path=\"url(#pf29bb0ee7a)\" style=\"fill: none; stroke-dasharray: 9.6,2.4,1.5,2.4; stroke-dashoffset: 0; stroke: #2ca02c; stroke-width: 1.5\"/>\n   </g>\n   <g id=\"line2d_85\">\n    <path d=\"M 34.954394 13.5 \nL 44.698573 16.81226 \nL 54.442752 72.861386 \nL 64.186931 96.106664 \nL 73.93111 104.381492 \nL 83.675289 109.053997 \nL 93.419468 113.518225 \nL 103.163647 115.43283 \nL 112.907826 118.150765 \nL 122.652006 119.36445 \nL 132.396185 120.752499 \nL 142.140364 122.172005 \nL 151.884543 122.642331 \nL 161.628722 124.013553 \n\" clip-path=\"url(#pf29bb0ee7a)\" style=\"fill: none; stroke: #1f77b4; stroke-width: 1.5; stroke-linecap: square\"/>\n   </g>\n   <g id=\"line2d_86\">\n    <path d=\"M 49.633125 33.741701 \nL 69.163125 101.754494 \nL 88.693125 111.583909 \nL 108.223125 115.533004 \nL 127.753125 118.919414 \nL 147.283125 120.380599 \nL 166.813125 123.698089 \n\" clip-path=\"url(#pf29bb0ee7a)\" style=\"fill: none; stroke-dasharray: 5.55,2.4; stroke-dashoffset: 0; stroke: #ff7f0e; stroke-width: 1.5\"/>\n   </g>\n   <g id=\"line2d_87\">\n    <path d=\"M 49.633125 139.5 \nL 69.163125 117.792408 \nL 88.693125 113.803909 \nL 108.223125 112.559052 \nL 127.753125 111.5867 \nL 147.283125 111.060268 \n\" clip-path=\"url(#pf29bb0ee7a)\" style=\"fill: none; stroke-dasharray: 9.6,2.4,1.5,2.4; stroke-dashoffset: 0; stroke: #2ca02c; stroke-width: 1.5\"/>\n   </g>\n   <g id=\"line2d_88\">\n    <path d=\"M 34.954394 13.5 \nL 44.698573 16.81226 \nL 54.442752 72.861386 \nL 64.186931 96.106664 \nL 73.93111 104.381492 \nL 83.675289 109.053997 \nL 93.419468 113.518225 \nL 103.163647 115.43283 \nL 112.907826 118.150765 \nL 122.652006 119.36445 \nL 132.396185 120.752499 \nL 142.140364 122.172005 \nL 151.884543 122.642331 \nL 161.628722 124.013553 \n\" clip-path=\"url(#pf29bb0ee7a)\" style=\"fill: none; stroke: #1f77b4; stroke-width: 1.5; stroke-linecap: square\"/>\n   </g>\n   <g id=\"line2d_89\">\n    <path d=\"M 49.633125 33.741701 \nL 69.163125 101.754494 \nL 88.693125 111.583909 \nL 108.223125 115.533004 \nL 127.753125 118.919414 \nL 147.283125 120.380599 \nL 166.813125 123.698089 \n\" clip-path=\"url(#pf29bb0ee7a)\" style=\"fill: none; stroke-dasharray: 5.55,2.4; stroke-dashoffset: 0; stroke: #ff7f0e; stroke-width: 1.5\"/>\n   </g>\n   <g id=\"line2d_90\">\n    <path d=\"M 49.633125 139.5 \nL 69.163125 117.792408 \nL 88.693125 113.803909 \nL 108.223125 112.559052 \nL 127.753125 111.5867 \nL 147.283125 111.060268 \nL 166.813125 109.741091 \n\" clip-path=\"url(#pf29bb0ee7a)\" style=\"fill: none; stroke-dasharray: 9.6,2.4,1.5,2.4; stroke-dashoffset: 0; stroke: #2ca02c; stroke-width: 1.5\"/>\n   </g>\n   <g id=\"line2d_91\">\n    <path d=\"M 34.954394 13.5 \nL 44.698573 16.81226 \nL 54.442752 72.861386 \nL 64.186931 96.106664 \nL 73.93111 104.381492 \nL 83.675289 109.053997 \nL 93.419468 113.518225 \nL 103.163647 115.43283 \nL 112.907826 118.150765 \nL 122.652006 119.36445 \nL 132.396185 120.752499 \nL 142.140364 122.172005 \nL 151.884543 122.642331 \nL 161.628722 124.013553 \nL 171.372901 124.956363 \n\" clip-path=\"url(#pf29bb0ee7a)\" style=\"fill: none; stroke: #1f77b4; stroke-width: 1.5; stroke-linecap: square\"/>\n   </g>\n   <g id=\"line2d_92\">\n    <path d=\"M 49.633125 33.741701 \nL 69.163125 101.754494 \nL 88.693125 111.583909 \nL 108.223125 115.533004 \nL 127.753125 118.919414 \nL 147.283125 120.380599 \nL 166.813125 123.698089 \n\" clip-path=\"url(#pf29bb0ee7a)\" style=\"fill: none; stroke-dasharray: 5.55,2.4; stroke-dashoffset: 0; stroke: #ff7f0e; stroke-width: 1.5\"/>\n   </g>\n   <g id=\"line2d_93\">\n    <path d=\"M 49.633125 139.5 \nL 69.163125 117.792408 \nL 88.693125 113.803909 \nL 108.223125 112.559052 \nL 127.753125 111.5867 \nL 147.283125 111.060268 \nL 166.813125 109.741091 \n\" clip-path=\"url(#pf29bb0ee7a)\" style=\"fill: none; stroke-dasharray: 9.6,2.4,1.5,2.4; stroke-dashoffset: 0; stroke: #2ca02c; stroke-width: 1.5\"/>\n   </g>\n   <g id=\"line2d_94\">\n    <path d=\"M 34.954394 13.5 \nL 44.698573 16.81226 \nL 54.442752 72.861386 \nL 64.186931 96.106664 \nL 73.93111 104.381492 \nL 83.675289 109.053997 \nL 93.419468 113.518225 \nL 103.163647 115.43283 \nL 112.907826 118.150765 \nL 122.652006 119.36445 \nL 132.396185 120.752499 \nL 142.140364 122.172005 \nL 151.884543 122.642331 \nL 161.628722 124.013553 \nL 171.372901 124.956363 \nL 181.11708 125.748312 \n\" clip-path=\"url(#pf29bb0ee7a)\" style=\"fill: none; stroke: #1f77b4; stroke-width: 1.5; stroke-linecap: square\"/>\n   </g>\n   <g id=\"line2d_95\">\n    <path d=\"M 49.633125 33.741701 \nL 69.163125 101.754494 \nL 88.693125 111.583909 \nL 108.223125 115.533004 \nL 127.753125 118.919414 \nL 147.283125 120.380599 \nL 166.813125 123.698089 \n\" clip-path=\"url(#pf29bb0ee7a)\" style=\"fill: none; stroke-dasharray: 5.55,2.4; stroke-dashoffset: 0; stroke: #ff7f0e; stroke-width: 1.5\"/>\n   </g>\n   <g id=\"line2d_96\">\n    <path d=\"M 49.633125 139.5 \nL 69.163125 117.792408 \nL 88.693125 113.803909 \nL 108.223125 112.559052 \nL 127.753125 111.5867 \nL 147.283125 111.060268 \nL 166.813125 109.741091 \n\" clip-path=\"url(#pf29bb0ee7a)\" style=\"fill: none; stroke-dasharray: 9.6,2.4,1.5,2.4; stroke-dashoffset: 0; stroke: #2ca02c; stroke-width: 1.5\"/>\n   </g>\n   <g id=\"line2d_97\">\n    <path d=\"M 34.954394 13.5 \nL 44.698573 16.81226 \nL 54.442752 72.861386 \nL 64.186931 96.106664 \nL 73.93111 104.381492 \nL 83.675289 109.053997 \nL 93.419468 113.518225 \nL 103.163647 115.43283 \nL 112.907826 118.150765 \nL 122.652006 119.36445 \nL 132.396185 120.752499 \nL 142.140364 122.172005 \nL 151.884543 122.642331 \nL 161.628722 124.013553 \nL 171.372901 124.956363 \nL 181.11708 125.748312 \n\" clip-path=\"url(#pf29bb0ee7a)\" style=\"fill: none; stroke: #1f77b4; stroke-width: 1.5; stroke-linecap: square\"/>\n   </g>\n   <g id=\"line2d_98\">\n    <path d=\"M 49.633125 33.741701 \nL 69.163125 101.754494 \nL 88.693125 111.583909 \nL 108.223125 115.533004 \nL 127.753125 118.919414 \nL 147.283125 120.380599 \nL 166.813125 123.698089 \nL 186.343125 125.190804 \n\" clip-path=\"url(#pf29bb0ee7a)\" style=\"fill: none; stroke-dasharray: 5.55,2.4; stroke-dashoffset: 0; stroke: #ff7f0e; stroke-width: 1.5\"/>\n   </g>\n   <g id=\"line2d_99\">\n    <path d=\"M 49.633125 139.5 \nL 69.163125 117.792408 \nL 88.693125 113.803909 \nL 108.223125 112.559052 \nL 127.753125 111.5867 \nL 147.283125 111.060268 \nL 166.813125 109.741091 \n\" clip-path=\"url(#pf29bb0ee7a)\" style=\"fill: none; stroke-dasharray: 9.6,2.4,1.5,2.4; stroke-dashoffset: 0; stroke: #2ca02c; stroke-width: 1.5\"/>\n   </g>\n   <g id=\"line2d_100\">\n    <path d=\"M 34.954394 13.5 \nL 44.698573 16.81226 \nL 54.442752 72.861386 \nL 64.186931 96.106664 \nL 73.93111 104.381492 \nL 83.675289 109.053997 \nL 93.419468 113.518225 \nL 103.163647 115.43283 \nL 112.907826 118.150765 \nL 122.652006 119.36445 \nL 132.396185 120.752499 \nL 142.140364 122.172005 \nL 151.884543 122.642331 \nL 161.628722 124.013553 \nL 171.372901 124.956363 \nL 181.11708 125.748312 \n\" clip-path=\"url(#pf29bb0ee7a)\" style=\"fill: none; stroke: #1f77b4; stroke-width: 1.5; stroke-linecap: square\"/>\n   </g>\n   <g id=\"line2d_101\">\n    <path d=\"M 49.633125 33.741701 \nL 69.163125 101.754494 \nL 88.693125 111.583909 \nL 108.223125 115.533004 \nL 127.753125 118.919414 \nL 147.283125 120.380599 \nL 166.813125 123.698089 \nL 186.343125 125.190804 \n\" clip-path=\"url(#pf29bb0ee7a)\" style=\"fill: none; stroke-dasharray: 5.55,2.4; stroke-dashoffset: 0; stroke: #ff7f0e; stroke-width: 1.5\"/>\n   </g>\n   <g id=\"line2d_102\">\n    <path d=\"M 49.633125 139.5 \nL 69.163125 117.792408 \nL 88.693125 113.803909 \nL 108.223125 112.559052 \nL 127.753125 111.5867 \nL 147.283125 111.060268 \nL 166.813125 109.741091 \nL 186.343125 109.388071 \n\" clip-path=\"url(#pf29bb0ee7a)\" style=\"fill: none; stroke-dasharray: 9.6,2.4,1.5,2.4; stroke-dashoffset: 0; stroke: #2ca02c; stroke-width: 1.5\"/>\n   </g>\n   <g id=\"line2d_103\">\n    <path d=\"M 34.954394 13.5 \nL 44.698573 16.81226 \nL 54.442752 72.861386 \nL 64.186931 96.106664 \nL 73.93111 104.381492 \nL 83.675289 109.053997 \nL 93.419468 113.518225 \nL 103.163647 115.43283 \nL 112.907826 118.150765 \nL 122.652006 119.36445 \nL 132.396185 120.752499 \nL 142.140364 122.172005 \nL 151.884543 122.642331 \nL 161.628722 124.013553 \nL 171.372901 124.956363 \nL 181.11708 125.748312 \nL 190.861259 126.292758 \n\" clip-path=\"url(#pf29bb0ee7a)\" style=\"fill: none; stroke: #1f77b4; stroke-width: 1.5; stroke-linecap: square\"/>\n   </g>\n   <g id=\"line2d_104\">\n    <path d=\"M 49.633125 33.741701 \nL 69.163125 101.754494 \nL 88.693125 111.583909 \nL 108.223125 115.533004 \nL 127.753125 118.919414 \nL 147.283125 120.380599 \nL 166.813125 123.698089 \nL 186.343125 125.190804 \n\" clip-path=\"url(#pf29bb0ee7a)\" style=\"fill: none; stroke-dasharray: 5.55,2.4; stroke-dashoffset: 0; stroke: #ff7f0e; stroke-width: 1.5\"/>\n   </g>\n   <g id=\"line2d_105\">\n    <path d=\"M 49.633125 139.5 \nL 69.163125 117.792408 \nL 88.693125 113.803909 \nL 108.223125 112.559052 \nL 127.753125 111.5867 \nL 147.283125 111.060268 \nL 166.813125 109.741091 \nL 186.343125 109.388071 \n\" clip-path=\"url(#pf29bb0ee7a)\" style=\"fill: none; stroke-dasharray: 9.6,2.4,1.5,2.4; stroke-dashoffset: 0; stroke: #2ca02c; stroke-width: 1.5\"/>\n   </g>\n   <g id=\"line2d_106\">\n    <path d=\"M 34.954394 13.5 \nL 44.698573 16.81226 \nL 54.442752 72.861386 \nL 64.186931 96.106664 \nL 73.93111 104.381492 \nL 83.675289 109.053997 \nL 93.419468 113.518225 \nL 103.163647 115.43283 \nL 112.907826 118.150765 \nL 122.652006 119.36445 \nL 132.396185 120.752499 \nL 142.140364 122.172005 \nL 151.884543 122.642331 \nL 161.628722 124.013553 \nL 171.372901 124.956363 \nL 181.11708 125.748312 \nL 190.861259 126.292758 \nL 200.605438 127.382948 \n\" clip-path=\"url(#pf29bb0ee7a)\" style=\"fill: none; stroke: #1f77b4; stroke-width: 1.5; stroke-linecap: square\"/>\n   </g>\n   <g id=\"line2d_107\">\n    <path d=\"M 49.633125 33.741701 \nL 69.163125 101.754494 \nL 88.693125 111.583909 \nL 108.223125 115.533004 \nL 127.753125 118.919414 \nL 147.283125 120.380599 \nL 166.813125 123.698089 \nL 186.343125 125.190804 \n\" clip-path=\"url(#pf29bb0ee7a)\" style=\"fill: none; stroke-dasharray: 5.55,2.4; stroke-dashoffset: 0; stroke: #ff7f0e; stroke-width: 1.5\"/>\n   </g>\n   <g id=\"line2d_108\">\n    <path d=\"M 49.633125 139.5 \nL 69.163125 117.792408 \nL 88.693125 113.803909 \nL 108.223125 112.559052 \nL 127.753125 111.5867 \nL 147.283125 111.060268 \nL 166.813125 109.741091 \nL 186.343125 109.388071 \n\" clip-path=\"url(#pf29bb0ee7a)\" style=\"fill: none; stroke-dasharray: 9.6,2.4,1.5,2.4; stroke-dashoffset: 0; stroke: #2ca02c; stroke-width: 1.5\"/>\n   </g>\n   <g id=\"line2d_109\">\n    <path d=\"M 34.954394 13.5 \nL 44.698573 16.81226 \nL 54.442752 72.861386 \nL 64.186931 96.106664 \nL 73.93111 104.381492 \nL 83.675289 109.053997 \nL 93.419468 113.518225 \nL 103.163647 115.43283 \nL 112.907826 118.150765 \nL 122.652006 119.36445 \nL 132.396185 120.752499 \nL 142.140364 122.172005 \nL 151.884543 122.642331 \nL 161.628722 124.013553 \nL 171.372901 124.956363 \nL 181.11708 125.748312 \nL 190.861259 126.292758 \nL 200.605438 127.382948 \n\" clip-path=\"url(#pf29bb0ee7a)\" style=\"fill: none; stroke: #1f77b4; stroke-width: 1.5; stroke-linecap: square\"/>\n   </g>\n   <g id=\"line2d_110\">\n    <path d=\"M 49.633125 33.741701 \nL 69.163125 101.754494 \nL 88.693125 111.583909 \nL 108.223125 115.533004 \nL 127.753125 118.919414 \nL 147.283125 120.380599 \nL 166.813125 123.698089 \nL 186.343125 125.190804 \nL 205.873125 126.630479 \n\" clip-path=\"url(#pf29bb0ee7a)\" style=\"fill: none; stroke-dasharray: 5.55,2.4; stroke-dashoffset: 0; stroke: #ff7f0e; stroke-width: 1.5\"/>\n   </g>\n   <g id=\"line2d_111\">\n    <path d=\"M 49.633125 139.5 \nL 69.163125 117.792408 \nL 88.693125 113.803909 \nL 108.223125 112.559052 \nL 127.753125 111.5867 \nL 147.283125 111.060268 \nL 166.813125 109.741091 \nL 186.343125 109.388071 \n\" clip-path=\"url(#pf29bb0ee7a)\" style=\"fill: none; stroke-dasharray: 9.6,2.4,1.5,2.4; stroke-dashoffset: 0; stroke: #2ca02c; stroke-width: 1.5\"/>\n   </g>\n   <g id=\"line2d_112\">\n    <path d=\"M 34.954394 13.5 \nL 44.698573 16.81226 \nL 54.442752 72.861386 \nL 64.186931 96.106664 \nL 73.93111 104.381492 \nL 83.675289 109.053997 \nL 93.419468 113.518225 \nL 103.163647 115.43283 \nL 112.907826 118.150765 \nL 122.652006 119.36445 \nL 132.396185 120.752499 \nL 142.140364 122.172005 \nL 151.884543 122.642331 \nL 161.628722 124.013553 \nL 171.372901 124.956363 \nL 181.11708 125.748312 \nL 190.861259 126.292758 \nL 200.605438 127.382948 \n\" clip-path=\"url(#pf29bb0ee7a)\" style=\"fill: none; stroke: #1f77b4; stroke-width: 1.5; stroke-linecap: square\"/>\n   </g>\n   <g id=\"line2d_113\">\n    <path d=\"M 49.633125 33.741701 \nL 69.163125 101.754494 \nL 88.693125 111.583909 \nL 108.223125 115.533004 \nL 127.753125 118.919414 \nL 147.283125 120.380599 \nL 166.813125 123.698089 \nL 186.343125 125.190804 \nL 205.873125 126.630479 \n\" clip-path=\"url(#pf29bb0ee7a)\" style=\"fill: none; stroke-dasharray: 5.55,2.4; stroke-dashoffset: 0; stroke: #ff7f0e; stroke-width: 1.5\"/>\n   </g>\n   <g id=\"line2d_114\">\n    <path d=\"M 49.633125 139.5 \nL 69.163125 117.792408 \nL 88.693125 113.803909 \nL 108.223125 112.559052 \nL 127.753125 111.5867 \nL 147.283125 111.060268 \nL 166.813125 109.741091 \nL 186.343125 109.388071 \nL 205.873125 108.812092 \n\" clip-path=\"url(#pf29bb0ee7a)\" style=\"fill: none; stroke-dasharray: 9.6,2.4,1.5,2.4; stroke-dashoffset: 0; stroke: #2ca02c; stroke-width: 1.5\"/>\n   </g>\n   <g id=\"line2d_115\">\n    <path d=\"M 34.954394 13.5 \nL 44.698573 16.81226 \nL 54.442752 72.861386 \nL 64.186931 96.106664 \nL 73.93111 104.381492 \nL 83.675289 109.053997 \nL 93.419468 113.518225 \nL 103.163647 115.43283 \nL 112.907826 118.150765 \nL 122.652006 119.36445 \nL 132.396185 120.752499 \nL 142.140364 122.172005 \nL 151.884543 122.642331 \nL 161.628722 124.013553 \nL 171.372901 124.956363 \nL 181.11708 125.748312 \nL 190.861259 126.292758 \nL 200.605438 127.382948 \nL 210.349618 127.465493 \n\" clip-path=\"url(#pf29bb0ee7a)\" style=\"fill: none; stroke: #1f77b4; stroke-width: 1.5; stroke-linecap: square\"/>\n   </g>\n   <g id=\"line2d_116\">\n    <path d=\"M 49.633125 33.741701 \nL 69.163125 101.754494 \nL 88.693125 111.583909 \nL 108.223125 115.533004 \nL 127.753125 118.919414 \nL 147.283125 120.380599 \nL 166.813125 123.698089 \nL 186.343125 125.190804 \nL 205.873125 126.630479 \n\" clip-path=\"url(#pf29bb0ee7a)\" style=\"fill: none; stroke-dasharray: 5.55,2.4; stroke-dashoffset: 0; stroke: #ff7f0e; stroke-width: 1.5\"/>\n   </g>\n   <g id=\"line2d_117\">\n    <path d=\"M 49.633125 139.5 \nL 69.163125 117.792408 \nL 88.693125 113.803909 \nL 108.223125 112.559052 \nL 127.753125 111.5867 \nL 147.283125 111.060268 \nL 166.813125 109.741091 \nL 186.343125 109.388071 \nL 205.873125 108.812092 \n\" clip-path=\"url(#pf29bb0ee7a)\" style=\"fill: none; stroke-dasharray: 9.6,2.4,1.5,2.4; stroke-dashoffset: 0; stroke: #2ca02c; stroke-width: 1.5\"/>\n   </g>\n   <g id=\"line2d_118\">\n    <path d=\"M 34.954394 13.5 \nL 44.698573 16.81226 \nL 54.442752 72.861386 \nL 64.186931 96.106664 \nL 73.93111 104.381492 \nL 83.675289 109.053997 \nL 93.419468 113.518225 \nL 103.163647 115.43283 \nL 112.907826 118.150765 \nL 122.652006 119.36445 \nL 132.396185 120.752499 \nL 142.140364 122.172005 \nL 151.884543 122.642331 \nL 161.628722 124.013553 \nL 171.372901 124.956363 \nL 181.11708 125.748312 \nL 190.861259 126.292758 \nL 200.605438 127.382948 \nL 210.349618 127.465493 \nL 220.093797 128.522404 \n\" clip-path=\"url(#pf29bb0ee7a)\" style=\"fill: none; stroke: #1f77b4; stroke-width: 1.5; stroke-linecap: square\"/>\n   </g>\n   <g id=\"line2d_119\">\n    <path d=\"M 49.633125 33.741701 \nL 69.163125 101.754494 \nL 88.693125 111.583909 \nL 108.223125 115.533004 \nL 127.753125 118.919414 \nL 147.283125 120.380599 \nL 166.813125 123.698089 \nL 186.343125 125.190804 \nL 205.873125 126.630479 \n\" clip-path=\"url(#pf29bb0ee7a)\" style=\"fill: none; stroke-dasharray: 5.55,2.4; stroke-dashoffset: 0; stroke: #ff7f0e; stroke-width: 1.5\"/>\n   </g>\n   <g id=\"line2d_120\">\n    <path d=\"M 49.633125 139.5 \nL 69.163125 117.792408 \nL 88.693125 113.803909 \nL 108.223125 112.559052 \nL 127.753125 111.5867 \nL 147.283125 111.060268 \nL 166.813125 109.741091 \nL 186.343125 109.388071 \nL 205.873125 108.812092 \n\" clip-path=\"url(#pf29bb0ee7a)\" style=\"fill: none; stroke-dasharray: 9.6,2.4,1.5,2.4; stroke-dashoffset: 0; stroke: #2ca02c; stroke-width: 1.5\"/>\n   </g>\n   <g id=\"line2d_121\">\n    <path d=\"M 34.954394 13.5 \nL 44.698573 16.81226 \nL 54.442752 72.861386 \nL 64.186931 96.106664 \nL 73.93111 104.381492 \nL 83.675289 109.053997 \nL 93.419468 113.518225 \nL 103.163647 115.43283 \nL 112.907826 118.150765 \nL 122.652006 119.36445 \nL 132.396185 120.752499 \nL 142.140364 122.172005 \nL 151.884543 122.642331 \nL 161.628722 124.013553 \nL 171.372901 124.956363 \nL 181.11708 125.748312 \nL 190.861259 126.292758 \nL 200.605438 127.382948 \nL 210.349618 127.465493 \nL 220.093797 128.522404 \n\" clip-path=\"url(#pf29bb0ee7a)\" style=\"fill: none; stroke: #1f77b4; stroke-width: 1.5; stroke-linecap: square\"/>\n   </g>\n   <g id=\"line2d_122\">\n    <path d=\"M 49.633125 33.741701 \nL 69.163125 101.754494 \nL 88.693125 111.583909 \nL 108.223125 115.533004 \nL 127.753125 118.919414 \nL 147.283125 120.380599 \nL 166.813125 123.698089 \nL 186.343125 125.190804 \nL 205.873125 126.630479 \nL 225.403125 125.348958 \n\" clip-path=\"url(#pf29bb0ee7a)\" style=\"fill: none; stroke-dasharray: 5.55,2.4; stroke-dashoffset: 0; stroke: #ff7f0e; stroke-width: 1.5\"/>\n   </g>\n   <g id=\"line2d_123\">\n    <path d=\"M 49.633125 139.5 \nL 69.163125 117.792408 \nL 88.693125 113.803909 \nL 108.223125 112.559052 \nL 127.753125 111.5867 \nL 147.283125 111.060268 \nL 166.813125 109.741091 \nL 186.343125 109.388071 \nL 205.873125 108.812092 \n\" clip-path=\"url(#pf29bb0ee7a)\" style=\"fill: none; stroke-dasharray: 9.6,2.4,1.5,2.4; stroke-dashoffset: 0; stroke: #2ca02c; stroke-width: 1.5\"/>\n   </g>\n   <g id=\"line2d_124\">\n    <path d=\"M 34.954394 13.5 \nL 44.698573 16.81226 \nL 54.442752 72.861386 \nL 64.186931 96.106664 \nL 73.93111 104.381492 \nL 83.675289 109.053997 \nL 93.419468 113.518225 \nL 103.163647 115.43283 \nL 112.907826 118.150765 \nL 122.652006 119.36445 \nL 132.396185 120.752499 \nL 142.140364 122.172005 \nL 151.884543 122.642331 \nL 161.628722 124.013553 \nL 171.372901 124.956363 \nL 181.11708 125.748312 \nL 190.861259 126.292758 \nL 200.605438 127.382948 \nL 210.349618 127.465493 \nL 220.093797 128.522404 \n\" clip-path=\"url(#pf29bb0ee7a)\" style=\"fill: none; stroke: #1f77b4; stroke-width: 1.5; stroke-linecap: square\"/>\n   </g>\n   <g id=\"line2d_125\">\n    <path d=\"M 49.633125 33.741701 \nL 69.163125 101.754494 \nL 88.693125 111.583909 \nL 108.223125 115.533004 \nL 127.753125 118.919414 \nL 147.283125 120.380599 \nL 166.813125 123.698089 \nL 186.343125 125.190804 \nL 205.873125 126.630479 \nL 225.403125 125.348958 \n\" clip-path=\"url(#pf29bb0ee7a)\" style=\"fill: none; stroke-dasharray: 5.55,2.4; stroke-dashoffset: 0; stroke: #ff7f0e; stroke-width: 1.5\"/>\n   </g>\n   <g id=\"line2d_126\">\n    <path d=\"M 49.633125 139.5 \nL 69.163125 117.792408 \nL 88.693125 113.803909 \nL 108.223125 112.559052 \nL 127.753125 111.5867 \nL 147.283125 111.060268 \nL 166.813125 109.741091 \nL 186.343125 109.388071 \nL 205.873125 108.812092 \nL 225.403125 109.81541 \n\" clip-path=\"url(#pf29bb0ee7a)\" style=\"fill: none; stroke-dasharray: 9.6,2.4,1.5,2.4; stroke-dashoffset: 0; stroke: #2ca02c; stroke-width: 1.5\"/>\n   </g>\n   <g id=\"patch_3\">\n    <path d=\"M 30.103125 145.8 \nL 30.103125 7.2 \n\" style=\"fill: none; stroke: #000000; stroke-width: 0.8; stroke-linejoin: miter; stroke-linecap: square\"/>\n   </g>\n   <g id=\"patch_4\">\n    <path d=\"M 225.403125 145.8 \nL 225.403125 7.2 \n\" style=\"fill: none; stroke: #000000; stroke-width: 0.8; stroke-linejoin: miter; stroke-linecap: square\"/>\n   </g>\n   <g id=\"patch_5\">\n    <path d=\"M 30.103125 145.8 \nL 225.403125 145.8 \n\" style=\"fill: none; stroke: #000000; stroke-width: 0.8; stroke-linejoin: miter; stroke-linecap: square\"/>\n   </g>\n   <g id=\"patch_6\">\n    <path d=\"M 30.103125 7.2 \nL 225.403125 7.2 \n\" style=\"fill: none; stroke: #000000; stroke-width: 0.8; stroke-linejoin: miter; stroke-linecap: square\"/>\n   </g>\n   <g id=\"legend_1\">\n    <g id=\"patch_7\">\n     <path d=\"M 138.8125 60.06875 \nL 218.403125 60.06875 \nQ 220.403125 60.06875 220.403125 58.06875 \nL 220.403125 14.2 \nQ 220.403125 12.2 218.403125 12.2 \nL 138.8125 12.2 \nQ 136.8125 12.2 136.8125 14.2 \nL 136.8125 58.06875 \nQ 136.8125 60.06875 138.8125 60.06875 \nz\n\" style=\"fill: #ffffff; opacity: 0.8; stroke: #cccccc; stroke-linejoin: miter\"/>\n    </g>\n    <g id=\"line2d_127\">\n     <path d=\"M 140.8125 20.298438 \nL 150.8125 20.298438 \nL 160.8125 20.298438 \n\" style=\"fill: none; stroke: #1f77b4; stroke-width: 1.5; stroke-linecap: square\"/>\n    </g>\n    <g id=\"text_12\">\n     <!-- train_loss -->\n     <g transform=\"translate(168.8125 23.798438) scale(0.1 -0.1)\">\n      <defs>\n       <path id=\"DejaVuSans-74\" d=\"M 1172 4494 \nL 1172 3500 \nL 2356 3500 \nL 2356 3053 \nL 1172 3053 \nL 1172 1153 \nQ 1172 725 1289 603 \nQ 1406 481 1766 481 \nL 2356 481 \nL 2356 0 \nL 1766 0 \nQ 1100 0 847 248 \nQ 594 497 594 1153 \nL 594 3053 \nL 172 3053 \nL 172 3500 \nL 594 3500 \nL 594 4494 \nL 1172 4494 \nz\n\" transform=\"scale(0.015625)\"/>\n       <path id=\"DejaVuSans-72\" d=\"M 2631 2963 \nQ 2534 3019 2420 3045 \nQ 2306 3072 2169 3072 \nQ 1681 3072 1420 2755 \nQ 1159 2438 1159 1844 \nL 1159 0 \nL 581 0 \nL 581 3500 \nL 1159 3500 \nL 1159 2956 \nQ 1341 3275 1631 3429 \nQ 1922 3584 2338 3584 \nQ 2397 3584 2469 3576 \nQ 2541 3569 2628 3553 \nL 2631 2963 \nz\n\" transform=\"scale(0.015625)\"/>\n       <path id=\"DejaVuSans-61\" d=\"M 2194 1759 \nQ 1497 1759 1228 1600 \nQ 959 1441 959 1056 \nQ 959 750 1161 570 \nQ 1363 391 1709 391 \nQ 2188 391 2477 730 \nQ 2766 1069 2766 1631 \nL 2766 1759 \nL 2194 1759 \nz\nM 3341 1997 \nL 3341 0 \nL 2766 0 \nL 2766 531 \nQ 2569 213 2275 61 \nQ 1981 -91 1556 -91 \nQ 1019 -91 701 211 \nQ 384 513 384 1019 \nQ 384 1609 779 1909 \nQ 1175 2209 1959 2209 \nL 2766 2209 \nL 2766 2266 \nQ 2766 2663 2505 2880 \nQ 2244 3097 1772 3097 \nQ 1472 3097 1187 3025 \nQ 903 2953 641 2809 \nL 641 3341 \nQ 956 3463 1253 3523 \nQ 1550 3584 1831 3584 \nQ 2591 3584 2966 3190 \nQ 3341 2797 3341 1997 \nz\n\" transform=\"scale(0.015625)\"/>\n       <path id=\"DejaVuSans-69\" d=\"M 603 3500 \nL 1178 3500 \nL 1178 0 \nL 603 0 \nL 603 3500 \nz\nM 603 4863 \nL 1178 4863 \nL 1178 4134 \nL 603 4134 \nL 603 4863 \nz\n\" transform=\"scale(0.015625)\"/>\n       <path id=\"DejaVuSans-6e\" d=\"M 3513 2113 \nL 3513 0 \nL 2938 0 \nL 2938 2094 \nQ 2938 2591 2744 2837 \nQ 2550 3084 2163 3084 \nQ 1697 3084 1428 2787 \nQ 1159 2491 1159 1978 \nL 1159 0 \nL 581 0 \nL 581 3500 \nL 1159 3500 \nL 1159 2956 \nQ 1366 3272 1645 3428 \nQ 1925 3584 2291 3584 \nQ 2894 3584 3203 3211 \nQ 3513 2838 3513 2113 \nz\n\" transform=\"scale(0.015625)\"/>\n       <path id=\"DejaVuSans-5f\" d=\"M 3263 -1063 \nL 3263 -1509 \nL -63 -1509 \nL -63 -1063 \nL 3263 -1063 \nz\n\" transform=\"scale(0.015625)\"/>\n       <path id=\"DejaVuSans-6c\" d=\"M 603 4863 \nL 1178 4863 \nL 1178 0 \nL 603 0 \nL 603 4863 \nz\n\" transform=\"scale(0.015625)\"/>\n       <path id=\"DejaVuSans-73\" d=\"M 2834 3397 \nL 2834 2853 \nQ 2591 2978 2328 3040 \nQ 2066 3103 1784 3103 \nQ 1356 3103 1142 2972 \nQ 928 2841 928 2578 \nQ 928 2378 1081 2264 \nQ 1234 2150 1697 2047 \nL 1894 2003 \nQ 2506 1872 2764 1633 \nQ 3022 1394 3022 966 \nQ 3022 478 2636 193 \nQ 2250 -91 1575 -91 \nQ 1294 -91 989 -36 \nQ 684 19 347 128 \nL 347 722 \nQ 666 556 975 473 \nQ 1284 391 1588 391 \nQ 1994 391 2212 530 \nQ 2431 669 2431 922 \nQ 2431 1156 2273 1281 \nQ 2116 1406 1581 1522 \nL 1381 1569 \nQ 847 1681 609 1914 \nQ 372 2147 372 2553 \nQ 372 3047 722 3315 \nQ 1072 3584 1716 3584 \nQ 2034 3584 2315 3537 \nQ 2597 3491 2834 3397 \nz\n\" transform=\"scale(0.015625)\"/>\n      </defs>\n      <use xlink:href=\"#DejaVuSans-74\"/>\n      <use xlink:href=\"#DejaVuSans-72\" x=\"39.208984\"/>\n      <use xlink:href=\"#DejaVuSans-61\" x=\"80.322266\"/>\n      <use xlink:href=\"#DejaVuSans-69\" x=\"141.601562\"/>\n      <use xlink:href=\"#DejaVuSans-6e\" x=\"169.384766\"/>\n      <use xlink:href=\"#DejaVuSans-5f\" x=\"232.763672\"/>\n      <use xlink:href=\"#DejaVuSans-6c\" x=\"282.763672\"/>\n      <use xlink:href=\"#DejaVuSans-6f\" x=\"310.546875\"/>\n      <use xlink:href=\"#DejaVuSans-73\" x=\"371.728516\"/>\n      <use xlink:href=\"#DejaVuSans-73\" x=\"423.828125\"/>\n     </g>\n    </g>\n    <g id=\"line2d_128\">\n     <path d=\"M 140.8125 35.254688 \nL 150.8125 35.254688 \nL 160.8125 35.254688 \n\" style=\"fill: none; stroke-dasharray: 5.55,2.4; stroke-dashoffset: 0; stroke: #ff7f0e; stroke-width: 1.5\"/>\n    </g>\n    <g id=\"text_13\">\n     <!-- val_loss -->\n     <g transform=\"translate(168.8125 38.754688) scale(0.1 -0.1)\">\n      <defs>\n       <path id=\"DejaVuSans-76\" d=\"M 191 3500 \nL 800 3500 \nL 1894 563 \nL 2988 3500 \nL 3597 3500 \nL 2284 0 \nL 1503 0 \nL 191 3500 \nz\n\" transform=\"scale(0.015625)\"/>\n      </defs>\n      <use xlink:href=\"#DejaVuSans-76\"/>\n      <use xlink:href=\"#DejaVuSans-61\" x=\"59.179688\"/>\n      <use xlink:href=\"#DejaVuSans-6c\" x=\"120.458984\"/>\n      <use xlink:href=\"#DejaVuSans-5f\" x=\"148.242188\"/>\n      <use xlink:href=\"#DejaVuSans-6c\" x=\"198.242188\"/>\n      <use xlink:href=\"#DejaVuSans-6f\" x=\"226.025391\"/>\n      <use xlink:href=\"#DejaVuSans-73\" x=\"287.207031\"/>\n      <use xlink:href=\"#DejaVuSans-73\" x=\"339.306641\"/>\n     </g>\n    </g>\n    <g id=\"line2d_129\">\n     <path d=\"M 140.8125 50.210938 \nL 150.8125 50.210938 \nL 160.8125 50.210938 \n\" style=\"fill: none; stroke-dasharray: 9.6,2.4,1.5,2.4; stroke-dashoffset: 0; stroke: #2ca02c; stroke-width: 1.5\"/>\n    </g>\n    <g id=\"text_14\">\n     <!-- val_acc -->\n     <g transform=\"translate(168.8125 53.710938) scale(0.1 -0.1)\">\n      <use xlink:href=\"#DejaVuSans-76\"/>\n      <use xlink:href=\"#DejaVuSans-61\" x=\"59.179688\"/>\n      <use xlink:href=\"#DejaVuSans-6c\" x=\"120.458984\"/>\n      <use xlink:href=\"#DejaVuSans-5f\" x=\"148.242188\"/>\n      <use xlink:href=\"#DejaVuSans-61\" x=\"198.242188\"/>\n      <use xlink:href=\"#DejaVuSans-63\" x=\"259.521484\"/>\n      <use xlink:href=\"#DejaVuSans-63\" x=\"314.501953\"/>\n     </g>\n    </g>\n   </g>\n  </g>\n </g>\n <defs>\n  <clipPath id=\"pf29bb0ee7a\">\n   <rect x=\"30.103125\" y=\"7.2\" width=\"195.3\" height=\"138.6\"/>\n  </clipPath>\n </defs>\n</svg>\n"
          },
          "metadata": {}
        }
      ]
    },
    {
      "cell_type": "code",
      "source": [
        "def init_cnn(module):\n",
        "    if type(module) == nn.Linear or type(module) == nn.Conv2d:\n",
        "        nn.init.xavier_uniform_(module.weight)\n",
        "\n",
        "class LeNet2(d2l.Classifier):\n",
        "    def __init__(self, lr=0.1, num_classes=10):\n",
        "        super().__init__()\n",
        "        self.save_hyperparameters()\n",
        "        self.net = nn.Sequential(\n",
        "            nn.LazyConv2d(6, kernel_size=5, padding=2), nn.Sigmoid(),\n",
        "            nn.MaxPool2d(kernel_size=2, stride=2),\n",
        "            nn.LazyConv2d(16, kernel_size=5), nn.Sigmoid(),\n",
        "            nn.MaxPool2d(kernel_size=2, stride=2),\n",
        "            nn.Flatten(),\n",
        "            nn.LazyLinear(120), nn.Sigmoid(),\n",
        "            nn.LazyLinear(84), nn.Sigmoid(),\n",
        "            nn.LazyLinear(num_classes))"
      ],
      "metadata": {
        "id": "-ewtv8-nU-Ka"
      },
      "execution_count": null,
      "outputs": []
    },
    {
      "cell_type": "code",
      "source": [
        "@d2l.add_to_class(d2l.Classifier)\n",
        "def layer_summary(self, X_shape):\n",
        "  X = torch.randn(*X_shape)\n",
        "  for layer in self.net:\n",
        "    X = layer(X)\n",
        "    print(layer.__class__.__name__, 'output shape:\\t', X.shape)\n",
        "\n",
        "model2 = LeNet2()\n",
        "model2.layer_summary((1, 1, 28, 28))"
      ],
      "metadata": {
        "colab": {
          "base_uri": "https://localhost:8080/"
        },
        "id": "TQh2re1QVNl_",
        "outputId": "807916d3-d842-4b16-c7ef-e732394555c4"
      },
      "execution_count": null,
      "outputs": [
        {
          "output_type": "stream",
          "name": "stdout",
          "text": [
            "Conv2d output shape:\t torch.Size([1, 6, 28, 28])\n",
            "Sigmoid output shape:\t torch.Size([1, 6, 28, 28])\n",
            "MaxPool2d output shape:\t torch.Size([1, 6, 14, 14])\n",
            "Conv2d output shape:\t torch.Size([1, 16, 10, 10])\n",
            "Sigmoid output shape:\t torch.Size([1, 16, 10, 10])\n",
            "MaxPool2d output shape:\t torch.Size([1, 16, 5, 5])\n",
            "Flatten output shape:\t torch.Size([1, 400])\n",
            "Linear output shape:\t torch.Size([1, 120])\n",
            "Sigmoid output shape:\t torch.Size([1, 120])\n",
            "Linear output shape:\t torch.Size([1, 84])\n",
            "Sigmoid output shape:\t torch.Size([1, 84])\n",
            "Linear output shape:\t torch.Size([1, 10])\n"
          ]
        }
      ]
    },
    {
      "cell_type": "code",
      "source": [
        "trainer = d2l.Trainer(max_epochs=10, num_gpus=1)\n",
        "data = d2l.FashionMNIST(batch_size=128)\n",
        "model2 = LeNet2(lr=0.1)\n",
        "model2.apply_init([next(iter(data.get_dataloader(True)))[0]], init_cnn)\n",
        "trainer.fit(model2, data)"
      ],
      "metadata": {
        "colab": {
          "base_uri": "https://localhost:8080/",
          "height": 265
        },
        "id": "1DBDHPuuVO-P",
        "outputId": "4f3332bb-bc33-415f-efce-5f1c6ee602f6"
      },
      "execution_count": null,
      "outputs": [
        {
          "output_type": "display_data",
          "data": {
            "text/plain": [
              "<Figure size 350x250 with 1 Axes>"
            ],
            "image/svg+xml": "<?xml version=\"1.0\" encoding=\"utf-8\" standalone=\"no\"?>\n<!DOCTYPE svg PUBLIC \"-//W3C//DTD SVG 1.1//EN\"\n  \"http://www.w3.org/Graphics/SVG/1.1/DTD/svg11.dtd\">\n<svg xmlns:xlink=\"http://www.w3.org/1999/xlink\" width=\"238.965625pt\" height=\"183.35625pt\" viewBox=\"0 0 238.965625 183.35625\" xmlns=\"http://www.w3.org/2000/svg\" version=\"1.1\">\n <metadata>\n  <rdf:RDF xmlns:dc=\"http://purl.org/dc/elements/1.1/\" xmlns:cc=\"http://creativecommons.org/ns#\" xmlns:rdf=\"http://www.w3.org/1999/02/22-rdf-syntax-ns#\">\n   <cc:Work>\n    <dc:type rdf:resource=\"http://purl.org/dc/dcmitype/StillImage\"/>\n    <dc:date>2024-10-10T07:38:56.844018</dc:date>\n    <dc:format>image/svg+xml</dc:format>\n    <dc:creator>\n     <cc:Agent>\n      <dc:title>Matplotlib v3.7.2, https://matplotlib.org/</dc:title>\n     </cc:Agent>\n    </dc:creator>\n   </cc:Work>\n  </rdf:RDF>\n </metadata>\n <defs>\n  <style type=\"text/css\">*{stroke-linejoin: round; stroke-linecap: butt}</style>\n </defs>\n <g id=\"figure_1\">\n  <g id=\"patch_1\">\n   <path d=\"M 0 183.35625 \nL 238.965625 183.35625 \nL 238.965625 0 \nL 0 0 \nz\n\" style=\"fill: #ffffff\"/>\n  </g>\n  <g id=\"axes_1\">\n   <g id=\"patch_2\">\n    <path d=\"M 30.103125 145.8 \nL 225.403125 145.8 \nL 225.403125 7.2 \nL 30.103125 7.2 \nz\n\" style=\"fill: #ffffff\"/>\n   </g>\n   <g id=\"matplotlib.axis_1\">\n    <g id=\"xtick_1\">\n     <g id=\"line2d_1\">\n      <defs>\n       <path id=\"m62433e23c9\" d=\"M 0 0 \nL 0 3.5 \n\" style=\"stroke: #000000; stroke-width: 0.8\"/>\n      </defs>\n      <g>\n       <use xlink:href=\"#m62433e23c9\" x=\"30.103125\" y=\"145.8\" style=\"stroke: #000000; stroke-width: 0.8\"/>\n      </g>\n     </g>\n     <g id=\"text_1\">\n      <!-- 0 -->\n      <g transform=\"translate(26.921875 160.398438) scale(0.1 -0.1)\">\n       <defs>\n        <path id=\"DejaVuSans-30\" d=\"M 2034 4250 \nQ 1547 4250 1301 3770 \nQ 1056 3291 1056 2328 \nQ 1056 1369 1301 889 \nQ 1547 409 2034 409 \nQ 2525 409 2770 889 \nQ 3016 1369 3016 2328 \nQ 3016 3291 2770 3770 \nQ 2525 4250 2034 4250 \nz\nM 2034 4750 \nQ 2819 4750 3233 4129 \nQ 3647 3509 3647 2328 \nQ 3647 1150 3233 529 \nQ 2819 -91 2034 -91 \nQ 1250 -91 836 529 \nQ 422 1150 422 2328 \nQ 422 3509 836 4129 \nQ 1250 4750 2034 4750 \nz\n\" transform=\"scale(0.015625)\"/>\n       </defs>\n       <use xlink:href=\"#DejaVuSans-30\"/>\n      </g>\n     </g>\n    </g>\n    <g id=\"xtick_2\">\n     <g id=\"line2d_2\">\n      <g>\n       <use xlink:href=\"#m62433e23c9\" x=\"69.163125\" y=\"145.8\" style=\"stroke: #000000; stroke-width: 0.8\"/>\n      </g>\n     </g>\n     <g id=\"text_2\">\n      <!-- 2 -->\n      <g transform=\"translate(65.981875 160.398438) scale(0.1 -0.1)\">\n       <defs>\n        <path id=\"DejaVuSans-32\" d=\"M 1228 531 \nL 3431 531 \nL 3431 0 \nL 469 0 \nL 469 531 \nQ 828 903 1448 1529 \nQ 2069 2156 2228 2338 \nQ 2531 2678 2651 2914 \nQ 2772 3150 2772 3378 \nQ 2772 3750 2511 3984 \nQ 2250 4219 1831 4219 \nQ 1534 4219 1204 4116 \nQ 875 4013 500 3803 \nL 500 4441 \nQ 881 4594 1212 4672 \nQ 1544 4750 1819 4750 \nQ 2544 4750 2975 4387 \nQ 3406 4025 3406 3419 \nQ 3406 3131 3298 2873 \nQ 3191 2616 2906 2266 \nQ 2828 2175 2409 1742 \nQ 1991 1309 1228 531 \nz\n\" transform=\"scale(0.015625)\"/>\n       </defs>\n       <use xlink:href=\"#DejaVuSans-32\"/>\n      </g>\n     </g>\n    </g>\n    <g id=\"xtick_3\">\n     <g id=\"line2d_3\">\n      <g>\n       <use xlink:href=\"#m62433e23c9\" x=\"108.223125\" y=\"145.8\" style=\"stroke: #000000; stroke-width: 0.8\"/>\n      </g>\n     </g>\n     <g id=\"text_3\">\n      <!-- 4 -->\n      <g transform=\"translate(105.041875 160.398438) scale(0.1 -0.1)\">\n       <defs>\n        <path id=\"DejaVuSans-34\" d=\"M 2419 4116 \nL 825 1625 \nL 2419 1625 \nL 2419 4116 \nz\nM 2253 4666 \nL 3047 4666 \nL 3047 1625 \nL 3713 1625 \nL 3713 1100 \nL 3047 1100 \nL 3047 0 \nL 2419 0 \nL 2419 1100 \nL 313 1100 \nL 313 1709 \nL 2253 4666 \nz\n\" transform=\"scale(0.015625)\"/>\n       </defs>\n       <use xlink:href=\"#DejaVuSans-34\"/>\n      </g>\n     </g>\n    </g>\n    <g id=\"xtick_4\">\n     <g id=\"line2d_4\">\n      <g>\n       <use xlink:href=\"#m62433e23c9\" x=\"147.283125\" y=\"145.8\" style=\"stroke: #000000; stroke-width: 0.8\"/>\n      </g>\n     </g>\n     <g id=\"text_4\">\n      <!-- 6 -->\n      <g transform=\"translate(144.101875 160.398438) scale(0.1 -0.1)\">\n       <defs>\n        <path id=\"DejaVuSans-36\" d=\"M 2113 2584 \nQ 1688 2584 1439 2293 \nQ 1191 2003 1191 1497 \nQ 1191 994 1439 701 \nQ 1688 409 2113 409 \nQ 2538 409 2786 701 \nQ 3034 994 3034 1497 \nQ 3034 2003 2786 2293 \nQ 2538 2584 2113 2584 \nz\nM 3366 4563 \nL 3366 3988 \nQ 3128 4100 2886 4159 \nQ 2644 4219 2406 4219 \nQ 1781 4219 1451 3797 \nQ 1122 3375 1075 2522 \nQ 1259 2794 1537 2939 \nQ 1816 3084 2150 3084 \nQ 2853 3084 3261 2657 \nQ 3669 2231 3669 1497 \nQ 3669 778 3244 343 \nQ 2819 -91 2113 -91 \nQ 1303 -91 875 529 \nQ 447 1150 447 2328 \nQ 447 3434 972 4092 \nQ 1497 4750 2381 4750 \nQ 2619 4750 2861 4703 \nQ 3103 4656 3366 4563 \nz\n\" transform=\"scale(0.015625)\"/>\n       </defs>\n       <use xlink:href=\"#DejaVuSans-36\"/>\n      </g>\n     </g>\n    </g>\n    <g id=\"xtick_5\">\n     <g id=\"line2d_5\">\n      <g>\n       <use xlink:href=\"#m62433e23c9\" x=\"186.343125\" y=\"145.8\" style=\"stroke: #000000; stroke-width: 0.8\"/>\n      </g>\n     </g>\n     <g id=\"text_5\">\n      <!-- 8 -->\n      <g transform=\"translate(183.161875 160.398438) scale(0.1 -0.1)\">\n       <defs>\n        <path id=\"DejaVuSans-38\" d=\"M 2034 2216 \nQ 1584 2216 1326 1975 \nQ 1069 1734 1069 1313 \nQ 1069 891 1326 650 \nQ 1584 409 2034 409 \nQ 2484 409 2743 651 \nQ 3003 894 3003 1313 \nQ 3003 1734 2745 1975 \nQ 2488 2216 2034 2216 \nz\nM 1403 2484 \nQ 997 2584 770 2862 \nQ 544 3141 544 3541 \nQ 544 4100 942 4425 \nQ 1341 4750 2034 4750 \nQ 2731 4750 3128 4425 \nQ 3525 4100 3525 3541 \nQ 3525 3141 3298 2862 \nQ 3072 2584 2669 2484 \nQ 3125 2378 3379 2068 \nQ 3634 1759 3634 1313 \nQ 3634 634 3220 271 \nQ 2806 -91 2034 -91 \nQ 1263 -91 848 271 \nQ 434 634 434 1313 \nQ 434 1759 690 2068 \nQ 947 2378 1403 2484 \nz\nM 1172 3481 \nQ 1172 3119 1398 2916 \nQ 1625 2713 2034 2713 \nQ 2441 2713 2670 2916 \nQ 2900 3119 2900 3481 \nQ 2900 3844 2670 4047 \nQ 2441 4250 2034 4250 \nQ 1625 4250 1398 4047 \nQ 1172 3844 1172 3481 \nz\n\" transform=\"scale(0.015625)\"/>\n       </defs>\n       <use xlink:href=\"#DejaVuSans-38\"/>\n      </g>\n     </g>\n    </g>\n    <g id=\"xtick_6\">\n     <g id=\"line2d_6\">\n      <g>\n       <use xlink:href=\"#m62433e23c9\" x=\"225.403125\" y=\"145.8\" style=\"stroke: #000000; stroke-width: 0.8\"/>\n      </g>\n     </g>\n     <g id=\"text_6\">\n      <!-- 10 -->\n      <g transform=\"translate(219.040625 160.398438) scale(0.1 -0.1)\">\n       <defs>\n        <path id=\"DejaVuSans-31\" d=\"M 794 531 \nL 1825 531 \nL 1825 4091 \nL 703 3866 \nL 703 4441 \nL 1819 4666 \nL 2450 4666 \nL 2450 531 \nL 3481 531 \nL 3481 0 \nL 794 0 \nL 794 531 \nz\n\" transform=\"scale(0.015625)\"/>\n       </defs>\n       <use xlink:href=\"#DejaVuSans-31\"/>\n       <use xlink:href=\"#DejaVuSans-30\" x=\"63.623047\"/>\n      </g>\n     </g>\n    </g>\n    <g id=\"text_7\">\n     <!-- epoch -->\n     <g transform=\"translate(112.525 174.076563) scale(0.1 -0.1)\">\n      <defs>\n       <path id=\"DejaVuSans-65\" d=\"M 3597 1894 \nL 3597 1613 \nL 953 1613 \nQ 991 1019 1311 708 \nQ 1631 397 2203 397 \nQ 2534 397 2845 478 \nQ 3156 559 3463 722 \nL 3463 178 \nQ 3153 47 2828 -22 \nQ 2503 -91 2169 -91 \nQ 1331 -91 842 396 \nQ 353 884 353 1716 \nQ 353 2575 817 3079 \nQ 1281 3584 2069 3584 \nQ 2775 3584 3186 3129 \nQ 3597 2675 3597 1894 \nz\nM 3022 2063 \nQ 3016 2534 2758 2815 \nQ 2500 3097 2075 3097 \nQ 1594 3097 1305 2825 \nQ 1016 2553 972 2059 \nL 3022 2063 \nz\n\" transform=\"scale(0.015625)\"/>\n       <path id=\"DejaVuSans-70\" d=\"M 1159 525 \nL 1159 -1331 \nL 581 -1331 \nL 581 3500 \nL 1159 3500 \nL 1159 2969 \nQ 1341 3281 1617 3432 \nQ 1894 3584 2278 3584 \nQ 2916 3584 3314 3078 \nQ 3713 2572 3713 1747 \nQ 3713 922 3314 415 \nQ 2916 -91 2278 -91 \nQ 1894 -91 1617 61 \nQ 1341 213 1159 525 \nz\nM 3116 1747 \nQ 3116 2381 2855 2742 \nQ 2594 3103 2138 3103 \nQ 1681 3103 1420 2742 \nQ 1159 2381 1159 1747 \nQ 1159 1113 1420 752 \nQ 1681 391 2138 391 \nQ 2594 391 2855 752 \nQ 3116 1113 3116 1747 \nz\n\" transform=\"scale(0.015625)\"/>\n       <path id=\"DejaVuSans-6f\" d=\"M 1959 3097 \nQ 1497 3097 1228 2736 \nQ 959 2375 959 1747 \nQ 959 1119 1226 758 \nQ 1494 397 1959 397 \nQ 2419 397 2687 759 \nQ 2956 1122 2956 1747 \nQ 2956 2369 2687 2733 \nQ 2419 3097 1959 3097 \nz\nM 1959 3584 \nQ 2709 3584 3137 3096 \nQ 3566 2609 3566 1747 \nQ 3566 888 3137 398 \nQ 2709 -91 1959 -91 \nQ 1206 -91 779 398 \nQ 353 888 353 1747 \nQ 353 2609 779 3096 \nQ 1206 3584 1959 3584 \nz\n\" transform=\"scale(0.015625)\"/>\n       <path id=\"DejaVuSans-63\" d=\"M 3122 3366 \nL 3122 2828 \nQ 2878 2963 2633 3030 \nQ 2388 3097 2138 3097 \nQ 1578 3097 1268 2742 \nQ 959 2388 959 1747 \nQ 959 1106 1268 751 \nQ 1578 397 2138 397 \nQ 2388 397 2633 464 \nQ 2878 531 3122 666 \nL 3122 134 \nQ 2881 22 2623 -34 \nQ 2366 -91 2075 -91 \nQ 1284 -91 818 406 \nQ 353 903 353 1747 \nQ 353 2603 823 3093 \nQ 1294 3584 2113 3584 \nQ 2378 3584 2631 3529 \nQ 2884 3475 3122 3366 \nz\n\" transform=\"scale(0.015625)\"/>\n       <path id=\"DejaVuSans-68\" d=\"M 3513 2113 \nL 3513 0 \nL 2938 0 \nL 2938 2094 \nQ 2938 2591 2744 2837 \nQ 2550 3084 2163 3084 \nQ 1697 3084 1428 2787 \nQ 1159 2491 1159 1978 \nL 1159 0 \nL 581 0 \nL 581 4863 \nL 1159 4863 \nL 1159 2956 \nQ 1366 3272 1645 3428 \nQ 1925 3584 2291 3584 \nQ 2894 3584 3203 3211 \nQ 3513 2838 3513 2113 \nz\n\" transform=\"scale(0.015625)\"/>\n      </defs>\n      <use xlink:href=\"#DejaVuSans-65\"/>\n      <use xlink:href=\"#DejaVuSans-70\" x=\"61.523438\"/>\n      <use xlink:href=\"#DejaVuSans-6f\" x=\"125\"/>\n      <use xlink:href=\"#DejaVuSans-63\" x=\"186.181641\"/>\n      <use xlink:href=\"#DejaVuSans-68\" x=\"241.162109\"/>\n     </g>\n    </g>\n   </g>\n   <g id=\"matplotlib.axis_2\">\n    <g id=\"ytick_1\">\n     <g id=\"line2d_7\">\n      <defs>\n       <path id=\"m4ba29261ee\" d=\"M 0 0 \nL -3.5 0 \n\" style=\"stroke: #000000; stroke-width: 0.8\"/>\n      </defs>\n      <g>\n       <use xlink:href=\"#m4ba29261ee\" x=\"30.103125\" y=\"145.176462\" style=\"stroke: #000000; stroke-width: 0.8\"/>\n      </g>\n     </g>\n     <g id=\"text_8\">\n      <!-- 0.0 -->\n      <g transform=\"translate(7.2 148.97568) scale(0.1 -0.1)\">\n       <defs>\n        <path id=\"DejaVuSans-2e\" d=\"M 684 794 \nL 1344 794 \nL 1344 0 \nL 684 0 \nL 684 794 \nz\n\" transform=\"scale(0.015625)\"/>\n       </defs>\n       <use xlink:href=\"#DejaVuSans-30\"/>\n       <use xlink:href=\"#DejaVuSans-2e\" x=\"63.623047\"/>\n       <use xlink:href=\"#DejaVuSans-30\" x=\"95.410156\"/>\n      </g>\n     </g>\n    </g>\n    <g id=\"ytick_2\">\n     <g id=\"line2d_8\">\n      <g>\n       <use xlink:href=\"#m4ba29261ee\" x=\"30.103125\" y=\"116.675776\" style=\"stroke: #000000; stroke-width: 0.8\"/>\n      </g>\n     </g>\n     <g id=\"text_9\">\n      <!-- 0.5 -->\n      <g transform=\"translate(7.2 120.474995) scale(0.1 -0.1)\">\n       <defs>\n        <path id=\"DejaVuSans-35\" d=\"M 691 4666 \nL 3169 4666 \nL 3169 4134 \nL 1269 4134 \nL 1269 2991 \nQ 1406 3038 1543 3061 \nQ 1681 3084 1819 3084 \nQ 2600 3084 3056 2656 \nQ 3513 2228 3513 1497 \nQ 3513 744 3044 326 \nQ 2575 -91 1722 -91 \nQ 1428 -91 1123 -41 \nQ 819 9 494 109 \nL 494 744 \nQ 775 591 1075 516 \nQ 1375 441 1709 441 \nQ 2250 441 2565 725 \nQ 2881 1009 2881 1497 \nQ 2881 1984 2565 2268 \nQ 2250 2553 1709 2553 \nQ 1456 2553 1204 2497 \nQ 953 2441 691 2322 \nL 691 4666 \nz\n\" transform=\"scale(0.015625)\"/>\n       </defs>\n       <use xlink:href=\"#DejaVuSans-30\"/>\n       <use xlink:href=\"#DejaVuSans-2e\" x=\"63.623047\"/>\n       <use xlink:href=\"#DejaVuSans-35\" x=\"95.410156\"/>\n      </g>\n     </g>\n    </g>\n    <g id=\"ytick_3\">\n     <g id=\"line2d_9\">\n      <g>\n       <use xlink:href=\"#m4ba29261ee\" x=\"30.103125\" y=\"88.175091\" style=\"stroke: #000000; stroke-width: 0.8\"/>\n      </g>\n     </g>\n     <g id=\"text_10\">\n      <!-- 1.0 -->\n      <g transform=\"translate(7.2 91.97431) scale(0.1 -0.1)\">\n       <use xlink:href=\"#DejaVuSans-31\"/>\n       <use xlink:href=\"#DejaVuSans-2e\" x=\"63.623047\"/>\n       <use xlink:href=\"#DejaVuSans-30\" x=\"95.410156\"/>\n      </g>\n     </g>\n    </g>\n    <g id=\"ytick_4\">\n     <g id=\"line2d_10\">\n      <g>\n       <use xlink:href=\"#m4ba29261ee\" x=\"30.103125\" y=\"59.674406\" style=\"stroke: #000000; stroke-width: 0.8\"/>\n      </g>\n     </g>\n     <g id=\"text_11\">\n      <!-- 1.5 -->\n      <g transform=\"translate(7.2 63.473625) scale(0.1 -0.1)\">\n       <use xlink:href=\"#DejaVuSans-31\"/>\n       <use xlink:href=\"#DejaVuSans-2e\" x=\"63.623047\"/>\n       <use xlink:href=\"#DejaVuSans-35\" x=\"95.410156\"/>\n      </g>\n     </g>\n    </g>\n    <g id=\"ytick_5\">\n     <g id=\"line2d_11\">\n      <g>\n       <use xlink:href=\"#m4ba29261ee\" x=\"30.103125\" y=\"31.173721\" style=\"stroke: #000000; stroke-width: 0.8\"/>\n      </g>\n     </g>\n     <g id=\"text_12\">\n      <!-- 2.0 -->\n      <g transform=\"translate(7.2 34.97294) scale(0.1 -0.1)\">\n       <use xlink:href=\"#DejaVuSans-32\"/>\n       <use xlink:href=\"#DejaVuSans-2e\" x=\"63.623047\"/>\n       <use xlink:href=\"#DejaVuSans-30\" x=\"95.410156\"/>\n      </g>\n     </g>\n    </g>\n   </g>\n   <g id=\"line2d_12\">\n    <path d=\"M 34.954394 13.5 \n\" clip-path=\"url(#pe03af5cda7)\" style=\"fill: none; stroke: #1f77b4; stroke-width: 1.5; stroke-linecap: square\"/>\n   </g>\n   <g id=\"line2d_13\">\n    <path d=\"M 34.954394 13.5 \nL 44.698573 13.615657 \n\" clip-path=\"url(#pe03af5cda7)\" style=\"fill: none; stroke: #1f77b4; stroke-width: 1.5; stroke-linecap: square\"/>\n   </g>\n   <g id=\"line2d_14\">\n    <path d=\"M 34.954394 13.5 \nL 44.698573 13.615657 \n\" clip-path=\"url(#pe03af5cda7)\" style=\"fill: none; stroke: #1f77b4; stroke-width: 1.5; stroke-linecap: square\"/>\n   </g>\n   <g id=\"line2d_15\">\n    <path d=\"M 49.633125 13.707871 \n\" clip-path=\"url(#pe03af5cda7)\" style=\"fill: none; stroke-dasharray: 5.55,2.4; stroke-dashoffset: 0; stroke: #ff7f0e; stroke-width: 1.5\"/>\n   </g>\n   <g id=\"line2d_16\"/>\n   <g id=\"line2d_17\">\n    <path d=\"M 34.954394 13.5 \nL 44.698573 13.615657 \n\" clip-path=\"url(#pe03af5cda7)\" style=\"fill: none; stroke: #1f77b4; stroke-width: 1.5; stroke-linecap: square\"/>\n   </g>\n   <g id=\"line2d_18\">\n    <path d=\"M 49.633125 13.707871 \n\" clip-path=\"url(#pe03af5cda7)\" style=\"fill: none; stroke-dasharray: 5.55,2.4; stroke-dashoffset: 0; stroke: #ff7f0e; stroke-width: 1.5\"/>\n   </g>\n   <g id=\"line2d_19\">\n    <path d=\"M 49.633125 139.421082 \n\" clip-path=\"url(#pe03af5cda7)\" style=\"fill: none; stroke-dasharray: 9.6,2.4,1.5,2.4; stroke-dashoffset: 0; stroke: #2ca02c; stroke-width: 1.5\"/>\n   </g>\n   <g id=\"line2d_20\">\n    <path d=\"M 34.954394 13.5 \nL 44.698573 13.615657 \nL 54.442752 13.697544 \n\" clip-path=\"url(#pe03af5cda7)\" style=\"fill: none; stroke: #1f77b4; stroke-width: 1.5; stroke-linecap: square\"/>\n   </g>\n   <g id=\"line2d_21\">\n    <path d=\"M 49.633125 13.707871 \n\" clip-path=\"url(#pe03af5cda7)\" style=\"fill: none; stroke-dasharray: 5.55,2.4; stroke-dashoffset: 0; stroke: #ff7f0e; stroke-width: 1.5\"/>\n   </g>\n   <g id=\"line2d_22\">\n    <path d=\"M 49.633125 139.421082 \n\" clip-path=\"url(#pe03af5cda7)\" style=\"fill: none; stroke-dasharray: 9.6,2.4,1.5,2.4; stroke-dashoffset: 0; stroke: #2ca02c; stroke-width: 1.5\"/>\n   </g>\n   <g id=\"line2d_23\">\n    <path d=\"M 34.954394 13.5 \nL 44.698573 13.615657 \nL 54.442752 13.697544 \nL 64.186931 13.890152 \n\" clip-path=\"url(#pe03af5cda7)\" style=\"fill: none; stroke: #1f77b4; stroke-width: 1.5; stroke-linecap: square\"/>\n   </g>\n   <g id=\"line2d_24\">\n    <path d=\"M 49.633125 13.707871 \n\" clip-path=\"url(#pe03af5cda7)\" style=\"fill: none; stroke-dasharray: 5.55,2.4; stroke-dashoffset: 0; stroke: #ff7f0e; stroke-width: 1.5\"/>\n   </g>\n   <g id=\"line2d_25\">\n    <path d=\"M 49.633125 139.421082 \n\" clip-path=\"url(#pe03af5cda7)\" style=\"fill: none; stroke-dasharray: 9.6,2.4,1.5,2.4; stroke-dashoffset: 0; stroke: #2ca02c; stroke-width: 1.5\"/>\n   </g>\n   <g id=\"line2d_26\">\n    <path d=\"M 34.954394 13.5 \nL 44.698573 13.615657 \nL 54.442752 13.697544 \nL 64.186931 13.890152 \n\" clip-path=\"url(#pe03af5cda7)\" style=\"fill: none; stroke: #1f77b4; stroke-width: 1.5; stroke-linecap: square\"/>\n   </g>\n   <g id=\"line2d_27\">\n    <path d=\"M 49.633125 13.707871 \nL 69.163125 14.122632 \n\" clip-path=\"url(#pe03af5cda7)\" style=\"fill: none; stroke-dasharray: 5.55,2.4; stroke-dashoffset: 0; stroke: #ff7f0e; stroke-width: 1.5\"/>\n   </g>\n   <g id=\"line2d_28\">\n    <path d=\"M 49.633125 139.421082 \n\" clip-path=\"url(#pe03af5cda7)\" style=\"fill: none; stroke-dasharray: 9.6,2.4,1.5,2.4; stroke-dashoffset: 0; stroke: #2ca02c; stroke-width: 1.5\"/>\n   </g>\n   <g id=\"line2d_29\">\n    <path d=\"M 34.954394 13.5 \nL 44.698573 13.615657 \nL 54.442752 13.697544 \nL 64.186931 13.890152 \n\" clip-path=\"url(#pe03af5cda7)\" style=\"fill: none; stroke: #1f77b4; stroke-width: 1.5; stroke-linecap: square\"/>\n   </g>\n   <g id=\"line2d_30\">\n    <path d=\"M 49.633125 13.707871 \nL 69.163125 14.122632 \n\" clip-path=\"url(#pe03af5cda7)\" style=\"fill: none; stroke-dasharray: 5.55,2.4; stroke-dashoffset: 0; stroke: #ff7f0e; stroke-width: 1.5\"/>\n   </g>\n   <g id=\"line2d_31\">\n    <path d=\"M 49.633125 139.421082 \nL 69.163125 139.5 \n\" clip-path=\"url(#pe03af5cda7)\" style=\"fill: none; stroke-dasharray: 9.6,2.4,1.5,2.4; stroke-dashoffset: 0; stroke: #2ca02c; stroke-width: 1.5\"/>\n   </g>\n   <g id=\"line2d_32\">\n    <path d=\"M 34.954394 13.5 \nL 44.698573 13.615657 \nL 54.442752 13.697544 \nL 64.186931 13.890152 \nL 73.93111 14.656434 \n\" clip-path=\"url(#pe03af5cda7)\" style=\"fill: none; stroke: #1f77b4; stroke-width: 1.5; stroke-linecap: square\"/>\n   </g>\n   <g id=\"line2d_33\">\n    <path d=\"M 49.633125 13.707871 \nL 69.163125 14.122632 \n\" clip-path=\"url(#pe03af5cda7)\" style=\"fill: none; stroke-dasharray: 5.55,2.4; stroke-dashoffset: 0; stroke: #ff7f0e; stroke-width: 1.5\"/>\n   </g>\n   <g id=\"line2d_34\">\n    <path d=\"M 49.633125 139.421082 \nL 69.163125 139.5 \n\" clip-path=\"url(#pe03af5cda7)\" style=\"fill: none; stroke-dasharray: 9.6,2.4,1.5,2.4; stroke-dashoffset: 0; stroke: #2ca02c; stroke-width: 1.5\"/>\n   </g>\n   <g id=\"line2d_35\">\n    <path d=\"M 34.954394 13.5 \nL 44.698573 13.615657 \nL 54.442752 13.697544 \nL 64.186931 13.890152 \nL 73.93111 14.656434 \nL 83.675289 25.209993 \n\" clip-path=\"url(#pe03af5cda7)\" style=\"fill: none; stroke: #1f77b4; stroke-width: 1.5; stroke-linecap: square\"/>\n   </g>\n   <g id=\"line2d_36\">\n    <path d=\"M 49.633125 13.707871 \nL 69.163125 14.122632 \n\" clip-path=\"url(#pe03af5cda7)\" style=\"fill: none; stroke-dasharray: 5.55,2.4; stroke-dashoffset: 0; stroke: #ff7f0e; stroke-width: 1.5\"/>\n   </g>\n   <g id=\"line2d_37\">\n    <path d=\"M 49.633125 139.421082 \nL 69.163125 139.5 \n\" clip-path=\"url(#pe03af5cda7)\" style=\"fill: none; stroke-dasharray: 9.6,2.4,1.5,2.4; stroke-dashoffset: 0; stroke: #2ca02c; stroke-width: 1.5\"/>\n   </g>\n   <g id=\"line2d_38\">\n    <path d=\"M 34.954394 13.5 \nL 44.698573 13.615657 \nL 54.442752 13.697544 \nL 64.186931 13.890152 \nL 73.93111 14.656434 \nL 83.675289 25.209993 \n\" clip-path=\"url(#pe03af5cda7)\" style=\"fill: none; stroke: #1f77b4; stroke-width: 1.5; stroke-linecap: square\"/>\n   </g>\n   <g id=\"line2d_39\">\n    <path d=\"M 49.633125 13.707871 \nL 69.163125 14.122632 \nL 88.693125 44.221973 \n\" clip-path=\"url(#pe03af5cda7)\" style=\"fill: none; stroke-dasharray: 5.55,2.4; stroke-dashoffset: 0; stroke: #ff7f0e; stroke-width: 1.5\"/>\n   </g>\n   <g id=\"line2d_40\">\n    <path d=\"M 49.633125 139.421082 \nL 69.163125 139.5 \n\" clip-path=\"url(#pe03af5cda7)\" style=\"fill: none; stroke-dasharray: 9.6,2.4,1.5,2.4; stroke-dashoffset: 0; stroke: #2ca02c; stroke-width: 1.5\"/>\n   </g>\n   <g id=\"line2d_41\">\n    <path d=\"M 34.954394 13.5 \nL 44.698573 13.615657 \nL 54.442752 13.697544 \nL 64.186931 13.890152 \nL 73.93111 14.656434 \nL 83.675289 25.209993 \n\" clip-path=\"url(#pe03af5cda7)\" style=\"fill: none; stroke: #1f77b4; stroke-width: 1.5; stroke-linecap: square\"/>\n   </g>\n   <g id=\"line2d_42\">\n    <path d=\"M 49.633125 13.707871 \nL 69.163125 14.122632 \nL 88.693125 44.221973 \n\" clip-path=\"url(#pe03af5cda7)\" style=\"fill: none; stroke-dasharray: 5.55,2.4; stroke-dashoffset: 0; stroke: #ff7f0e; stroke-width: 1.5\"/>\n   </g>\n   <g id=\"line2d_43\">\n    <path d=\"M 49.633125 139.421082 \nL 69.163125 139.5 \nL 88.693125 120.063615 \n\" clip-path=\"url(#pe03af5cda7)\" style=\"fill: none; stroke-dasharray: 9.6,2.4,1.5,2.4; stroke-dashoffset: 0; stroke: #2ca02c; stroke-width: 1.5\"/>\n   </g>\n   <g id=\"line2d_44\">\n    <path d=\"M 34.954394 13.5 \nL 44.698573 13.615657 \nL 54.442752 13.697544 \nL 64.186931 13.890152 \nL 73.93111 14.656434 \nL 83.675289 25.209993 \nL 93.419468 60.388905 \n\" clip-path=\"url(#pe03af5cda7)\" style=\"fill: none; stroke: #1f77b4; stroke-width: 1.5; stroke-linecap: square\"/>\n   </g>\n   <g id=\"line2d_45\">\n    <path d=\"M 49.633125 13.707871 \nL 69.163125 14.122632 \nL 88.693125 44.221973 \n\" clip-path=\"url(#pe03af5cda7)\" style=\"fill: none; stroke-dasharray: 5.55,2.4; stroke-dashoffset: 0; stroke: #ff7f0e; stroke-width: 1.5\"/>\n   </g>\n   <g id=\"line2d_46\">\n    <path d=\"M 49.633125 139.421082 \nL 69.163125 139.5 \nL 88.693125 120.063615 \n\" clip-path=\"url(#pe03af5cda7)\" style=\"fill: none; stroke-dasharray: 9.6,2.4,1.5,2.4; stroke-dashoffset: 0; stroke: #2ca02c; stroke-width: 1.5\"/>\n   </g>\n   <g id=\"line2d_47\">\n    <path d=\"M 34.954394 13.5 \nL 44.698573 13.615657 \nL 54.442752 13.697544 \nL 64.186931 13.890152 \nL 73.93111 14.656434 \nL 83.675289 25.209993 \nL 93.419468 60.388905 \nL 103.163647 76.831643 \n\" clip-path=\"url(#pe03af5cda7)\" style=\"fill: none; stroke: #1f77b4; stroke-width: 1.5; stroke-linecap: square\"/>\n   </g>\n   <g id=\"line2d_48\">\n    <path d=\"M 49.633125 13.707871 \nL 69.163125 14.122632 \nL 88.693125 44.221973 \n\" clip-path=\"url(#pe03af5cda7)\" style=\"fill: none; stroke-dasharray: 5.55,2.4; stroke-dashoffset: 0; stroke: #ff7f0e; stroke-width: 1.5\"/>\n   </g>\n   <g id=\"line2d_49\">\n    <path d=\"M 49.633125 139.421082 \nL 69.163125 139.5 \nL 88.693125 120.063615 \n\" clip-path=\"url(#pe03af5cda7)\" style=\"fill: none; stroke-dasharray: 9.6,2.4,1.5,2.4; stroke-dashoffset: 0; stroke: #2ca02c; stroke-width: 1.5\"/>\n   </g>\n   <g id=\"line2d_50\">\n    <path d=\"M 34.954394 13.5 \nL 44.698573 13.615657 \nL 54.442752 13.697544 \nL 64.186931 13.890152 \nL 73.93111 14.656434 \nL 83.675289 25.209993 \nL 93.419468 60.388905 \nL 103.163647 76.831643 \n\" clip-path=\"url(#pe03af5cda7)\" style=\"fill: none; stroke: #1f77b4; stroke-width: 1.5; stroke-linecap: square\"/>\n   </g>\n   <g id=\"line2d_51\">\n    <path d=\"M 49.633125 13.707871 \nL 69.163125 14.122632 \nL 88.693125 44.221973 \nL 108.223125 81.264719 \n\" clip-path=\"url(#pe03af5cda7)\" style=\"fill: none; stroke-dasharray: 5.55,2.4; stroke-dashoffset: 0; stroke: #ff7f0e; stroke-width: 1.5\"/>\n   </g>\n   <g id=\"line2d_52\">\n    <path d=\"M 49.633125 139.421082 \nL 69.163125 139.5 \nL 88.693125 120.063615 \n\" clip-path=\"url(#pe03af5cda7)\" style=\"fill: none; stroke-dasharray: 9.6,2.4,1.5,2.4; stroke-dashoffset: 0; stroke: #2ca02c; stroke-width: 1.5\"/>\n   </g>\n   <g id=\"line2d_53\">\n    <path d=\"M 34.954394 13.5 \nL 44.698573 13.615657 \nL 54.442752 13.697544 \nL 64.186931 13.890152 \nL 73.93111 14.656434 \nL 83.675289 25.209993 \nL 93.419468 60.388905 \nL 103.163647 76.831643 \n\" clip-path=\"url(#pe03af5cda7)\" style=\"fill: none; stroke: #1f77b4; stroke-width: 1.5; stroke-linecap: square\"/>\n   </g>\n   <g id=\"line2d_54\">\n    <path d=\"M 49.633125 13.707871 \nL 69.163125 14.122632 \nL 88.693125 44.221973 \nL 108.223125 81.264719 \n\" clip-path=\"url(#pe03af5cda7)\" style=\"fill: none; stroke-dasharray: 5.55,2.4; stroke-dashoffset: 0; stroke: #ff7f0e; stroke-width: 1.5\"/>\n   </g>\n   <g id=\"line2d_55\">\n    <path d=\"M 49.633125 139.421082 \nL 69.163125 139.5 \nL 88.693125 120.063615 \nL 108.223125 111.472823 \n\" clip-path=\"url(#pe03af5cda7)\" style=\"fill: none; stroke-dasharray: 9.6,2.4,1.5,2.4; stroke-dashoffset: 0; stroke: #2ca02c; stroke-width: 1.5\"/>\n   </g>\n   <g id=\"line2d_56\">\n    <path d=\"M 34.954394 13.5 \nL 44.698573 13.615657 \nL 54.442752 13.697544 \nL 64.186931 13.890152 \nL 73.93111 14.656434 \nL 83.675289 25.209993 \nL 93.419468 60.388905 \nL 103.163647 76.831643 \nL 112.907826 84.165017 \n\" clip-path=\"url(#pe03af5cda7)\" style=\"fill: none; stroke: #1f77b4; stroke-width: 1.5; stroke-linecap: square\"/>\n   </g>\n   <g id=\"line2d_57\">\n    <path d=\"M 49.633125 13.707871 \nL 69.163125 14.122632 \nL 88.693125 44.221973 \nL 108.223125 81.264719 \n\" clip-path=\"url(#pe03af5cda7)\" style=\"fill: none; stroke-dasharray: 5.55,2.4; stroke-dashoffset: 0; stroke: #ff7f0e; stroke-width: 1.5\"/>\n   </g>\n   <g id=\"line2d_58\">\n    <path d=\"M 49.633125 139.421082 \nL 69.163125 139.5 \nL 88.693125 120.063615 \nL 108.223125 111.472823 \n\" clip-path=\"url(#pe03af5cda7)\" style=\"fill: none; stroke-dasharray: 9.6,2.4,1.5,2.4; stroke-dashoffset: 0; stroke: #2ca02c; stroke-width: 1.5\"/>\n   </g>\n   <g id=\"line2d_59\">\n    <path d=\"M 34.954394 13.5 \nL 44.698573 13.615657 \nL 54.442752 13.697544 \nL 64.186931 13.890152 \nL 73.93111 14.656434 \nL 83.675289 25.209993 \nL 93.419468 60.388905 \nL 103.163647 76.831643 \nL 112.907826 84.165017 \nL 122.652006 88.929163 \n\" clip-path=\"url(#pe03af5cda7)\" style=\"fill: none; stroke: #1f77b4; stroke-width: 1.5; stroke-linecap: square\"/>\n   </g>\n   <g id=\"line2d_60\">\n    <path d=\"M 49.633125 13.707871 \nL 69.163125 14.122632 \nL 88.693125 44.221973 \nL 108.223125 81.264719 \n\" clip-path=\"url(#pe03af5cda7)\" style=\"fill: none; stroke-dasharray: 5.55,2.4; stroke-dashoffset: 0; stroke: #ff7f0e; stroke-width: 1.5\"/>\n   </g>\n   <g id=\"line2d_61\">\n    <path d=\"M 49.633125 139.421082 \nL 69.163125 139.5 \nL 88.693125 120.063615 \nL 108.223125 111.472823 \n\" clip-path=\"url(#pe03af5cda7)\" style=\"fill: none; stroke-dasharray: 9.6,2.4,1.5,2.4; stroke-dashoffset: 0; stroke: #2ca02c; stroke-width: 1.5\"/>\n   </g>\n   <g id=\"line2d_62\">\n    <path d=\"M 34.954394 13.5 \nL 44.698573 13.615657 \nL 54.442752 13.697544 \nL 64.186931 13.890152 \nL 73.93111 14.656434 \nL 83.675289 25.209993 \nL 93.419468 60.388905 \nL 103.163647 76.831643 \nL 112.907826 84.165017 \nL 122.652006 88.929163 \n\" clip-path=\"url(#pe03af5cda7)\" style=\"fill: none; stroke: #1f77b4; stroke-width: 1.5; stroke-linecap: square\"/>\n   </g>\n   <g id=\"line2d_63\">\n    <path d=\"M 49.633125 13.707871 \nL 69.163125 14.122632 \nL 88.693125 44.221973 \nL 108.223125 81.264719 \nL 127.753125 90.830752 \n\" clip-path=\"url(#pe03af5cda7)\" style=\"fill: none; stroke-dasharray: 5.55,2.4; stroke-dashoffset: 0; stroke: #ff7f0e; stroke-width: 1.5\"/>\n   </g>\n   <g id=\"line2d_64\">\n    <path d=\"M 49.633125 139.421082 \nL 69.163125 139.5 \nL 88.693125 120.063615 \nL 108.223125 111.472823 \n\" clip-path=\"url(#pe03af5cda7)\" style=\"fill: none; stroke-dasharray: 9.6,2.4,1.5,2.4; stroke-dashoffset: 0; stroke: #2ca02c; stroke-width: 1.5\"/>\n   </g>\n   <g id=\"line2d_65\">\n    <path d=\"M 34.954394 13.5 \nL 44.698573 13.615657 \nL 54.442752 13.697544 \nL 64.186931 13.890152 \nL 73.93111 14.656434 \nL 83.675289 25.209993 \nL 93.419468 60.388905 \nL 103.163647 76.831643 \nL 112.907826 84.165017 \nL 122.652006 88.929163 \n\" clip-path=\"url(#pe03af5cda7)\" style=\"fill: none; stroke: #1f77b4; stroke-width: 1.5; stroke-linecap: square\"/>\n   </g>\n   <g id=\"line2d_66\">\n    <path d=\"M 49.633125 13.707871 \nL 69.163125 14.122632 \nL 88.693125 44.221973 \nL 108.223125 81.264719 \nL 127.753125 90.830752 \n\" clip-path=\"url(#pe03af5cda7)\" style=\"fill: none; stroke-dasharray: 5.55,2.4; stroke-dashoffset: 0; stroke: #ff7f0e; stroke-width: 1.5\"/>\n   </g>\n   <g id=\"line2d_67\">\n    <path d=\"M 49.633125 139.421082 \nL 69.163125 139.5 \nL 88.693125 120.063615 \nL 108.223125 111.472823 \nL 127.753125 108.688144 \n\" clip-path=\"url(#pe03af5cda7)\" style=\"fill: none; stroke-dasharray: 9.6,2.4,1.5,2.4; stroke-dashoffset: 0; stroke: #2ca02c; stroke-width: 1.5\"/>\n   </g>\n   <g id=\"line2d_68\">\n    <path d=\"M 34.954394 13.5 \nL 44.698573 13.615657 \nL 54.442752 13.697544 \nL 64.186931 13.890152 \nL 73.93111 14.656434 \nL 83.675289 25.209993 \nL 93.419468 60.388905 \nL 103.163647 76.831643 \nL 112.907826 84.165017 \nL 122.652006 88.929163 \nL 132.396185 92.775725 \n\" clip-path=\"url(#pe03af5cda7)\" style=\"fill: none; stroke: #1f77b4; stroke-width: 1.5; stroke-linecap: square\"/>\n   </g>\n   <g id=\"line2d_69\">\n    <path d=\"M 49.633125 13.707871 \nL 69.163125 14.122632 \nL 88.693125 44.221973 \nL 108.223125 81.264719 \nL 127.753125 90.830752 \n\" clip-path=\"url(#pe03af5cda7)\" style=\"fill: none; stroke-dasharray: 5.55,2.4; stroke-dashoffset: 0; stroke: #ff7f0e; stroke-width: 1.5\"/>\n   </g>\n   <g id=\"line2d_70\">\n    <path d=\"M 49.633125 139.421082 \nL 69.163125 139.5 \nL 88.693125 120.063615 \nL 108.223125 111.472823 \nL 127.753125 108.688144 \n\" clip-path=\"url(#pe03af5cda7)\" style=\"fill: none; stroke-dasharray: 9.6,2.4,1.5,2.4; stroke-dashoffset: 0; stroke: #2ca02c; stroke-width: 1.5\"/>\n   </g>\n   <g id=\"line2d_71\">\n    <path d=\"M 34.954394 13.5 \nL 44.698573 13.615657 \nL 54.442752 13.697544 \nL 64.186931 13.890152 \nL 73.93111 14.656434 \nL 83.675289 25.209993 \nL 93.419468 60.388905 \nL 103.163647 76.831643 \nL 112.907826 84.165017 \nL 122.652006 88.929163 \nL 132.396185 92.775725 \nL 142.140364 95.838303 \n\" clip-path=\"url(#pe03af5cda7)\" style=\"fill: none; stroke: #1f77b4; stroke-width: 1.5; stroke-linecap: square\"/>\n   </g>\n   <g id=\"line2d_72\">\n    <path d=\"M 49.633125 13.707871 \nL 69.163125 14.122632 \nL 88.693125 44.221973 \nL 108.223125 81.264719 \nL 127.753125 90.830752 \n\" clip-path=\"url(#pe03af5cda7)\" style=\"fill: none; stroke-dasharray: 5.55,2.4; stroke-dashoffset: 0; stroke: #ff7f0e; stroke-width: 1.5\"/>\n   </g>\n   <g id=\"line2d_73\">\n    <path d=\"M 49.633125 139.421082 \nL 69.163125 139.5 \nL 88.693125 120.063615 \nL 108.223125 111.472823 \nL 127.753125 108.688144 \n\" clip-path=\"url(#pe03af5cda7)\" style=\"fill: none; stroke-dasharray: 9.6,2.4,1.5,2.4; stroke-dashoffset: 0; stroke: #2ca02c; stroke-width: 1.5\"/>\n   </g>\n   <g id=\"line2d_74\">\n    <path d=\"M 34.954394 13.5 \nL 44.698573 13.615657 \nL 54.442752 13.697544 \nL 64.186931 13.890152 \nL 73.93111 14.656434 \nL 83.675289 25.209993 \nL 93.419468 60.388905 \nL 103.163647 76.831643 \nL 112.907826 84.165017 \nL 122.652006 88.929163 \nL 132.396185 92.775725 \nL 142.140364 95.838303 \n\" clip-path=\"url(#pe03af5cda7)\" style=\"fill: none; stroke: #1f77b4; stroke-width: 1.5; stroke-linecap: square\"/>\n   </g>\n   <g id=\"line2d_75\">\n    <path d=\"M 49.633125 13.707871 \nL 69.163125 14.122632 \nL 88.693125 44.221973 \nL 108.223125 81.264719 \nL 127.753125 90.830752 \nL 147.283125 96.503451 \n\" clip-path=\"url(#pe03af5cda7)\" style=\"fill: none; stroke-dasharray: 5.55,2.4; stroke-dashoffset: 0; stroke: #ff7f0e; stroke-width: 1.5\"/>\n   </g>\n   <g id=\"line2d_76\">\n    <path d=\"M 49.633125 139.421082 \nL 69.163125 139.5 \nL 88.693125 120.063615 \nL 108.223125 111.472823 \nL 127.753125 108.688144 \n\" clip-path=\"url(#pe03af5cda7)\" style=\"fill: none; stroke-dasharray: 9.6,2.4,1.5,2.4; stroke-dashoffset: 0; stroke: #2ca02c; stroke-width: 1.5\"/>\n   </g>\n   <g id=\"line2d_77\">\n    <path d=\"M 34.954394 13.5 \nL 44.698573 13.615657 \nL 54.442752 13.697544 \nL 64.186931 13.890152 \nL 73.93111 14.656434 \nL 83.675289 25.209993 \nL 93.419468 60.388905 \nL 103.163647 76.831643 \nL 112.907826 84.165017 \nL 122.652006 88.929163 \nL 132.396185 92.775725 \nL 142.140364 95.838303 \n\" clip-path=\"url(#pe03af5cda7)\" style=\"fill: none; stroke: #1f77b4; stroke-width: 1.5; stroke-linecap: square\"/>\n   </g>\n   <g id=\"line2d_78\">\n    <path d=\"M 49.633125 13.707871 \nL 69.163125 14.122632 \nL 88.693125 44.221973 \nL 108.223125 81.264719 \nL 127.753125 90.830752 \nL 147.283125 96.503451 \n\" clip-path=\"url(#pe03af5cda7)\" style=\"fill: none; stroke-dasharray: 5.55,2.4; stroke-dashoffset: 0; stroke: #ff7f0e; stroke-width: 1.5\"/>\n   </g>\n   <g id=\"line2d_79\">\n    <path d=\"M 49.633125 139.421082 \nL 69.163125 139.5 \nL 88.693125 120.063615 \nL 108.223125 111.472823 \nL 127.753125 108.688144 \nL 147.283125 106.241685 \n\" clip-path=\"url(#pe03af5cda7)\" style=\"fill: none; stroke-dasharray: 9.6,2.4,1.5,2.4; stroke-dashoffset: 0; stroke: #2ca02c; stroke-width: 1.5\"/>\n   </g>\n   <g id=\"line2d_80\">\n    <path d=\"M 34.954394 13.5 \nL 44.698573 13.615657 \nL 54.442752 13.697544 \nL 64.186931 13.890152 \nL 73.93111 14.656434 \nL 83.675289 25.209993 \nL 93.419468 60.388905 \nL 103.163647 76.831643 \nL 112.907826 84.165017 \nL 122.652006 88.929163 \nL 132.396185 92.775725 \nL 142.140364 95.838303 \nL 151.884543 97.792332 \n\" clip-path=\"url(#pe03af5cda7)\" style=\"fill: none; stroke: #1f77b4; stroke-width: 1.5; stroke-linecap: square\"/>\n   </g>\n   <g id=\"line2d_81\">\n    <path d=\"M 49.633125 13.707871 \nL 69.163125 14.122632 \nL 88.693125 44.221973 \nL 108.223125 81.264719 \nL 127.753125 90.830752 \nL 147.283125 96.503451 \n\" clip-path=\"url(#pe03af5cda7)\" style=\"fill: none; stroke-dasharray: 5.55,2.4; stroke-dashoffset: 0; stroke: #ff7f0e; stroke-width: 1.5\"/>\n   </g>\n   <g id=\"line2d_82\">\n    <path d=\"M 49.633125 139.421082 \nL 69.163125 139.5 \nL 88.693125 120.063615 \nL 108.223125 111.472823 \nL 127.753125 108.688144 \nL 147.283125 106.241685 \n\" clip-path=\"url(#pe03af5cda7)\" style=\"fill: none; stroke-dasharray: 9.6,2.4,1.5,2.4; stroke-dashoffset: 0; stroke: #2ca02c; stroke-width: 1.5\"/>\n   </g>\n   <g id=\"line2d_83\">\n    <path d=\"M 34.954394 13.5 \nL 44.698573 13.615657 \nL 54.442752 13.697544 \nL 64.186931 13.890152 \nL 73.93111 14.656434 \nL 83.675289 25.209993 \nL 93.419468 60.388905 \nL 103.163647 76.831643 \nL 112.907826 84.165017 \nL 122.652006 88.929163 \nL 132.396185 92.775725 \nL 142.140364 95.838303 \nL 151.884543 97.792332 \nL 161.628722 100.377105 \n\" clip-path=\"url(#pe03af5cda7)\" style=\"fill: none; stroke: #1f77b4; stroke-width: 1.5; stroke-linecap: square\"/>\n   </g>\n   <g id=\"line2d_84\">\n    <path d=\"M 49.633125 13.707871 \nL 69.163125 14.122632 \nL 88.693125 44.221973 \nL 108.223125 81.264719 \nL 127.753125 90.830752 \nL 147.283125 96.503451 \n\" clip-path=\"url(#pe03af5cda7)\" style=\"fill: none; stroke-dasharray: 5.55,2.4; stroke-dashoffset: 0; stroke: #ff7f0e; stroke-width: 1.5\"/>\n   </g>\n   <g id=\"line2d_85\">\n    <path d=\"M 49.633125 139.421082 \nL 69.163125 139.5 \nL 88.693125 120.063615 \nL 108.223125 111.472823 \nL 127.753125 108.688144 \nL 147.283125 106.241685 \n\" clip-path=\"url(#pe03af5cda7)\" style=\"fill: none; stroke-dasharray: 9.6,2.4,1.5,2.4; stroke-dashoffset: 0; stroke: #2ca02c; stroke-width: 1.5\"/>\n   </g>\n   <g id=\"line2d_86\">\n    <path d=\"M 34.954394 13.5 \nL 44.698573 13.615657 \nL 54.442752 13.697544 \nL 64.186931 13.890152 \nL 73.93111 14.656434 \nL 83.675289 25.209993 \nL 93.419468 60.388905 \nL 103.163647 76.831643 \nL 112.907826 84.165017 \nL 122.652006 88.929163 \nL 132.396185 92.775725 \nL 142.140364 95.838303 \nL 151.884543 97.792332 \nL 161.628722 100.377105 \n\" clip-path=\"url(#pe03af5cda7)\" style=\"fill: none; stroke: #1f77b4; stroke-width: 1.5; stroke-linecap: square\"/>\n   </g>\n   <g id=\"line2d_87\">\n    <path d=\"M 49.633125 13.707871 \nL 69.163125 14.122632 \nL 88.693125 44.221973 \nL 108.223125 81.264719 \nL 127.753125 90.830752 \nL 147.283125 96.503451 \nL 166.813125 100.629016 \n\" clip-path=\"url(#pe03af5cda7)\" style=\"fill: none; stroke-dasharray: 5.55,2.4; stroke-dashoffset: 0; stroke: #ff7f0e; stroke-width: 1.5\"/>\n   </g>\n   <g id=\"line2d_88\">\n    <path d=\"M 49.633125 139.421082 \nL 69.163125 139.5 \nL 88.693125 120.063615 \nL 108.223125 111.472823 \nL 127.753125 108.688144 \nL 147.283125 106.241685 \n\" clip-path=\"url(#pe03af5cda7)\" style=\"fill: none; stroke-dasharray: 9.6,2.4,1.5,2.4; stroke-dashoffset: 0; stroke: #2ca02c; stroke-width: 1.5\"/>\n   </g>\n   <g id=\"line2d_89\">\n    <path d=\"M 34.954394 13.5 \nL 44.698573 13.615657 \nL 54.442752 13.697544 \nL 64.186931 13.890152 \nL 73.93111 14.656434 \nL 83.675289 25.209993 \nL 93.419468 60.388905 \nL 103.163647 76.831643 \nL 112.907826 84.165017 \nL 122.652006 88.929163 \nL 132.396185 92.775725 \nL 142.140364 95.838303 \nL 151.884543 97.792332 \nL 161.628722 100.377105 \n\" clip-path=\"url(#pe03af5cda7)\" style=\"fill: none; stroke: #1f77b4; stroke-width: 1.5; stroke-linecap: square\"/>\n   </g>\n   <g id=\"line2d_90\">\n    <path d=\"M 49.633125 13.707871 \nL 69.163125 14.122632 \nL 88.693125 44.221973 \nL 108.223125 81.264719 \nL 127.753125 90.830752 \nL 147.283125 96.503451 \nL 166.813125 100.629016 \n\" clip-path=\"url(#pe03af5cda7)\" style=\"fill: none; stroke-dasharray: 5.55,2.4; stroke-dashoffset: 0; stroke: #ff7f0e; stroke-width: 1.5\"/>\n   </g>\n   <g id=\"line2d_91\">\n    <path d=\"M 49.633125 139.421082 \nL 69.163125 139.5 \nL 88.693125 120.063615 \nL 108.223125 111.472823 \nL 127.753125 108.688144 \nL 147.283125 106.241685 \nL 166.813125 104.42657 \n\" clip-path=\"url(#pe03af5cda7)\" style=\"fill: none; stroke-dasharray: 9.6,2.4,1.5,2.4; stroke-dashoffset: 0; stroke: #2ca02c; stroke-width: 1.5\"/>\n   </g>\n   <g id=\"line2d_92\">\n    <path d=\"M 34.954394 13.5 \nL 44.698573 13.615657 \nL 54.442752 13.697544 \nL 64.186931 13.890152 \nL 73.93111 14.656434 \nL 83.675289 25.209993 \nL 93.419468 60.388905 \nL 103.163647 76.831643 \nL 112.907826 84.165017 \nL 122.652006 88.929163 \nL 132.396185 92.775725 \nL 142.140364 95.838303 \nL 151.884543 97.792332 \nL 161.628722 100.377105 \nL 171.372901 101.723414 \n\" clip-path=\"url(#pe03af5cda7)\" style=\"fill: none; stroke: #1f77b4; stroke-width: 1.5; stroke-linecap: square\"/>\n   </g>\n   <g id=\"line2d_93\">\n    <path d=\"M 49.633125 13.707871 \nL 69.163125 14.122632 \nL 88.693125 44.221973 \nL 108.223125 81.264719 \nL 127.753125 90.830752 \nL 147.283125 96.503451 \nL 166.813125 100.629016 \n\" clip-path=\"url(#pe03af5cda7)\" style=\"fill: none; stroke-dasharray: 5.55,2.4; stroke-dashoffset: 0; stroke: #ff7f0e; stroke-width: 1.5\"/>\n   </g>\n   <g id=\"line2d_94\">\n    <path d=\"M 49.633125 139.421082 \nL 69.163125 139.5 \nL 88.693125 120.063615 \nL 108.223125 111.472823 \nL 127.753125 108.688144 \nL 147.283125 106.241685 \nL 166.813125 104.42657 \n\" clip-path=\"url(#pe03af5cda7)\" style=\"fill: none; stroke-dasharray: 9.6,2.4,1.5,2.4; stroke-dashoffset: 0; stroke: #2ca02c; stroke-width: 1.5\"/>\n   </g>\n   <g id=\"line2d_95\">\n    <path d=\"M 34.954394 13.5 \nL 44.698573 13.615657 \nL 54.442752 13.697544 \nL 64.186931 13.890152 \nL 73.93111 14.656434 \nL 83.675289 25.209993 \nL 93.419468 60.388905 \nL 103.163647 76.831643 \nL 112.907826 84.165017 \nL 122.652006 88.929163 \nL 132.396185 92.775725 \nL 142.140364 95.838303 \nL 151.884543 97.792332 \nL 161.628722 100.377105 \nL 171.372901 101.723414 \nL 181.11708 103.981357 \n\" clip-path=\"url(#pe03af5cda7)\" style=\"fill: none; stroke: #1f77b4; stroke-width: 1.5; stroke-linecap: square\"/>\n   </g>\n   <g id=\"line2d_96\">\n    <path d=\"M 49.633125 13.707871 \nL 69.163125 14.122632 \nL 88.693125 44.221973 \nL 108.223125 81.264719 \nL 127.753125 90.830752 \nL 147.283125 96.503451 \nL 166.813125 100.629016 \n\" clip-path=\"url(#pe03af5cda7)\" style=\"fill: none; stroke-dasharray: 5.55,2.4; stroke-dashoffset: 0; stroke: #ff7f0e; stroke-width: 1.5\"/>\n   </g>\n   <g id=\"line2d_97\">\n    <path d=\"M 49.633125 139.421082 \nL 69.163125 139.5 \nL 88.693125 120.063615 \nL 108.223125 111.472823 \nL 127.753125 108.688144 \nL 147.283125 106.241685 \nL 166.813125 104.42657 \n\" clip-path=\"url(#pe03af5cda7)\" style=\"fill: none; stroke-dasharray: 9.6,2.4,1.5,2.4; stroke-dashoffset: 0; stroke: #2ca02c; stroke-width: 1.5\"/>\n   </g>\n   <g id=\"line2d_98\">\n    <path d=\"M 34.954394 13.5 \nL 44.698573 13.615657 \nL 54.442752 13.697544 \nL 64.186931 13.890152 \nL 73.93111 14.656434 \nL 83.675289 25.209993 \nL 93.419468 60.388905 \nL 103.163647 76.831643 \nL 112.907826 84.165017 \nL 122.652006 88.929163 \nL 132.396185 92.775725 \nL 142.140364 95.838303 \nL 151.884543 97.792332 \nL 161.628722 100.377105 \nL 171.372901 101.723414 \nL 181.11708 103.981357 \n\" clip-path=\"url(#pe03af5cda7)\" style=\"fill: none; stroke: #1f77b4; stroke-width: 1.5; stroke-linecap: square\"/>\n   </g>\n   <g id=\"line2d_99\">\n    <path d=\"M 49.633125 13.707871 \nL 69.163125 14.122632 \nL 88.693125 44.221973 \nL 108.223125 81.264719 \nL 127.753125 90.830752 \nL 147.283125 96.503451 \nL 166.813125 100.629016 \nL 186.343125 103.810306 \n\" clip-path=\"url(#pe03af5cda7)\" style=\"fill: none; stroke-dasharray: 5.55,2.4; stroke-dashoffset: 0; stroke: #ff7f0e; stroke-width: 1.5\"/>\n   </g>\n   <g id=\"line2d_100\">\n    <path d=\"M 49.633125 139.421082 \nL 69.163125 139.5 \nL 88.693125 120.063615 \nL 108.223125 111.472823 \nL 127.753125 108.688144 \nL 147.283125 106.241685 \nL 166.813125 104.42657 \n\" clip-path=\"url(#pe03af5cda7)\" style=\"fill: none; stroke-dasharray: 9.6,2.4,1.5,2.4; stroke-dashoffset: 0; stroke: #2ca02c; stroke-width: 1.5\"/>\n   </g>\n   <g id=\"line2d_101\">\n    <path d=\"M 34.954394 13.5 \nL 44.698573 13.615657 \nL 54.442752 13.697544 \nL 64.186931 13.890152 \nL 73.93111 14.656434 \nL 83.675289 25.209993 \nL 93.419468 60.388905 \nL 103.163647 76.831643 \nL 112.907826 84.165017 \nL 122.652006 88.929163 \nL 132.396185 92.775725 \nL 142.140364 95.838303 \nL 151.884543 97.792332 \nL 161.628722 100.377105 \nL 171.372901 101.723414 \nL 181.11708 103.981357 \n\" clip-path=\"url(#pe03af5cda7)\" style=\"fill: none; stroke: #1f77b4; stroke-width: 1.5; stroke-linecap: square\"/>\n   </g>\n   <g id=\"line2d_102\">\n    <path d=\"M 49.633125 13.707871 \nL 69.163125 14.122632 \nL 88.693125 44.221973 \nL 108.223125 81.264719 \nL 127.753125 90.830752 \nL 147.283125 96.503451 \nL 166.813125 100.629016 \nL 186.343125 103.810306 \n\" clip-path=\"url(#pe03af5cda7)\" style=\"fill: none; stroke-dasharray: 5.55,2.4; stroke-dashoffset: 0; stroke: #ff7f0e; stroke-width: 1.5\"/>\n   </g>\n   <g id=\"line2d_103\">\n    <path d=\"M 49.633125 139.421082 \nL 69.163125 139.5 \nL 88.693125 120.063615 \nL 108.223125 111.472823 \nL 127.753125 108.688144 \nL 147.283125 106.241685 \nL 166.813125 104.42657 \nL 186.343125 103.947425 \n\" clip-path=\"url(#pe03af5cda7)\" style=\"fill: none; stroke-dasharray: 9.6,2.4,1.5,2.4; stroke-dashoffset: 0; stroke: #2ca02c; stroke-width: 1.5\"/>\n   </g>\n   <g id=\"line2d_104\">\n    <path d=\"M 34.954394 13.5 \nL 44.698573 13.615657 \nL 54.442752 13.697544 \nL 64.186931 13.890152 \nL 73.93111 14.656434 \nL 83.675289 25.209993 \nL 93.419468 60.388905 \nL 103.163647 76.831643 \nL 112.907826 84.165017 \nL 122.652006 88.929163 \nL 132.396185 92.775725 \nL 142.140364 95.838303 \nL 151.884543 97.792332 \nL 161.628722 100.377105 \nL 171.372901 101.723414 \nL 181.11708 103.981357 \nL 190.861259 105.221919 \n\" clip-path=\"url(#pe03af5cda7)\" style=\"fill: none; stroke: #1f77b4; stroke-width: 1.5; stroke-linecap: square\"/>\n   </g>\n   <g id=\"line2d_105\">\n    <path d=\"M 49.633125 13.707871 \nL 69.163125 14.122632 \nL 88.693125 44.221973 \nL 108.223125 81.264719 \nL 127.753125 90.830752 \nL 147.283125 96.503451 \nL 166.813125 100.629016 \nL 186.343125 103.810306 \n\" clip-path=\"url(#pe03af5cda7)\" style=\"fill: none; stroke-dasharray: 5.55,2.4; stroke-dashoffset: 0; stroke: #ff7f0e; stroke-width: 1.5\"/>\n   </g>\n   <g id=\"line2d_106\">\n    <path d=\"M 49.633125 139.421082 \nL 69.163125 139.5 \nL 88.693125 120.063615 \nL 108.223125 111.472823 \nL 127.753125 108.688144 \nL 147.283125 106.241685 \nL 166.813125 104.42657 \nL 186.343125 103.947425 \n\" clip-path=\"url(#pe03af5cda7)\" style=\"fill: none; stroke-dasharray: 9.6,2.4,1.5,2.4; stroke-dashoffset: 0; stroke: #2ca02c; stroke-width: 1.5\"/>\n   </g>\n   <g id=\"line2d_107\">\n    <path d=\"M 34.954394 13.5 \nL 44.698573 13.615657 \nL 54.442752 13.697544 \nL 64.186931 13.890152 \nL 73.93111 14.656434 \nL 83.675289 25.209993 \nL 93.419468 60.388905 \nL 103.163647 76.831643 \nL 112.907826 84.165017 \nL 122.652006 88.929163 \nL 132.396185 92.775725 \nL 142.140364 95.838303 \nL 151.884543 97.792332 \nL 161.628722 100.377105 \nL 171.372901 101.723414 \nL 181.11708 103.981357 \nL 190.861259 105.221919 \nL 200.605438 106.715436 \n\" clip-path=\"url(#pe03af5cda7)\" style=\"fill: none; stroke: #1f77b4; stroke-width: 1.5; stroke-linecap: square\"/>\n   </g>\n   <g id=\"line2d_108\">\n    <path d=\"M 49.633125 13.707871 \nL 69.163125 14.122632 \nL 88.693125 44.221973 \nL 108.223125 81.264719 \nL 127.753125 90.830752 \nL 147.283125 96.503451 \nL 166.813125 100.629016 \nL 186.343125 103.810306 \n\" clip-path=\"url(#pe03af5cda7)\" style=\"fill: none; stroke-dasharray: 5.55,2.4; stroke-dashoffset: 0; stroke: #ff7f0e; stroke-width: 1.5\"/>\n   </g>\n   <g id=\"line2d_109\">\n    <path d=\"M 49.633125 139.421082 \nL 69.163125 139.5 \nL 88.693125 120.063615 \nL 108.223125 111.472823 \nL 127.753125 108.688144 \nL 147.283125 106.241685 \nL 166.813125 104.42657 \nL 186.343125 103.947425 \n\" clip-path=\"url(#pe03af5cda7)\" style=\"fill: none; stroke-dasharray: 9.6,2.4,1.5,2.4; stroke-dashoffset: 0; stroke: #2ca02c; stroke-width: 1.5\"/>\n   </g>\n   <g id=\"line2d_110\">\n    <path d=\"M 34.954394 13.5 \nL 44.698573 13.615657 \nL 54.442752 13.697544 \nL 64.186931 13.890152 \nL 73.93111 14.656434 \nL 83.675289 25.209993 \nL 93.419468 60.388905 \nL 103.163647 76.831643 \nL 112.907826 84.165017 \nL 122.652006 88.929163 \nL 132.396185 92.775725 \nL 142.140364 95.838303 \nL 151.884543 97.792332 \nL 161.628722 100.377105 \nL 171.372901 101.723414 \nL 181.11708 103.981357 \nL 190.861259 105.221919 \nL 200.605438 106.715436 \n\" clip-path=\"url(#pe03af5cda7)\" style=\"fill: none; stroke: #1f77b4; stroke-width: 1.5; stroke-linecap: square\"/>\n   </g>\n   <g id=\"line2d_111\">\n    <path d=\"M 49.633125 13.707871 \nL 69.163125 14.122632 \nL 88.693125 44.221973 \nL 108.223125 81.264719 \nL 127.753125 90.830752 \nL 147.283125 96.503451 \nL 166.813125 100.629016 \nL 186.343125 103.810306 \nL 205.873125 106.314301 \n\" clip-path=\"url(#pe03af5cda7)\" style=\"fill: none; stroke-dasharray: 5.55,2.4; stroke-dashoffset: 0; stroke: #ff7f0e; stroke-width: 1.5\"/>\n   </g>\n   <g id=\"line2d_112\">\n    <path d=\"M 49.633125 139.421082 \nL 69.163125 139.5 \nL 88.693125 120.063615 \nL 108.223125 111.472823 \nL 127.753125 108.688144 \nL 147.283125 106.241685 \nL 166.813125 104.42657 \nL 186.343125 103.947425 \n\" clip-path=\"url(#pe03af5cda7)\" style=\"fill: none; stroke-dasharray: 9.6,2.4,1.5,2.4; stroke-dashoffset: 0; stroke: #2ca02c; stroke-width: 1.5\"/>\n   </g>\n   <g id=\"line2d_113\">\n    <path d=\"M 34.954394 13.5 \nL 44.698573 13.615657 \nL 54.442752 13.697544 \nL 64.186931 13.890152 \nL 73.93111 14.656434 \nL 83.675289 25.209993 \nL 93.419468 60.388905 \nL 103.163647 76.831643 \nL 112.907826 84.165017 \nL 122.652006 88.929163 \nL 132.396185 92.775725 \nL 142.140364 95.838303 \nL 151.884543 97.792332 \nL 161.628722 100.377105 \nL 171.372901 101.723414 \nL 181.11708 103.981357 \nL 190.861259 105.221919 \nL 200.605438 106.715436 \n\" clip-path=\"url(#pe03af5cda7)\" style=\"fill: none; stroke: #1f77b4; stroke-width: 1.5; stroke-linecap: square\"/>\n   </g>\n   <g id=\"line2d_114\">\n    <path d=\"M 49.633125 13.707871 \nL 69.163125 14.122632 \nL 88.693125 44.221973 \nL 108.223125 81.264719 \nL 127.753125 90.830752 \nL 147.283125 96.503451 \nL 166.813125 100.629016 \nL 186.343125 103.810306 \nL 205.873125 106.314301 \n\" clip-path=\"url(#pe03af5cda7)\" style=\"fill: none; stroke-dasharray: 5.55,2.4; stroke-dashoffset: 0; stroke: #ff7f0e; stroke-width: 1.5\"/>\n   </g>\n   <g id=\"line2d_115\">\n    <path d=\"M 49.633125 139.421082 \nL 69.163125 139.5 \nL 88.693125 120.063615 \nL 108.223125 111.472823 \nL 127.753125 108.688144 \nL 147.283125 106.241685 \nL 166.813125 104.42657 \nL 186.343125 103.947425 \nL 205.873125 103.321717 \n\" clip-path=\"url(#pe03af5cda7)\" style=\"fill: none; stroke-dasharray: 9.6,2.4,1.5,2.4; stroke-dashoffset: 0; stroke: #2ca02c; stroke-width: 1.5\"/>\n   </g>\n   <g id=\"line2d_116\">\n    <path d=\"M 34.954394 13.5 \nL 44.698573 13.615657 \nL 54.442752 13.697544 \nL 64.186931 13.890152 \nL 73.93111 14.656434 \nL 83.675289 25.209993 \nL 93.419468 60.388905 \nL 103.163647 76.831643 \nL 112.907826 84.165017 \nL 122.652006 88.929163 \nL 132.396185 92.775725 \nL 142.140364 95.838303 \nL 151.884543 97.792332 \nL 161.628722 100.377105 \nL 171.372901 101.723414 \nL 181.11708 103.981357 \nL 190.861259 105.221919 \nL 200.605438 106.715436 \nL 210.349618 107.291523 \n\" clip-path=\"url(#pe03af5cda7)\" style=\"fill: none; stroke: #1f77b4; stroke-width: 1.5; stroke-linecap: square\"/>\n   </g>\n   <g id=\"line2d_117\">\n    <path d=\"M 49.633125 13.707871 \nL 69.163125 14.122632 \nL 88.693125 44.221973 \nL 108.223125 81.264719 \nL 127.753125 90.830752 \nL 147.283125 96.503451 \nL 166.813125 100.629016 \nL 186.343125 103.810306 \nL 205.873125 106.314301 \n\" clip-path=\"url(#pe03af5cda7)\" style=\"fill: none; stroke-dasharray: 5.55,2.4; stroke-dashoffset: 0; stroke: #ff7f0e; stroke-width: 1.5\"/>\n   </g>\n   <g id=\"line2d_118\">\n    <path d=\"M 49.633125 139.421082 \nL 69.163125 139.5 \nL 88.693125 120.063615 \nL 108.223125 111.472823 \nL 127.753125 108.688144 \nL 147.283125 106.241685 \nL 166.813125 104.42657 \nL 186.343125 103.947425 \nL 205.873125 103.321717 \n\" clip-path=\"url(#pe03af5cda7)\" style=\"fill: none; stroke-dasharray: 9.6,2.4,1.5,2.4; stroke-dashoffset: 0; stroke: #2ca02c; stroke-width: 1.5\"/>\n   </g>\n   <g id=\"line2d_119\">\n    <path d=\"M 34.954394 13.5 \nL 44.698573 13.615657 \nL 54.442752 13.697544 \nL 64.186931 13.890152 \nL 73.93111 14.656434 \nL 83.675289 25.209993 \nL 93.419468 60.388905 \nL 103.163647 76.831643 \nL 112.907826 84.165017 \nL 122.652006 88.929163 \nL 132.396185 92.775725 \nL 142.140364 95.838303 \nL 151.884543 97.792332 \nL 161.628722 100.377105 \nL 171.372901 101.723414 \nL 181.11708 103.981357 \nL 190.861259 105.221919 \nL 200.605438 106.715436 \nL 210.349618 107.291523 \nL 220.093797 109.085436 \n\" clip-path=\"url(#pe03af5cda7)\" style=\"fill: none; stroke: #1f77b4; stroke-width: 1.5; stroke-linecap: square\"/>\n   </g>\n   <g id=\"line2d_120\">\n    <path d=\"M 49.633125 13.707871 \nL 69.163125 14.122632 \nL 88.693125 44.221973 \nL 108.223125 81.264719 \nL 127.753125 90.830752 \nL 147.283125 96.503451 \nL 166.813125 100.629016 \nL 186.343125 103.810306 \nL 205.873125 106.314301 \n\" clip-path=\"url(#pe03af5cda7)\" style=\"fill: none; stroke-dasharray: 5.55,2.4; stroke-dashoffset: 0; stroke: #ff7f0e; stroke-width: 1.5\"/>\n   </g>\n   <g id=\"line2d_121\">\n    <path d=\"M 49.633125 139.421082 \nL 69.163125 139.5 \nL 88.693125 120.063615 \nL 108.223125 111.472823 \nL 127.753125 108.688144 \nL 147.283125 106.241685 \nL 166.813125 104.42657 \nL 186.343125 103.947425 \nL 205.873125 103.321717 \n\" clip-path=\"url(#pe03af5cda7)\" style=\"fill: none; stroke-dasharray: 9.6,2.4,1.5,2.4; stroke-dashoffset: 0; stroke: #2ca02c; stroke-width: 1.5\"/>\n   </g>\n   <g id=\"line2d_122\">\n    <path d=\"M 34.954394 13.5 \nL 44.698573 13.615657 \nL 54.442752 13.697544 \nL 64.186931 13.890152 \nL 73.93111 14.656434 \nL 83.675289 25.209993 \nL 93.419468 60.388905 \nL 103.163647 76.831643 \nL 112.907826 84.165017 \nL 122.652006 88.929163 \nL 132.396185 92.775725 \nL 142.140364 95.838303 \nL 151.884543 97.792332 \nL 161.628722 100.377105 \nL 171.372901 101.723414 \nL 181.11708 103.981357 \nL 190.861259 105.221919 \nL 200.605438 106.715436 \nL 210.349618 107.291523 \nL 220.093797 109.085436 \n\" clip-path=\"url(#pe03af5cda7)\" style=\"fill: none; stroke: #1f77b4; stroke-width: 1.5; stroke-linecap: square\"/>\n   </g>\n   <g id=\"line2d_123\">\n    <path d=\"M 49.633125 13.707871 \nL 69.163125 14.122632 \nL 88.693125 44.221973 \nL 108.223125 81.264719 \nL 127.753125 90.830752 \nL 147.283125 96.503451 \nL 166.813125 100.629016 \nL 186.343125 103.810306 \nL 205.873125 106.314301 \nL 225.403125 108.409898 \n\" clip-path=\"url(#pe03af5cda7)\" style=\"fill: none; stroke-dasharray: 5.55,2.4; stroke-dashoffset: 0; stroke: #ff7f0e; stroke-width: 1.5\"/>\n   </g>\n   <g id=\"line2d_124\">\n    <path d=\"M 49.633125 139.421082 \nL 69.163125 139.5 \nL 88.693125 120.063615 \nL 108.223125 111.472823 \nL 127.753125 108.688144 \nL 147.283125 106.241685 \nL 166.813125 104.42657 \nL 186.343125 103.947425 \nL 205.873125 103.321717 \n\" clip-path=\"url(#pe03af5cda7)\" style=\"fill: none; stroke-dasharray: 9.6,2.4,1.5,2.4; stroke-dashoffset: 0; stroke: #2ca02c; stroke-width: 1.5\"/>\n   </g>\n   <g id=\"line2d_125\">\n    <path d=\"M 34.954394 13.5 \nL 44.698573 13.615657 \nL 54.442752 13.697544 \nL 64.186931 13.890152 \nL 73.93111 14.656434 \nL 83.675289 25.209993 \nL 93.419468 60.388905 \nL 103.163647 76.831643 \nL 112.907826 84.165017 \nL 122.652006 88.929163 \nL 132.396185 92.775725 \nL 142.140364 95.838303 \nL 151.884543 97.792332 \nL 161.628722 100.377105 \nL 171.372901 101.723414 \nL 181.11708 103.981357 \nL 190.861259 105.221919 \nL 200.605438 106.715436 \nL 210.349618 107.291523 \nL 220.093797 109.085436 \n\" clip-path=\"url(#pe03af5cda7)\" style=\"fill: none; stroke: #1f77b4; stroke-width: 1.5; stroke-linecap: square\"/>\n   </g>\n   <g id=\"line2d_126\">\n    <path d=\"M 49.633125 13.707871 \nL 69.163125 14.122632 \nL 88.693125 44.221973 \nL 108.223125 81.264719 \nL 127.753125 90.830752 \nL 147.283125 96.503451 \nL 166.813125 100.629016 \nL 186.343125 103.810306 \nL 205.873125 106.314301 \nL 225.403125 108.409898 \n\" clip-path=\"url(#pe03af5cda7)\" style=\"fill: none; stroke-dasharray: 5.55,2.4; stroke-dashoffset: 0; stroke: #ff7f0e; stroke-width: 1.5\"/>\n   </g>\n   <g id=\"line2d_127\">\n    <path d=\"M 49.633125 139.421082 \nL 69.163125 139.5 \nL 88.693125 120.063615 \nL 108.223125 111.472823 \nL 127.753125 108.688144 \nL 147.283125 106.241685 \nL 166.813125 104.42657 \nL 186.343125 103.947425 \nL 205.873125 103.321717 \nL 225.403125 102.211228 \n\" clip-path=\"url(#pe03af5cda7)\" style=\"fill: none; stroke-dasharray: 9.6,2.4,1.5,2.4; stroke-dashoffset: 0; stroke: #2ca02c; stroke-width: 1.5\"/>\n   </g>\n   <g id=\"patch_3\">\n    <path d=\"M 30.103125 145.8 \nL 30.103125 7.2 \n\" style=\"fill: none; stroke: #000000; stroke-width: 0.8; stroke-linejoin: miter; stroke-linecap: square\"/>\n   </g>\n   <g id=\"patch_4\">\n    <path d=\"M 225.403125 145.8 \nL 225.403125 7.2 \n\" style=\"fill: none; stroke: #000000; stroke-width: 0.8; stroke-linejoin: miter; stroke-linecap: square\"/>\n   </g>\n   <g id=\"patch_5\">\n    <path d=\"M 30.103125 145.8 \nL 225.403125 145.8 \n\" style=\"fill: none; stroke: #000000; stroke-width: 0.8; stroke-linejoin: miter; stroke-linecap: square\"/>\n   </g>\n   <g id=\"patch_6\">\n    <path d=\"M 30.103125 7.2 \nL 225.403125 7.2 \n\" style=\"fill: none; stroke: #000000; stroke-width: 0.8; stroke-linejoin: miter; stroke-linecap: square\"/>\n   </g>\n   <g id=\"legend_1\">\n    <g id=\"patch_7\">\n     <path d=\"M 138.8125 60.06875 \nL 218.403125 60.06875 \nQ 220.403125 60.06875 220.403125 58.06875 \nL 220.403125 14.2 \nQ 220.403125 12.2 218.403125 12.2 \nL 138.8125 12.2 \nQ 136.8125 12.2 136.8125 14.2 \nL 136.8125 58.06875 \nQ 136.8125 60.06875 138.8125 60.06875 \nz\n\" style=\"fill: #ffffff; opacity: 0.8; stroke: #cccccc; stroke-linejoin: miter\"/>\n    </g>\n    <g id=\"line2d_128\">\n     <path d=\"M 140.8125 20.298438 \nL 150.8125 20.298438 \nL 160.8125 20.298438 \n\" style=\"fill: none; stroke: #1f77b4; stroke-width: 1.5; stroke-linecap: square\"/>\n    </g>\n    <g id=\"text_13\">\n     <!-- train_loss -->\n     <g transform=\"translate(168.8125 23.798438) scale(0.1 -0.1)\">\n      <defs>\n       <path id=\"DejaVuSans-74\" d=\"M 1172 4494 \nL 1172 3500 \nL 2356 3500 \nL 2356 3053 \nL 1172 3053 \nL 1172 1153 \nQ 1172 725 1289 603 \nQ 1406 481 1766 481 \nL 2356 481 \nL 2356 0 \nL 1766 0 \nQ 1100 0 847 248 \nQ 594 497 594 1153 \nL 594 3053 \nL 172 3053 \nL 172 3500 \nL 594 3500 \nL 594 4494 \nL 1172 4494 \nz\n\" transform=\"scale(0.015625)\"/>\n       <path id=\"DejaVuSans-72\" d=\"M 2631 2963 \nQ 2534 3019 2420 3045 \nQ 2306 3072 2169 3072 \nQ 1681 3072 1420 2755 \nQ 1159 2438 1159 1844 \nL 1159 0 \nL 581 0 \nL 581 3500 \nL 1159 3500 \nL 1159 2956 \nQ 1341 3275 1631 3429 \nQ 1922 3584 2338 3584 \nQ 2397 3584 2469 3576 \nQ 2541 3569 2628 3553 \nL 2631 2963 \nz\n\" transform=\"scale(0.015625)\"/>\n       <path id=\"DejaVuSans-61\" d=\"M 2194 1759 \nQ 1497 1759 1228 1600 \nQ 959 1441 959 1056 \nQ 959 750 1161 570 \nQ 1363 391 1709 391 \nQ 2188 391 2477 730 \nQ 2766 1069 2766 1631 \nL 2766 1759 \nL 2194 1759 \nz\nM 3341 1997 \nL 3341 0 \nL 2766 0 \nL 2766 531 \nQ 2569 213 2275 61 \nQ 1981 -91 1556 -91 \nQ 1019 -91 701 211 \nQ 384 513 384 1019 \nQ 384 1609 779 1909 \nQ 1175 2209 1959 2209 \nL 2766 2209 \nL 2766 2266 \nQ 2766 2663 2505 2880 \nQ 2244 3097 1772 3097 \nQ 1472 3097 1187 3025 \nQ 903 2953 641 2809 \nL 641 3341 \nQ 956 3463 1253 3523 \nQ 1550 3584 1831 3584 \nQ 2591 3584 2966 3190 \nQ 3341 2797 3341 1997 \nz\n\" transform=\"scale(0.015625)\"/>\n       <path id=\"DejaVuSans-69\" d=\"M 603 3500 \nL 1178 3500 \nL 1178 0 \nL 603 0 \nL 603 3500 \nz\nM 603 4863 \nL 1178 4863 \nL 1178 4134 \nL 603 4134 \nL 603 4863 \nz\n\" transform=\"scale(0.015625)\"/>\n       <path id=\"DejaVuSans-6e\" d=\"M 3513 2113 \nL 3513 0 \nL 2938 0 \nL 2938 2094 \nQ 2938 2591 2744 2837 \nQ 2550 3084 2163 3084 \nQ 1697 3084 1428 2787 \nQ 1159 2491 1159 1978 \nL 1159 0 \nL 581 0 \nL 581 3500 \nL 1159 3500 \nL 1159 2956 \nQ 1366 3272 1645 3428 \nQ 1925 3584 2291 3584 \nQ 2894 3584 3203 3211 \nQ 3513 2838 3513 2113 \nz\n\" transform=\"scale(0.015625)\"/>\n       <path id=\"DejaVuSans-5f\" d=\"M 3263 -1063 \nL 3263 -1509 \nL -63 -1509 \nL -63 -1063 \nL 3263 -1063 \nz\n\" transform=\"scale(0.015625)\"/>\n       <path id=\"DejaVuSans-6c\" d=\"M 603 4863 \nL 1178 4863 \nL 1178 0 \nL 603 0 \nL 603 4863 \nz\n\" transform=\"scale(0.015625)\"/>\n       <path id=\"DejaVuSans-73\" d=\"M 2834 3397 \nL 2834 2853 \nQ 2591 2978 2328 3040 \nQ 2066 3103 1784 3103 \nQ 1356 3103 1142 2972 \nQ 928 2841 928 2578 \nQ 928 2378 1081 2264 \nQ 1234 2150 1697 2047 \nL 1894 2003 \nQ 2506 1872 2764 1633 \nQ 3022 1394 3022 966 \nQ 3022 478 2636 193 \nQ 2250 -91 1575 -91 \nQ 1294 -91 989 -36 \nQ 684 19 347 128 \nL 347 722 \nQ 666 556 975 473 \nQ 1284 391 1588 391 \nQ 1994 391 2212 530 \nQ 2431 669 2431 922 \nQ 2431 1156 2273 1281 \nQ 2116 1406 1581 1522 \nL 1381 1569 \nQ 847 1681 609 1914 \nQ 372 2147 372 2553 \nQ 372 3047 722 3315 \nQ 1072 3584 1716 3584 \nQ 2034 3584 2315 3537 \nQ 2597 3491 2834 3397 \nz\n\" transform=\"scale(0.015625)\"/>\n      </defs>\n      <use xlink:href=\"#DejaVuSans-74\"/>\n      <use xlink:href=\"#DejaVuSans-72\" x=\"39.208984\"/>\n      <use xlink:href=\"#DejaVuSans-61\" x=\"80.322266\"/>\n      <use xlink:href=\"#DejaVuSans-69\" x=\"141.601562\"/>\n      <use xlink:href=\"#DejaVuSans-6e\" x=\"169.384766\"/>\n      <use xlink:href=\"#DejaVuSans-5f\" x=\"232.763672\"/>\n      <use xlink:href=\"#DejaVuSans-6c\" x=\"282.763672\"/>\n      <use xlink:href=\"#DejaVuSans-6f\" x=\"310.546875\"/>\n      <use xlink:href=\"#DejaVuSans-73\" x=\"371.728516\"/>\n      <use xlink:href=\"#DejaVuSans-73\" x=\"423.828125\"/>\n     </g>\n    </g>\n    <g id=\"line2d_129\">\n     <path d=\"M 140.8125 35.254688 \nL 150.8125 35.254688 \nL 160.8125 35.254688 \n\" style=\"fill: none; stroke-dasharray: 5.55,2.4; stroke-dashoffset: 0; stroke: #ff7f0e; stroke-width: 1.5\"/>\n    </g>\n    <g id=\"text_14\">\n     <!-- val_loss -->\n     <g transform=\"translate(168.8125 38.754688) scale(0.1 -0.1)\">\n      <defs>\n       <path id=\"DejaVuSans-76\" d=\"M 191 3500 \nL 800 3500 \nL 1894 563 \nL 2988 3500 \nL 3597 3500 \nL 2284 0 \nL 1503 0 \nL 191 3500 \nz\n\" transform=\"scale(0.015625)\"/>\n      </defs>\n      <use xlink:href=\"#DejaVuSans-76\"/>\n      <use xlink:href=\"#DejaVuSans-61\" x=\"59.179688\"/>\n      <use xlink:href=\"#DejaVuSans-6c\" x=\"120.458984\"/>\n      <use xlink:href=\"#DejaVuSans-5f\" x=\"148.242188\"/>\n      <use xlink:href=\"#DejaVuSans-6c\" x=\"198.242188\"/>\n      <use xlink:href=\"#DejaVuSans-6f\" x=\"226.025391\"/>\n      <use xlink:href=\"#DejaVuSans-73\" x=\"287.207031\"/>\n      <use xlink:href=\"#DejaVuSans-73\" x=\"339.306641\"/>\n     </g>\n    </g>\n    <g id=\"line2d_130\">\n     <path d=\"M 140.8125 50.210938 \nL 150.8125 50.210938 \nL 160.8125 50.210938 \n\" style=\"fill: none; stroke-dasharray: 9.6,2.4,1.5,2.4; stroke-dashoffset: 0; stroke: #2ca02c; stroke-width: 1.5\"/>\n    </g>\n    <g id=\"text_15\">\n     <!-- val_acc -->\n     <g transform=\"translate(168.8125 53.710938) scale(0.1 -0.1)\">\n      <use xlink:href=\"#DejaVuSans-76\"/>\n      <use xlink:href=\"#DejaVuSans-61\" x=\"59.179688\"/>\n      <use xlink:href=\"#DejaVuSans-6c\" x=\"120.458984\"/>\n      <use xlink:href=\"#DejaVuSans-5f\" x=\"148.242188\"/>\n      <use xlink:href=\"#DejaVuSans-61\" x=\"198.242188\"/>\n      <use xlink:href=\"#DejaVuSans-63\" x=\"259.521484\"/>\n      <use xlink:href=\"#DejaVuSans-63\" x=\"314.501953\"/>\n     </g>\n    </g>\n   </g>\n  </g>\n </g>\n <defs>\n  <clipPath id=\"pe03af5cda7\">\n   <rect x=\"30.103125\" y=\"7.2\" width=\"195.3\" height=\"138.6\"/>\n  </clipPath>\n </defs>\n</svg>\n"
          },
          "metadata": {}
        }
      ]
    },
    {
      "cell_type": "code",
      "source": [
        "def init_cnn(module):\n",
        "    if type(module) == nn.Linear or type(module) == nn.Conv2d:\n",
        "        nn.init.xavier_uniform_(module.weight)\n",
        "\n",
        "class LeNet3(d2l.Classifier):\n",
        "    def __init__(self, lr=0.1, num_classes=10):\n",
        "        super().__init__()\n",
        "        self.save_hyperparameters()\n",
        "        self.net = nn.Sequential(\n",
        "            nn.LazyConv2d(6, kernel_size=5, padding=2), nn.ReLU(),\n",
        "            nn.AvgPool2d(kernel_size=2, stride=2),\n",
        "            nn.LazyConv2d(16, kernel_size=5), nn.ReLU(),\n",
        "            nn.AvgPool2d(kernel_size=2, stride=2),\n",
        "            nn.Flatten(),\n",
        "            nn.LazyLinear(120), nn.ReLU(),\n",
        "            nn.LazyLinear(84), nn.ReLU(),\n",
        "            nn.LazyLinear(num_classes))"
      ],
      "metadata": {
        "id": "aRsQyl7IVlL3"
      },
      "execution_count": null,
      "outputs": []
    },
    {
      "cell_type": "code",
      "source": [
        "@d2l.add_to_class(d2l.Classifier)\n",
        "def layer_summary(self, X_shape):\n",
        "  X = torch.randn(*X_shape)\n",
        "  for layer in self.net:\n",
        "    X = layer(X)\n",
        "    print(layer.__class__.__name__, 'output shape:\\t', X.shape)\n",
        "\n",
        "model3 = LeNet3()\n",
        "model3.layer_summary((1, 1, 28, 28))"
      ],
      "metadata": {
        "colab": {
          "base_uri": "https://localhost:8080/"
        },
        "id": "lVTHqsGzV0h4",
        "outputId": "a4b7cfad-a077-44ef-d98a-4317a307d39e"
      },
      "execution_count": null,
      "outputs": [
        {
          "output_type": "stream",
          "name": "stdout",
          "text": [
            "Conv2d output shape:\t torch.Size([1, 6, 28, 28])\n",
            "ReLU output shape:\t torch.Size([1, 6, 28, 28])\n",
            "AvgPool2d output shape:\t torch.Size([1, 6, 14, 14])\n",
            "Conv2d output shape:\t torch.Size([1, 16, 10, 10])\n",
            "ReLU output shape:\t torch.Size([1, 16, 10, 10])\n",
            "AvgPool2d output shape:\t torch.Size([1, 16, 5, 5])\n",
            "Flatten output shape:\t torch.Size([1, 400])\n",
            "Linear output shape:\t torch.Size([1, 120])\n",
            "ReLU output shape:\t torch.Size([1, 120])\n",
            "Linear output shape:\t torch.Size([1, 84])\n",
            "ReLU output shape:\t torch.Size([1, 84])\n",
            "Linear output shape:\t torch.Size([1, 10])\n"
          ]
        }
      ]
    },
    {
      "cell_type": "code",
      "source": [
        "trainer = d2l.Trainer(max_epochs=10, num_gpus=1)\n",
        "data = d2l.FashionMNIST(batch_size=128)\n",
        "model3 = LeNet2(lr=0.1)\n",
        "model3.apply_init([next(iter(data.get_dataloader(True)))[0]], init_cnn)\n",
        "trainer.fit(model3, data)"
      ],
      "metadata": {
        "colab": {
          "base_uri": "https://localhost:8080/",
          "height": 265
        },
        "id": "epuDU_ZMV37V",
        "outputId": "db276f41-1420-4bea-bd5b-da535d42e52f"
      },
      "execution_count": null,
      "outputs": [
        {
          "output_type": "display_data",
          "data": {
            "text/plain": [
              "<Figure size 350x250 with 1 Axes>"
            ],
            "image/svg+xml": "<?xml version=\"1.0\" encoding=\"utf-8\" standalone=\"no\"?>\n<!DOCTYPE svg PUBLIC \"-//W3C//DTD SVG 1.1//EN\"\n  \"http://www.w3.org/Graphics/SVG/1.1/DTD/svg11.dtd\">\n<svg xmlns:xlink=\"http://www.w3.org/1999/xlink\" width=\"238.965625pt\" height=\"183.35625pt\" viewBox=\"0 0 238.965625 183.35625\" xmlns=\"http://www.w3.org/2000/svg\" version=\"1.1\">\n <metadata>\n  <rdf:RDF xmlns:dc=\"http://purl.org/dc/elements/1.1/\" xmlns:cc=\"http://creativecommons.org/ns#\" xmlns:rdf=\"http://www.w3.org/1999/02/22-rdf-syntax-ns#\">\n   <cc:Work>\n    <dc:type rdf:resource=\"http://purl.org/dc/dcmitype/StillImage\"/>\n    <dc:date>2024-10-10T07:43:30.136727</dc:date>\n    <dc:format>image/svg+xml</dc:format>\n    <dc:creator>\n     <cc:Agent>\n      <dc:title>Matplotlib v3.7.2, https://matplotlib.org/</dc:title>\n     </cc:Agent>\n    </dc:creator>\n   </cc:Work>\n  </rdf:RDF>\n </metadata>\n <defs>\n  <style type=\"text/css\">*{stroke-linejoin: round; stroke-linecap: butt}</style>\n </defs>\n <g id=\"figure_1\">\n  <g id=\"patch_1\">\n   <path d=\"M 0 183.35625 \nL 238.965625 183.35625 \nL 238.965625 0 \nL 0 0 \nz\n\" style=\"fill: #ffffff\"/>\n  </g>\n  <g id=\"axes_1\">\n   <g id=\"patch_2\">\n    <path d=\"M 30.103125 145.8 \nL 225.403125 145.8 \nL 225.403125 7.2 \nL 30.103125 7.2 \nz\n\" style=\"fill: #ffffff\"/>\n   </g>\n   <g id=\"matplotlib.axis_1\">\n    <g id=\"xtick_1\">\n     <g id=\"line2d_1\">\n      <defs>\n       <path id=\"me58ed2c1b4\" d=\"M 0 0 \nL 0 3.5 \n\" style=\"stroke: #000000; stroke-width: 0.8\"/>\n      </defs>\n      <g>\n       <use xlink:href=\"#me58ed2c1b4\" x=\"30.103125\" y=\"145.8\" style=\"stroke: #000000; stroke-width: 0.8\"/>\n      </g>\n     </g>\n     <g id=\"text_1\">\n      <!-- 0 -->\n      <g transform=\"translate(26.921875 160.398438) scale(0.1 -0.1)\">\n       <defs>\n        <path id=\"DejaVuSans-30\" d=\"M 2034 4250 \nQ 1547 4250 1301 3770 \nQ 1056 3291 1056 2328 \nQ 1056 1369 1301 889 \nQ 1547 409 2034 409 \nQ 2525 409 2770 889 \nQ 3016 1369 3016 2328 \nQ 3016 3291 2770 3770 \nQ 2525 4250 2034 4250 \nz\nM 2034 4750 \nQ 2819 4750 3233 4129 \nQ 3647 3509 3647 2328 \nQ 3647 1150 3233 529 \nQ 2819 -91 2034 -91 \nQ 1250 -91 836 529 \nQ 422 1150 422 2328 \nQ 422 3509 836 4129 \nQ 1250 4750 2034 4750 \nz\n\" transform=\"scale(0.015625)\"/>\n       </defs>\n       <use xlink:href=\"#DejaVuSans-30\"/>\n      </g>\n     </g>\n    </g>\n    <g id=\"xtick_2\">\n     <g id=\"line2d_2\">\n      <g>\n       <use xlink:href=\"#me58ed2c1b4\" x=\"69.163125\" y=\"145.8\" style=\"stroke: #000000; stroke-width: 0.8\"/>\n      </g>\n     </g>\n     <g id=\"text_2\">\n      <!-- 2 -->\n      <g transform=\"translate(65.981875 160.398438) scale(0.1 -0.1)\">\n       <defs>\n        <path id=\"DejaVuSans-32\" d=\"M 1228 531 \nL 3431 531 \nL 3431 0 \nL 469 0 \nL 469 531 \nQ 828 903 1448 1529 \nQ 2069 2156 2228 2338 \nQ 2531 2678 2651 2914 \nQ 2772 3150 2772 3378 \nQ 2772 3750 2511 3984 \nQ 2250 4219 1831 4219 \nQ 1534 4219 1204 4116 \nQ 875 4013 500 3803 \nL 500 4441 \nQ 881 4594 1212 4672 \nQ 1544 4750 1819 4750 \nQ 2544 4750 2975 4387 \nQ 3406 4025 3406 3419 \nQ 3406 3131 3298 2873 \nQ 3191 2616 2906 2266 \nQ 2828 2175 2409 1742 \nQ 1991 1309 1228 531 \nz\n\" transform=\"scale(0.015625)\"/>\n       </defs>\n       <use xlink:href=\"#DejaVuSans-32\"/>\n      </g>\n     </g>\n    </g>\n    <g id=\"xtick_3\">\n     <g id=\"line2d_3\">\n      <g>\n       <use xlink:href=\"#me58ed2c1b4\" x=\"108.223125\" y=\"145.8\" style=\"stroke: #000000; stroke-width: 0.8\"/>\n      </g>\n     </g>\n     <g id=\"text_3\">\n      <!-- 4 -->\n      <g transform=\"translate(105.041875 160.398438) scale(0.1 -0.1)\">\n       <defs>\n        <path id=\"DejaVuSans-34\" d=\"M 2419 4116 \nL 825 1625 \nL 2419 1625 \nL 2419 4116 \nz\nM 2253 4666 \nL 3047 4666 \nL 3047 1625 \nL 3713 1625 \nL 3713 1100 \nL 3047 1100 \nL 3047 0 \nL 2419 0 \nL 2419 1100 \nL 313 1100 \nL 313 1709 \nL 2253 4666 \nz\n\" transform=\"scale(0.015625)\"/>\n       </defs>\n       <use xlink:href=\"#DejaVuSans-34\"/>\n      </g>\n     </g>\n    </g>\n    <g id=\"xtick_4\">\n     <g id=\"line2d_4\">\n      <g>\n       <use xlink:href=\"#me58ed2c1b4\" x=\"147.283125\" y=\"145.8\" style=\"stroke: #000000; stroke-width: 0.8\"/>\n      </g>\n     </g>\n     <g id=\"text_4\">\n      <!-- 6 -->\n      <g transform=\"translate(144.101875 160.398438) scale(0.1 -0.1)\">\n       <defs>\n        <path id=\"DejaVuSans-36\" d=\"M 2113 2584 \nQ 1688 2584 1439 2293 \nQ 1191 2003 1191 1497 \nQ 1191 994 1439 701 \nQ 1688 409 2113 409 \nQ 2538 409 2786 701 \nQ 3034 994 3034 1497 \nQ 3034 2003 2786 2293 \nQ 2538 2584 2113 2584 \nz\nM 3366 4563 \nL 3366 3988 \nQ 3128 4100 2886 4159 \nQ 2644 4219 2406 4219 \nQ 1781 4219 1451 3797 \nQ 1122 3375 1075 2522 \nQ 1259 2794 1537 2939 \nQ 1816 3084 2150 3084 \nQ 2853 3084 3261 2657 \nQ 3669 2231 3669 1497 \nQ 3669 778 3244 343 \nQ 2819 -91 2113 -91 \nQ 1303 -91 875 529 \nQ 447 1150 447 2328 \nQ 447 3434 972 4092 \nQ 1497 4750 2381 4750 \nQ 2619 4750 2861 4703 \nQ 3103 4656 3366 4563 \nz\n\" transform=\"scale(0.015625)\"/>\n       </defs>\n       <use xlink:href=\"#DejaVuSans-36\"/>\n      </g>\n     </g>\n    </g>\n    <g id=\"xtick_5\">\n     <g id=\"line2d_5\">\n      <g>\n       <use xlink:href=\"#me58ed2c1b4\" x=\"186.343125\" y=\"145.8\" style=\"stroke: #000000; stroke-width: 0.8\"/>\n      </g>\n     </g>\n     <g id=\"text_5\">\n      <!-- 8 -->\n      <g transform=\"translate(183.161875 160.398438) scale(0.1 -0.1)\">\n       <defs>\n        <path id=\"DejaVuSans-38\" d=\"M 2034 2216 \nQ 1584 2216 1326 1975 \nQ 1069 1734 1069 1313 \nQ 1069 891 1326 650 \nQ 1584 409 2034 409 \nQ 2484 409 2743 651 \nQ 3003 894 3003 1313 \nQ 3003 1734 2745 1975 \nQ 2488 2216 2034 2216 \nz\nM 1403 2484 \nQ 997 2584 770 2862 \nQ 544 3141 544 3541 \nQ 544 4100 942 4425 \nQ 1341 4750 2034 4750 \nQ 2731 4750 3128 4425 \nQ 3525 4100 3525 3541 \nQ 3525 3141 3298 2862 \nQ 3072 2584 2669 2484 \nQ 3125 2378 3379 2068 \nQ 3634 1759 3634 1313 \nQ 3634 634 3220 271 \nQ 2806 -91 2034 -91 \nQ 1263 -91 848 271 \nQ 434 634 434 1313 \nQ 434 1759 690 2068 \nQ 947 2378 1403 2484 \nz\nM 1172 3481 \nQ 1172 3119 1398 2916 \nQ 1625 2713 2034 2713 \nQ 2441 2713 2670 2916 \nQ 2900 3119 2900 3481 \nQ 2900 3844 2670 4047 \nQ 2441 4250 2034 4250 \nQ 1625 4250 1398 4047 \nQ 1172 3844 1172 3481 \nz\n\" transform=\"scale(0.015625)\"/>\n       </defs>\n       <use xlink:href=\"#DejaVuSans-38\"/>\n      </g>\n     </g>\n    </g>\n    <g id=\"xtick_6\">\n     <g id=\"line2d_6\">\n      <g>\n       <use xlink:href=\"#me58ed2c1b4\" x=\"225.403125\" y=\"145.8\" style=\"stroke: #000000; stroke-width: 0.8\"/>\n      </g>\n     </g>\n     <g id=\"text_6\">\n      <!-- 10 -->\n      <g transform=\"translate(219.040625 160.398438) scale(0.1 -0.1)\">\n       <defs>\n        <path id=\"DejaVuSans-31\" d=\"M 794 531 \nL 1825 531 \nL 1825 4091 \nL 703 3866 \nL 703 4441 \nL 1819 4666 \nL 2450 4666 \nL 2450 531 \nL 3481 531 \nL 3481 0 \nL 794 0 \nL 794 531 \nz\n\" transform=\"scale(0.015625)\"/>\n       </defs>\n       <use xlink:href=\"#DejaVuSans-31\"/>\n       <use xlink:href=\"#DejaVuSans-30\" x=\"63.623047\"/>\n      </g>\n     </g>\n    </g>\n    <g id=\"text_7\">\n     <!-- epoch -->\n     <g transform=\"translate(112.525 174.076563) scale(0.1 -0.1)\">\n      <defs>\n       <path id=\"DejaVuSans-65\" d=\"M 3597 1894 \nL 3597 1613 \nL 953 1613 \nQ 991 1019 1311 708 \nQ 1631 397 2203 397 \nQ 2534 397 2845 478 \nQ 3156 559 3463 722 \nL 3463 178 \nQ 3153 47 2828 -22 \nQ 2503 -91 2169 -91 \nQ 1331 -91 842 396 \nQ 353 884 353 1716 \nQ 353 2575 817 3079 \nQ 1281 3584 2069 3584 \nQ 2775 3584 3186 3129 \nQ 3597 2675 3597 1894 \nz\nM 3022 2063 \nQ 3016 2534 2758 2815 \nQ 2500 3097 2075 3097 \nQ 1594 3097 1305 2825 \nQ 1016 2553 972 2059 \nL 3022 2063 \nz\n\" transform=\"scale(0.015625)\"/>\n       <path id=\"DejaVuSans-70\" d=\"M 1159 525 \nL 1159 -1331 \nL 581 -1331 \nL 581 3500 \nL 1159 3500 \nL 1159 2969 \nQ 1341 3281 1617 3432 \nQ 1894 3584 2278 3584 \nQ 2916 3584 3314 3078 \nQ 3713 2572 3713 1747 \nQ 3713 922 3314 415 \nQ 2916 -91 2278 -91 \nQ 1894 -91 1617 61 \nQ 1341 213 1159 525 \nz\nM 3116 1747 \nQ 3116 2381 2855 2742 \nQ 2594 3103 2138 3103 \nQ 1681 3103 1420 2742 \nQ 1159 2381 1159 1747 \nQ 1159 1113 1420 752 \nQ 1681 391 2138 391 \nQ 2594 391 2855 752 \nQ 3116 1113 3116 1747 \nz\n\" transform=\"scale(0.015625)\"/>\n       <path id=\"DejaVuSans-6f\" d=\"M 1959 3097 \nQ 1497 3097 1228 2736 \nQ 959 2375 959 1747 \nQ 959 1119 1226 758 \nQ 1494 397 1959 397 \nQ 2419 397 2687 759 \nQ 2956 1122 2956 1747 \nQ 2956 2369 2687 2733 \nQ 2419 3097 1959 3097 \nz\nM 1959 3584 \nQ 2709 3584 3137 3096 \nQ 3566 2609 3566 1747 \nQ 3566 888 3137 398 \nQ 2709 -91 1959 -91 \nQ 1206 -91 779 398 \nQ 353 888 353 1747 \nQ 353 2609 779 3096 \nQ 1206 3584 1959 3584 \nz\n\" transform=\"scale(0.015625)\"/>\n       <path id=\"DejaVuSans-63\" d=\"M 3122 3366 \nL 3122 2828 \nQ 2878 2963 2633 3030 \nQ 2388 3097 2138 3097 \nQ 1578 3097 1268 2742 \nQ 959 2388 959 1747 \nQ 959 1106 1268 751 \nQ 1578 397 2138 397 \nQ 2388 397 2633 464 \nQ 2878 531 3122 666 \nL 3122 134 \nQ 2881 22 2623 -34 \nQ 2366 -91 2075 -91 \nQ 1284 -91 818 406 \nQ 353 903 353 1747 \nQ 353 2603 823 3093 \nQ 1294 3584 2113 3584 \nQ 2378 3584 2631 3529 \nQ 2884 3475 3122 3366 \nz\n\" transform=\"scale(0.015625)\"/>\n       <path id=\"DejaVuSans-68\" d=\"M 3513 2113 \nL 3513 0 \nL 2938 0 \nL 2938 2094 \nQ 2938 2591 2744 2837 \nQ 2550 3084 2163 3084 \nQ 1697 3084 1428 2787 \nQ 1159 2491 1159 1978 \nL 1159 0 \nL 581 0 \nL 581 4863 \nL 1159 4863 \nL 1159 2956 \nQ 1366 3272 1645 3428 \nQ 1925 3584 2291 3584 \nQ 2894 3584 3203 3211 \nQ 3513 2838 3513 2113 \nz\n\" transform=\"scale(0.015625)\"/>\n      </defs>\n      <use xlink:href=\"#DejaVuSans-65\"/>\n      <use xlink:href=\"#DejaVuSans-70\" x=\"61.523438\"/>\n      <use xlink:href=\"#DejaVuSans-6f\" x=\"125\"/>\n      <use xlink:href=\"#DejaVuSans-63\" x=\"186.181641\"/>\n      <use xlink:href=\"#DejaVuSans-68\" x=\"241.162109\"/>\n     </g>\n    </g>\n   </g>\n   <g id=\"matplotlib.axis_2\">\n    <g id=\"ytick_1\">\n     <g id=\"line2d_7\">\n      <defs>\n       <path id=\"m7432db5e85\" d=\"M 0 0 \nL -3.5 0 \n\" style=\"stroke: #000000; stroke-width: 0.8\"/>\n      </defs>\n      <g>\n       <use xlink:href=\"#m7432db5e85\" x=\"30.103125\" y=\"145.177583\" style=\"stroke: #000000; stroke-width: 0.8\"/>\n      </g>\n     </g>\n     <g id=\"text_8\">\n      <!-- 0.0 -->\n      <g transform=\"translate(7.2 148.976802) scale(0.1 -0.1)\">\n       <defs>\n        <path id=\"DejaVuSans-2e\" d=\"M 684 794 \nL 1344 794 \nL 1344 0 \nL 684 0 \nL 684 794 \nz\n\" transform=\"scale(0.015625)\"/>\n       </defs>\n       <use xlink:href=\"#DejaVuSans-30\"/>\n       <use xlink:href=\"#DejaVuSans-2e\" x=\"63.623047\"/>\n       <use xlink:href=\"#DejaVuSans-30\" x=\"95.410156\"/>\n      </g>\n     </g>\n    </g>\n    <g id=\"ytick_2\">\n     <g id=\"line2d_8\">\n      <g>\n       <use xlink:href=\"#m7432db5e85\" x=\"30.103125\" y=\"116.671268\" style=\"stroke: #000000; stroke-width: 0.8\"/>\n      </g>\n     </g>\n     <g id=\"text_9\">\n      <!-- 0.5 -->\n      <g transform=\"translate(7.2 120.470487) scale(0.1 -0.1)\">\n       <defs>\n        <path id=\"DejaVuSans-35\" d=\"M 691 4666 \nL 3169 4666 \nL 3169 4134 \nL 1269 4134 \nL 1269 2991 \nQ 1406 3038 1543 3061 \nQ 1681 3084 1819 3084 \nQ 2600 3084 3056 2656 \nQ 3513 2228 3513 1497 \nQ 3513 744 3044 326 \nQ 2575 -91 1722 -91 \nQ 1428 -91 1123 -41 \nQ 819 9 494 109 \nL 494 744 \nQ 775 591 1075 516 \nQ 1375 441 1709 441 \nQ 2250 441 2565 725 \nQ 2881 1009 2881 1497 \nQ 2881 1984 2565 2268 \nQ 2250 2553 1709 2553 \nQ 1456 2553 1204 2497 \nQ 953 2441 691 2322 \nL 691 4666 \nz\n\" transform=\"scale(0.015625)\"/>\n       </defs>\n       <use xlink:href=\"#DejaVuSans-30\"/>\n       <use xlink:href=\"#DejaVuSans-2e\" x=\"63.623047\"/>\n       <use xlink:href=\"#DejaVuSans-35\" x=\"95.410156\"/>\n      </g>\n     </g>\n    </g>\n    <g id=\"ytick_3\">\n     <g id=\"line2d_9\">\n      <g>\n       <use xlink:href=\"#m7432db5e85\" x=\"30.103125\" y=\"88.164953\" style=\"stroke: #000000; stroke-width: 0.8\"/>\n      </g>\n     </g>\n     <g id=\"text_10\">\n      <!-- 1.0 -->\n      <g transform=\"translate(7.2 91.964171) scale(0.1 -0.1)\">\n       <use xlink:href=\"#DejaVuSans-31\"/>\n       <use xlink:href=\"#DejaVuSans-2e\" x=\"63.623047\"/>\n       <use xlink:href=\"#DejaVuSans-30\" x=\"95.410156\"/>\n      </g>\n     </g>\n    </g>\n    <g id=\"ytick_4\">\n     <g id=\"line2d_10\">\n      <g>\n       <use xlink:href=\"#m7432db5e85\" x=\"30.103125\" y=\"59.658637\" style=\"stroke: #000000; stroke-width: 0.8\"/>\n      </g>\n     </g>\n     <g id=\"text_11\">\n      <!-- 1.5 -->\n      <g transform=\"translate(7.2 63.457856) scale(0.1 -0.1)\">\n       <use xlink:href=\"#DejaVuSans-31\"/>\n       <use xlink:href=\"#DejaVuSans-2e\" x=\"63.623047\"/>\n       <use xlink:href=\"#DejaVuSans-35\" x=\"95.410156\"/>\n      </g>\n     </g>\n    </g>\n    <g id=\"ytick_5\">\n     <g id=\"line2d_11\">\n      <g>\n       <use xlink:href=\"#m7432db5e85\" x=\"30.103125\" y=\"31.152322\" style=\"stroke: #000000; stroke-width: 0.8\"/>\n      </g>\n     </g>\n     <g id=\"text_12\">\n      <!-- 2.0 -->\n      <g transform=\"translate(7.2 34.951541) scale(0.1 -0.1)\">\n       <use xlink:href=\"#DejaVuSans-32\"/>\n       <use xlink:href=\"#DejaVuSans-2e\" x=\"63.623047\"/>\n       <use xlink:href=\"#DejaVuSans-30\" x=\"95.410156\"/>\n      </g>\n     </g>\n    </g>\n   </g>\n   <g id=\"line2d_12\">\n    <path d=\"M 34.954394 13.5 \n\" clip-path=\"url(#pccba2c7ec0)\" style=\"fill: none; stroke: #1f77b4; stroke-width: 1.5; stroke-linecap: square\"/>\n   </g>\n   <g id=\"line2d_13\">\n    <path d=\"M 34.954394 13.5 \nL 44.698573 13.688232 \n\" clip-path=\"url(#pccba2c7ec0)\" style=\"fill: none; stroke: #1f77b4; stroke-width: 1.5; stroke-linecap: square\"/>\n   </g>\n   <g id=\"line2d_14\">\n    <path d=\"M 34.954394 13.5 \nL 44.698573 13.688232 \n\" clip-path=\"url(#pccba2c7ec0)\" style=\"fill: none; stroke: #1f77b4; stroke-width: 1.5; stroke-linecap: square\"/>\n   </g>\n   <g id=\"line2d_15\">\n    <path d=\"M 49.633125 13.539227 \n\" clip-path=\"url(#pccba2c7ec0)\" style=\"fill: none; stroke-dasharray: 5.55,2.4; stroke-dashoffset: 0; stroke: #ff7f0e; stroke-width: 1.5\"/>\n   </g>\n   <g id=\"line2d_16\"/>\n   <g id=\"line2d_17\">\n    <path d=\"M 34.954394 13.5 \nL 44.698573 13.688232 \n\" clip-path=\"url(#pccba2c7ec0)\" style=\"fill: none; stroke: #1f77b4; stroke-width: 1.5; stroke-linecap: square\"/>\n   </g>\n   <g id=\"line2d_18\">\n    <path d=\"M 49.633125 13.539227 \n\" clip-path=\"url(#pccba2c7ec0)\" style=\"fill: none; stroke-dasharray: 5.55,2.4; stroke-dashoffset: 0; stroke: #ff7f0e; stroke-width: 1.5\"/>\n   </g>\n   <g id=\"line2d_19\">\n    <path d=\"M 49.633125 139.5 \n\" clip-path=\"url(#pccba2c7ec0)\" style=\"fill: none; stroke-dasharray: 9.6,2.4,1.5,2.4; stroke-dashoffset: 0; stroke: #2ca02c; stroke-width: 1.5\"/>\n   </g>\n   <g id=\"line2d_20\">\n    <path d=\"M 34.954394 13.5 \nL 44.698573 13.688232 \nL 54.442752 13.701053 \n\" clip-path=\"url(#pccba2c7ec0)\" style=\"fill: none; stroke: #1f77b4; stroke-width: 1.5; stroke-linecap: square\"/>\n   </g>\n   <g id=\"line2d_21\">\n    <path d=\"M 49.633125 13.539227 \n\" clip-path=\"url(#pccba2c7ec0)\" style=\"fill: none; stroke-dasharray: 5.55,2.4; stroke-dashoffset: 0; stroke: #ff7f0e; stroke-width: 1.5\"/>\n   </g>\n   <g id=\"line2d_22\">\n    <path d=\"M 49.633125 139.5 \n\" clip-path=\"url(#pccba2c7ec0)\" style=\"fill: none; stroke-dasharray: 9.6,2.4,1.5,2.4; stroke-dashoffset: 0; stroke: #2ca02c; stroke-width: 1.5\"/>\n   </g>\n   <g id=\"line2d_23\">\n    <path d=\"M 34.954394 13.5 \nL 44.698573 13.688232 \nL 54.442752 13.701053 \nL 64.186931 13.755999 \n\" clip-path=\"url(#pccba2c7ec0)\" style=\"fill: none; stroke: #1f77b4; stroke-width: 1.5; stroke-linecap: square\"/>\n   </g>\n   <g id=\"line2d_24\">\n    <path d=\"M 49.633125 13.539227 \n\" clip-path=\"url(#pccba2c7ec0)\" style=\"fill: none; stroke-dasharray: 5.55,2.4; stroke-dashoffset: 0; stroke: #ff7f0e; stroke-width: 1.5\"/>\n   </g>\n   <g id=\"line2d_25\">\n    <path d=\"M 49.633125 139.5 \n\" clip-path=\"url(#pccba2c7ec0)\" style=\"fill: none; stroke-dasharray: 9.6,2.4,1.5,2.4; stroke-dashoffset: 0; stroke: #2ca02c; stroke-width: 1.5\"/>\n   </g>\n   <g id=\"line2d_26\">\n    <path d=\"M 34.954394 13.5 \nL 44.698573 13.688232 \nL 54.442752 13.701053 \nL 64.186931 13.755999 \n\" clip-path=\"url(#pccba2c7ec0)\" style=\"fill: none; stroke: #1f77b4; stroke-width: 1.5; stroke-linecap: square\"/>\n   </g>\n   <g id=\"line2d_27\">\n    <path d=\"M 49.633125 13.539227 \nL 69.163125 13.763135 \n\" clip-path=\"url(#pccba2c7ec0)\" style=\"fill: none; stroke-dasharray: 5.55,2.4; stroke-dashoffset: 0; stroke: #ff7f0e; stroke-width: 1.5\"/>\n   </g>\n   <g id=\"line2d_28\">\n    <path d=\"M 49.633125 139.5 \n\" clip-path=\"url(#pccba2c7ec0)\" style=\"fill: none; stroke-dasharray: 9.6,2.4,1.5,2.4; stroke-dashoffset: 0; stroke: #2ca02c; stroke-width: 1.5\"/>\n   </g>\n   <g id=\"line2d_29\">\n    <path d=\"M 34.954394 13.5 \nL 44.698573 13.688232 \nL 54.442752 13.701053 \nL 64.186931 13.755999 \n\" clip-path=\"url(#pccba2c7ec0)\" style=\"fill: none; stroke: #1f77b4; stroke-width: 1.5; stroke-linecap: square\"/>\n   </g>\n   <g id=\"line2d_30\">\n    <path d=\"M 49.633125 13.539227 \nL 69.163125 13.763135 \n\" clip-path=\"url(#pccba2c7ec0)\" style=\"fill: none; stroke-dasharray: 5.55,2.4; stroke-dashoffset: 0; stroke: #ff7f0e; stroke-width: 1.5\"/>\n   </g>\n   <g id=\"line2d_31\">\n    <path d=\"M 49.633125 139.5 \nL 69.163125 139.5 \n\" clip-path=\"url(#pccba2c7ec0)\" style=\"fill: none; stroke-dasharray: 9.6,2.4,1.5,2.4; stroke-dashoffset: 0; stroke: #2ca02c; stroke-width: 1.5\"/>\n   </g>\n   <g id=\"line2d_32\">\n    <path d=\"M 34.954394 13.5 \nL 44.698573 13.688232 \nL 54.442752 13.701053 \nL 64.186931 13.755999 \nL 73.93111 13.799235 \n\" clip-path=\"url(#pccba2c7ec0)\" style=\"fill: none; stroke: #1f77b4; stroke-width: 1.5; stroke-linecap: square\"/>\n   </g>\n   <g id=\"line2d_33\">\n    <path d=\"M 49.633125 13.539227 \nL 69.163125 13.763135 \n\" clip-path=\"url(#pccba2c7ec0)\" style=\"fill: none; stroke-dasharray: 5.55,2.4; stroke-dashoffset: 0; stroke: #ff7f0e; stroke-width: 1.5\"/>\n   </g>\n   <g id=\"line2d_34\">\n    <path d=\"M 49.633125 139.5 \nL 69.163125 139.5 \n\" clip-path=\"url(#pccba2c7ec0)\" style=\"fill: none; stroke-dasharray: 9.6,2.4,1.5,2.4; stroke-dashoffset: 0; stroke: #2ca02c; stroke-width: 1.5\"/>\n   </g>\n   <g id=\"line2d_35\">\n    <path d=\"M 34.954394 13.5 \nL 44.698573 13.688232 \nL 54.442752 13.701053 \nL 64.186931 13.755999 \nL 73.93111 13.799235 \nL 83.675289 13.983055 \n\" clip-path=\"url(#pccba2c7ec0)\" style=\"fill: none; stroke: #1f77b4; stroke-width: 1.5; stroke-linecap: square\"/>\n   </g>\n   <g id=\"line2d_36\">\n    <path d=\"M 49.633125 13.539227 \nL 69.163125 13.763135 \n\" clip-path=\"url(#pccba2c7ec0)\" style=\"fill: none; stroke-dasharray: 5.55,2.4; stroke-dashoffset: 0; stroke: #ff7f0e; stroke-width: 1.5\"/>\n   </g>\n   <g id=\"line2d_37\">\n    <path d=\"M 49.633125 139.5 \nL 69.163125 139.5 \n\" clip-path=\"url(#pccba2c7ec0)\" style=\"fill: none; stroke-dasharray: 9.6,2.4,1.5,2.4; stroke-dashoffset: 0; stroke: #2ca02c; stroke-width: 1.5\"/>\n   </g>\n   <g id=\"line2d_38\">\n    <path d=\"M 34.954394 13.5 \nL 44.698573 13.688232 \nL 54.442752 13.701053 \nL 64.186931 13.755999 \nL 73.93111 13.799235 \nL 83.675289 13.983055 \n\" clip-path=\"url(#pccba2c7ec0)\" style=\"fill: none; stroke: #1f77b4; stroke-width: 1.5; stroke-linecap: square\"/>\n   </g>\n   <g id=\"line2d_39\">\n    <path d=\"M 49.633125 13.539227 \nL 69.163125 13.763135 \nL 88.693125 14.068299 \n\" clip-path=\"url(#pccba2c7ec0)\" style=\"fill: none; stroke-dasharray: 5.55,2.4; stroke-dashoffset: 0; stroke: #ff7f0e; stroke-width: 1.5\"/>\n   </g>\n   <g id=\"line2d_40\">\n    <path d=\"M 49.633125 139.5 \nL 69.163125 139.5 \n\" clip-path=\"url(#pccba2c7ec0)\" style=\"fill: none; stroke-dasharray: 9.6,2.4,1.5,2.4; stroke-dashoffset: 0; stroke: #2ca02c; stroke-width: 1.5\"/>\n   </g>\n   <g id=\"line2d_41\">\n    <path d=\"M 34.954394 13.5 \nL 44.698573 13.688232 \nL 54.442752 13.701053 \nL 64.186931 13.755999 \nL 73.93111 13.799235 \nL 83.675289 13.983055 \n\" clip-path=\"url(#pccba2c7ec0)\" style=\"fill: none; stroke: #1f77b4; stroke-width: 1.5; stroke-linecap: square\"/>\n   </g>\n   <g id=\"line2d_42\">\n    <path d=\"M 49.633125 13.539227 \nL 69.163125 13.763135 \nL 88.693125 14.068299 \n\" clip-path=\"url(#pccba2c7ec0)\" style=\"fill: none; stroke-dasharray: 5.55,2.4; stroke-dashoffset: 0; stroke: #ff7f0e; stroke-width: 1.5\"/>\n   </g>\n   <g id=\"line2d_43\">\n    <path d=\"M 49.633125 139.5 \nL 69.163125 139.5 \nL 88.693125 139.5 \n\" clip-path=\"url(#pccba2c7ec0)\" style=\"fill: none; stroke-dasharray: 9.6,2.4,1.5,2.4; stroke-dashoffset: 0; stroke: #2ca02c; stroke-width: 1.5\"/>\n   </g>\n   <g id=\"line2d_44\">\n    <path d=\"M 34.954394 13.5 \nL 44.698573 13.688232 \nL 54.442752 13.701053 \nL 64.186931 13.755999 \nL 73.93111 13.799235 \nL 83.675289 13.983055 \nL 93.419468 14.520397 \n\" clip-path=\"url(#pccba2c7ec0)\" style=\"fill: none; stroke: #1f77b4; stroke-width: 1.5; stroke-linecap: square\"/>\n   </g>\n   <g id=\"line2d_45\">\n    <path d=\"M 49.633125 13.539227 \nL 69.163125 13.763135 \nL 88.693125 14.068299 \n\" clip-path=\"url(#pccba2c7ec0)\" style=\"fill: none; stroke-dasharray: 5.55,2.4; stroke-dashoffset: 0; stroke: #ff7f0e; stroke-width: 1.5\"/>\n   </g>\n   <g id=\"line2d_46\">\n    <path d=\"M 49.633125 139.5 \nL 69.163125 139.5 \nL 88.693125 139.5 \n\" clip-path=\"url(#pccba2c7ec0)\" style=\"fill: none; stroke-dasharray: 9.6,2.4,1.5,2.4; stroke-dashoffset: 0; stroke: #2ca02c; stroke-width: 1.5\"/>\n   </g>\n   <g id=\"line2d_47\">\n    <path d=\"M 34.954394 13.5 \nL 44.698573 13.688232 \nL 54.442752 13.701053 \nL 64.186931 13.755999 \nL 73.93111 13.799235 \nL 83.675289 13.983055 \nL 93.419468 14.520397 \nL 103.163647 17.84695 \n\" clip-path=\"url(#pccba2c7ec0)\" style=\"fill: none; stroke: #1f77b4; stroke-width: 1.5; stroke-linecap: square\"/>\n   </g>\n   <g id=\"line2d_48\">\n    <path d=\"M 49.633125 13.539227 \nL 69.163125 13.763135 \nL 88.693125 14.068299 \n\" clip-path=\"url(#pccba2c7ec0)\" style=\"fill: none; stroke-dasharray: 5.55,2.4; stroke-dashoffset: 0; stroke: #ff7f0e; stroke-width: 1.5\"/>\n   </g>\n   <g id=\"line2d_49\">\n    <path d=\"M 49.633125 139.5 \nL 69.163125 139.5 \nL 88.693125 139.5 \n\" clip-path=\"url(#pccba2c7ec0)\" style=\"fill: none; stroke-dasharray: 9.6,2.4,1.5,2.4; stroke-dashoffset: 0; stroke: #2ca02c; stroke-width: 1.5\"/>\n   </g>\n   <g id=\"line2d_50\">\n    <path d=\"M 34.954394 13.5 \nL 44.698573 13.688232 \nL 54.442752 13.701053 \nL 64.186931 13.755999 \nL 73.93111 13.799235 \nL 83.675289 13.983055 \nL 93.419468 14.520397 \nL 103.163647 17.84695 \n\" clip-path=\"url(#pccba2c7ec0)\" style=\"fill: none; stroke: #1f77b4; stroke-width: 1.5; stroke-linecap: square\"/>\n   </g>\n   <g id=\"line2d_51\">\n    <path d=\"M 49.633125 13.539227 \nL 69.163125 13.763135 \nL 88.693125 14.068299 \nL 108.223125 26.026617 \n\" clip-path=\"url(#pccba2c7ec0)\" style=\"fill: none; stroke-dasharray: 5.55,2.4; stroke-dashoffset: 0; stroke: #ff7f0e; stroke-width: 1.5\"/>\n   </g>\n   <g id=\"line2d_52\">\n    <path d=\"M 49.633125 139.5 \nL 69.163125 139.5 \nL 88.693125 139.5 \n\" clip-path=\"url(#pccba2c7ec0)\" style=\"fill: none; stroke-dasharray: 9.6,2.4,1.5,2.4; stroke-dashoffset: 0; stroke: #2ca02c; stroke-width: 1.5\"/>\n   </g>\n   <g id=\"line2d_53\">\n    <path d=\"M 34.954394 13.5 \nL 44.698573 13.688232 \nL 54.442752 13.701053 \nL 64.186931 13.755999 \nL 73.93111 13.799235 \nL 83.675289 13.983055 \nL 93.419468 14.520397 \nL 103.163647 17.84695 \n\" clip-path=\"url(#pccba2c7ec0)\" style=\"fill: none; stroke: #1f77b4; stroke-width: 1.5; stroke-linecap: square\"/>\n   </g>\n   <g id=\"line2d_54\">\n    <path d=\"M 49.633125 13.539227 \nL 69.163125 13.763135 \nL 88.693125 14.068299 \nL 108.223125 26.026617 \n\" clip-path=\"url(#pccba2c7ec0)\" style=\"fill: none; stroke-dasharray: 5.55,2.4; stroke-dashoffset: 0; stroke: #ff7f0e; stroke-width: 1.5\"/>\n   </g>\n   <g id=\"line2d_55\">\n    <path d=\"M 49.633125 139.5 \nL 69.163125 139.5 \nL 88.693125 139.5 \nL 108.223125 121.768125 \n\" clip-path=\"url(#pccba2c7ec0)\" style=\"fill: none; stroke-dasharray: 9.6,2.4,1.5,2.4; stroke-dashoffset: 0; stroke: #2ca02c; stroke-width: 1.5\"/>\n   </g>\n   <g id=\"line2d_56\">\n    <path d=\"M 34.954394 13.5 \nL 44.698573 13.688232 \nL 54.442752 13.701053 \nL 64.186931 13.755999 \nL 73.93111 13.799235 \nL 83.675289 13.983055 \nL 93.419468 14.520397 \nL 103.163647 17.84695 \nL 112.907826 48.385603 \n\" clip-path=\"url(#pccba2c7ec0)\" style=\"fill: none; stroke: #1f77b4; stroke-width: 1.5; stroke-linecap: square\"/>\n   </g>\n   <g id=\"line2d_57\">\n    <path d=\"M 49.633125 13.539227 \nL 69.163125 13.763135 \nL 88.693125 14.068299 \nL 108.223125 26.026617 \n\" clip-path=\"url(#pccba2c7ec0)\" style=\"fill: none; stroke-dasharray: 5.55,2.4; stroke-dashoffset: 0; stroke: #ff7f0e; stroke-width: 1.5\"/>\n   </g>\n   <g id=\"line2d_58\">\n    <path d=\"M 49.633125 139.5 \nL 69.163125 139.5 \nL 88.693125 139.5 \nL 108.223125 121.768125 \n\" clip-path=\"url(#pccba2c7ec0)\" style=\"fill: none; stroke-dasharray: 9.6,2.4,1.5,2.4; stroke-dashoffset: 0; stroke: #2ca02c; stroke-width: 1.5\"/>\n   </g>\n   <g id=\"line2d_59\">\n    <path d=\"M 34.954394 13.5 \nL 44.698573 13.688232 \nL 54.442752 13.701053 \nL 64.186931 13.755999 \nL 73.93111 13.799235 \nL 83.675289 13.983055 \nL 93.419468 14.520397 \nL 103.163647 17.84695 \nL 112.907826 48.385603 \nL 122.652006 74.766146 \n\" clip-path=\"url(#pccba2c7ec0)\" style=\"fill: none; stroke: #1f77b4; stroke-width: 1.5; stroke-linecap: square\"/>\n   </g>\n   <g id=\"line2d_60\">\n    <path d=\"M 49.633125 13.539227 \nL 69.163125 13.763135 \nL 88.693125 14.068299 \nL 108.223125 26.026617 \n\" clip-path=\"url(#pccba2c7ec0)\" style=\"fill: none; stroke-dasharray: 5.55,2.4; stroke-dashoffset: 0; stroke: #ff7f0e; stroke-width: 1.5\"/>\n   </g>\n   <g id=\"line2d_61\">\n    <path d=\"M 49.633125 139.5 \nL 69.163125 139.5 \nL 88.693125 139.5 \nL 108.223125 121.768125 \n\" clip-path=\"url(#pccba2c7ec0)\" style=\"fill: none; stroke-dasharray: 9.6,2.4,1.5,2.4; stroke-dashoffset: 0; stroke: #2ca02c; stroke-width: 1.5\"/>\n   </g>\n   <g id=\"line2d_62\">\n    <path d=\"M 34.954394 13.5 \nL 44.698573 13.688232 \nL 54.442752 13.701053 \nL 64.186931 13.755999 \nL 73.93111 13.799235 \nL 83.675289 13.983055 \nL 93.419468 14.520397 \nL 103.163647 17.84695 \nL 112.907826 48.385603 \nL 122.652006 74.766146 \n\" clip-path=\"url(#pccba2c7ec0)\" style=\"fill: none; stroke: #1f77b4; stroke-width: 1.5; stroke-linecap: square\"/>\n   </g>\n   <g id=\"line2d_63\">\n    <path d=\"M 49.633125 13.539227 \nL 69.163125 13.763135 \nL 88.693125 14.068299 \nL 108.223125 26.026617 \nL 127.753125 80.29876 \n\" clip-path=\"url(#pccba2c7ec0)\" style=\"fill: none; stroke-dasharray: 5.55,2.4; stroke-dashoffset: 0; stroke: #ff7f0e; stroke-width: 1.5\"/>\n   </g>\n   <g id=\"line2d_64\">\n    <path d=\"M 49.633125 139.5 \nL 69.163125 139.5 \nL 88.693125 139.5 \nL 108.223125 121.768125 \n\" clip-path=\"url(#pccba2c7ec0)\" style=\"fill: none; stroke-dasharray: 9.6,2.4,1.5,2.4; stroke-dashoffset: 0; stroke: #2ca02c; stroke-width: 1.5\"/>\n   </g>\n   <g id=\"line2d_65\">\n    <path d=\"M 34.954394 13.5 \nL 44.698573 13.688232 \nL 54.442752 13.701053 \nL 64.186931 13.755999 \nL 73.93111 13.799235 \nL 83.675289 13.983055 \nL 93.419468 14.520397 \nL 103.163647 17.84695 \nL 112.907826 48.385603 \nL 122.652006 74.766146 \n\" clip-path=\"url(#pccba2c7ec0)\" style=\"fill: none; stroke: #1f77b4; stroke-width: 1.5; stroke-linecap: square\"/>\n   </g>\n   <g id=\"line2d_66\">\n    <path d=\"M 49.633125 13.539227 \nL 69.163125 13.763135 \nL 88.693125 14.068299 \nL 108.223125 26.026617 \nL 127.753125 80.29876 \n\" clip-path=\"url(#pccba2c7ec0)\" style=\"fill: none; stroke-dasharray: 5.55,2.4; stroke-dashoffset: 0; stroke: #ff7f0e; stroke-width: 1.5\"/>\n   </g>\n   <g id=\"line2d_67\">\n    <path d=\"M 49.633125 139.5 \nL 69.163125 139.5 \nL 88.693125 139.5 \nL 108.223125 121.768125 \nL 127.753125 111.563135 \n\" clip-path=\"url(#pccba2c7ec0)\" style=\"fill: none; stroke-dasharray: 9.6,2.4,1.5,2.4; stroke-dashoffset: 0; stroke: #2ca02c; stroke-width: 1.5\"/>\n   </g>\n   <g id=\"line2d_68\">\n    <path d=\"M 34.954394 13.5 \nL 44.698573 13.688232 \nL 54.442752 13.701053 \nL 64.186931 13.755999 \nL 73.93111 13.799235 \nL 83.675289 13.983055 \nL 93.419468 14.520397 \nL 103.163647 17.84695 \nL 112.907826 48.385603 \nL 122.652006 74.766146 \nL 132.396185 83.477103 \n\" clip-path=\"url(#pccba2c7ec0)\" style=\"fill: none; stroke: #1f77b4; stroke-width: 1.5; stroke-linecap: square\"/>\n   </g>\n   <g id=\"line2d_69\">\n    <path d=\"M 49.633125 13.539227 \nL 69.163125 13.763135 \nL 88.693125 14.068299 \nL 108.223125 26.026617 \nL 127.753125 80.29876 \n\" clip-path=\"url(#pccba2c7ec0)\" style=\"fill: none; stroke-dasharray: 5.55,2.4; stroke-dashoffset: 0; stroke: #ff7f0e; stroke-width: 1.5\"/>\n   </g>\n   <g id=\"line2d_70\">\n    <path d=\"M 49.633125 139.5 \nL 69.163125 139.5 \nL 88.693125 139.5 \nL 108.223125 121.768125 \nL 127.753125 111.563135 \n\" clip-path=\"url(#pccba2c7ec0)\" style=\"fill: none; stroke-dasharray: 9.6,2.4,1.5,2.4; stroke-dashoffset: 0; stroke: #2ca02c; stroke-width: 1.5\"/>\n   </g>\n   <g id=\"line2d_71\">\n    <path d=\"M 34.954394 13.5 \nL 44.698573 13.688232 \nL 54.442752 13.701053 \nL 64.186931 13.755999 \nL 73.93111 13.799235 \nL 83.675289 13.983055 \nL 93.419468 14.520397 \nL 103.163647 17.84695 \nL 112.907826 48.385603 \nL 122.652006 74.766146 \nL 132.396185 83.477103 \nL 142.140364 88.831934 \n\" clip-path=\"url(#pccba2c7ec0)\" style=\"fill: none; stroke: #1f77b4; stroke-width: 1.5; stroke-linecap: square\"/>\n   </g>\n   <g id=\"line2d_72\">\n    <path d=\"M 49.633125 13.539227 \nL 69.163125 13.763135 \nL 88.693125 14.068299 \nL 108.223125 26.026617 \nL 127.753125 80.29876 \n\" clip-path=\"url(#pccba2c7ec0)\" style=\"fill: none; stroke-dasharray: 5.55,2.4; stroke-dashoffset: 0; stroke: #ff7f0e; stroke-width: 1.5\"/>\n   </g>\n   <g id=\"line2d_73\">\n    <path d=\"M 49.633125 139.5 \nL 69.163125 139.5 \nL 88.693125 139.5 \nL 108.223125 121.768125 \nL 127.753125 111.563135 \n\" clip-path=\"url(#pccba2c7ec0)\" style=\"fill: none; stroke-dasharray: 9.6,2.4,1.5,2.4; stroke-dashoffset: 0; stroke: #2ca02c; stroke-width: 1.5\"/>\n   </g>\n   <g id=\"line2d_74\">\n    <path d=\"M 34.954394 13.5 \nL 44.698573 13.688232 \nL 54.442752 13.701053 \nL 64.186931 13.755999 \nL 73.93111 13.799235 \nL 83.675289 13.983055 \nL 93.419468 14.520397 \nL 103.163647 17.84695 \nL 112.907826 48.385603 \nL 122.652006 74.766146 \nL 132.396185 83.477103 \nL 142.140364 88.831934 \n\" clip-path=\"url(#pccba2c7ec0)\" style=\"fill: none; stroke: #1f77b4; stroke-width: 1.5; stroke-linecap: square\"/>\n   </g>\n   <g id=\"line2d_75\">\n    <path d=\"M 49.633125 13.539227 \nL 69.163125 13.763135 \nL 88.693125 14.068299 \nL 108.223125 26.026617 \nL 127.753125 80.29876 \nL 147.283125 90.522471 \n\" clip-path=\"url(#pccba2c7ec0)\" style=\"fill: none; stroke-dasharray: 5.55,2.4; stroke-dashoffset: 0; stroke: #ff7f0e; stroke-width: 1.5\"/>\n   </g>\n   <g id=\"line2d_76\">\n    <path d=\"M 49.633125 139.5 \nL 69.163125 139.5 \nL 88.693125 139.5 \nL 108.223125 121.768125 \nL 127.753125 111.563135 \n\" clip-path=\"url(#pccba2c7ec0)\" style=\"fill: none; stroke-dasharray: 9.6,2.4,1.5,2.4; stroke-dashoffset: 0; stroke: #2ca02c; stroke-width: 1.5\"/>\n   </g>\n   <g id=\"line2d_77\">\n    <path d=\"M 34.954394 13.5 \nL 44.698573 13.688232 \nL 54.442752 13.701053 \nL 64.186931 13.755999 \nL 73.93111 13.799235 \nL 83.675289 13.983055 \nL 93.419468 14.520397 \nL 103.163647 17.84695 \nL 112.907826 48.385603 \nL 122.652006 74.766146 \nL 132.396185 83.477103 \nL 142.140364 88.831934 \n\" clip-path=\"url(#pccba2c7ec0)\" style=\"fill: none; stroke: #1f77b4; stroke-width: 1.5; stroke-linecap: square\"/>\n   </g>\n   <g id=\"line2d_78\">\n    <path d=\"M 49.633125 13.539227 \nL 69.163125 13.763135 \nL 88.693125 14.068299 \nL 108.223125 26.026617 \nL 127.753125 80.29876 \nL 147.283125 90.522471 \n\" clip-path=\"url(#pccba2c7ec0)\" style=\"fill: none; stroke-dasharray: 5.55,2.4; stroke-dashoffset: 0; stroke: #ff7f0e; stroke-width: 1.5\"/>\n   </g>\n   <g id=\"line2d_79\">\n    <path d=\"M 49.633125 139.5 \nL 69.163125 139.5 \nL 88.693125 139.5 \nL 108.223125 121.768125 \nL 127.753125 111.563135 \nL 147.283125 109.307888 \n\" clip-path=\"url(#pccba2c7ec0)\" style=\"fill: none; stroke-dasharray: 9.6,2.4,1.5,2.4; stroke-dashoffset: 0; stroke: #2ca02c; stroke-width: 1.5\"/>\n   </g>\n   <g id=\"line2d_80\">\n    <path d=\"M 34.954394 13.5 \nL 44.698573 13.688232 \nL 54.442752 13.701053 \nL 64.186931 13.755999 \nL 73.93111 13.799235 \nL 83.675289 13.983055 \nL 93.419468 14.520397 \nL 103.163647 17.84695 \nL 112.907826 48.385603 \nL 122.652006 74.766146 \nL 132.396185 83.477103 \nL 142.140364 88.831934 \nL 151.884543 92.489388 \n\" clip-path=\"url(#pccba2c7ec0)\" style=\"fill: none; stroke: #1f77b4; stroke-width: 1.5; stroke-linecap: square\"/>\n   </g>\n   <g id=\"line2d_81\">\n    <path d=\"M 49.633125 13.539227 \nL 69.163125 13.763135 \nL 88.693125 14.068299 \nL 108.223125 26.026617 \nL 127.753125 80.29876 \nL 147.283125 90.522471 \n\" clip-path=\"url(#pccba2c7ec0)\" style=\"fill: none; stroke-dasharray: 5.55,2.4; stroke-dashoffset: 0; stroke: #ff7f0e; stroke-width: 1.5\"/>\n   </g>\n   <g id=\"line2d_82\">\n    <path d=\"M 49.633125 139.5 \nL 69.163125 139.5 \nL 88.693125 139.5 \nL 108.223125 121.768125 \nL 127.753125 111.563135 \nL 147.283125 109.307888 \n\" clip-path=\"url(#pccba2c7ec0)\" style=\"fill: none; stroke-dasharray: 9.6,2.4,1.5,2.4; stroke-dashoffset: 0; stroke: #2ca02c; stroke-width: 1.5\"/>\n   </g>\n   <g id=\"line2d_83\">\n    <path d=\"M 34.954394 13.5 \nL 44.698573 13.688232 \nL 54.442752 13.701053 \nL 64.186931 13.755999 \nL 73.93111 13.799235 \nL 83.675289 13.983055 \nL 93.419468 14.520397 \nL 103.163647 17.84695 \nL 112.907826 48.385603 \nL 122.652006 74.766146 \nL 132.396185 83.477103 \nL 142.140364 88.831934 \nL 151.884543 92.489388 \nL 161.628722 95.392696 \n\" clip-path=\"url(#pccba2c7ec0)\" style=\"fill: none; stroke: #1f77b4; stroke-width: 1.5; stroke-linecap: square\"/>\n   </g>\n   <g id=\"line2d_84\">\n    <path d=\"M 49.633125 13.539227 \nL 69.163125 13.763135 \nL 88.693125 14.068299 \nL 108.223125 26.026617 \nL 127.753125 80.29876 \nL 147.283125 90.522471 \n\" clip-path=\"url(#pccba2c7ec0)\" style=\"fill: none; stroke-dasharray: 5.55,2.4; stroke-dashoffset: 0; stroke: #ff7f0e; stroke-width: 1.5\"/>\n   </g>\n   <g id=\"line2d_85\">\n    <path d=\"M 49.633125 139.5 \nL 69.163125 139.5 \nL 88.693125 139.5 \nL 108.223125 121.768125 \nL 127.753125 111.563135 \nL 147.283125 109.307888 \n\" clip-path=\"url(#pccba2c7ec0)\" style=\"fill: none; stroke-dasharray: 9.6,2.4,1.5,2.4; stroke-dashoffset: 0; stroke: #2ca02c; stroke-width: 1.5\"/>\n   </g>\n   <g id=\"line2d_86\">\n    <path d=\"M 34.954394 13.5 \nL 44.698573 13.688232 \nL 54.442752 13.701053 \nL 64.186931 13.755999 \nL 73.93111 13.799235 \nL 83.675289 13.983055 \nL 93.419468 14.520397 \nL 103.163647 17.84695 \nL 112.907826 48.385603 \nL 122.652006 74.766146 \nL 132.396185 83.477103 \nL 142.140364 88.831934 \nL 151.884543 92.489388 \nL 161.628722 95.392696 \n\" clip-path=\"url(#pccba2c7ec0)\" style=\"fill: none; stroke: #1f77b4; stroke-width: 1.5; stroke-linecap: square\"/>\n   </g>\n   <g id=\"line2d_87\">\n    <path d=\"M 49.633125 13.539227 \nL 69.163125 13.763135 \nL 88.693125 14.068299 \nL 108.223125 26.026617 \nL 127.753125 80.29876 \nL 147.283125 90.522471 \nL 166.813125 96.532727 \n\" clip-path=\"url(#pccba2c7ec0)\" style=\"fill: none; stroke-dasharray: 5.55,2.4; stroke-dashoffset: 0; stroke: #ff7f0e; stroke-width: 1.5\"/>\n   </g>\n   <g id=\"line2d_88\">\n    <path d=\"M 49.633125 139.5 \nL 69.163125 139.5 \nL 88.693125 139.5 \nL 108.223125 121.768125 \nL 127.753125 111.563135 \nL 147.283125 109.307888 \n\" clip-path=\"url(#pccba2c7ec0)\" style=\"fill: none; stroke-dasharray: 9.6,2.4,1.5,2.4; stroke-dashoffset: 0; stroke: #2ca02c; stroke-width: 1.5\"/>\n   </g>\n   <g id=\"line2d_89\">\n    <path d=\"M 34.954394 13.5 \nL 44.698573 13.688232 \nL 54.442752 13.701053 \nL 64.186931 13.755999 \nL 73.93111 13.799235 \nL 83.675289 13.983055 \nL 93.419468 14.520397 \nL 103.163647 17.84695 \nL 112.907826 48.385603 \nL 122.652006 74.766146 \nL 132.396185 83.477103 \nL 142.140364 88.831934 \nL 151.884543 92.489388 \nL 161.628722 95.392696 \n\" clip-path=\"url(#pccba2c7ec0)\" style=\"fill: none; stroke: #1f77b4; stroke-width: 1.5; stroke-linecap: square\"/>\n   </g>\n   <g id=\"line2d_90\">\n    <path d=\"M 49.633125 13.539227 \nL 69.163125 13.763135 \nL 88.693125 14.068299 \nL 108.223125 26.026617 \nL 127.753125 80.29876 \nL 147.283125 90.522471 \nL 166.813125 96.532727 \n\" clip-path=\"url(#pccba2c7ec0)\" style=\"fill: none; stroke-dasharray: 5.55,2.4; stroke-dashoffset: 0; stroke: #ff7f0e; stroke-width: 1.5\"/>\n   </g>\n   <g id=\"line2d_91\">\n    <path d=\"M 49.633125 139.5 \nL 69.163125 139.5 \nL 88.693125 139.5 \nL 108.223125 121.768125 \nL 127.753125 111.563135 \nL 147.283125 109.307888 \nL 166.813125 106.894774 \n\" clip-path=\"url(#pccba2c7ec0)\" style=\"fill: none; stroke-dasharray: 9.6,2.4,1.5,2.4; stroke-dashoffset: 0; stroke: #2ca02c; stroke-width: 1.5\"/>\n   </g>\n   <g id=\"line2d_92\">\n    <path d=\"M 34.954394 13.5 \nL 44.698573 13.688232 \nL 54.442752 13.701053 \nL 64.186931 13.755999 \nL 73.93111 13.799235 \nL 83.675289 13.983055 \nL 93.419468 14.520397 \nL 103.163647 17.84695 \nL 112.907826 48.385603 \nL 122.652006 74.766146 \nL 132.396185 83.477103 \nL 142.140364 88.831934 \nL 151.884543 92.489388 \nL 161.628722 95.392696 \nL 171.372901 98.382323 \n\" clip-path=\"url(#pccba2c7ec0)\" style=\"fill: none; stroke: #1f77b4; stroke-width: 1.5; stroke-linecap: square\"/>\n   </g>\n   <g id=\"line2d_93\">\n    <path d=\"M 49.633125 13.539227 \nL 69.163125 13.763135 \nL 88.693125 14.068299 \nL 108.223125 26.026617 \nL 127.753125 80.29876 \nL 147.283125 90.522471 \nL 166.813125 96.532727 \n\" clip-path=\"url(#pccba2c7ec0)\" style=\"fill: none; stroke-dasharray: 5.55,2.4; stroke-dashoffset: 0; stroke: #ff7f0e; stroke-width: 1.5\"/>\n   </g>\n   <g id=\"line2d_94\">\n    <path d=\"M 49.633125 139.5 \nL 69.163125 139.5 \nL 88.693125 139.5 \nL 108.223125 121.768125 \nL 127.753125 111.563135 \nL 147.283125 109.307888 \nL 166.813125 106.894774 \n\" clip-path=\"url(#pccba2c7ec0)\" style=\"fill: none; stroke-dasharray: 9.6,2.4,1.5,2.4; stroke-dashoffset: 0; stroke: #2ca02c; stroke-width: 1.5\"/>\n   </g>\n   <g id=\"line2d_95\">\n    <path d=\"M 34.954394 13.5 \nL 44.698573 13.688232 \nL 54.442752 13.701053 \nL 64.186931 13.755999 \nL 73.93111 13.799235 \nL 83.675289 13.983055 \nL 93.419468 14.520397 \nL 103.163647 17.84695 \nL 112.907826 48.385603 \nL 122.652006 74.766146 \nL 132.396185 83.477103 \nL 142.140364 88.831934 \nL 151.884543 92.489388 \nL 161.628722 95.392696 \nL 171.372901 98.382323 \nL 181.11708 100.025129 \n\" clip-path=\"url(#pccba2c7ec0)\" style=\"fill: none; stroke: #1f77b4; stroke-width: 1.5; stroke-linecap: square\"/>\n   </g>\n   <g id=\"line2d_96\">\n    <path d=\"M 49.633125 13.539227 \nL 69.163125 13.763135 \nL 88.693125 14.068299 \nL 108.223125 26.026617 \nL 127.753125 80.29876 \nL 147.283125 90.522471 \nL 166.813125 96.532727 \n\" clip-path=\"url(#pccba2c7ec0)\" style=\"fill: none; stroke-dasharray: 5.55,2.4; stroke-dashoffset: 0; stroke: #ff7f0e; stroke-width: 1.5\"/>\n   </g>\n   <g id=\"line2d_97\">\n    <path d=\"M 49.633125 139.5 \nL 69.163125 139.5 \nL 88.693125 139.5 \nL 108.223125 121.768125 \nL 127.753125 111.563135 \nL 147.283125 109.307888 \nL 166.813125 106.894774 \n\" clip-path=\"url(#pccba2c7ec0)\" style=\"fill: none; stroke-dasharray: 9.6,2.4,1.5,2.4; stroke-dashoffset: 0; stroke: #2ca02c; stroke-width: 1.5\"/>\n   </g>\n   <g id=\"line2d_98\">\n    <path d=\"M 34.954394 13.5 \nL 44.698573 13.688232 \nL 54.442752 13.701053 \nL 64.186931 13.755999 \nL 73.93111 13.799235 \nL 83.675289 13.983055 \nL 93.419468 14.520397 \nL 103.163647 17.84695 \nL 112.907826 48.385603 \nL 122.652006 74.766146 \nL 132.396185 83.477103 \nL 142.140364 88.831934 \nL 151.884543 92.489388 \nL 161.628722 95.392696 \nL 171.372901 98.382323 \nL 181.11708 100.025129 \n\" clip-path=\"url(#pccba2c7ec0)\" style=\"fill: none; stroke: #1f77b4; stroke-width: 1.5; stroke-linecap: square\"/>\n   </g>\n   <g id=\"line2d_99\">\n    <path d=\"M 49.633125 13.539227 \nL 69.163125 13.763135 \nL 88.693125 14.068299 \nL 108.223125 26.026617 \nL 127.753125 80.29876 \nL 147.283125 90.522471 \nL 166.813125 96.532727 \nL 186.343125 101.027057 \n\" clip-path=\"url(#pccba2c7ec0)\" style=\"fill: none; stroke-dasharray: 5.55,2.4; stroke-dashoffset: 0; stroke: #ff7f0e; stroke-width: 1.5\"/>\n   </g>\n   <g id=\"line2d_100\">\n    <path d=\"M 49.633125 139.5 \nL 69.163125 139.5 \nL 88.693125 139.5 \nL 108.223125 121.768125 \nL 127.753125 111.563135 \nL 147.283125 109.307888 \nL 166.813125 106.894774 \n\" clip-path=\"url(#pccba2c7ec0)\" style=\"fill: none; stroke-dasharray: 9.6,2.4,1.5,2.4; stroke-dashoffset: 0; stroke: #2ca02c; stroke-width: 1.5\"/>\n   </g>\n   <g id=\"line2d_101\">\n    <path d=\"M 34.954394 13.5 \nL 44.698573 13.688232 \nL 54.442752 13.701053 \nL 64.186931 13.755999 \nL 73.93111 13.799235 \nL 83.675289 13.983055 \nL 93.419468 14.520397 \nL 103.163647 17.84695 \nL 112.907826 48.385603 \nL 122.652006 74.766146 \nL 132.396185 83.477103 \nL 142.140364 88.831934 \nL 151.884543 92.489388 \nL 161.628722 95.392696 \nL 171.372901 98.382323 \nL 181.11708 100.025129 \n\" clip-path=\"url(#pccba2c7ec0)\" style=\"fill: none; stroke: #1f77b4; stroke-width: 1.5; stroke-linecap: square\"/>\n   </g>\n   <g id=\"line2d_102\">\n    <path d=\"M 49.633125 13.539227 \nL 69.163125 13.763135 \nL 88.693125 14.068299 \nL 108.223125 26.026617 \nL 127.753125 80.29876 \nL 147.283125 90.522471 \nL 166.813125 96.532727 \nL 186.343125 101.027057 \n\" clip-path=\"url(#pccba2c7ec0)\" style=\"fill: none; stroke-dasharray: 5.55,2.4; stroke-dashoffset: 0; stroke: #ff7f0e; stroke-width: 1.5\"/>\n   </g>\n   <g id=\"line2d_103\">\n    <path d=\"M 49.633125 139.5 \nL 69.163125 139.5 \nL 88.693125 139.5 \nL 108.223125 121.768125 \nL 127.753125 111.563135 \nL 147.283125 109.307888 \nL 166.813125 106.894774 \nL 186.343125 104.171564 \n\" clip-path=\"url(#pccba2c7ec0)\" style=\"fill: none; stroke-dasharray: 9.6,2.4,1.5,2.4; stroke-dashoffset: 0; stroke: #2ca02c; stroke-width: 1.5\"/>\n   </g>\n   <g id=\"line2d_104\">\n    <path d=\"M 34.954394 13.5 \nL 44.698573 13.688232 \nL 54.442752 13.701053 \nL 64.186931 13.755999 \nL 73.93111 13.799235 \nL 83.675289 13.983055 \nL 93.419468 14.520397 \nL 103.163647 17.84695 \nL 112.907826 48.385603 \nL 122.652006 74.766146 \nL 132.396185 83.477103 \nL 142.140364 88.831934 \nL 151.884543 92.489388 \nL 161.628722 95.392696 \nL 171.372901 98.382323 \nL 181.11708 100.025129 \nL 190.861259 102.425245 \n\" clip-path=\"url(#pccba2c7ec0)\" style=\"fill: none; stroke: #1f77b4; stroke-width: 1.5; stroke-linecap: square\"/>\n   </g>\n   <g id=\"line2d_105\">\n    <path d=\"M 49.633125 13.539227 \nL 69.163125 13.763135 \nL 88.693125 14.068299 \nL 108.223125 26.026617 \nL 127.753125 80.29876 \nL 147.283125 90.522471 \nL 166.813125 96.532727 \nL 186.343125 101.027057 \n\" clip-path=\"url(#pccba2c7ec0)\" style=\"fill: none; stroke-dasharray: 5.55,2.4; stroke-dashoffset: 0; stroke: #ff7f0e; stroke-width: 1.5\"/>\n   </g>\n   <g id=\"line2d_106\">\n    <path d=\"M 49.633125 139.5 \nL 69.163125 139.5 \nL 88.693125 139.5 \nL 108.223125 121.768125 \nL 127.753125 111.563135 \nL 147.283125 109.307888 \nL 166.813125 106.894774 \nL 186.343125 104.171564 \n\" clip-path=\"url(#pccba2c7ec0)\" style=\"fill: none; stroke-dasharray: 9.6,2.4,1.5,2.4; stroke-dashoffset: 0; stroke: #2ca02c; stroke-width: 1.5\"/>\n   </g>\n   <g id=\"line2d_107\">\n    <path d=\"M 34.954394 13.5 \nL 44.698573 13.688232 \nL 54.442752 13.701053 \nL 64.186931 13.755999 \nL 73.93111 13.799235 \nL 83.675289 13.983055 \nL 93.419468 14.520397 \nL 103.163647 17.84695 \nL 112.907826 48.385603 \nL 122.652006 74.766146 \nL 132.396185 83.477103 \nL 142.140364 88.831934 \nL 151.884543 92.489388 \nL 161.628722 95.392696 \nL 171.372901 98.382323 \nL 181.11708 100.025129 \nL 190.861259 102.425245 \nL 200.605438 104.535594 \n\" clip-path=\"url(#pccba2c7ec0)\" style=\"fill: none; stroke: #1f77b4; stroke-width: 1.5; stroke-linecap: square\"/>\n   </g>\n   <g id=\"line2d_108\">\n    <path d=\"M 49.633125 13.539227 \nL 69.163125 13.763135 \nL 88.693125 14.068299 \nL 108.223125 26.026617 \nL 127.753125 80.29876 \nL 147.283125 90.522471 \nL 166.813125 96.532727 \nL 186.343125 101.027057 \n\" clip-path=\"url(#pccba2c7ec0)\" style=\"fill: none; stroke-dasharray: 5.55,2.4; stroke-dashoffset: 0; stroke: #ff7f0e; stroke-width: 1.5\"/>\n   </g>\n   <g id=\"line2d_109\">\n    <path d=\"M 49.633125 139.5 \nL 69.163125 139.5 \nL 88.693125 139.5 \nL 108.223125 121.768125 \nL 127.753125 111.563135 \nL 147.283125 109.307888 \nL 166.813125 106.894774 \nL 186.343125 104.171564 \n\" clip-path=\"url(#pccba2c7ec0)\" style=\"fill: none; stroke-dasharray: 9.6,2.4,1.5,2.4; stroke-dashoffset: 0; stroke: #2ca02c; stroke-width: 1.5\"/>\n   </g>\n   <g id=\"line2d_110\">\n    <path d=\"M 34.954394 13.5 \nL 44.698573 13.688232 \nL 54.442752 13.701053 \nL 64.186931 13.755999 \nL 73.93111 13.799235 \nL 83.675289 13.983055 \nL 93.419468 14.520397 \nL 103.163647 17.84695 \nL 112.907826 48.385603 \nL 122.652006 74.766146 \nL 132.396185 83.477103 \nL 142.140364 88.831934 \nL 151.884543 92.489388 \nL 161.628722 95.392696 \nL 171.372901 98.382323 \nL 181.11708 100.025129 \nL 190.861259 102.425245 \nL 200.605438 104.535594 \n\" clip-path=\"url(#pccba2c7ec0)\" style=\"fill: none; stroke: #1f77b4; stroke-width: 1.5; stroke-linecap: square\"/>\n   </g>\n   <g id=\"line2d_111\">\n    <path d=\"M 49.633125 13.539227 \nL 69.163125 13.763135 \nL 88.693125 14.068299 \nL 108.223125 26.026617 \nL 127.753125 80.29876 \nL 147.283125 90.522471 \nL 166.813125 96.532727 \nL 186.343125 101.027057 \nL 205.873125 104.306575 \n\" clip-path=\"url(#pccba2c7ec0)\" style=\"fill: none; stroke-dasharray: 5.55,2.4; stroke-dashoffset: 0; stroke: #ff7f0e; stroke-width: 1.5\"/>\n   </g>\n   <g id=\"line2d_112\">\n    <path d=\"M 49.633125 139.5 \nL 69.163125 139.5 \nL 88.693125 139.5 \nL 108.223125 121.768125 \nL 127.753125 111.563135 \nL 147.283125 109.307888 \nL 166.813125 106.894774 \nL 186.343125 104.171564 \n\" clip-path=\"url(#pccba2c7ec0)\" style=\"fill: none; stroke-dasharray: 9.6,2.4,1.5,2.4; stroke-dashoffset: 0; stroke: #2ca02c; stroke-width: 1.5\"/>\n   </g>\n   <g id=\"line2d_113\">\n    <path d=\"M 34.954394 13.5 \nL 44.698573 13.688232 \nL 54.442752 13.701053 \nL 64.186931 13.755999 \nL 73.93111 13.799235 \nL 83.675289 13.983055 \nL 93.419468 14.520397 \nL 103.163647 17.84695 \nL 112.907826 48.385603 \nL 122.652006 74.766146 \nL 132.396185 83.477103 \nL 142.140364 88.831934 \nL 151.884543 92.489388 \nL 161.628722 95.392696 \nL 171.372901 98.382323 \nL 181.11708 100.025129 \nL 190.861259 102.425245 \nL 200.605438 104.535594 \n\" clip-path=\"url(#pccba2c7ec0)\" style=\"fill: none; stroke: #1f77b4; stroke-width: 1.5; stroke-linecap: square\"/>\n   </g>\n   <g id=\"line2d_114\">\n    <path d=\"M 49.633125 13.539227 \nL 69.163125 13.763135 \nL 88.693125 14.068299 \nL 108.223125 26.026617 \nL 127.753125 80.29876 \nL 147.283125 90.522471 \nL 166.813125 96.532727 \nL 186.343125 101.027057 \nL 205.873125 104.306575 \n\" clip-path=\"url(#pccba2c7ec0)\" style=\"fill: none; stroke-dasharray: 5.55,2.4; stroke-dashoffset: 0; stroke: #ff7f0e; stroke-width: 1.5\"/>\n   </g>\n   <g id=\"line2d_115\">\n    <path d=\"M 49.633125 139.5 \nL 69.163125 139.5 \nL 88.693125 139.5 \nL 108.223125 121.768125 \nL 127.753125 111.563135 \nL 147.283125 109.307888 \nL 166.813125 106.894774 \nL 186.343125 104.171564 \nL 205.873125 103.16798 \n\" clip-path=\"url(#pccba2c7ec0)\" style=\"fill: none; stroke-dasharray: 9.6,2.4,1.5,2.4; stroke-dashoffset: 0; stroke: #2ca02c; stroke-width: 1.5\"/>\n   </g>\n   <g id=\"line2d_116\">\n    <path d=\"M 34.954394 13.5 \nL 44.698573 13.688232 \nL 54.442752 13.701053 \nL 64.186931 13.755999 \nL 73.93111 13.799235 \nL 83.675289 13.983055 \nL 93.419468 14.520397 \nL 103.163647 17.84695 \nL 112.907826 48.385603 \nL 122.652006 74.766146 \nL 132.396185 83.477103 \nL 142.140364 88.831934 \nL 151.884543 92.489388 \nL 161.628722 95.392696 \nL 171.372901 98.382323 \nL 181.11708 100.025129 \nL 190.861259 102.425245 \nL 200.605438 104.535594 \nL 210.349618 106.293531 \n\" clip-path=\"url(#pccba2c7ec0)\" style=\"fill: none; stroke: #1f77b4; stroke-width: 1.5; stroke-linecap: square\"/>\n   </g>\n   <g id=\"line2d_117\">\n    <path d=\"M 49.633125 13.539227 \nL 69.163125 13.763135 \nL 88.693125 14.068299 \nL 108.223125 26.026617 \nL 127.753125 80.29876 \nL 147.283125 90.522471 \nL 166.813125 96.532727 \nL 186.343125 101.027057 \nL 205.873125 104.306575 \n\" clip-path=\"url(#pccba2c7ec0)\" style=\"fill: none; stroke-dasharray: 5.55,2.4; stroke-dashoffset: 0; stroke: #ff7f0e; stroke-width: 1.5\"/>\n   </g>\n   <g id=\"line2d_118\">\n    <path d=\"M 49.633125 139.5 \nL 69.163125 139.5 \nL 88.693125 139.5 \nL 108.223125 121.768125 \nL 127.753125 111.563135 \nL 147.283125 109.307888 \nL 166.813125 106.894774 \nL 186.343125 104.171564 \nL 205.873125 103.16798 \n\" clip-path=\"url(#pccba2c7ec0)\" style=\"fill: none; stroke-dasharray: 9.6,2.4,1.5,2.4; stroke-dashoffset: 0; stroke: #2ca02c; stroke-width: 1.5\"/>\n   </g>\n   <g id=\"line2d_119\">\n    <path d=\"M 34.954394 13.5 \nL 44.698573 13.688232 \nL 54.442752 13.701053 \nL 64.186931 13.755999 \nL 73.93111 13.799235 \nL 83.675289 13.983055 \nL 93.419468 14.520397 \nL 103.163647 17.84695 \nL 112.907826 48.385603 \nL 122.652006 74.766146 \nL 132.396185 83.477103 \nL 142.140364 88.831934 \nL 151.884543 92.489388 \nL 161.628722 95.392696 \nL 171.372901 98.382323 \nL 181.11708 100.025129 \nL 190.861259 102.425245 \nL 200.605438 104.535594 \nL 210.349618 106.293531 \nL 220.093797 106.855826 \n\" clip-path=\"url(#pccba2c7ec0)\" style=\"fill: none; stroke: #1f77b4; stroke-width: 1.5; stroke-linecap: square\"/>\n   </g>\n   <g id=\"line2d_120\">\n    <path d=\"M 49.633125 13.539227 \nL 69.163125 13.763135 \nL 88.693125 14.068299 \nL 108.223125 26.026617 \nL 127.753125 80.29876 \nL 147.283125 90.522471 \nL 166.813125 96.532727 \nL 186.343125 101.027057 \nL 205.873125 104.306575 \n\" clip-path=\"url(#pccba2c7ec0)\" style=\"fill: none; stroke-dasharray: 5.55,2.4; stroke-dashoffset: 0; stroke: #ff7f0e; stroke-width: 1.5\"/>\n   </g>\n   <g id=\"line2d_121\">\n    <path d=\"M 49.633125 139.5 \nL 69.163125 139.5 \nL 88.693125 139.5 \nL 108.223125 121.768125 \nL 127.753125 111.563135 \nL 147.283125 109.307888 \nL 166.813125 106.894774 \nL 186.343125 104.171564 \nL 205.873125 103.16798 \n\" clip-path=\"url(#pccba2c7ec0)\" style=\"fill: none; stroke-dasharray: 9.6,2.4,1.5,2.4; stroke-dashoffset: 0; stroke: #2ca02c; stroke-width: 1.5\"/>\n   </g>\n   <g id=\"line2d_122\">\n    <path d=\"M 34.954394 13.5 \nL 44.698573 13.688232 \nL 54.442752 13.701053 \nL 64.186931 13.755999 \nL 73.93111 13.799235 \nL 83.675289 13.983055 \nL 93.419468 14.520397 \nL 103.163647 17.84695 \nL 112.907826 48.385603 \nL 122.652006 74.766146 \nL 132.396185 83.477103 \nL 142.140364 88.831934 \nL 151.884543 92.489388 \nL 161.628722 95.392696 \nL 171.372901 98.382323 \nL 181.11708 100.025129 \nL 190.861259 102.425245 \nL 200.605438 104.535594 \nL 210.349618 106.293531 \nL 220.093797 106.855826 \n\" clip-path=\"url(#pccba2c7ec0)\" style=\"fill: none; stroke: #1f77b4; stroke-width: 1.5; stroke-linecap: square\"/>\n   </g>\n   <g id=\"line2d_123\">\n    <path d=\"M 49.633125 13.539227 \nL 69.163125 13.763135 \nL 88.693125 14.068299 \nL 108.223125 26.026617 \nL 127.753125 80.29876 \nL 147.283125 90.522471 \nL 166.813125 96.532727 \nL 186.343125 101.027057 \nL 205.873125 104.306575 \nL 225.403125 106.956016 \n\" clip-path=\"url(#pccba2c7ec0)\" style=\"fill: none; stroke-dasharray: 5.55,2.4; stroke-dashoffset: 0; stroke: #ff7f0e; stroke-width: 1.5\"/>\n   </g>\n   <g id=\"line2d_124\">\n    <path d=\"M 49.633125 139.5 \nL 69.163125 139.5 \nL 88.693125 139.5 \nL 108.223125 121.768125 \nL 127.753125 111.563135 \nL 147.283125 109.307888 \nL 166.813125 106.894774 \nL 186.343125 104.171564 \nL 205.873125 103.16798 \n\" clip-path=\"url(#pccba2c7ec0)\" style=\"fill: none; stroke-dasharray: 9.6,2.4,1.5,2.4; stroke-dashoffset: 0; stroke: #2ca02c; stroke-width: 1.5\"/>\n   </g>\n   <g id=\"line2d_125\">\n    <path d=\"M 34.954394 13.5 \nL 44.698573 13.688232 \nL 54.442752 13.701053 \nL 64.186931 13.755999 \nL 73.93111 13.799235 \nL 83.675289 13.983055 \nL 93.419468 14.520397 \nL 103.163647 17.84695 \nL 112.907826 48.385603 \nL 122.652006 74.766146 \nL 132.396185 83.477103 \nL 142.140364 88.831934 \nL 151.884543 92.489388 \nL 161.628722 95.392696 \nL 171.372901 98.382323 \nL 181.11708 100.025129 \nL 190.861259 102.425245 \nL 200.605438 104.535594 \nL 210.349618 106.293531 \nL 220.093797 106.855826 \n\" clip-path=\"url(#pccba2c7ec0)\" style=\"fill: none; stroke: #1f77b4; stroke-width: 1.5; stroke-linecap: square\"/>\n   </g>\n   <g id=\"line2d_126\">\n    <path d=\"M 49.633125 13.539227 \nL 69.163125 13.763135 \nL 88.693125 14.068299 \nL 108.223125 26.026617 \nL 127.753125 80.29876 \nL 147.283125 90.522471 \nL 166.813125 96.532727 \nL 186.343125 101.027057 \nL 205.873125 104.306575 \nL 225.403125 106.956016 \n\" clip-path=\"url(#pccba2c7ec0)\" style=\"fill: none; stroke-dasharray: 5.55,2.4; stroke-dashoffset: 0; stroke: #ff7f0e; stroke-width: 1.5\"/>\n   </g>\n   <g id=\"line2d_127\">\n    <path d=\"M 49.633125 139.5 \nL 69.163125 139.5 \nL 88.693125 139.5 \nL 108.223125 121.768125 \nL 127.753125 111.563135 \nL 147.283125 109.307888 \nL 166.813125 106.894774 \nL 186.343125 104.171564 \nL 205.873125 103.16798 \nL 225.403125 102.801502 \n\" clip-path=\"url(#pccba2c7ec0)\" style=\"fill: none; stroke-dasharray: 9.6,2.4,1.5,2.4; stroke-dashoffset: 0; stroke: #2ca02c; stroke-width: 1.5\"/>\n   </g>\n   <g id=\"patch_3\">\n    <path d=\"M 30.103125 145.8 \nL 30.103125 7.2 \n\" style=\"fill: none; stroke: #000000; stroke-width: 0.8; stroke-linejoin: miter; stroke-linecap: square\"/>\n   </g>\n   <g id=\"patch_4\">\n    <path d=\"M 225.403125 145.8 \nL 225.403125 7.2 \n\" style=\"fill: none; stroke: #000000; stroke-width: 0.8; stroke-linejoin: miter; stroke-linecap: square\"/>\n   </g>\n   <g id=\"patch_5\">\n    <path d=\"M 30.103125 145.8 \nL 225.403125 145.8 \n\" style=\"fill: none; stroke: #000000; stroke-width: 0.8; stroke-linejoin: miter; stroke-linecap: square\"/>\n   </g>\n   <g id=\"patch_6\">\n    <path d=\"M 30.103125 7.2 \nL 225.403125 7.2 \n\" style=\"fill: none; stroke: #000000; stroke-width: 0.8; stroke-linejoin: miter; stroke-linecap: square\"/>\n   </g>\n   <g id=\"legend_1\">\n    <g id=\"patch_7\">\n     <path d=\"M 138.8125 60.06875 \nL 218.403125 60.06875 \nQ 220.403125 60.06875 220.403125 58.06875 \nL 220.403125 14.2 \nQ 220.403125 12.2 218.403125 12.2 \nL 138.8125 12.2 \nQ 136.8125 12.2 136.8125 14.2 \nL 136.8125 58.06875 \nQ 136.8125 60.06875 138.8125 60.06875 \nz\n\" style=\"fill: #ffffff; opacity: 0.8; stroke: #cccccc; stroke-linejoin: miter\"/>\n    </g>\n    <g id=\"line2d_128\">\n     <path d=\"M 140.8125 20.298438 \nL 150.8125 20.298438 \nL 160.8125 20.298438 \n\" style=\"fill: none; stroke: #1f77b4; stroke-width: 1.5; stroke-linecap: square\"/>\n    </g>\n    <g id=\"text_13\">\n     <!-- train_loss -->\n     <g transform=\"translate(168.8125 23.798438) scale(0.1 -0.1)\">\n      <defs>\n       <path id=\"DejaVuSans-74\" d=\"M 1172 4494 \nL 1172 3500 \nL 2356 3500 \nL 2356 3053 \nL 1172 3053 \nL 1172 1153 \nQ 1172 725 1289 603 \nQ 1406 481 1766 481 \nL 2356 481 \nL 2356 0 \nL 1766 0 \nQ 1100 0 847 248 \nQ 594 497 594 1153 \nL 594 3053 \nL 172 3053 \nL 172 3500 \nL 594 3500 \nL 594 4494 \nL 1172 4494 \nz\n\" transform=\"scale(0.015625)\"/>\n       <path id=\"DejaVuSans-72\" d=\"M 2631 2963 \nQ 2534 3019 2420 3045 \nQ 2306 3072 2169 3072 \nQ 1681 3072 1420 2755 \nQ 1159 2438 1159 1844 \nL 1159 0 \nL 581 0 \nL 581 3500 \nL 1159 3500 \nL 1159 2956 \nQ 1341 3275 1631 3429 \nQ 1922 3584 2338 3584 \nQ 2397 3584 2469 3576 \nQ 2541 3569 2628 3553 \nL 2631 2963 \nz\n\" transform=\"scale(0.015625)\"/>\n       <path id=\"DejaVuSans-61\" d=\"M 2194 1759 \nQ 1497 1759 1228 1600 \nQ 959 1441 959 1056 \nQ 959 750 1161 570 \nQ 1363 391 1709 391 \nQ 2188 391 2477 730 \nQ 2766 1069 2766 1631 \nL 2766 1759 \nL 2194 1759 \nz\nM 3341 1997 \nL 3341 0 \nL 2766 0 \nL 2766 531 \nQ 2569 213 2275 61 \nQ 1981 -91 1556 -91 \nQ 1019 -91 701 211 \nQ 384 513 384 1019 \nQ 384 1609 779 1909 \nQ 1175 2209 1959 2209 \nL 2766 2209 \nL 2766 2266 \nQ 2766 2663 2505 2880 \nQ 2244 3097 1772 3097 \nQ 1472 3097 1187 3025 \nQ 903 2953 641 2809 \nL 641 3341 \nQ 956 3463 1253 3523 \nQ 1550 3584 1831 3584 \nQ 2591 3584 2966 3190 \nQ 3341 2797 3341 1997 \nz\n\" transform=\"scale(0.015625)\"/>\n       <path id=\"DejaVuSans-69\" d=\"M 603 3500 \nL 1178 3500 \nL 1178 0 \nL 603 0 \nL 603 3500 \nz\nM 603 4863 \nL 1178 4863 \nL 1178 4134 \nL 603 4134 \nL 603 4863 \nz\n\" transform=\"scale(0.015625)\"/>\n       <path id=\"DejaVuSans-6e\" d=\"M 3513 2113 \nL 3513 0 \nL 2938 0 \nL 2938 2094 \nQ 2938 2591 2744 2837 \nQ 2550 3084 2163 3084 \nQ 1697 3084 1428 2787 \nQ 1159 2491 1159 1978 \nL 1159 0 \nL 581 0 \nL 581 3500 \nL 1159 3500 \nL 1159 2956 \nQ 1366 3272 1645 3428 \nQ 1925 3584 2291 3584 \nQ 2894 3584 3203 3211 \nQ 3513 2838 3513 2113 \nz\n\" transform=\"scale(0.015625)\"/>\n       <path id=\"DejaVuSans-5f\" d=\"M 3263 -1063 \nL 3263 -1509 \nL -63 -1509 \nL -63 -1063 \nL 3263 -1063 \nz\n\" transform=\"scale(0.015625)\"/>\n       <path id=\"DejaVuSans-6c\" d=\"M 603 4863 \nL 1178 4863 \nL 1178 0 \nL 603 0 \nL 603 4863 \nz\n\" transform=\"scale(0.015625)\"/>\n       <path id=\"DejaVuSans-73\" d=\"M 2834 3397 \nL 2834 2853 \nQ 2591 2978 2328 3040 \nQ 2066 3103 1784 3103 \nQ 1356 3103 1142 2972 \nQ 928 2841 928 2578 \nQ 928 2378 1081 2264 \nQ 1234 2150 1697 2047 \nL 1894 2003 \nQ 2506 1872 2764 1633 \nQ 3022 1394 3022 966 \nQ 3022 478 2636 193 \nQ 2250 -91 1575 -91 \nQ 1294 -91 989 -36 \nQ 684 19 347 128 \nL 347 722 \nQ 666 556 975 473 \nQ 1284 391 1588 391 \nQ 1994 391 2212 530 \nQ 2431 669 2431 922 \nQ 2431 1156 2273 1281 \nQ 2116 1406 1581 1522 \nL 1381 1569 \nQ 847 1681 609 1914 \nQ 372 2147 372 2553 \nQ 372 3047 722 3315 \nQ 1072 3584 1716 3584 \nQ 2034 3584 2315 3537 \nQ 2597 3491 2834 3397 \nz\n\" transform=\"scale(0.015625)\"/>\n      </defs>\n      <use xlink:href=\"#DejaVuSans-74\"/>\n      <use xlink:href=\"#DejaVuSans-72\" x=\"39.208984\"/>\n      <use xlink:href=\"#DejaVuSans-61\" x=\"80.322266\"/>\n      <use xlink:href=\"#DejaVuSans-69\" x=\"141.601562\"/>\n      <use xlink:href=\"#DejaVuSans-6e\" x=\"169.384766\"/>\n      <use xlink:href=\"#DejaVuSans-5f\" x=\"232.763672\"/>\n      <use xlink:href=\"#DejaVuSans-6c\" x=\"282.763672\"/>\n      <use xlink:href=\"#DejaVuSans-6f\" x=\"310.546875\"/>\n      <use xlink:href=\"#DejaVuSans-73\" x=\"371.728516\"/>\n      <use xlink:href=\"#DejaVuSans-73\" x=\"423.828125\"/>\n     </g>\n    </g>\n    <g id=\"line2d_129\">\n     <path d=\"M 140.8125 35.254688 \nL 150.8125 35.254688 \nL 160.8125 35.254688 \n\" style=\"fill: none; stroke-dasharray: 5.55,2.4; stroke-dashoffset: 0; stroke: #ff7f0e; stroke-width: 1.5\"/>\n    </g>\n    <g id=\"text_14\">\n     <!-- val_loss -->\n     <g transform=\"translate(168.8125 38.754688) scale(0.1 -0.1)\">\n      <defs>\n       <path id=\"DejaVuSans-76\" d=\"M 191 3500 \nL 800 3500 \nL 1894 563 \nL 2988 3500 \nL 3597 3500 \nL 2284 0 \nL 1503 0 \nL 191 3500 \nz\n\" transform=\"scale(0.015625)\"/>\n      </defs>\n      <use xlink:href=\"#DejaVuSans-76\"/>\n      <use xlink:href=\"#DejaVuSans-61\" x=\"59.179688\"/>\n      <use xlink:href=\"#DejaVuSans-6c\" x=\"120.458984\"/>\n      <use xlink:href=\"#DejaVuSans-5f\" x=\"148.242188\"/>\n      <use xlink:href=\"#DejaVuSans-6c\" x=\"198.242188\"/>\n      <use xlink:href=\"#DejaVuSans-6f\" x=\"226.025391\"/>\n      <use xlink:href=\"#DejaVuSans-73\" x=\"287.207031\"/>\n      <use xlink:href=\"#DejaVuSans-73\" x=\"339.306641\"/>\n     </g>\n    </g>\n    <g id=\"line2d_130\">\n     <path d=\"M 140.8125 50.210938 \nL 150.8125 50.210938 \nL 160.8125 50.210938 \n\" style=\"fill: none; stroke-dasharray: 9.6,2.4,1.5,2.4; stroke-dashoffset: 0; stroke: #2ca02c; stroke-width: 1.5\"/>\n    </g>\n    <g id=\"text_15\">\n     <!-- val_acc -->\n     <g transform=\"translate(168.8125 53.710938) scale(0.1 -0.1)\">\n      <use xlink:href=\"#DejaVuSans-76\"/>\n      <use xlink:href=\"#DejaVuSans-61\" x=\"59.179688\"/>\n      <use xlink:href=\"#DejaVuSans-6c\" x=\"120.458984\"/>\n      <use xlink:href=\"#DejaVuSans-5f\" x=\"148.242188\"/>\n      <use xlink:href=\"#DejaVuSans-61\" x=\"198.242188\"/>\n      <use xlink:href=\"#DejaVuSans-63\" x=\"259.521484\"/>\n      <use xlink:href=\"#DejaVuSans-63\" x=\"314.501953\"/>\n     </g>\n    </g>\n   </g>\n  </g>\n </g>\n <defs>\n  <clipPath id=\"pccba2c7ec0\">\n   <rect x=\"30.103125\" y=\"7.2\" width=\"195.3\" height=\"138.6\"/>\n  </clipPath>\n </defs>\n</svg>\n"
          },
          "metadata": {}
        }
      ]
    },
    {
      "cell_type": "code",
      "source": [],
      "metadata": {
        "id": "c0aEGXCSZHKZ"
      },
      "execution_count": null,
      "outputs": []
    },
    {
      "cell_type": "code",
      "source": [],
      "metadata": {
        "id": "Hu_lusx1aRua"
      },
      "execution_count": null,
      "outputs": []
    },
    {
      "cell_type": "code",
      "source": [],
      "metadata": {
        "id": "bvYTab2GaUeg"
      },
      "execution_count": null,
      "outputs": []
    },
    {
      "cell_type": "code",
      "source": [],
      "metadata": {
        "id": "Si5I9da-aUuy"
      },
      "execution_count": null,
      "outputs": []
    },
    {
      "cell_type": "code",
      "source": [],
      "metadata": {
        "id": "F-CvyV6taU_B"
      },
      "execution_count": null,
      "outputs": []
    },
    {
      "cell_type": "code",
      "source": [],
      "metadata": {
        "id": "IyJiEDK_aVMg"
      },
      "execution_count": null,
      "outputs": []
    },
    {
      "cell_type": "code",
      "source": [],
      "metadata": {
        "id": "OAtt7kGUaVjo"
      },
      "execution_count": null,
      "outputs": []
    },
    {
      "cell_type": "code",
      "source": [],
      "metadata": {
        "id": "x_yH4ppaaVw2"
      },
      "execution_count": null,
      "outputs": []
    },
    {
      "cell_type": "code",
      "source": [],
      "metadata": {
        "id": "-94ubXjvaWHp"
      },
      "execution_count": null,
      "outputs": []
    },
    {
      "cell_type": "code",
      "source": [],
      "metadata": {
        "id": "RzrkR8qbaWS6"
      },
      "execution_count": null,
      "outputs": []
    },
    {
      "cell_type": "code",
      "source": [],
      "metadata": {
        "id": "b-sNG8AAaWrH"
      },
      "execution_count": null,
      "outputs": []
    },
    {
      "cell_type": "code",
      "source": [],
      "metadata": {
        "id": "Al14ZuIMaW1z"
      },
      "execution_count": null,
      "outputs": []
    },
    {
      "cell_type": "code",
      "source": [],
      "metadata": {
        "id": "niZtkadraaqk"
      },
      "execution_count": null,
      "outputs": []
    },
    {
      "cell_type": "code",
      "source": [],
      "metadata": {
        "id": "CjoVMZ97aa7y"
      },
      "execution_count": null,
      "outputs": []
    },
    {
      "cell_type": "code",
      "source": [],
      "metadata": {
        "id": "Kgq1XzSoabMM"
      },
      "execution_count": null,
      "outputs": []
    },
    {
      "cell_type": "code",
      "source": [],
      "metadata": {
        "id": "rnu8ZEd-abbH"
      },
      "execution_count": null,
      "outputs": []
    },
    {
      "cell_type": "code",
      "source": [],
      "metadata": {
        "id": "jezP_mzJabuk"
      },
      "execution_count": null,
      "outputs": []
    },
    {
      "cell_type": "code",
      "source": [],
      "metadata": {
        "id": "qkPxzMOxab8x"
      },
      "execution_count": null,
      "outputs": []
    },
    {
      "cell_type": "code",
      "source": [],
      "metadata": {
        "id": "G8QZ1eLyacH5"
      },
      "execution_count": null,
      "outputs": []
    },
    {
      "cell_type": "code",
      "source": [],
      "metadata": {
        "id": "VBv-ZkaDach3"
      },
      "execution_count": null,
      "outputs": []
    },
    {
      "cell_type": "code",
      "source": [],
      "metadata": {
        "id": "kU7x9m0EacyC"
      },
      "execution_count": null,
      "outputs": []
    },
    {
      "cell_type": "code",
      "source": [
        "\n",
        "\n",
        "\n",
        "\n",
        "\n",
        "\n",
        "\n",
        "\n",
        "\n",
        "\n",
        "\n",
        "\n",
        "\n",
        "\n",
        "\n",
        "\n",
        "\n",
        "\n",
        "\n",
        "\n",
        "\n",
        "\n",
        "\n",
        "\n",
        "\n",
        "\n",
        "\n",
        "\n",
        "\n",
        "\n",
        "\n",
        "\n"
      ],
      "metadata": {
        "id": "feAc0hwWafii"
      },
      "execution_count": null,
      "outputs": []
    }
  ]
}