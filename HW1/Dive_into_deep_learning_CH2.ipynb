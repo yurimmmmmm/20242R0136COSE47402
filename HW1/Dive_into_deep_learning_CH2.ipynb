{
  "nbformat": 4,
  "nbformat_minor": 0,
  "metadata": {
    "colab": {
      "provenance": [],
      "collapsed_sections": [
        "sK15oj1ACE_e",
        "3f-H7PukFy-u",
        "kBa-Shh_i00F",
        "A0viCxONGz8n",
        "Wxm7ZDYgG0wN",
        "chvaeePYG302",
        "JY2449wNm7t3"
      ]
    },
    "kernelspec": {
      "name": "python3",
      "display_name": "Python 3"
    },
    "language_info": {
      "name": "python"
    }
  },
  "cells": [
    {
      "cell_type": "markdown",
      "source": [
        "###0.1 installation"
      ],
      "metadata": {
        "id": "sK15oj1ACE_e"
      }
    },
    {
      "cell_type": "code",
      "execution_count": null,
      "metadata": {
        "colab": {
          "base_uri": "https://localhost:8080/",
          "height": 1000
        },
        "id": "ObJ_sWhJBscp",
        "outputId": "f923b11d-a2a2-4f71-c9e3-69788c2328b4"
      },
      "outputs": [
        {
          "output_type": "stream",
          "name": "stdout",
          "text": [
            "Collecting d2l==1.0.3\n",
            "  Downloading d2l-1.0.3-py3-none-any.whl.metadata (556 bytes)\n",
            "Collecting jupyter==1.0.0 (from d2l==1.0.3)\n",
            "  Downloading jupyter-1.0.0-py2.py3-none-any.whl.metadata (995 bytes)\n",
            "Collecting numpy==1.23.5 (from d2l==1.0.3)\n",
            "  Downloading numpy-1.23.5-cp310-cp310-manylinux_2_17_x86_64.manylinux2014_x86_64.whl.metadata (2.3 kB)\n",
            "Collecting matplotlib==3.7.2 (from d2l==1.0.3)\n",
            "  Downloading matplotlib-3.7.2-cp310-cp310-manylinux_2_17_x86_64.manylinux2014_x86_64.whl.metadata (5.6 kB)\n",
            "Collecting matplotlib-inline==0.1.6 (from d2l==1.0.3)\n",
            "  Downloading matplotlib_inline-0.1.6-py3-none-any.whl.metadata (2.8 kB)\n",
            "Collecting requests==2.31.0 (from d2l==1.0.3)\n",
            "  Downloading requests-2.31.0-py3-none-any.whl.metadata (4.6 kB)\n",
            "Collecting pandas==2.0.3 (from d2l==1.0.3)\n",
            "  Downloading pandas-2.0.3-cp310-cp310-manylinux_2_17_x86_64.manylinux2014_x86_64.whl.metadata (18 kB)\n",
            "Collecting scipy==1.10.1 (from d2l==1.0.3)\n",
            "  Downloading scipy-1.10.1-cp310-cp310-manylinux_2_17_x86_64.manylinux2014_x86_64.whl.metadata (58 kB)\n",
            "\u001b[2K     \u001b[90m━━━━━━━━━━━━━━━━━━━━━━━━━━━━━━━━━━━━━━━━\u001b[0m \u001b[32m58.9/58.9 kB\u001b[0m \u001b[31m772.6 kB/s\u001b[0m eta \u001b[36m0:00:00\u001b[0m\n",
            "\u001b[?25hRequirement already satisfied: notebook in /usr/local/lib/python3.10/dist-packages (from jupyter==1.0.0->d2l==1.0.3) (6.5.5)\n",
            "Collecting qtconsole (from jupyter==1.0.0->d2l==1.0.3)\n",
            "  Downloading qtconsole-5.6.0-py3-none-any.whl.metadata (5.0 kB)\n",
            "Requirement already satisfied: jupyter-console in /usr/local/lib/python3.10/dist-packages (from jupyter==1.0.0->d2l==1.0.3) (6.1.0)\n",
            "Requirement already satisfied: nbconvert in /usr/local/lib/python3.10/dist-packages (from jupyter==1.0.0->d2l==1.0.3) (6.5.4)\n",
            "Requirement already satisfied: ipykernel in /usr/local/lib/python3.10/dist-packages (from jupyter==1.0.0->d2l==1.0.3) (5.5.6)\n",
            "Requirement already satisfied: ipywidgets in /usr/local/lib/python3.10/dist-packages (from jupyter==1.0.0->d2l==1.0.3) (7.7.1)\n",
            "Requirement already satisfied: contourpy>=1.0.1 in /usr/local/lib/python3.10/dist-packages (from matplotlib==3.7.2->d2l==1.0.3) (1.3.0)\n",
            "Requirement already satisfied: cycler>=0.10 in /usr/local/lib/python3.10/dist-packages (from matplotlib==3.7.2->d2l==1.0.3) (0.12.1)\n",
            "Requirement already satisfied: fonttools>=4.22.0 in /usr/local/lib/python3.10/dist-packages (from matplotlib==3.7.2->d2l==1.0.3) (4.53.1)\n",
            "Requirement already satisfied: kiwisolver>=1.0.1 in /usr/local/lib/python3.10/dist-packages (from matplotlib==3.7.2->d2l==1.0.3) (1.4.7)\n",
            "Requirement already satisfied: packaging>=20.0 in /usr/local/lib/python3.10/dist-packages (from matplotlib==3.7.2->d2l==1.0.3) (24.1)\n",
            "Requirement already satisfied: pillow>=6.2.0 in /usr/local/lib/python3.10/dist-packages (from matplotlib==3.7.2->d2l==1.0.3) (10.4.0)\n",
            "Collecting pyparsing<3.1,>=2.3.1 (from matplotlib==3.7.2->d2l==1.0.3)\n",
            "  Downloading pyparsing-3.0.9-py3-none-any.whl.metadata (4.2 kB)\n",
            "Requirement already satisfied: python-dateutil>=2.7 in /usr/local/lib/python3.10/dist-packages (from matplotlib==3.7.2->d2l==1.0.3) (2.8.2)\n",
            "Requirement already satisfied: traitlets in /usr/local/lib/python3.10/dist-packages (from matplotlib-inline==0.1.6->d2l==1.0.3) (5.7.1)\n",
            "Requirement already satisfied: pytz>=2020.1 in /usr/local/lib/python3.10/dist-packages (from pandas==2.0.3->d2l==1.0.3) (2024.2)\n",
            "Requirement already satisfied: tzdata>=2022.1 in /usr/local/lib/python3.10/dist-packages (from pandas==2.0.3->d2l==1.0.3) (2024.1)\n",
            "Requirement already satisfied: charset-normalizer<4,>=2 in /usr/local/lib/python3.10/dist-packages (from requests==2.31.0->d2l==1.0.3) (3.3.2)\n",
            "Requirement already satisfied: idna<4,>=2.5 in /usr/local/lib/python3.10/dist-packages (from requests==2.31.0->d2l==1.0.3) (3.10)\n",
            "Requirement already satisfied: urllib3<3,>=1.21.1 in /usr/local/lib/python3.10/dist-packages (from requests==2.31.0->d2l==1.0.3) (2.2.3)\n",
            "Requirement already satisfied: certifi>=2017.4.17 in /usr/local/lib/python3.10/dist-packages (from requests==2.31.0->d2l==1.0.3) (2024.8.30)\n",
            "Requirement already satisfied: six>=1.5 in /usr/local/lib/python3.10/dist-packages (from python-dateutil>=2.7->matplotlib==3.7.2->d2l==1.0.3) (1.16.0)\n",
            "Requirement already satisfied: ipython-genutils in /usr/local/lib/python3.10/dist-packages (from ipykernel->jupyter==1.0.0->d2l==1.0.3) (0.2.0)\n",
            "Requirement already satisfied: ipython>=5.0.0 in /usr/local/lib/python3.10/dist-packages (from ipykernel->jupyter==1.0.0->d2l==1.0.3) (7.34.0)\n",
            "Requirement already satisfied: jupyter-client in /usr/local/lib/python3.10/dist-packages (from ipykernel->jupyter==1.0.0->d2l==1.0.3) (6.1.12)\n",
            "Requirement already satisfied: tornado>=4.2 in /usr/local/lib/python3.10/dist-packages (from ipykernel->jupyter==1.0.0->d2l==1.0.3) (6.3.3)\n",
            "Requirement already satisfied: widgetsnbextension~=3.6.0 in /usr/local/lib/python3.10/dist-packages (from ipywidgets->jupyter==1.0.0->d2l==1.0.3) (3.6.9)\n",
            "Requirement already satisfied: jupyterlab-widgets>=1.0.0 in /usr/local/lib/python3.10/dist-packages (from ipywidgets->jupyter==1.0.0->d2l==1.0.3) (3.0.13)\n",
            "Requirement already satisfied: prompt-toolkit!=3.0.0,!=3.0.1,<3.1.0,>=2.0.0 in /usr/local/lib/python3.10/dist-packages (from jupyter-console->jupyter==1.0.0->d2l==1.0.3) (3.0.47)\n",
            "Requirement already satisfied: pygments in /usr/local/lib/python3.10/dist-packages (from jupyter-console->jupyter==1.0.0->d2l==1.0.3) (2.18.0)\n",
            "Requirement already satisfied: lxml in /usr/local/lib/python3.10/dist-packages (from nbconvert->jupyter==1.0.0->d2l==1.0.3) (4.9.4)\n",
            "Requirement already satisfied: beautifulsoup4 in /usr/local/lib/python3.10/dist-packages (from nbconvert->jupyter==1.0.0->d2l==1.0.3) (4.12.3)\n",
            "Requirement already satisfied: bleach in /usr/local/lib/python3.10/dist-packages (from nbconvert->jupyter==1.0.0->d2l==1.0.3) (6.1.0)\n",
            "Requirement already satisfied: defusedxml in /usr/local/lib/python3.10/dist-packages (from nbconvert->jupyter==1.0.0->d2l==1.0.3) (0.7.1)\n",
            "Requirement already satisfied: entrypoints>=0.2.2 in /usr/local/lib/python3.10/dist-packages (from nbconvert->jupyter==1.0.0->d2l==1.0.3) (0.4)\n",
            "Requirement already satisfied: jinja2>=3.0 in /usr/local/lib/python3.10/dist-packages (from nbconvert->jupyter==1.0.0->d2l==1.0.3) (3.1.4)\n",
            "Requirement already satisfied: jupyter-core>=4.7 in /usr/local/lib/python3.10/dist-packages (from nbconvert->jupyter==1.0.0->d2l==1.0.3) (5.7.2)\n",
            "Requirement already satisfied: jupyterlab-pygments in /usr/local/lib/python3.10/dist-packages (from nbconvert->jupyter==1.0.0->d2l==1.0.3) (0.3.0)\n",
            "Requirement already satisfied: MarkupSafe>=2.0 in /usr/local/lib/python3.10/dist-packages (from nbconvert->jupyter==1.0.0->d2l==1.0.3) (2.1.5)\n",
            "Requirement already satisfied: mistune<2,>=0.8.1 in /usr/local/lib/python3.10/dist-packages (from nbconvert->jupyter==1.0.0->d2l==1.0.3) (0.8.4)\n",
            "Requirement already satisfied: nbclient>=0.5.0 in /usr/local/lib/python3.10/dist-packages (from nbconvert->jupyter==1.0.0->d2l==1.0.3) (0.10.0)\n",
            "Requirement already satisfied: nbformat>=5.1 in /usr/local/lib/python3.10/dist-packages (from nbconvert->jupyter==1.0.0->d2l==1.0.3) (5.10.4)\n",
            "Requirement already satisfied: pandocfilters>=1.4.1 in /usr/local/lib/python3.10/dist-packages (from nbconvert->jupyter==1.0.0->d2l==1.0.3) (1.5.1)\n",
            "Requirement already satisfied: tinycss2 in /usr/local/lib/python3.10/dist-packages (from nbconvert->jupyter==1.0.0->d2l==1.0.3) (1.3.0)\n",
            "Requirement already satisfied: pyzmq<25,>=17 in /usr/local/lib/python3.10/dist-packages (from notebook->jupyter==1.0.0->d2l==1.0.3) (24.0.1)\n",
            "Requirement already satisfied: argon2-cffi in /usr/local/lib/python3.10/dist-packages (from notebook->jupyter==1.0.0->d2l==1.0.3) (23.1.0)\n",
            "Requirement already satisfied: nest-asyncio>=1.5 in /usr/local/lib/python3.10/dist-packages (from notebook->jupyter==1.0.0->d2l==1.0.3) (1.6.0)\n",
            "Requirement already satisfied: Send2Trash>=1.8.0 in /usr/local/lib/python3.10/dist-packages (from notebook->jupyter==1.0.0->d2l==1.0.3) (1.8.3)\n",
            "Requirement already satisfied: terminado>=0.8.3 in /usr/local/lib/python3.10/dist-packages (from notebook->jupyter==1.0.0->d2l==1.0.3) (0.18.1)\n",
            "Requirement already satisfied: prometheus-client in /usr/local/lib/python3.10/dist-packages (from notebook->jupyter==1.0.0->d2l==1.0.3) (0.20.0)\n",
            "Requirement already satisfied: nbclassic>=0.4.7 in /usr/local/lib/python3.10/dist-packages (from notebook->jupyter==1.0.0->d2l==1.0.3) (1.1.0)\n",
            "Collecting qtpy>=2.4.0 (from qtconsole->jupyter==1.0.0->d2l==1.0.3)\n",
            "  Downloading QtPy-2.4.1-py3-none-any.whl.metadata (12 kB)\n",
            "Requirement already satisfied: setuptools>=18.5 in /usr/local/lib/python3.10/dist-packages (from ipython>=5.0.0->ipykernel->jupyter==1.0.0->d2l==1.0.3) (71.0.4)\n",
            "Collecting jedi>=0.16 (from ipython>=5.0.0->ipykernel->jupyter==1.0.0->d2l==1.0.3)\n",
            "  Using cached jedi-0.19.1-py2.py3-none-any.whl.metadata (22 kB)\n",
            "Requirement already satisfied: decorator in /usr/local/lib/python3.10/dist-packages (from ipython>=5.0.0->ipykernel->jupyter==1.0.0->d2l==1.0.3) (4.4.2)\n",
            "Requirement already satisfied: pickleshare in /usr/local/lib/python3.10/dist-packages (from ipython>=5.0.0->ipykernel->jupyter==1.0.0->d2l==1.0.3) (0.7.5)\n",
            "Requirement already satisfied: backcall in /usr/local/lib/python3.10/dist-packages (from ipython>=5.0.0->ipykernel->jupyter==1.0.0->d2l==1.0.3) (0.2.0)\n",
            "Requirement already satisfied: pexpect>4.3 in /usr/local/lib/python3.10/dist-packages (from ipython>=5.0.0->ipykernel->jupyter==1.0.0->d2l==1.0.3) (4.9.0)\n",
            "Requirement already satisfied: platformdirs>=2.5 in /usr/local/lib/python3.10/dist-packages (from jupyter-core>=4.7->nbconvert->jupyter==1.0.0->d2l==1.0.3) (4.3.6)\n",
            "Requirement already satisfied: notebook-shim>=0.2.3 in /usr/local/lib/python3.10/dist-packages (from nbclassic>=0.4.7->notebook->jupyter==1.0.0->d2l==1.0.3) (0.2.4)\n",
            "Requirement already satisfied: fastjsonschema>=2.15 in /usr/local/lib/python3.10/dist-packages (from nbformat>=5.1->nbconvert->jupyter==1.0.0->d2l==1.0.3) (2.20.0)\n",
            "Requirement already satisfied: jsonschema>=2.6 in /usr/local/lib/python3.10/dist-packages (from nbformat>=5.1->nbconvert->jupyter==1.0.0->d2l==1.0.3) (4.23.0)\n",
            "Requirement already satisfied: wcwidth in /usr/local/lib/python3.10/dist-packages (from prompt-toolkit!=3.0.0,!=3.0.1,<3.1.0,>=2.0.0->jupyter-console->jupyter==1.0.0->d2l==1.0.3) (0.2.13)\n",
            "Requirement already satisfied: ptyprocess in /usr/local/lib/python3.10/dist-packages (from terminado>=0.8.3->notebook->jupyter==1.0.0->d2l==1.0.3) (0.7.0)\n",
            "Requirement already satisfied: argon2-cffi-bindings in /usr/local/lib/python3.10/dist-packages (from argon2-cffi->notebook->jupyter==1.0.0->d2l==1.0.3) (21.2.0)\n",
            "Requirement already satisfied: soupsieve>1.2 in /usr/local/lib/python3.10/dist-packages (from beautifulsoup4->nbconvert->jupyter==1.0.0->d2l==1.0.3) (2.6)\n",
            "Requirement already satisfied: webencodings in /usr/local/lib/python3.10/dist-packages (from bleach->nbconvert->jupyter==1.0.0->d2l==1.0.3) (0.5.1)\n",
            "Requirement already satisfied: parso<0.9.0,>=0.8.3 in /usr/local/lib/python3.10/dist-packages (from jedi>=0.16->ipython>=5.0.0->ipykernel->jupyter==1.0.0->d2l==1.0.3) (0.8.4)\n",
            "Requirement already satisfied: attrs>=22.2.0 in /usr/local/lib/python3.10/dist-packages (from jsonschema>=2.6->nbformat>=5.1->nbconvert->jupyter==1.0.0->d2l==1.0.3) (24.2.0)\n",
            "Requirement already satisfied: jsonschema-specifications>=2023.03.6 in /usr/local/lib/python3.10/dist-packages (from jsonschema>=2.6->nbformat>=5.1->nbconvert->jupyter==1.0.0->d2l==1.0.3) (2023.12.1)\n",
            "Requirement already satisfied: referencing>=0.28.4 in /usr/local/lib/python3.10/dist-packages (from jsonschema>=2.6->nbformat>=5.1->nbconvert->jupyter==1.0.0->d2l==1.0.3) (0.35.1)\n",
            "Requirement already satisfied: rpds-py>=0.7.1 in /usr/local/lib/python3.10/dist-packages (from jsonschema>=2.6->nbformat>=5.1->nbconvert->jupyter==1.0.0->d2l==1.0.3) (0.20.0)\n",
            "Requirement already satisfied: jupyter-server<3,>=1.8 in /usr/local/lib/python3.10/dist-packages (from notebook-shim>=0.2.3->nbclassic>=0.4.7->notebook->jupyter==1.0.0->d2l==1.0.3) (1.24.0)\n",
            "Requirement already satisfied: cffi>=1.0.1 in /usr/local/lib/python3.10/dist-packages (from argon2-cffi-bindings->argon2-cffi->notebook->jupyter==1.0.0->d2l==1.0.3) (1.17.1)\n",
            "Requirement already satisfied: pycparser in /usr/local/lib/python3.10/dist-packages (from cffi>=1.0.1->argon2-cffi-bindings->argon2-cffi->notebook->jupyter==1.0.0->d2l==1.0.3) (2.22)\n",
            "Requirement already satisfied: anyio<4,>=3.1.0 in /usr/local/lib/python3.10/dist-packages (from jupyter-server<3,>=1.8->notebook-shim>=0.2.3->nbclassic>=0.4.7->notebook->jupyter==1.0.0->d2l==1.0.3) (3.7.1)\n",
            "Requirement already satisfied: websocket-client in /usr/local/lib/python3.10/dist-packages (from jupyter-server<3,>=1.8->notebook-shim>=0.2.3->nbclassic>=0.4.7->notebook->jupyter==1.0.0->d2l==1.0.3) (1.8.0)\n",
            "Requirement already satisfied: sniffio>=1.1 in /usr/local/lib/python3.10/dist-packages (from anyio<4,>=3.1.0->jupyter-server<3,>=1.8->notebook-shim>=0.2.3->nbclassic>=0.4.7->notebook->jupyter==1.0.0->d2l==1.0.3) (1.3.1)\n",
            "Requirement already satisfied: exceptiongroup in /usr/local/lib/python3.10/dist-packages (from anyio<4,>=3.1.0->jupyter-server<3,>=1.8->notebook-shim>=0.2.3->nbclassic>=0.4.7->notebook->jupyter==1.0.0->d2l==1.0.3) (1.2.2)\n",
            "Downloading d2l-1.0.3-py3-none-any.whl (111 kB)\n",
            "\u001b[2K   \u001b[90m━━━━━━━━━━━━━━━━━━━━━━━━━━━━━━━━━━━━━━━━\u001b[0m \u001b[32m111.7/111.7 kB\u001b[0m \u001b[31m1.4 MB/s\u001b[0m eta \u001b[36m0:00:00\u001b[0m\n",
            "\u001b[?25hDownloading jupyter-1.0.0-py2.py3-none-any.whl (2.7 kB)\n",
            "Downloading matplotlib-3.7.2-cp310-cp310-manylinux_2_17_x86_64.manylinux2014_x86_64.whl (11.6 MB)\n",
            "\u001b[2K   \u001b[90m━━━━━━━━━━━━━━━━━━━━━━━━━━━━━━━━━━━━━━━━\u001b[0m \u001b[32m11.6/11.6 MB\u001b[0m \u001b[31m49.4 MB/s\u001b[0m eta \u001b[36m0:00:00\u001b[0m\n",
            "\u001b[?25hDownloading matplotlib_inline-0.1.6-py3-none-any.whl (9.4 kB)\n",
            "Downloading numpy-1.23.5-cp310-cp310-manylinux_2_17_x86_64.manylinux2014_x86_64.whl (17.1 MB)\n",
            "\u001b[2K   \u001b[90m━━━━━━━━━━━━━━━━━━━━━━━━━━━━━━━━━━━━━━━━\u001b[0m \u001b[32m17.1/17.1 MB\u001b[0m \u001b[31m47.3 MB/s\u001b[0m eta \u001b[36m0:00:00\u001b[0m\n",
            "\u001b[?25hDownloading pandas-2.0.3-cp310-cp310-manylinux_2_17_x86_64.manylinux2014_x86_64.whl (12.3 MB)\n",
            "\u001b[2K   \u001b[90m━━━━━━━━━━━━━━━━━━━━━━━━━━━━━━━━━━━━━━━━\u001b[0m \u001b[32m12.3/12.3 MB\u001b[0m \u001b[31m55.0 MB/s\u001b[0m eta \u001b[36m0:00:00\u001b[0m\n",
            "\u001b[?25hDownloading requests-2.31.0-py3-none-any.whl (62 kB)\n",
            "\u001b[2K   \u001b[90m━━━━━━━━━━━━━━━━━━━━━━━━━━━━━━━━━━━━━━━━\u001b[0m \u001b[32m62.6/62.6 kB\u001b[0m \u001b[31m3.3 MB/s\u001b[0m eta \u001b[36m0:00:00\u001b[0m\n",
            "\u001b[?25hDownloading scipy-1.10.1-cp310-cp310-manylinux_2_17_x86_64.manylinux2014_x86_64.whl (34.4 MB)\n",
            "\u001b[2K   \u001b[90m━━━━━━━━━━━━━━━━━━━━━━━━━━━━━━━━━━━━━━━━\u001b[0m \u001b[32m34.4/34.4 MB\u001b[0m \u001b[31m12.5 MB/s\u001b[0m eta \u001b[36m0:00:00\u001b[0m\n",
            "\u001b[?25hDownloading pyparsing-3.0.9-py3-none-any.whl (98 kB)\n",
            "\u001b[2K   \u001b[90m━━━━━━━━━━━━━━━━━━━━━━━━━━━━━━━━━━━━━━━━\u001b[0m \u001b[32m98.3/98.3 kB\u001b[0m \u001b[31m4.0 MB/s\u001b[0m eta \u001b[36m0:00:00\u001b[0m\n",
            "\u001b[?25hDownloading qtconsole-5.6.0-py3-none-any.whl (124 kB)\n",
            "\u001b[2K   \u001b[90m━━━━━━━━━━━━━━━━━━━━━━━━━━━━━━━━━━━━━━━━\u001b[0m \u001b[32m124.7/124.7 kB\u001b[0m \u001b[31m6.5 MB/s\u001b[0m eta \u001b[36m0:00:00\u001b[0m\n",
            "\u001b[?25hDownloading QtPy-2.4.1-py3-none-any.whl (93 kB)\n",
            "\u001b[2K   \u001b[90m━━━━━━━━━━━━━━━━━━━━━━━━━━━━━━━━━━━━━━━━\u001b[0m \u001b[32m93.5/93.5 kB\u001b[0m \u001b[31m5.3 MB/s\u001b[0m eta \u001b[36m0:00:00\u001b[0m\n",
            "\u001b[?25hUsing cached jedi-0.19.1-py2.py3-none-any.whl (1.6 MB)\n",
            "Installing collected packages: requests, qtpy, pyparsing, numpy, matplotlib-inline, jedi, scipy, pandas, matplotlib, qtconsole, jupyter, d2l\n",
            "  Attempting uninstall: requests\n",
            "    Found existing installation: requests 2.32.3\n",
            "    Uninstalling requests-2.32.3:\n",
            "      Successfully uninstalled requests-2.32.3\n",
            "  Attempting uninstall: pyparsing\n",
            "    Found existing installation: pyparsing 3.1.4\n",
            "    Uninstalling pyparsing-3.1.4:\n",
            "      Successfully uninstalled pyparsing-3.1.4\n",
            "  Attempting uninstall: numpy\n",
            "    Found existing installation: numpy 1.26.4\n",
            "    Uninstalling numpy-1.26.4:\n",
            "      Successfully uninstalled numpy-1.26.4\n",
            "  Attempting uninstall: matplotlib-inline\n",
            "    Found existing installation: matplotlib-inline 0.1.7\n",
            "    Uninstalling matplotlib-inline-0.1.7:\n",
            "      Successfully uninstalled matplotlib-inline-0.1.7\n",
            "  Attempting uninstall: scipy\n",
            "    Found existing installation: scipy 1.13.1\n",
            "    Uninstalling scipy-1.13.1:\n",
            "      Successfully uninstalled scipy-1.13.1\n",
            "  Attempting uninstall: pandas\n",
            "    Found existing installation: pandas 2.1.4\n",
            "    Uninstalling pandas-2.1.4:\n",
            "      Successfully uninstalled pandas-2.1.4\n",
            "  Attempting uninstall: matplotlib\n",
            "    Found existing installation: matplotlib 3.7.1\n",
            "    Uninstalling matplotlib-3.7.1:\n",
            "      Successfully uninstalled matplotlib-3.7.1\n",
            "\u001b[31mERROR: pip's dependency resolver does not currently take into account all the packages that are installed. This behaviour is the source of the following dependency conflicts.\n",
            "albucore 0.0.16 requires numpy>=1.24, but you have numpy 1.23.5 which is incompatible.\n",
            "albumentations 1.4.15 requires numpy>=1.24.4, but you have numpy 1.23.5 which is incompatible.\n",
            "bigframes 1.17.0 requires numpy>=1.24.0, but you have numpy 1.23.5 which is incompatible.\n",
            "chex 0.1.86 requires numpy>=1.24.1, but you have numpy 1.23.5 which is incompatible.\n",
            "google-colab 1.0.0 requires pandas==2.1.4, but you have pandas 2.0.3 which is incompatible.\n",
            "google-colab 1.0.0 requires requests==2.32.3, but you have requests 2.31.0 which is incompatible.\n",
            "mizani 0.11.4 requires pandas>=2.1.0, but you have pandas 2.0.3 which is incompatible.\n",
            "pandas-stubs 2.1.4.231227 requires numpy>=1.26.0; python_version < \"3.13\", but you have numpy 1.23.5 which is incompatible.\n",
            "plotnine 0.13.6 requires pandas<3.0.0,>=2.1.0, but you have pandas 2.0.3 which is incompatible.\n",
            "xarray 2024.9.0 requires numpy>=1.24, but you have numpy 1.23.5 which is incompatible.\n",
            "xarray 2024.9.0 requires pandas>=2.1, but you have pandas 2.0.3 which is incompatible.\u001b[0m\u001b[31m\n",
            "\u001b[0mSuccessfully installed d2l-1.0.3 jedi-0.19.1 jupyter-1.0.0 matplotlib-3.7.2 matplotlib-inline-0.1.6 numpy-1.23.5 pandas-2.0.3 pyparsing-3.0.9 qtconsole-5.6.0 qtpy-2.4.1 requests-2.31.0 scipy-1.10.1\n"
          ]
        },
        {
          "output_type": "display_data",
          "data": {
            "application/vnd.colab-display-data+json": {
              "pip_warning": {
                "packages": [
                  "matplotlib",
                  "matplotlib_inline",
                  "mpl_toolkits",
                  "numpy"
                ]
              },
              "id": "ef92a3c3ef8040c6b3587aa7b4724b84"
            }
          },
          "metadata": {}
        }
      ],
      "source": [
        "!pip install d2l==1.0.3"
      ]
    },
    {
      "cell_type": "markdown",
      "source": [
        "##2. Preliminaries"
      ],
      "metadata": {
        "id": "qRkqinWuCoVw"
      }
    },
    {
      "cell_type": "markdown",
      "source": [
        "###2.1. Data Manipulation"
      ],
      "metadata": {
        "id": "f7WZxee6Cvb7"
      }
    },
    {
      "cell_type": "markdown",
      "source": [
        "####2.1.1. Getting Started"
      ],
      "metadata": {
        "id": "GcaH-JYREVwq"
      }
    },
    {
      "cell_type": "code",
      "source": [
        "import torch"
      ],
      "metadata": {
        "id": "FZZ7y5EbD3ws"
      },
      "execution_count": null,
      "outputs": []
    },
    {
      "cell_type": "code",
      "source": [
        "x = torch.arange(12, dtype=torch.float32)\n",
        "x"
      ],
      "metadata": {
        "colab": {
          "base_uri": "https://localhost:8080/"
        },
        "id": "FcXIsyhvEjfl",
        "outputId": "098fafb1-eac5-436a-ae43-1a5d30db828e"
      },
      "execution_count": null,
      "outputs": [
        {
          "output_type": "execute_result",
          "data": {
            "text/plain": [
              "tensor([ 0.,  1.,  2.,  3.,  4.,  5.,  6.,  7.,  8.,  9., 10., 11.])"
            ]
          },
          "metadata": {},
          "execution_count": 99
        }
      ]
    },
    {
      "cell_type": "code",
      "source": [
        "x.numel()"
      ],
      "metadata": {
        "colab": {
          "base_uri": "https://localhost:8080/"
        },
        "id": "iC9n5t55ExZP",
        "outputId": "61e4d9eb-ad0b-461f-8b5f-a7eacc19eb38"
      },
      "execution_count": null,
      "outputs": [
        {
          "output_type": "execute_result",
          "data": {
            "text/plain": [
              "12"
            ]
          },
          "metadata": {},
          "execution_count": 100
        }
      ]
    },
    {
      "cell_type": "code",
      "source": [
        "x.shape"
      ],
      "metadata": {
        "colab": {
          "base_uri": "https://localhost:8080/"
        },
        "id": "unWgTtdVEzYL",
        "outputId": "f37b42e1-1695-4f3a-bc7c-fa98321721b4"
      },
      "execution_count": null,
      "outputs": [
        {
          "output_type": "execute_result",
          "data": {
            "text/plain": [
              "torch.Size([12])"
            ]
          },
          "metadata": {},
          "execution_count": 101
        }
      ]
    },
    {
      "cell_type": "code",
      "source": [
        "X = x.reshape(3,4)\n",
        "X"
      ],
      "metadata": {
        "colab": {
          "base_uri": "https://localhost:8080/"
        },
        "id": "-6F-y5QUE9tj",
        "outputId": "ede4ff70-77f2-474c-d125-50cbe4c4d5a3"
      },
      "execution_count": null,
      "outputs": [
        {
          "output_type": "execute_result",
          "data": {
            "text/plain": [
              "tensor([[ 0.,  1.,  2.,  3.],\n",
              "        [ 4.,  5.,  6.,  7.],\n",
              "        [ 8.,  9., 10., 11.]])"
            ]
          },
          "metadata": {},
          "execution_count": 102
        }
      ]
    },
    {
      "cell_type": "code",
      "source": [
        "torch.zeros((2, 3, 4))"
      ],
      "metadata": {
        "colab": {
          "base_uri": "https://localhost:8080/"
        },
        "id": "xGoVp6rEFDOO",
        "outputId": "4947f3d7-c8fc-483e-bdd8-ff2691aa3cd3"
      },
      "execution_count": null,
      "outputs": [
        {
          "output_type": "execute_result",
          "data": {
            "text/plain": [
              "tensor([[[0., 0., 0., 0.],\n",
              "         [0., 0., 0., 0.],\n",
              "         [0., 0., 0., 0.]],\n",
              "\n",
              "        [[0., 0., 0., 0.],\n",
              "         [0., 0., 0., 0.],\n",
              "         [0., 0., 0., 0.]]])"
            ]
          },
          "metadata": {},
          "execution_count": 103
        }
      ]
    },
    {
      "cell_type": "code",
      "source": [
        "torch.ones((2, 3, 4))"
      ],
      "metadata": {
        "colab": {
          "base_uri": "https://localhost:8080/"
        },
        "id": "R070pAoQFSSs",
        "outputId": "1dbd6f23-f1e4-4bf3-9939-53fbd77ba0c8"
      },
      "execution_count": null,
      "outputs": [
        {
          "output_type": "execute_result",
          "data": {
            "text/plain": [
              "tensor([[[1., 1., 1., 1.],\n",
              "         [1., 1., 1., 1.],\n",
              "         [1., 1., 1., 1.]],\n",
              "\n",
              "        [[1., 1., 1., 1.],\n",
              "         [1., 1., 1., 1.],\n",
              "         [1., 1., 1., 1.]]])"
            ]
          },
          "metadata": {},
          "execution_count": 104
        }
      ]
    },
    {
      "cell_type": "code",
      "source": [
        "torch.randn(3, 4)"
      ],
      "metadata": {
        "colab": {
          "base_uri": "https://localhost:8080/"
        },
        "id": "YeCKPbyaFVR2",
        "outputId": "79a1b86c-d859-4b1c-b28b-5eda4a936851"
      },
      "execution_count": null,
      "outputs": [
        {
          "output_type": "execute_result",
          "data": {
            "text/plain": [
              "tensor([[ 0.3777, -0.0701, -0.7065,  1.1050],\n",
              "        [-1.6712,  0.3094,  1.2814,  1.2524],\n",
              "        [ 0.3365, -2.6644, -0.2156,  1.5587]])"
            ]
          },
          "metadata": {},
          "execution_count": 105
        }
      ]
    },
    {
      "cell_type": "code",
      "source": [
        "torch.tensor([[2, 1, 4, 3], [1, 2, 3, 4], [4, 3, 2, 1]])"
      ],
      "metadata": {
        "colab": {
          "base_uri": "https://localhost:8080/"
        },
        "id": "lLC_XqGEFiwD",
        "outputId": "ef0102e3-37f5-4e64-a3a4-24275f9d550b"
      },
      "execution_count": null,
      "outputs": [
        {
          "output_type": "execute_result",
          "data": {
            "text/plain": [
              "tensor([[2, 1, 4, 3],\n",
              "        [1, 2, 3, 4],\n",
              "        [4, 3, 2, 1]])"
            ]
          },
          "metadata": {},
          "execution_count": 106
        }
      ]
    },
    {
      "cell_type": "markdown",
      "source": [
        "####2.1.2. Indexing and Slicing"
      ],
      "metadata": {
        "id": "3f-H7PukFy-u"
      }
    },
    {
      "cell_type": "code",
      "source": [
        "X[-1], X[1:3]"
      ],
      "metadata": {
        "colab": {
          "base_uri": "https://localhost:8080/"
        },
        "id": "n92Bs5KRbpfo",
        "outputId": "2d17138e-ee40-4260-e94a-70607879a939"
      },
      "execution_count": null,
      "outputs": [
        {
          "output_type": "execute_result",
          "data": {
            "text/plain": [
              "(tensor([ 8.,  9., 10., 11.]),\n",
              " tensor([[ 4.,  5.,  6.,  7.],\n",
              "         [ 8.,  9., 10., 11.]]))"
            ]
          },
          "metadata": {},
          "execution_count": 107
        }
      ]
    },
    {
      "cell_type": "code",
      "source": [
        "X[1, 2] = 17\n",
        "X"
      ],
      "metadata": {
        "colab": {
          "base_uri": "https://localhost:8080/"
        },
        "id": "vzrO-v7KbrMS",
        "outputId": "2342e607-ebf4-4929-c40d-618a181acac1"
      },
      "execution_count": null,
      "outputs": [
        {
          "output_type": "execute_result",
          "data": {
            "text/plain": [
              "tensor([[ 0.,  1.,  2.,  3.],\n",
              "        [ 4.,  5., 17.,  7.],\n",
              "        [ 8.,  9., 10., 11.]])"
            ]
          },
          "metadata": {},
          "execution_count": 108
        }
      ]
    },
    {
      "cell_type": "code",
      "source": [
        "X[:2, :] = 12\n",
        "X"
      ],
      "metadata": {
        "colab": {
          "base_uri": "https://localhost:8080/"
        },
        "id": "04i4UQUebsWJ",
        "outputId": "27d9bbd2-3e18-49e8-9413-c9104bd42497"
      },
      "execution_count": null,
      "outputs": [
        {
          "output_type": "execute_result",
          "data": {
            "text/plain": [
              "tensor([[12., 12., 12., 12.],\n",
              "        [12., 12., 12., 12.],\n",
              "        [ 8.,  9., 10., 11.]])"
            ]
          },
          "metadata": {},
          "execution_count": 109
        }
      ]
    },
    {
      "cell_type": "markdown",
      "source": [
        "####2.1.3. Operations"
      ],
      "metadata": {
        "id": "NqEkDYIXF6Ex"
      }
    },
    {
      "cell_type": "code",
      "source": [
        "torch.exp(x)"
      ],
      "metadata": {
        "colab": {
          "base_uri": "https://localhost:8080/"
        },
        "id": "UYgILCTEbt_5",
        "outputId": "4728eacb-8e14-44b6-bb98-99d900eeb8fa"
      },
      "execution_count": null,
      "outputs": [
        {
          "output_type": "execute_result",
          "data": {
            "text/plain": [
              "tensor([162754.7969, 162754.7969, 162754.7969, 162754.7969, 162754.7969,\n",
              "        162754.7969, 162754.7969, 162754.7969,   2980.9580,   8103.0840,\n",
              "         22026.4648,  59874.1406])"
            ]
          },
          "metadata": {},
          "execution_count": 110
        }
      ]
    },
    {
      "cell_type": "code",
      "source": [
        "x = torch.tensor([1.0, 2, 4, 8])\n",
        "y = torch.tensor([2, 2, 2, 2])\n",
        "x + y, x - y, x * y, x / y, x ** y"
      ],
      "metadata": {
        "colab": {
          "base_uri": "https://localhost:8080/"
        },
        "id": "Y46sFgsXbvaw",
        "outputId": "355df59f-40b0-4a00-e448-b9c8b539b0e0"
      },
      "execution_count": null,
      "outputs": [
        {
          "output_type": "execute_result",
          "data": {
            "text/plain": [
              "(tensor([ 3.,  4.,  6., 10.]),\n",
              " tensor([-1.,  0.,  2.,  6.]),\n",
              " tensor([ 2.,  4.,  8., 16.]),\n",
              " tensor([0.5000, 1.0000, 2.0000, 4.0000]),\n",
              " tensor([ 1.,  4., 16., 64.]))"
            ]
          },
          "metadata": {},
          "execution_count": 111
        }
      ]
    },
    {
      "cell_type": "code",
      "source": [
        "X = torch.arange(12, dtype=torch.float32).reshape((3,4))\n",
        "Y = torch.tensor([[2.0, 1, 4, 3], [1, 2, 3, 4], [4, 3, 2, 1]])\n",
        "torch.cat((X, Y), dim=0), torch.cat((X, Y), dim=1)"
      ],
      "metadata": {
        "colab": {
          "base_uri": "https://localhost:8080/"
        },
        "id": "cMrnyY_ibzrF",
        "outputId": "c5bf1a13-225d-4f01-c540-6faced864e7e"
      },
      "execution_count": null,
      "outputs": [
        {
          "output_type": "execute_result",
          "data": {
            "text/plain": [
              "(tensor([[ 0.,  1.,  2.,  3.],\n",
              "         [ 4.,  5.,  6.,  7.],\n",
              "         [ 8.,  9., 10., 11.],\n",
              "         [ 2.,  1.,  4.,  3.],\n",
              "         [ 1.,  2.,  3.,  4.],\n",
              "         [ 4.,  3.,  2.,  1.]]),\n",
              " tensor([[ 0.,  1.,  2.,  3.,  2.,  1.,  4.,  3.],\n",
              "         [ 4.,  5.,  6.,  7.,  1.,  2.,  3.,  4.],\n",
              "         [ 8.,  9., 10., 11.,  4.,  3.,  2.,  1.]]))"
            ]
          },
          "metadata": {},
          "execution_count": 112
        }
      ]
    },
    {
      "cell_type": "code",
      "source": [
        "X == Y"
      ],
      "metadata": {
        "colab": {
          "base_uri": "https://localhost:8080/"
        },
        "id": "tt-Xdtulb2zA",
        "outputId": "b0950484-8f8c-4872-933a-8c434b431f02"
      },
      "execution_count": null,
      "outputs": [
        {
          "output_type": "execute_result",
          "data": {
            "text/plain": [
              "tensor([[False,  True, False,  True],\n",
              "        [False, False, False, False],\n",
              "        [False, False, False, False]])"
            ]
          },
          "metadata": {},
          "execution_count": 113
        }
      ]
    },
    {
      "cell_type": "code",
      "source": [
        "X.sum()"
      ],
      "metadata": {
        "colab": {
          "base_uri": "https://localhost:8080/"
        },
        "id": "mxIZ-YFNcDVo",
        "outputId": "97b5d925-1544-4e18-d6df-48f2fb32c914"
      },
      "execution_count": null,
      "outputs": [
        {
          "output_type": "execute_result",
          "data": {
            "text/plain": [
              "tensor(66.)"
            ]
          },
          "metadata": {},
          "execution_count": 114
        }
      ]
    },
    {
      "cell_type": "markdown",
      "source": [
        "####2.1.4. Broadcasting"
      ],
      "metadata": {
        "id": "ND6efvPvGG72"
      }
    },
    {
      "cell_type": "code",
      "source": [
        "a = torch.arange(3).reshape((3, 1))\n",
        "b = torch.arange(2).reshape((1, 2))\n",
        "a, b"
      ],
      "metadata": {
        "colab": {
          "base_uri": "https://localhost:8080/"
        },
        "id": "jX45uVqpcFlg",
        "outputId": "cc25946f-9263-4d12-c053-eeaf72c5407e"
      },
      "execution_count": null,
      "outputs": [
        {
          "output_type": "execute_result",
          "data": {
            "text/plain": [
              "(tensor([[0],\n",
              "         [1],\n",
              "         [2]]),\n",
              " tensor([[0, 1]]))"
            ]
          },
          "metadata": {},
          "execution_count": 115
        }
      ]
    },
    {
      "cell_type": "code",
      "source": [
        "a + b"
      ],
      "metadata": {
        "colab": {
          "base_uri": "https://localhost:8080/"
        },
        "id": "ZB-AQDV0cHSX",
        "outputId": "ec80e33b-2ee7-48c1-9372-2e92a81b0b48"
      },
      "execution_count": null,
      "outputs": [
        {
          "output_type": "execute_result",
          "data": {
            "text/plain": [
              "tensor([[0, 1],\n",
              "        [1, 2],\n",
              "        [2, 3]])"
            ]
          },
          "metadata": {},
          "execution_count": 116
        }
      ]
    },
    {
      "cell_type": "markdown",
      "source": [
        "####2.1.5. Saving Memory"
      ],
      "metadata": {
        "id": "uSOBxz9lGDNO"
      }
    },
    {
      "cell_type": "code",
      "source": [
        "before = id(Y)\n",
        "Y = Y + X\n",
        "id(Y) == before"
      ],
      "metadata": {
        "colab": {
          "base_uri": "https://localhost:8080/"
        },
        "id": "L_RCaw86cIxK",
        "outputId": "db1f6169-f781-43dc-9787-47368b379653"
      },
      "execution_count": null,
      "outputs": [
        {
          "output_type": "execute_result",
          "data": {
            "text/plain": [
              "False"
            ]
          },
          "metadata": {},
          "execution_count": 117
        }
      ]
    },
    {
      "cell_type": "code",
      "source": [
        "Z = torch.zeros_like(Y)\n",
        "print('id(Z):', id(Z))\n",
        "Z[:] = X + Y\n",
        "print('id(Z):', id(Z))"
      ],
      "metadata": {
        "colab": {
          "base_uri": "https://localhost:8080/"
        },
        "id": "Zfb82p7EcKGs",
        "outputId": "59340d29-db61-40ec-93c7-d77981f81ebc"
      },
      "execution_count": null,
      "outputs": [
        {
          "output_type": "stream",
          "name": "stdout",
          "text": [
            "id(Z): 137816171470720\n",
            "id(Z): 137816171470720\n"
          ]
        }
      ]
    },
    {
      "cell_type": "code",
      "source": [
        "before = id(X)\n",
        "X += Y\n",
        "id(X) == before"
      ],
      "metadata": {
        "colab": {
          "base_uri": "https://localhost:8080/"
        },
        "id": "-W5V1RlzcL6j",
        "outputId": "9fefe4d9-2c26-473b-e998-f2a3ef02281b"
      },
      "execution_count": null,
      "outputs": [
        {
          "output_type": "execute_result",
          "data": {
            "text/plain": [
              "True"
            ]
          },
          "metadata": {},
          "execution_count": 119
        }
      ]
    },
    {
      "cell_type": "markdown",
      "source": [
        "#### 2.1.6 Conversion to Ohter python Obejcts"
      ],
      "metadata": {
        "id": "B6eLIst_GJDp"
      }
    },
    {
      "cell_type": "code",
      "source": [
        "A = X.numpy()\n",
        "B = torch.from_numpy(A)\n",
        "type(A), type(B)"
      ],
      "metadata": {
        "colab": {
          "base_uri": "https://localhost:8080/"
        },
        "id": "JdsIz7tzcOCJ",
        "outputId": "281cd9fc-7937-4b12-ee83-dd06281c6aa8"
      },
      "execution_count": null,
      "outputs": [
        {
          "output_type": "execute_result",
          "data": {
            "text/plain": [
              "(numpy.ndarray, torch.Tensor)"
            ]
          },
          "metadata": {},
          "execution_count": 120
        }
      ]
    },
    {
      "cell_type": "code",
      "source": [
        "a = torch.tensor([3.5])\n",
        "a, a.item(), float(a), int(a)"
      ],
      "metadata": {
        "colab": {
          "base_uri": "https://localhost:8080/"
        },
        "id": "lftD7iw6cPGX",
        "outputId": "792484a7-a9aa-446f-b5d3-158c49f3a767"
      },
      "execution_count": null,
      "outputs": [
        {
          "output_type": "execute_result",
          "data": {
            "text/plain": [
              "(tensor([3.5000]), 3.5, 3.5, 3)"
            ]
          },
          "metadata": {},
          "execution_count": 121
        }
      ]
    },
    {
      "cell_type": "markdown",
      "source": [
        "####2.1.7 Discussion & Exercises"
      ],
      "metadata": {
        "id": "SAQdgCZLGLwa"
      }
    },
    {
      "cell_type": "markdown",
      "source": [
        "#####2.1.1.1. My Own Exercises"
      ],
      "metadata": {
        "id": "ZDrUfUv6JgkB"
      }
    },
    {
      "cell_type": "code",
      "source": [
        "y = torch.arange(48, dtype=torch.float32)\n",
        "y"
      ],
      "metadata": {
        "colab": {
          "base_uri": "https://localhost:8080/"
        },
        "id": "vFRbAEjjJjHf",
        "outputId": "cd79f955-ab90-40e5-c37f-dc6b50117be2"
      },
      "execution_count": null,
      "outputs": [
        {
          "output_type": "execute_result",
          "data": {
            "text/plain": [
              "tensor([ 0.,  1.,  2.,  3.,  4.,  5.,  6.,  7.,  8.,  9., 10., 11., 12., 13.,\n",
              "        14., 15., 16., 17., 18., 19., 20., 21., 22., 23., 24., 25., 26., 27.,\n",
              "        28., 29., 30., 31., 32., 33., 34., 35., 36., 37., 38., 39., 40., 41.,\n",
              "        42., 43., 44., 45., 46., 47.])"
            ]
          },
          "metadata": {},
          "execution_count": 122
        }
      ]
    },
    {
      "cell_type": "code",
      "source": [
        "y.reshape(6,8)"
      ],
      "metadata": {
        "colab": {
          "base_uri": "https://localhost:8080/"
        },
        "id": "z9qt_dg1JUji",
        "outputId": "e759da9d-dc3b-4372-d93b-2ce64c8725f8"
      },
      "execution_count": null,
      "outputs": [
        {
          "output_type": "execute_result",
          "data": {
            "text/plain": [
              "tensor([[ 0.,  1.,  2.,  3.,  4.,  5.,  6.,  7.],\n",
              "        [ 8.,  9., 10., 11., 12., 13., 14., 15.],\n",
              "        [16., 17., 18., 19., 20., 21., 22., 23.],\n",
              "        [24., 25., 26., 27., 28., 29., 30., 31.],\n",
              "        [32., 33., 34., 35., 36., 37., 38., 39.],\n",
              "        [40., 41., 42., 43., 44., 45., 46., 47.]])"
            ]
          },
          "metadata": {},
          "execution_count": 123
        }
      ]
    },
    {
      "cell_type": "code",
      "source": [
        "y.reshape(2, 2, 3, 4)"
      ],
      "metadata": {
        "colab": {
          "base_uri": "https://localhost:8080/"
        },
        "id": "iy-Re8TJKD2O",
        "outputId": "c477537a-d94b-43df-9a8f-79dee67b07fe"
      },
      "execution_count": null,
      "outputs": [
        {
          "output_type": "execute_result",
          "data": {
            "text/plain": [
              "tensor([[[[ 0.,  1.,  2.,  3.],\n",
              "          [ 4.,  5.,  6.,  7.],\n",
              "          [ 8.,  9., 10., 11.]],\n",
              "\n",
              "         [[12., 13., 14., 15.],\n",
              "          [16., 17., 18., 19.],\n",
              "          [20., 21., 22., 23.]]],\n",
              "\n",
              "\n",
              "        [[[24., 25., 26., 27.],\n",
              "          [28., 29., 30., 31.],\n",
              "          [32., 33., 34., 35.]],\n",
              "\n",
              "         [[36., 37., 38., 39.],\n",
              "          [40., 41., 42., 43.],\n",
              "          [44., 45., 46., 47.]]]])"
            ]
          },
          "metadata": {},
          "execution_count": 124
        }
      ]
    },
    {
      "cell_type": "code",
      "source": [
        "X, Y"
      ],
      "metadata": {
        "colab": {
          "base_uri": "https://localhost:8080/"
        },
        "id": "J3_8nbBPNVpO",
        "outputId": "411f27e3-4810-423a-c7da-e2e19712388e"
      },
      "execution_count": null,
      "outputs": [
        {
          "output_type": "execute_result",
          "data": {
            "text/plain": [
              "(tensor([[ 2.,  3.,  8.,  9.],\n",
              "         [ 9., 12., 15., 18.],\n",
              "         [20., 21., 22., 23.]]),\n",
              " tensor([[ 2.,  2.,  6.,  6.],\n",
              "         [ 5.,  7.,  9., 11.],\n",
              "         [12., 12., 12., 12.]]))"
            ]
          },
          "metadata": {},
          "execution_count": 125
        }
      ]
    },
    {
      "cell_type": "markdown",
      "source": [
        "#####2.1.3.1. My Own Exercises"
      ],
      "metadata": {
        "id": "FpY1QbuIisTA"
      }
    },
    {
      "cell_type": "code",
      "source": [
        "X > Y, X < Y, X, Y"
      ],
      "metadata": {
        "colab": {
          "base_uri": "https://localhost:8080/"
        },
        "id": "GwnWxQSLQu52",
        "outputId": "7f54e1ac-a152-42cf-cb6d-0b91dafbbca2"
      },
      "execution_count": null,
      "outputs": [
        {
          "output_type": "execute_result",
          "data": {
            "text/plain": [
              "(tensor([[False,  True,  True,  True],\n",
              "         [ True,  True,  True,  True],\n",
              "         [ True,  True,  True,  True]]),\n",
              " tensor([[False, False, False, False],\n",
              "         [False, False, False, False],\n",
              "         [False, False, False, False]]),\n",
              " tensor([[ 2.,  3.,  8.,  9.],\n",
              "         [ 9., 12., 15., 18.],\n",
              "         [20., 21., 22., 23.]]),\n",
              " tensor([[ 2.,  2.,  6.,  6.],\n",
              "         [ 5.,  7.,  9., 11.],\n",
              "         [12., 12., 12., 12.]]))"
            ]
          },
          "metadata": {},
          "execution_count": 126
        }
      ]
    },
    {
      "cell_type": "code",
      "source": [
        "X >= Y, X <= Y"
      ],
      "metadata": {
        "colab": {
          "base_uri": "https://localhost:8080/"
        },
        "id": "SQHVZZBBQ1av",
        "outputId": "e7725182-4bf2-47ea-93da-53b7a54c8d9f"
      },
      "execution_count": null,
      "outputs": [
        {
          "output_type": "execute_result",
          "data": {
            "text/plain": [
              "(tensor([[True, True, True, True],\n",
              "         [True, True, True, True],\n",
              "         [True, True, True, True]]),\n",
              " tensor([[ True, False, False, False],\n",
              "         [False, False, False, False],\n",
              "         [False, False, False, False]]))"
            ]
          },
          "metadata": {},
          "execution_count": 127
        }
      ]
    },
    {
      "cell_type": "markdown",
      "source": [
        "#####2.1.4.1. My Own Exercises"
      ],
      "metadata": {
        "id": "kBa-Shh_i00F"
      }
    },
    {
      "cell_type": "code",
      "source": [
        "a = torch.arange(6).reshape((3, 1, 2))\n",
        "b = torch.arange(2).reshape((1, 2))"
      ],
      "metadata": {
        "id": "nXq0ZiePRAl4"
      },
      "execution_count": null,
      "outputs": []
    },
    {
      "cell_type": "code",
      "source": [
        "a, b"
      ],
      "metadata": {
        "colab": {
          "base_uri": "https://localhost:8080/"
        },
        "id": "AH5EiF-fRT9z",
        "outputId": "98b8a393-9b9c-42d3-fd35-aa492e6377c8"
      },
      "execution_count": null,
      "outputs": [
        {
          "output_type": "execute_result",
          "data": {
            "text/plain": [
              "(tensor([[[0, 1]],\n",
              " \n",
              "         [[2, 3]],\n",
              " \n",
              "         [[4, 5]]]),\n",
              " tensor([[0, 1]]))"
            ]
          },
          "metadata": {},
          "execution_count": 129
        }
      ]
    },
    {
      "cell_type": "code",
      "source": [
        "a + b"
      ],
      "metadata": {
        "colab": {
          "base_uri": "https://localhost:8080/"
        },
        "id": "hkRuYRVuRLL-",
        "outputId": "33407a6d-f033-4d20-8a0c-997857e1408b"
      },
      "execution_count": null,
      "outputs": [
        {
          "output_type": "execute_result",
          "data": {
            "text/plain": [
              "tensor([[[0, 2]],\n",
              "\n",
              "        [[2, 4]],\n",
              "\n",
              "        [[4, 6]]])"
            ]
          },
          "metadata": {},
          "execution_count": 130
        }
      ]
    },
    {
      "cell_type": "code",
      "source": [
        "a * b"
      ],
      "metadata": {
        "colab": {
          "base_uri": "https://localhost:8080/"
        },
        "id": "oo9vsdhXRXmQ",
        "outputId": "92b295a7-4301-4f88-adbe-4231be4ed621"
      },
      "execution_count": null,
      "outputs": [
        {
          "output_type": "execute_result",
          "data": {
            "text/plain": [
              "tensor([[[0, 1]],\n",
              "\n",
              "        [[0, 3]],\n",
              "\n",
              "        [[0, 5]]])"
            ]
          },
          "metadata": {},
          "execution_count": 131
        }
      ]
    },
    {
      "cell_type": "code",
      "source": [
        "b * a"
      ],
      "metadata": {
        "colab": {
          "base_uri": "https://localhost:8080/"
        },
        "id": "5nV0FRlyRfWe",
        "outputId": "ff226fd1-351a-4c03-d90f-e6b5984e4c92"
      },
      "execution_count": null,
      "outputs": [
        {
          "output_type": "execute_result",
          "data": {
            "text/plain": [
              "tensor([[[0, 1]],\n",
              "\n",
              "        [[0, 3]],\n",
              "\n",
              "        [[0, 5]]])"
            ]
          },
          "metadata": {},
          "execution_count": 132
        }
      ]
    },
    {
      "cell_type": "markdown",
      "source": [
        "###2.2. Data Preprocessing"
      ],
      "metadata": {
        "id": "wLbde_8ZGPvg"
      }
    },
    {
      "cell_type": "markdown",
      "source": [
        "####2.2.1. Reading the Dataset"
      ],
      "metadata": {
        "id": "aYcnzV00GdXp"
      }
    },
    {
      "cell_type": "code",
      "source": [
        "import os\n",
        "\n",
        "os.makedirs(os.path.join('..', 'data'), exist_ok=True)\n",
        "data_file = os.path.join('..', 'data', 'house_tiny.csv')\n",
        "with open(data_file, 'w') as f:\n",
        "    f.write('''NumRooms,RoofType,Price\n",
        "NA,NA,127500\n",
        "2,NA,106000\n",
        "4,Slate,178100\n",
        "NA,NA,140000''')"
      ],
      "metadata": {
        "id": "VOMeBp6HRsOT"
      },
      "execution_count": null,
      "outputs": []
    },
    {
      "cell_type": "code",
      "source": [
        "import pandas as pd\n",
        "\n",
        "data = pd.read_csv(data_file)\n",
        "print(data)"
      ],
      "metadata": {
        "colab": {
          "base_uri": "https://localhost:8080/"
        },
        "id": "tpY5m4tcSPPu",
        "outputId": "22df18a3-b877-4b08-c96d-71fd212c01b0"
      },
      "execution_count": null,
      "outputs": [
        {
          "output_type": "stream",
          "name": "stdout",
          "text": [
            "   NumRooms RoofType   Price\n",
            "0       NaN      NaN  127500\n",
            "1       2.0      NaN  106000\n",
            "2       4.0    Slate  178100\n",
            "3       NaN      NaN  140000\n"
          ]
        }
      ]
    },
    {
      "cell_type": "markdown",
      "source": [
        "####2.2.2. Data Preparation"
      ],
      "metadata": {
        "id": "PI4kOBNPGhKa"
      }
    },
    {
      "cell_type": "code",
      "source": [
        "inputs, targets = data.iloc[:, 0:2], data.iloc[:, 2]\n",
        "inputs = pd.get_dummies(inputs, dummy_na=True)\n",
        "print(inputs)"
      ],
      "metadata": {
        "colab": {
          "base_uri": "https://localhost:8080/"
        },
        "id": "HCgEsYwXTMxf",
        "outputId": "5abeab91-9cf1-41b7-91f2-25f394f3e800"
      },
      "execution_count": null,
      "outputs": [
        {
          "output_type": "stream",
          "name": "stdout",
          "text": [
            "   NumRooms  RoofType_Slate  RoofType_nan\n",
            "0       NaN           False          True\n",
            "1       2.0           False          True\n",
            "2       4.0            True         False\n",
            "3       NaN           False          True\n"
          ]
        }
      ]
    },
    {
      "cell_type": "code",
      "source": [
        "inputs = inputs.fillna(inputs.mean())\n",
        "print(inputs)"
      ],
      "metadata": {
        "colab": {
          "base_uri": "https://localhost:8080/"
        },
        "id": "pOmweS-yTv4L",
        "outputId": "468eaaad-c372-436a-e68d-5e10956bb931"
      },
      "execution_count": null,
      "outputs": [
        {
          "output_type": "stream",
          "name": "stdout",
          "text": [
            "   NumRooms  RoofType_Slate  RoofType_nan\n",
            "0       3.0           False          True\n",
            "1       2.0           False          True\n",
            "2       4.0            True         False\n",
            "3       3.0           False          True\n"
          ]
        }
      ]
    },
    {
      "cell_type": "markdown",
      "source": [
        "####2.2.3. Conversion to the Tensor Format"
      ],
      "metadata": {
        "id": "6vu9FT1_GiAw"
      }
    },
    {
      "cell_type": "code",
      "source": [
        "import torch\n",
        "\n",
        "X = torch.tensor(inputs.to_numpy(dtype=float))\n",
        "y = torch.tensor(targets.to_numpy(dtype=float))\n",
        "X, y"
      ],
      "metadata": {
        "colab": {
          "base_uri": "https://localhost:8080/"
        },
        "id": "M2lLb68ugLcP",
        "outputId": "416566e2-700e-4eda-962d-4c915ea2b98e"
      },
      "execution_count": null,
      "outputs": [
        {
          "output_type": "execute_result",
          "data": {
            "text/plain": [
              "(tensor([[3., 0., 1.],\n",
              "         [2., 0., 1.],\n",
              "         [4., 1., 0.],\n",
              "         [3., 0., 1.]], dtype=torch.float64),\n",
              " tensor([127500., 106000., 178100., 140000.], dtype=torch.float64))"
            ]
          },
          "metadata": {},
          "execution_count": 137
        }
      ]
    },
    {
      "cell_type": "markdown",
      "source": [
        "####2.2.4. Discussion & Exercises"
      ],
      "metadata": {
        "id": "3NSnsNhiGi_A"
      }
    },
    {
      "cell_type": "markdown",
      "source": [
        "#####2.2.2.1. My Own Exercises"
      ],
      "metadata": {
        "id": "06APdTGbepYy"
      }
    },
    {
      "cell_type": "code",
      "source": [
        "inputs, targets = data.iloc[:, 0:1], data.iloc[:2, 2]\n",
        "print(inputs)"
      ],
      "metadata": {
        "colab": {
          "base_uri": "https://localhost:8080/"
        },
        "id": "ttdNOWOqehOH",
        "outputId": "a5d42820-b1b4-47c6-dd02-ae83b325da7f"
      },
      "execution_count": null,
      "outputs": [
        {
          "output_type": "stream",
          "name": "stdout",
          "text": [
            "   NumRooms\n",
            "0       NaN\n",
            "1       2.0\n",
            "2       4.0\n",
            "3       NaN\n"
          ]
        }
      ]
    },
    {
      "cell_type": "code",
      "source": [
        "print(targets)"
      ],
      "metadata": {
        "colab": {
          "base_uri": "https://localhost:8080/"
        },
        "id": "acdT6tP1fsrA",
        "outputId": "837911c9-eb58-406d-c9cf-d0ee5f360c0d"
      },
      "execution_count": null,
      "outputs": [
        {
          "output_type": "stream",
          "name": "stdout",
          "text": [
            "0    127500\n",
            "1    106000\n",
            "Name: Price, dtype: int64\n"
          ]
        }
      ]
    },
    {
      "cell_type": "code",
      "source": [
        "inputs = pd.get_dummies(inputs, dummy_na=True)\n",
        "print(inputs)"
      ],
      "metadata": {
        "colab": {
          "base_uri": "https://localhost:8080/"
        },
        "id": "thMUdkXpfmvb",
        "outputId": "87527955-ee01-40be-cbe9-cdcc4d98bb48"
      },
      "execution_count": null,
      "outputs": [
        {
          "output_type": "stream",
          "name": "stdout",
          "text": [
            "   NumRooms\n",
            "0       NaN\n",
            "1       2.0\n",
            "2       4.0\n",
            "3       NaN\n"
          ]
        }
      ]
    },
    {
      "cell_type": "code",
      "source": [
        "inputs, targets = data.iloc[:, 0:2], data.iloc[:2, 2]\n",
        "inputs = pd.get_dummies(inputs, dummy_na=False)\n",
        "print(inputs)"
      ],
      "metadata": {
        "colab": {
          "base_uri": "https://localhost:8080/"
        },
        "id": "ee1pXsZQf2eT",
        "outputId": "aa53baef-b151-48c7-fa2f-e8cf14c09853"
      },
      "execution_count": null,
      "outputs": [
        {
          "output_type": "stream",
          "name": "stdout",
          "text": [
            "   NumRooms  RoofType_Slate\n",
            "0       NaN           False\n",
            "1       2.0           False\n",
            "2       4.0            True\n",
            "3       NaN           False\n"
          ]
        }
      ]
    },
    {
      "cell_type": "code",
      "source": [
        "print(targets)"
      ],
      "metadata": {
        "colab": {
          "base_uri": "https://localhost:8080/"
        },
        "id": "EDRsbQDZVp3q",
        "outputId": "22a24ce4-18cd-4a9c-cb9d-aa4783242145"
      },
      "execution_count": null,
      "outputs": [
        {
          "output_type": "stream",
          "name": "stdout",
          "text": [
            "0    127500\n",
            "1    106000\n",
            "Name: Price, dtype: int64\n"
          ]
        }
      ]
    },
    {
      "cell_type": "code",
      "source": [
        "import torch\n",
        "\n",
        "X = torch.tensor(inputs.to_numpy(dtype=float))\n",
        "y = torch.tensor(targets.to_numpy(dtype=float))\n",
        "X, y"
      ],
      "metadata": {
        "colab": {
          "base_uri": "https://localhost:8080/"
        },
        "id": "CGcNpfCHUWsw",
        "outputId": "0fb2609a-a381-41b8-9439-2aad2baf439d"
      },
      "execution_count": null,
      "outputs": [
        {
          "output_type": "execute_result",
          "data": {
            "text/plain": [
              "(tensor([[nan, 0.],\n",
              "         [2., 0.],\n",
              "         [4., 1.],\n",
              "         [nan, 0.]], dtype=torch.float64),\n",
              " tensor([127500., 106000.], dtype=torch.float64))"
            ]
          },
          "metadata": {},
          "execution_count": 143
        }
      ]
    },
    {
      "cell_type": "code",
      "source": [
        "#2\n",
        "inputs, targets = data.iloc[:, 0:2], data.iloc[:, 2]\n",
        "data.columns\n"
      ],
      "metadata": {
        "colab": {
          "base_uri": "https://localhost:8080/"
        },
        "id": "hWrQJVR9g0Lv",
        "outputId": "a22dec23-4045-4168-9794-1dea13575555"
      },
      "execution_count": null,
      "outputs": [
        {
          "output_type": "execute_result",
          "data": {
            "text/plain": [
              "Index(['NumRooms', 'RoofType', 'Price'], dtype='object')"
            ]
          },
          "metadata": {},
          "execution_count": 144
        }
      ]
    },
    {
      "cell_type": "code",
      "source": [
        "inputs, targets = data.loc[:, 'RoofType'], data.loc[:, 'Price']\n",
        "print(inputs), print('\\n'), print(targets)"
      ],
      "metadata": {
        "colab": {
          "base_uri": "https://localhost:8080/"
        },
        "id": "Grz2BAJ7hEeN",
        "outputId": "0d280928-a9af-4ec5-dcdb-31e5c341e3ec"
      },
      "execution_count": null,
      "outputs": [
        {
          "output_type": "stream",
          "name": "stdout",
          "text": [
            "0      NaN\n",
            "1      NaN\n",
            "2    Slate\n",
            "3      NaN\n",
            "Name: RoofType, dtype: object\n",
            "\n",
            "\n",
            "0    127500\n",
            "1    106000\n",
            "2    178100\n",
            "3    140000\n",
            "Name: Price, dtype: int64\n"
          ]
        },
        {
          "output_type": "execute_result",
          "data": {
            "text/plain": [
              "(None, None, None)"
            ]
          },
          "metadata": {},
          "execution_count": 145
        }
      ]
    },
    {
      "cell_type": "code",
      "source": [
        "inputs, targets = data.loc[:, ['RoofType', 'Price', 'NumRooms']], data.loc[:, 'Price']\n",
        "print(inputs)"
      ],
      "metadata": {
        "colab": {
          "base_uri": "https://localhost:8080/"
        },
        "id": "8GrnCOtiha3o",
        "outputId": "63ff3bb2-4f45-464c-ef13-6578c6147f4e"
      },
      "execution_count": null,
      "outputs": [
        {
          "output_type": "stream",
          "name": "stdout",
          "text": [
            "  RoofType   Price  NumRooms\n",
            "0      NaN  127500       NaN\n",
            "1      NaN  106000       2.0\n",
            "2    Slate  178100       4.0\n",
            "3      NaN  140000       NaN\n"
          ]
        }
      ]
    },
    {
      "cell_type": "markdown",
      "source": [
        "###2.3. Linear Algebra"
      ],
      "metadata": {
        "id": "avr-VB_HGSXD"
      }
    },
    {
      "cell_type": "code",
      "source": [
        "import torch"
      ],
      "metadata": {
        "id": "IcCHh7cuWKf_"
      },
      "execution_count": null,
      "outputs": []
    },
    {
      "cell_type": "markdown",
      "source": [
        "####2.3.1. Scalars"
      ],
      "metadata": {
        "id": "gaO2DkTiGlsD"
      }
    },
    {
      "cell_type": "code",
      "source": [
        "x = torch.tensor(3.0)\n",
        "y = torch.tensor(2.0)\n",
        "\n",
        "x + y, x * y, x / y , x ** y"
      ],
      "metadata": {
        "colab": {
          "base_uri": "https://localhost:8080/"
        },
        "id": "5d8_uRQAWPA_",
        "outputId": "711b5887-af4d-48ba-a8a2-854f5714a006"
      },
      "execution_count": null,
      "outputs": [
        {
          "output_type": "execute_result",
          "data": {
            "text/plain": [
              "(tensor(5.), tensor(6.), tensor(1.5000), tensor(9.))"
            ]
          },
          "metadata": {},
          "execution_count": 148
        }
      ]
    },
    {
      "cell_type": "markdown",
      "source": [
        "####2.3.2. Vectors"
      ],
      "metadata": {
        "id": "MuP0CPvyGoNk"
      }
    },
    {
      "cell_type": "code",
      "source": [
        "x = torch.arange(3)\n",
        "x"
      ],
      "metadata": {
        "colab": {
          "base_uri": "https://localhost:8080/"
        },
        "id": "CRSnEWKFWa5c",
        "outputId": "b498531c-dce8-4907-c581-7ed577c4a10e"
      },
      "execution_count": null,
      "outputs": [
        {
          "output_type": "execute_result",
          "data": {
            "text/plain": [
              "tensor([0, 1, 2])"
            ]
          },
          "metadata": {},
          "execution_count": 149
        }
      ]
    },
    {
      "cell_type": "markdown",
      "source": [
        "$$\n",
        "\\mathbf{x} = \\begin{bmatrix}\n",
        "x_1 \\\\\n",
        "\\vdots \\\\\n",
        "x_n\n",
        "\\end{bmatrix},\n",
        "$$"
      ],
      "metadata": {
        "id": "-ptu6IVNjQyG"
      }
    },
    {
      "cell_type": "code",
      "source": [
        "x[2]"
      ],
      "metadata": {
        "colab": {
          "base_uri": "https://localhost:8080/"
        },
        "id": "rDEYGXBtWeCw",
        "outputId": "9b8313dd-6801-4d8c-80d5-4893b3f0d625"
      },
      "execution_count": null,
      "outputs": [
        {
          "output_type": "execute_result",
          "data": {
            "text/plain": [
              "tensor(2)"
            ]
          },
          "metadata": {},
          "execution_count": 150
        }
      ]
    },
    {
      "cell_type": "code",
      "source": [
        "len(x)"
      ],
      "metadata": {
        "colab": {
          "base_uri": "https://localhost:8080/"
        },
        "id": "Gr0TUOiYWh6K",
        "outputId": "acf009d0-41cc-434d-a28b-915f36fc51b5"
      },
      "execution_count": null,
      "outputs": [
        {
          "output_type": "execute_result",
          "data": {
            "text/plain": [
              "3"
            ]
          },
          "metadata": {},
          "execution_count": 151
        }
      ]
    },
    {
      "cell_type": "code",
      "source": [
        "x.shape"
      ],
      "metadata": {
        "colab": {
          "base_uri": "https://localhost:8080/"
        },
        "id": "A5TwUwYeWjls",
        "outputId": "dfc53bdc-5fc1-47d8-8ac8-b6b7937b034b"
      },
      "execution_count": null,
      "outputs": [
        {
          "output_type": "execute_result",
          "data": {
            "text/plain": [
              "torch.Size([3])"
            ]
          },
          "metadata": {},
          "execution_count": 152
        }
      ]
    },
    {
      "cell_type": "markdown",
      "source": [
        "####2.3.3. Matrices"
      ],
      "metadata": {
        "id": "N90omDq5GtEF"
      }
    },
    {
      "cell_type": "markdown",
      "source": [
        "$$\\begin{equation*}\n",
        "\\textbf{A} =\n",
        "\\begin{bmatrix}\n",
        "a_{11} & a_{12} & \\cdots & a_{1n} \\\\\n",
        "a_{21} & a_{22} & \\cdots & a_{2n} \\\\\n",
        "\\vdots  & \\vdots  & \\ddots & \\vdots  \\\\\n",
        "a_{m1} & a_{m2} & \\cdots & a_{mn}\n",
        "\\end{bmatrix}.\n",
        "\\end{equation*}$$"
      ],
      "metadata": {
        "id": "XOlZIDeiXucE"
      }
    },
    {
      "cell_type": "code",
      "source": [
        "A = torch.arange(6).reshape(3, 2)\n",
        "A"
      ],
      "metadata": {
        "colab": {
          "base_uri": "https://localhost:8080/"
        },
        "id": "2GN2VR26XrX-",
        "outputId": "a17c57ae-4a26-4456-d636-00f09b4c5c1f"
      },
      "execution_count": null,
      "outputs": [
        {
          "output_type": "execute_result",
          "data": {
            "text/plain": [
              "tensor([[0, 1],\n",
              "        [2, 3],\n",
              "        [4, 5]])"
            ]
          },
          "metadata": {},
          "execution_count": 153
        }
      ]
    },
    {
      "cell_type": "markdown",
      "source": [
        "$$\\begin{equation*}\n",
        "\\textbf{A}^\\top =\n",
        "\\begin{bmatrix}\n",
        "a_{11} & a_{12} & \\cdots & a_{1n} \\\\\n",
        "a_{21} & a_{22} & \\cdots & a_{2n} \\\\\n",
        "\\vdots  & \\vdots  & \\ddots & \\vdots  \\\\\n",
        "a_{m1} & a_{m2} & \\cdots & a_{mn}\n",
        "\\end{bmatrix}.\n",
        "\\end{equation*}$$"
      ],
      "metadata": {
        "id": "O7i07UgWYOH-"
      }
    },
    {
      "cell_type": "code",
      "source": [
        "A.T"
      ],
      "metadata": {
        "colab": {
          "base_uri": "https://localhost:8080/"
        },
        "id": "CFUcdKHdZ0Et",
        "outputId": "e9b3b39e-7047-4663-932d-c1bb87678140"
      },
      "execution_count": null,
      "outputs": [
        {
          "output_type": "execute_result",
          "data": {
            "text/plain": [
              "tensor([[0, 2, 4],\n",
              "        [1, 3, 5]])"
            ]
          },
          "metadata": {},
          "execution_count": 154
        }
      ]
    },
    {
      "cell_type": "code",
      "source": [
        "A = torch.tensor([[1, 2, 3], [2, 0, 4], [3, 4, 5]])\n",
        "A == A.T"
      ],
      "metadata": {
        "colab": {
          "base_uri": "https://localhost:8080/"
        },
        "id": "sJVQKxe9Z2wV",
        "outputId": "a4e2db87-6ef3-473d-8d39-b182ec062f46"
      },
      "execution_count": null,
      "outputs": [
        {
          "output_type": "execute_result",
          "data": {
            "text/plain": [
              "tensor([[True, True, True],\n",
              "        [True, True, True],\n",
              "        [True, True, True]])"
            ]
          },
          "metadata": {},
          "execution_count": 155
        }
      ]
    },
    {
      "cell_type": "code",
      "source": [
        "A"
      ],
      "metadata": {
        "colab": {
          "base_uri": "https://localhost:8080/"
        },
        "id": "UXUsI8GJlLWS",
        "outputId": "4ff7abb9-1830-4557-c130-165f31aea779"
      },
      "execution_count": null,
      "outputs": [
        {
          "output_type": "execute_result",
          "data": {
            "text/plain": [
              "tensor([[1, 2, 3],\n",
              "        [2, 0, 4],\n",
              "        [3, 4, 5]])"
            ]
          },
          "metadata": {},
          "execution_count": 156
        }
      ]
    },
    {
      "cell_type": "code",
      "source": [
        "A.T"
      ],
      "metadata": {
        "colab": {
          "base_uri": "https://localhost:8080/"
        },
        "id": "Y2C1kxPAlNjq",
        "outputId": "6dc5bc53-c964-4f3c-82ec-64874d388386"
      },
      "execution_count": null,
      "outputs": [
        {
          "output_type": "execute_result",
          "data": {
            "text/plain": [
              "tensor([[1, 2, 3],\n",
              "        [2, 0, 4],\n",
              "        [3, 4, 5]])"
            ]
          },
          "metadata": {},
          "execution_count": 157
        }
      ]
    },
    {
      "cell_type": "markdown",
      "source": [
        "####2.3.4. Tensors"
      ],
      "metadata": {
        "id": "9UixEUn2Gt51"
      }
    },
    {
      "cell_type": "code",
      "source": [
        "torch.arange(24).reshape(2, 3, 4)"
      ],
      "metadata": {
        "colab": {
          "base_uri": "https://localhost:8080/"
        },
        "id": "9pt3LkBNaD6P",
        "outputId": "5bb35b3a-dae0-4c1c-8915-eb8830d2bd97"
      },
      "execution_count": null,
      "outputs": [
        {
          "output_type": "execute_result",
          "data": {
            "text/plain": [
              "tensor([[[ 0,  1,  2,  3],\n",
              "         [ 4,  5,  6,  7],\n",
              "         [ 8,  9, 10, 11]],\n",
              "\n",
              "        [[12, 13, 14, 15],\n",
              "         [16, 17, 18, 19],\n",
              "         [20, 21, 22, 23]]])"
            ]
          },
          "metadata": {},
          "execution_count": 158
        }
      ]
    },
    {
      "cell_type": "markdown",
      "source": [
        "####2.3.5. Basic Properties of Tensor Arithmetic"
      ],
      "metadata": {
        "id": "JkV2ctr3Guq4"
      }
    },
    {
      "cell_type": "code",
      "source": [
        "A = torch.arange(6, dtype=torch.float32).reshape(2, 3)\n",
        "B = A.clone() # Assign a copy of A to B by allocating new memory\n",
        "A, A + B"
      ],
      "metadata": {
        "colab": {
          "base_uri": "https://localhost:8080/"
        },
        "id": "ZYjQ2miLaLx6",
        "outputId": "8fc2113a-89f2-41c8-829d-2e2006962bfd"
      },
      "execution_count": null,
      "outputs": [
        {
          "output_type": "execute_result",
          "data": {
            "text/plain": [
              "(tensor([[0., 1., 2.],\n",
              "         [3., 4., 5.]]),\n",
              " tensor([[ 0.,  2.,  4.],\n",
              "         [ 6.,  8., 10.]]))"
            ]
          },
          "metadata": {},
          "execution_count": 159
        }
      ]
    },
    {
      "cell_type": "markdown",
      "source": [
        "$$\\begin{equation*}\n",
        "\\textbf{A}\\odot \\textbf{B} =\n",
        "\\begin{bmatrix}\n",
        "a_{11}b_{11} & a_{12}b_{12} & \\cdots & a_{1n}b_{1n} \\\\\n",
        "a_{21}b_{21} & a_{22}b_{22} & \\cdots & a_{2n}b_{2n} \\\\\n",
        "\\vdots  & \\vdots  & \\ddots & \\vdots  \\\\\n",
        "a_{m1}b_{m1} & a_{m2}b_{m2} & \\cdots & a_{mn}b_{mn}\n",
        "\\end{bmatrix}.\n",
        "\\end{equation*}$$"
      ],
      "metadata": {
        "id": "ooSK_kWjagHe"
      }
    },
    {
      "cell_type": "code",
      "source": [
        "A * B"
      ],
      "metadata": {
        "colab": {
          "base_uri": "https://localhost:8080/"
        },
        "id": "eCiCBa0ObPAC",
        "outputId": "9a503529-4722-4e2b-e5b5-57b2c48e26a7"
      },
      "execution_count": null,
      "outputs": [
        {
          "output_type": "execute_result",
          "data": {
            "text/plain": [
              "tensor([[ 0.,  1.,  4.],\n",
              "        [ 9., 16., 25.]])"
            ]
          },
          "metadata": {},
          "execution_count": 160
        }
      ]
    },
    {
      "cell_type": "code",
      "source": [
        "a = 2\n",
        "X = torch.arange(24).reshape(2, 3, 4)\n",
        "a + X, (a * X).shape"
      ],
      "metadata": {
        "colab": {
          "base_uri": "https://localhost:8080/"
        },
        "id": "l8mIGnjJbRCV",
        "outputId": "646dee20-557d-4105-d87f-5da49beac626"
      },
      "execution_count": null,
      "outputs": [
        {
          "output_type": "execute_result",
          "data": {
            "text/plain": [
              "(tensor([[[ 2,  3,  4,  5],\n",
              "          [ 6,  7,  8,  9],\n",
              "          [10, 11, 12, 13]],\n",
              " \n",
              "         [[14, 15, 16, 17],\n",
              "          [18, 19, 20, 21],\n",
              "          [22, 23, 24, 25]]]),\n",
              " torch.Size([2, 3, 4]))"
            ]
          },
          "metadata": {},
          "execution_count": 161
        }
      ]
    },
    {
      "cell_type": "code",
      "source": [
        "a"
      ],
      "metadata": {
        "colab": {
          "base_uri": "https://localhost:8080/"
        },
        "id": "vyRVTKQnlZhC",
        "outputId": "4a34241b-8b2d-49e7-a312-be98f4b764cc"
      },
      "execution_count": null,
      "outputs": [
        {
          "output_type": "execute_result",
          "data": {
            "text/plain": [
              "2"
            ]
          },
          "metadata": {},
          "execution_count": 162
        }
      ]
    },
    {
      "cell_type": "code",
      "source": [
        "X"
      ],
      "metadata": {
        "colab": {
          "base_uri": "https://localhost:8080/"
        },
        "id": "QzOiyTeolaxP",
        "outputId": "3ee02a87-9f96-4ce4-ee72-078dbcd86fd5"
      },
      "execution_count": null,
      "outputs": [
        {
          "output_type": "execute_result",
          "data": {
            "text/plain": [
              "tensor([[[ 0,  1,  2,  3],\n",
              "         [ 4,  5,  6,  7],\n",
              "         [ 8,  9, 10, 11]],\n",
              "\n",
              "        [[12, 13, 14, 15],\n",
              "         [16, 17, 18, 19],\n",
              "         [20, 21, 22, 23]]])"
            ]
          },
          "metadata": {},
          "execution_count": 163
        }
      ]
    },
    {
      "cell_type": "code",
      "source": [
        "a * X"
      ],
      "metadata": {
        "colab": {
          "base_uri": "https://localhost:8080/"
        },
        "id": "CNgfpjLRlm5h",
        "outputId": "628a6689-0b3c-4c47-8506-446e26152dd9"
      },
      "execution_count": null,
      "outputs": [
        {
          "output_type": "execute_result",
          "data": {
            "text/plain": [
              "tensor([[[ 0,  2,  4,  6],\n",
              "         [ 8, 10, 12, 14],\n",
              "         [16, 18, 20, 22]],\n",
              "\n",
              "        [[24, 26, 28, 30],\n",
              "         [32, 34, 36, 38],\n",
              "         [40, 42, 44, 46]]])"
            ]
          },
          "metadata": {},
          "execution_count": 164
        }
      ]
    },
    {
      "cell_type": "markdown",
      "source": [
        "####2.3.6. Reduction"
      ],
      "metadata": {
        "id": "E1ZCwLJ4Gvn-"
      }
    },
    {
      "cell_type": "code",
      "source": [
        "x = torch.arange(3, dtype=torch.float32)\n",
        "x, x.sum()"
      ],
      "metadata": {
        "colab": {
          "base_uri": "https://localhost:8080/"
        },
        "id": "0AwA_OEzbcVH",
        "outputId": "cead6163-623b-4beb-97df-b69c65176802"
      },
      "execution_count": null,
      "outputs": [
        {
          "output_type": "execute_result",
          "data": {
            "text/plain": [
              "(tensor([0., 1., 2.]), tensor(3.))"
            ]
          },
          "metadata": {},
          "execution_count": 165
        }
      ]
    },
    {
      "cell_type": "code",
      "source": [
        "A"
      ],
      "metadata": {
        "colab": {
          "base_uri": "https://localhost:8080/"
        },
        "id": "KEmZ8lrLb3ti",
        "outputId": "88076b3f-a998-4b65-f6c8-8b7979598cba"
      },
      "execution_count": null,
      "outputs": [
        {
          "output_type": "execute_result",
          "data": {
            "text/plain": [
              "tensor([[0., 1., 2.],\n",
              "        [3., 4., 5.]])"
            ]
          },
          "metadata": {},
          "execution_count": 166
        }
      ]
    },
    {
      "cell_type": "code",
      "source": [
        "A.shape, A.sum()"
      ],
      "metadata": {
        "colab": {
          "base_uri": "https://localhost:8080/"
        },
        "id": "LOYrEUfObisT",
        "outputId": "177a7737-7706-4de9-8313-0b17c13a8bc1"
      },
      "execution_count": null,
      "outputs": [
        {
          "output_type": "execute_result",
          "data": {
            "text/plain": [
              "(torch.Size([2, 3]), tensor(15.))"
            ]
          },
          "metadata": {},
          "execution_count": 167
        }
      ]
    },
    {
      "cell_type": "code",
      "source": [
        "A.shape, A.sum(axis=0).shape"
      ],
      "metadata": {
        "colab": {
          "base_uri": "https://localhost:8080/"
        },
        "id": "CBL-fBZQbmxF",
        "outputId": "ce534875-ea14-42ca-ed17-913ae2234621"
      },
      "execution_count": null,
      "outputs": [
        {
          "output_type": "execute_result",
          "data": {
            "text/plain": [
              "(torch.Size([2, 3]), torch.Size([3]))"
            ]
          },
          "metadata": {},
          "execution_count": 168
        }
      ]
    },
    {
      "cell_type": "code",
      "source": [
        "A.sum(axis=0)"
      ],
      "metadata": {
        "colab": {
          "base_uri": "https://localhost:8080/"
        },
        "id": "et3lJRfvl-qJ",
        "outputId": "3cdadfc1-2a45-4328-e463-bd57cf61c694"
      },
      "execution_count": null,
      "outputs": [
        {
          "output_type": "execute_result",
          "data": {
            "text/plain": [
              "tensor([3., 5., 7.])"
            ]
          },
          "metadata": {},
          "execution_count": 169
        }
      ]
    },
    {
      "cell_type": "code",
      "source": [
        "A.shape, A.sum(axis=1).shape"
      ],
      "metadata": {
        "colab": {
          "base_uri": "https://localhost:8080/"
        },
        "id": "-neY8ovDb9lv",
        "outputId": "4fe06d9b-6e4e-4aa2-a2f2-4fa9a5a52e53"
      },
      "execution_count": null,
      "outputs": [
        {
          "output_type": "execute_result",
          "data": {
            "text/plain": [
              "(torch.Size([2, 3]), torch.Size([2]))"
            ]
          },
          "metadata": {},
          "execution_count": 170
        }
      ]
    },
    {
      "cell_type": "code",
      "source": [
        "A.sum(axis=1)"
      ],
      "metadata": {
        "colab": {
          "base_uri": "https://localhost:8080/"
        },
        "id": "aCJSca0DmAkO",
        "outputId": "36875e40-05e5-474a-bdd9-f14206495a11"
      },
      "execution_count": null,
      "outputs": [
        {
          "output_type": "execute_result",
          "data": {
            "text/plain": [
              "tensor([ 3., 12.])"
            ]
          },
          "metadata": {},
          "execution_count": 171
        }
      ]
    },
    {
      "cell_type": "code",
      "source": [
        "A.sum(axis=[0, 1]) == A.sum() # Same as A.sum()"
      ],
      "metadata": {
        "colab": {
          "base_uri": "https://localhost:8080/"
        },
        "id": "ac6Tpvlbb_0U",
        "outputId": "b57a8fe0-3bdc-4de6-f818-fceab18dea48"
      },
      "execution_count": null,
      "outputs": [
        {
          "output_type": "execute_result",
          "data": {
            "text/plain": [
              "tensor(True)"
            ]
          },
          "metadata": {},
          "execution_count": 172
        }
      ]
    },
    {
      "cell_type": "code",
      "source": [
        "A.mean(), A.sum() / A.numel()"
      ],
      "metadata": {
        "colab": {
          "base_uri": "https://localhost:8080/"
        },
        "id": "Dopo7sTKcIng",
        "outputId": "856d28b7-1a21-42a3-b8f8-ccd76761f02a"
      },
      "execution_count": null,
      "outputs": [
        {
          "output_type": "execute_result",
          "data": {
            "text/plain": [
              "(tensor(2.5000), tensor(2.5000))"
            ]
          },
          "metadata": {},
          "execution_count": 173
        }
      ]
    },
    {
      "cell_type": "code",
      "source": [
        "A.mean(axis=0), A.sum(axis=0)/ A.shape[0]"
      ],
      "metadata": {
        "colab": {
          "base_uri": "https://localhost:8080/"
        },
        "id": "nBgICRfHcNKf",
        "outputId": "dcbf3069-7b2d-48d3-8172-bcc5f3229c2d"
      },
      "execution_count": null,
      "outputs": [
        {
          "output_type": "execute_result",
          "data": {
            "text/plain": [
              "(tensor([1.5000, 2.5000, 3.5000]), tensor([1.5000, 2.5000, 3.5000]))"
            ]
          },
          "metadata": {},
          "execution_count": 174
        }
      ]
    },
    {
      "cell_type": "markdown",
      "source": [
        "####2.3.7. Non-Reduction Sum"
      ],
      "metadata": {
        "id": "SuJPjpumGwuS"
      }
    },
    {
      "cell_type": "code",
      "source": [
        "sum_A = A.sum(axis = 1, keepdims=True)\n",
        "sum_A, sum_A.shape"
      ],
      "metadata": {
        "colab": {
          "base_uri": "https://localhost:8080/"
        },
        "id": "Dfg4tNhXccjU",
        "outputId": "bdcaae60-f783-4b45-9594-eebb448c37c6"
      },
      "execution_count": null,
      "outputs": [
        {
          "output_type": "execute_result",
          "data": {
            "text/plain": [
              "(tensor([[ 3.],\n",
              "         [12.]]),\n",
              " torch.Size([2, 1]))"
            ]
          },
          "metadata": {},
          "execution_count": 175
        }
      ]
    },
    {
      "cell_type": "code",
      "source": [
        "A / sum_A"
      ],
      "metadata": {
        "colab": {
          "base_uri": "https://localhost:8080/"
        },
        "id": "vsU6grAvcm3x",
        "outputId": "1c5d2267-3ad6-4098-aae2-e28de1e098b4"
      },
      "execution_count": null,
      "outputs": [
        {
          "output_type": "execute_result",
          "data": {
            "text/plain": [
              "tensor([[0.0000, 0.3333, 0.6667],\n",
              "        [0.2500, 0.3333, 0.4167]])"
            ]
          },
          "metadata": {},
          "execution_count": 176
        }
      ]
    },
    {
      "cell_type": "code",
      "source": [
        "A.cumsum(axis=0)"
      ],
      "metadata": {
        "colab": {
          "base_uri": "https://localhost:8080/"
        },
        "id": "ydb2k7GTcyOH",
        "outputId": "eb81c192-81c5-4c1f-c426-f5289421aeea"
      },
      "execution_count": null,
      "outputs": [
        {
          "output_type": "execute_result",
          "data": {
            "text/plain": [
              "tensor([[0., 1., 2.],\n",
              "        [3., 5., 7.]])"
            ]
          },
          "metadata": {},
          "execution_count": 177
        }
      ]
    },
    {
      "cell_type": "markdown",
      "source": [
        "####2.3.8. Dot Products"
      ],
      "metadata": {
        "id": "A0viCxONGz8n"
      }
    },
    {
      "cell_type": "code",
      "source": [
        "y = torch.ones(3, dtype=torch.float32)\n",
        "x, y, torch.dot(x, y)"
      ],
      "metadata": {
        "colab": {
          "base_uri": "https://localhost:8080/"
        },
        "id": "5ReL5mc4c9tc",
        "outputId": "12eb86a1-c705-4366-eabb-53317b226bf9"
      },
      "execution_count": null,
      "outputs": [
        {
          "output_type": "execute_result",
          "data": {
            "text/plain": [
              "(tensor([0., 1., 2.]), tensor([1., 1., 1.]), tensor(3.))"
            ]
          },
          "metadata": {},
          "execution_count": 178
        }
      ]
    },
    {
      "cell_type": "code",
      "source": [
        "torch.sum(x * y)"
      ],
      "metadata": {
        "colab": {
          "base_uri": "https://localhost:8080/"
        },
        "id": "kwHd4MOEdMNH",
        "outputId": "d52c966e-cfae-460d-b0c1-21efedba8252"
      },
      "execution_count": null,
      "outputs": [
        {
          "output_type": "execute_result",
          "data": {
            "text/plain": [
              "tensor(3.)"
            ]
          },
          "metadata": {},
          "execution_count": 179
        }
      ]
    },
    {
      "cell_type": "markdown",
      "source": [
        "####2.3.9. Matrix-Vector Products"
      ],
      "metadata": {
        "id": "Wxm7ZDYgG0wN"
      }
    },
    {
      "cell_type": "markdown",
      "source": [
        "$$\\begin{equation*}\n",
        "\\textbf{A} =\n",
        "\\begin{bmatrix}\n",
        "a_{1}^\\top  \\\\\n",
        "a_{2}^\\top  \\\\\n",
        "\\vdots \\\\\n",
        "a_{m}^\\top\n",
        "\\end{bmatrix},\n",
        "\\end{equation*}$$"
      ],
      "metadata": {
        "id": "e3F9Em5Pdbqw"
      }
    },
    {
      "cell_type": "markdown",
      "source": [
        "$$\\begin{equation*}\n",
        "\\textbf{A}\\textbf{x}  =\n",
        "\\begin{bmatrix}\n",
        "a_{1}^\\top  \\\\\n",
        "a_{2}^\\top  \\\\\n",
        "\\vdots \\\\\n",
        "a_{m}^\\top\n",
        "\\end{bmatrix}\\textbf{x} =\n",
        "\\begin{bmatrix}\n",
        "a_{1}^\\top\\textbf{x}  \\\\\n",
        "a_{2}^\\top\\textbf{x}  \\\\\n",
        "\\vdots \\\\\n",
        "a_{m}^\\top\\textbf{x}\n",
        "\\end{bmatrix}.\n",
        "\\end{equation*}$$"
      ],
      "metadata": {
        "id": "_MNtIsQzducg"
      }
    },
    {
      "cell_type": "code",
      "source": [
        "A.shape, x.shape, torch.mv(A, x), A@x"
      ],
      "metadata": {
        "colab": {
          "base_uri": "https://localhost:8080/"
        },
        "id": "0pSnNWopeDeJ",
        "outputId": "09e47cb9-8909-495c-fc51-0e30b921077e"
      },
      "execution_count": null,
      "outputs": [
        {
          "output_type": "execute_result",
          "data": {
            "text/plain": [
              "(torch.Size([2, 3]), torch.Size([3]), tensor([ 5., 14.]), tensor([ 5., 14.]))"
            ]
          },
          "metadata": {},
          "execution_count": 180
        }
      ]
    },
    {
      "cell_type": "markdown",
      "source": [
        "####2.3.10. Matrix-Matirx Multiplication"
      ],
      "metadata": {
        "id": "oxyoVAhDG1xj"
      }
    },
    {
      "cell_type": "markdown",
      "source": [
        "$$\\begin{equation*}\n",
        "\\textbf{A} =\n",
        "\\begin{bmatrix}\n",
        "a_{11} & a_{12} & \\cdots & a_{1k} \\\\\n",
        "a_{21} & a_{22} & \\cdots & a_{2k} \\\\\n",
        "\\vdots  & \\vdots  & \\ddots & \\vdots  \\\\\n",
        "a_{n1} & a_{n2} & \\cdots & a_{nk}\n",
        "\\end{bmatrix}, \\quad\n",
        "\\textbf{B} = \\begin{bmatrix}\n",
        "b_{11} & b_{12} & \\cdots & b_{1n} \\\\\n",
        "b_{21} & b_{22} & \\cdots & b_{2n} \\\\\n",
        "\\vdots  & \\vdots  & \\ddots & \\vdots  \\\\\n",
        "b_{k1} & b_{k2} & \\cdots & b_{kn}\n",
        "\\end{bmatrix}.\n",
        "\\end{equation*}$$"
      ],
      "metadata": {
        "id": "_s3bAccieR3e"
      }
    },
    {
      "cell_type": "markdown",
      "source": [
        "$$\\begin{equation*}\n",
        "\\textbf{A} =\n",
        "\\begin{bmatrix}\n",
        "a_{1}^\\top  \\\\\n",
        "a_{2}^\\top  \\\\\n",
        "\\vdots \\\\\n",
        "a_{n}^\\top\n",
        "\\end{bmatrix}, \\quad\n",
        "\\textbf{B} =\n",
        "\\begin{bmatrix}\n",
        "b_{1} && b_{2} && \\cdots && b_{m}\n",
        "\\end{bmatrix}.\n",
        "\\end{equation*}$$\n"
      ],
      "metadata": {
        "id": "Zued-gfKfSWN"
      }
    },
    {
      "cell_type": "markdown",
      "source": [
        "$$\\begin{equation*}\n",
        "\\textbf{C} = \\textbf{AB} =\n",
        "\\begin{bmatrix}\n",
        "a_{1}^\\top  \\\\\n",
        "a_{2}^\\top  \\\\\n",
        "\\vdots \\\\\n",
        "a_{n}^\\top\n",
        "\\end{bmatrix}\n",
        "\\begin{bmatrix}\n",
        "b_{1} && b_{2} && \\cdots && b_{m}\n",
        "\\end{bmatrix} = \\,\n",
        "\\begin{bmatrix}\n",
        "a_{1}^\\top b_{1} & a_{1}^\\top b_{2} & \\cdots & a_{1}^\\top b_{m} \\\\\n",
        "a_{2}^\\top b_{1} & a_{2}^\\top b_{2} & \\cdots & a_{2}^\\top b_{m} \\\\\n",
        "\\vdots  & \\vdots  & \\ddots & \\vdots  \\\\\n",
        "a_{n}^\\top b_{1} & a_{n}^\\top b_{2} & \\cdots & a_{n}^\\top b_{m}\n",
        "\\end{bmatrix}.\n",
        "\\end{equation*}$$\n"
      ],
      "metadata": {
        "id": "nPhmil3mf5iG"
      }
    },
    {
      "cell_type": "code",
      "source": [
        "B = torch.ones(3, 4)\n",
        "torch.mm(A, B), A@B"
      ],
      "metadata": {
        "colab": {
          "base_uri": "https://localhost:8080/"
        },
        "id": "4lxuB-n8hBs0",
        "outputId": "094946a8-92e4-4f80-af60-f9287e067cc6"
      },
      "execution_count": null,
      "outputs": [
        {
          "output_type": "execute_result",
          "data": {
            "text/plain": [
              "(tensor([[ 3.,  3.,  3.,  3.],\n",
              "         [12., 12., 12., 12.]]),\n",
              " tensor([[ 3.,  3.,  3.,  3.],\n",
              "         [12., 12., 12., 12.]]))"
            ]
          },
          "metadata": {},
          "execution_count": 181
        }
      ]
    },
    {
      "cell_type": "markdown",
      "source": [
        "####2.3.11. Norms"
      ],
      "metadata": {
        "id": "Ki2wdJ7GG2zm"
      }
    },
    {
      "cell_type": "markdown",
      "source": [
        "$$\\|\\mathbf{x}\\|_2 = \\sqrt{\\sum_{i=1}^n x_i^2}.$$"
      ],
      "metadata": {
        "id": "pvsbA4JootfE"
      }
    },
    {
      "cell_type": "code",
      "source": [
        "u = torch.tensor([3.0, -4.0])\n",
        "torch.norm(u)"
      ],
      "metadata": {
        "colab": {
          "base_uri": "https://localhost:8080/"
        },
        "id": "oNZUR8SChfJe",
        "outputId": "8d425897-3385-4938-b8af-330d732c46a4"
      },
      "execution_count": null,
      "outputs": [
        {
          "output_type": "execute_result",
          "data": {
            "text/plain": [
              "tensor(5.)"
            ]
          },
          "metadata": {},
          "execution_count": 182
        }
      ]
    },
    {
      "cell_type": "markdown",
      "source": [
        "\n",
        "$$\\|\\mathbf{x}\\|_1 = \\sum_{i=1}^n \\left|x_i \\right|.$$"
      ],
      "metadata": {
        "id": "BikFet2fo8DN"
      }
    },
    {
      "cell_type": "code",
      "source": [
        "torch.abs(u).sum()"
      ],
      "metadata": {
        "colab": {
          "base_uri": "https://localhost:8080/"
        },
        "id": "2SZ10l5mhlD4",
        "outputId": "27bc52d4-caf5-43a3-fb91-e558274f37ba"
      },
      "execution_count": null,
      "outputs": [
        {
          "output_type": "execute_result",
          "data": {
            "text/plain": [
              "tensor(7.)"
            ]
          },
          "metadata": {},
          "execution_count": 183
        }
      ]
    },
    {
      "cell_type": "markdown",
      "source": [
        "$$\\|\\mathbf{x}\\|_p = \\left(\\sum_{i=1}^n \\left|x_i \\right|^p \\right)^{1/p}.$$"
      ],
      "metadata": {
        "id": "8rP9t-Tzo5aF"
      }
    },
    {
      "cell_type": "markdown",
      "source": [
        "\n",
        "**$$\\|\\mathbf{X}\\|_\\textrm{F} = \\sqrt{\\sum_{i=1}^m \\sum_{j=1}^n x_{ij}^2}.$$**"
      ],
      "metadata": {
        "id": "MM67-p7apDcR"
      }
    },
    {
      "cell_type": "code",
      "source": [
        "torch.norm(torch.ones((4, 9)))"
      ],
      "metadata": {
        "colab": {
          "base_uri": "https://localhost:8080/"
        },
        "id": "rdSECd1yhsDS",
        "outputId": "ad6c202d-bc92-4fb6-b257-3a413958ca9c"
      },
      "execution_count": null,
      "outputs": [
        {
          "output_type": "execute_result",
          "data": {
            "text/plain": [
              "tensor(6.)"
            ]
          },
          "metadata": {},
          "execution_count": 184
        }
      ]
    },
    {
      "cell_type": "markdown",
      "source": [
        "####2.3.12. Discussion & Exercises"
      ],
      "metadata": {
        "id": "chvaeePYG302"
      }
    },
    {
      "cell_type": "markdown",
      "source": [
        "#####2.3.7.1. My Own Exercises"
      ],
      "metadata": {
        "id": "JY2449wNm7t3"
      }
    },
    {
      "cell_type": "code",
      "source": [
        "A"
      ],
      "metadata": {
        "colab": {
          "base_uri": "https://localhost:8080/"
        },
        "id": "ZeYBc4qYcr6L",
        "outputId": "154213e5-ccde-45d2-e5a4-664240bb360e"
      },
      "execution_count": null,
      "outputs": [
        {
          "output_type": "execute_result",
          "data": {
            "text/plain": [
              "tensor([[0., 1., 2.],\n",
              "        [3., 4., 5.]])"
            ]
          },
          "metadata": {},
          "execution_count": 185
        }
      ]
    },
    {
      "cell_type": "code",
      "source": [
        "A.shape"
      ],
      "metadata": {
        "colab": {
          "base_uri": "https://localhost:8080/"
        },
        "id": "y7E3zbLImh2e",
        "outputId": "f911570a-49e8-4a93-cfdf-663dbe65fe4f"
      },
      "execution_count": null,
      "outputs": [
        {
          "output_type": "execute_result",
          "data": {
            "text/plain": [
              "torch.Size([2, 3])"
            ]
          },
          "metadata": {},
          "execution_count": 186
        }
      ]
    },
    {
      "cell_type": "code",
      "source": [
        "A.sum(axis = 1)"
      ],
      "metadata": {
        "colab": {
          "base_uri": "https://localhost:8080/"
        },
        "id": "K_SFvu0mmdWp",
        "outputId": "4c2ec7d0-bd0c-4e83-980c-a6cefc09632a"
      },
      "execution_count": null,
      "outputs": [
        {
          "output_type": "execute_result",
          "data": {
            "text/plain": [
              "tensor([ 3., 12.])"
            ]
          },
          "metadata": {},
          "execution_count": 187
        }
      ]
    },
    {
      "cell_type": "code",
      "source": [
        "A.sum(axis = 1).shape"
      ],
      "metadata": {
        "colab": {
          "base_uri": "https://localhost:8080/"
        },
        "id": "KlWMNVaDmuPf",
        "outputId": "d2f50d3e-5d06-45ce-b16f-b558f9c613d9"
      },
      "execution_count": null,
      "outputs": [
        {
          "output_type": "execute_result",
          "data": {
            "text/plain": [
              "torch.Size([2])"
            ]
          },
          "metadata": {},
          "execution_count": 188
        }
      ]
    },
    {
      "cell_type": "code",
      "source": [
        "A.sum(axis = 1, keepdims=True)"
      ],
      "metadata": {
        "colab": {
          "base_uri": "https://localhost:8080/"
        },
        "id": "jlZNzk2CnOsL",
        "outputId": "bbde4bd5-5820-4bc5-e4c3-7bad8fdbfc63"
      },
      "execution_count": null,
      "outputs": [
        {
          "output_type": "execute_result",
          "data": {
            "text/plain": [
              "tensor([[ 3.],\n",
              "        [12.]])"
            ]
          },
          "metadata": {},
          "execution_count": 189
        }
      ]
    },
    {
      "cell_type": "code",
      "source": [
        "A.sum(axis = 1, keepdims=True).shape"
      ],
      "metadata": {
        "colab": {
          "base_uri": "https://localhost:8080/"
        },
        "id": "hWi82PmynRs5",
        "outputId": "404db9cc-9b65-4c10-bc34-ec4ff47c7a17"
      },
      "execution_count": null,
      "outputs": [
        {
          "output_type": "execute_result",
          "data": {
            "text/plain": [
              "torch.Size([2, 1])"
            ]
          },
          "metadata": {},
          "execution_count": 190
        }
      ]
    },
    {
      "cell_type": "code",
      "source": [
        "A.sum(axis = 0)"
      ],
      "metadata": {
        "colab": {
          "base_uri": "https://localhost:8080/"
        },
        "id": "62aR1YH8nWIf",
        "outputId": "dbf9ac79-7fa0-4f8c-a578-d248a0ee95d4"
      },
      "execution_count": null,
      "outputs": [
        {
          "output_type": "execute_result",
          "data": {
            "text/plain": [
              "tensor([3., 5., 7.])"
            ]
          },
          "metadata": {},
          "execution_count": 191
        }
      ]
    },
    {
      "cell_type": "code",
      "source": [
        "A.sum(axis = 0).shape"
      ],
      "metadata": {
        "colab": {
          "base_uri": "https://localhost:8080/"
        },
        "id": "eCOf17CCnYtX",
        "outputId": "0278d88d-f000-4707-9ba6-b6464162127b"
      },
      "execution_count": null,
      "outputs": [
        {
          "output_type": "execute_result",
          "data": {
            "text/plain": [
              "torch.Size([3])"
            ]
          },
          "metadata": {},
          "execution_count": 192
        }
      ]
    },
    {
      "cell_type": "code",
      "source": [
        "A.sum(axis = 0, keepdims=True)"
      ],
      "metadata": {
        "colab": {
          "base_uri": "https://localhost:8080/"
        },
        "id": "mkIZgaTinc_0",
        "outputId": "91c5d142-29e5-47f1-c398-e3a0639f7493"
      },
      "execution_count": null,
      "outputs": [
        {
          "output_type": "execute_result",
          "data": {
            "text/plain": [
              "tensor([[3., 5., 7.]])"
            ]
          },
          "metadata": {},
          "execution_count": 193
        }
      ]
    },
    {
      "cell_type": "code",
      "source": [
        "A.sum(axis = 0, keepdims=True).shape"
      ],
      "metadata": {
        "colab": {
          "base_uri": "https://localhost:8080/"
        },
        "id": "aCTubJFLnhiN",
        "outputId": "17628350-c182-4937-fe57-42ef0450a9c8"
      },
      "execution_count": null,
      "outputs": [
        {
          "output_type": "execute_result",
          "data": {
            "text/plain": [
              "torch.Size([1, 3])"
            ]
          },
          "metadata": {},
          "execution_count": 194
        }
      ]
    },
    {
      "cell_type": "code",
      "source": [
        "A"
      ],
      "metadata": {
        "colab": {
          "base_uri": "https://localhost:8080/"
        },
        "id": "za3kKo_sn-HX",
        "outputId": "510ff0cd-9674-41de-9ea7-414d8a2d7023"
      },
      "execution_count": null,
      "outputs": [
        {
          "output_type": "execute_result",
          "data": {
            "text/plain": [
              "tensor([[0., 1., 2.],\n",
              "        [3., 4., 5.]])"
            ]
          },
          "metadata": {},
          "execution_count": 195
        }
      ]
    },
    {
      "cell_type": "code",
      "source": [
        "A.cumsum(axis=1)"
      ],
      "metadata": {
        "colab": {
          "base_uri": "https://localhost:8080/"
        },
        "id": "_AZlUV6hnzXU",
        "outputId": "c6fa1708-b062-4822-861e-72f8903c59d2"
      },
      "execution_count": null,
      "outputs": [
        {
          "output_type": "execute_result",
          "data": {
            "text/plain": [
              "tensor([[ 0.,  1.,  3.],\n",
              "        [ 3.,  7., 12.]])"
            ]
          },
          "metadata": {},
          "execution_count": 196
        }
      ]
    },
    {
      "cell_type": "code",
      "source": [
        "A.cumsum(axis=0)"
      ],
      "metadata": {
        "colab": {
          "base_uri": "https://localhost:8080/"
        },
        "id": "ANnc2kL4n8q5",
        "outputId": "822f0ae4-a38f-4ad7-c64b-940bc2389a1d"
      },
      "execution_count": null,
      "outputs": [
        {
          "output_type": "execute_result",
          "data": {
            "text/plain": [
              "tensor([[0., 1., 2.],\n",
              "        [3., 5., 7.]])"
            ]
          },
          "metadata": {},
          "execution_count": 197
        }
      ]
    },
    {
      "cell_type": "code",
      "source": [
        "x.shape"
      ],
      "metadata": {
        "colab": {
          "base_uri": "https://localhost:8080/"
        },
        "id": "brYYZ0XljdSW",
        "outputId": "e152414e-c579-4175-d338-57528de5d0c6"
      },
      "execution_count": null,
      "outputs": [
        {
          "output_type": "execute_result",
          "data": {
            "text/plain": [
              "torch.Size([3])"
            ]
          },
          "metadata": {},
          "execution_count": 198
        }
      ]
    },
    {
      "cell_type": "code",
      "source": [
        "x.reshape(3, 1)"
      ],
      "metadata": {
        "colab": {
          "base_uri": "https://localhost:8080/"
        },
        "id": "sG2PBKp4jo_0",
        "outputId": "2c2d647b-4176-40aa-d338-4d161de9baa9"
      },
      "execution_count": null,
      "outputs": [
        {
          "output_type": "execute_result",
          "data": {
            "text/plain": [
              "tensor([[0.],\n",
              "        [1.],\n",
              "        [2.]])"
            ]
          },
          "metadata": {},
          "execution_count": 199
        }
      ]
    },
    {
      "cell_type": "code",
      "source": [
        "x.shape"
      ],
      "metadata": {
        "colab": {
          "base_uri": "https://localhost:8080/"
        },
        "id": "arwZybKejxEO",
        "outputId": "ac4f4708-9bf8-4cf0-8703-b43cf48926c9"
      },
      "execution_count": null,
      "outputs": [
        {
          "output_type": "execute_result",
          "data": {
            "text/plain": [
              "torch.Size([3])"
            ]
          },
          "metadata": {},
          "execution_count": 200
        }
      ]
    },
    {
      "cell_type": "code",
      "source": [
        "y = torch.arange(3)"
      ],
      "metadata": {
        "id": "plSPtOMJjUv8"
      },
      "execution_count": null,
      "outputs": []
    },
    {
      "cell_type": "code",
      "source": [
        "x == y"
      ],
      "metadata": {
        "colab": {
          "base_uri": "https://localhost:8080/"
        },
        "id": "cueAfEBBj7Dh",
        "outputId": "f8810697-5c94-42cc-a6cf-9db0c22dbf95"
      },
      "execution_count": null,
      "outputs": [
        {
          "output_type": "execute_result",
          "data": {
            "text/plain": [
              "tensor([True, True, True])"
            ]
          },
          "metadata": {},
          "execution_count": 202
        }
      ]
    },
    {
      "cell_type": "markdown",
      "source": [
        "###2.5. Automatic Differentiation"
      ],
      "metadata": {
        "id": "003TLdZcGUoZ"
      }
    },
    {
      "cell_type": "code",
      "source": [
        "import torch"
      ],
      "metadata": {
        "id": "Jq836CNEqTe4"
      },
      "execution_count": null,
      "outputs": []
    },
    {
      "cell_type": "markdown",
      "source": [
        "####2.5.1. A Simple Function"
      ],
      "metadata": {
        "id": "AMfAQksVG6x0"
      }
    },
    {
      "cell_type": "code",
      "source": [
        "x = torch.arange(4.0)\n",
        "x"
      ],
      "metadata": {
        "colab": {
          "base_uri": "https://localhost:8080/"
        },
        "id": "Zik9Yn0Vib_l",
        "outputId": "8d892358-4f67-4a7d-8932-f507ea4e2086"
      },
      "execution_count": null,
      "outputs": [
        {
          "output_type": "execute_result",
          "data": {
            "text/plain": [
              "tensor([0., 1., 2., 3.])"
            ]
          },
          "metadata": {},
          "execution_count": 204
        }
      ]
    },
    {
      "cell_type": "code",
      "source": [
        "# Can also create x = torch.arange(4.0, requires_grad=True)\n",
        "x.requires_grad_(True)\n",
        "x.grad  # The gradient is None by default"
      ],
      "metadata": {
        "id": "NfAuNin_iufp"
      },
      "execution_count": null,
      "outputs": []
    },
    {
      "cell_type": "code",
      "source": [
        "x"
      ],
      "metadata": {
        "colab": {
          "base_uri": "https://localhost:8080/"
        },
        "id": "_frFOtJttwTT",
        "outputId": "b5daf804-70df-4d48-aa10-92d86daac3a7"
      },
      "execution_count": null,
      "outputs": [
        {
          "output_type": "execute_result",
          "data": {
            "text/plain": [
              "tensor([0., 1., 2., 3.], requires_grad=True)"
            ]
          },
          "metadata": {},
          "execution_count": 206
        }
      ]
    },
    {
      "cell_type": "code",
      "source": [
        "y = 2 * torch.dot(x, x)\n",
        "y"
      ],
      "metadata": {
        "colab": {
          "base_uri": "https://localhost:8080/"
        },
        "id": "BWTX--FWijJS",
        "outputId": "62c4f2b7-c0ac-4710-9a14-d32db06e8bda"
      },
      "execution_count": null,
      "outputs": [
        {
          "output_type": "execute_result",
          "data": {
            "text/plain": [
              "tensor(28., grad_fn=<MulBackward0>)"
            ]
          },
          "metadata": {},
          "execution_count": 207
        }
      ]
    },
    {
      "cell_type": "code",
      "source": [
        "print(y.backward)"
      ],
      "metadata": {
        "colab": {
          "base_uri": "https://localhost:8080/"
        },
        "id": "h6YAkRVst51O",
        "outputId": "57507546-fb2e-4c40-8e05-f0dc29e4400d"
      },
      "execution_count": null,
      "outputs": [
        {
          "output_type": "stream",
          "name": "stdout",
          "text": [
            "<bound method Tensor.backward of tensor(28., grad_fn=<MulBackward0>)>\n"
          ]
        }
      ]
    },
    {
      "cell_type": "code",
      "source": [
        "y.backward()\n",
        "x.grad"
      ],
      "metadata": {
        "colab": {
          "base_uri": "https://localhost:8080/"
        },
        "id": "qcmKNPa0iosg",
        "outputId": "8eeeaa36-bb0e-4056-a174-157c74f0517b"
      },
      "execution_count": null,
      "outputs": [
        {
          "output_type": "execute_result",
          "data": {
            "text/plain": [
              "tensor([ 0.,  4.,  8., 12.])"
            ]
          },
          "metadata": {},
          "execution_count": 209
        }
      ]
    },
    {
      "cell_type": "code",
      "source": [
        "x.grad == 4 * x"
      ],
      "metadata": {
        "colab": {
          "base_uri": "https://localhost:8080/"
        },
        "id": "f5C33gHVjO4F",
        "outputId": "45416431-6011-4067-aa89-57c32cfdb7e6"
      },
      "execution_count": null,
      "outputs": [
        {
          "output_type": "execute_result",
          "data": {
            "text/plain": [
              "tensor([True, True, True, True])"
            ]
          },
          "metadata": {},
          "execution_count": 210
        }
      ]
    },
    {
      "cell_type": "code",
      "source": [
        "x.grad.zero_()  # Reset the gradient\n",
        "y = x.sum()\n",
        "y.backward()\n",
        "x.grad"
      ],
      "metadata": {
        "colab": {
          "base_uri": "https://localhost:8080/"
        },
        "id": "7AcC1XfZxZ4H",
        "outputId": "f33ab4f2-5e76-4dc1-e00b-bbdf9200ec04"
      },
      "execution_count": null,
      "outputs": [
        {
          "output_type": "execute_result",
          "data": {
            "text/plain": [
              "tensor([1., 1., 1., 1.])"
            ]
          },
          "metadata": {},
          "execution_count": 211
        }
      ]
    },
    {
      "cell_type": "code",
      "source": [
        "x"
      ],
      "metadata": {
        "colab": {
          "base_uri": "https://localhost:8080/"
        },
        "id": "-z7-8QLLxkHX",
        "outputId": "57f31cc6-7f5b-4758-935c-e82021851ced"
      },
      "execution_count": null,
      "outputs": [
        {
          "output_type": "execute_result",
          "data": {
            "text/plain": [
              "tensor([0., 1., 2., 3.], requires_grad=True)"
            ]
          },
          "metadata": {},
          "execution_count": 212
        }
      ]
    },
    {
      "cell_type": "code",
      "source": [
        "x.grad.zero_()\n",
        "y = x.sum()\n",
        "y"
      ],
      "metadata": {
        "colab": {
          "base_uri": "https://localhost:8080/"
        },
        "id": "Mmn5J6yUxbXb",
        "outputId": "f24e76e9-21c4-4bfc-8701-6a795ed96c8d"
      },
      "execution_count": null,
      "outputs": [
        {
          "output_type": "execute_result",
          "data": {
            "text/plain": [
              "tensor(6., grad_fn=<SumBackward0>)"
            ]
          },
          "metadata": {},
          "execution_count": 213
        }
      ]
    },
    {
      "cell_type": "markdown",
      "source": [
        "####2.5.2. Backward for Non-Scalar Variables"
      ],
      "metadata": {
        "id": "en0pJBjHG9TP"
      }
    },
    {
      "cell_type": "code",
      "source": [
        "x.grad.zero_()\n",
        "y = x * x\n",
        "y.backward(gradient=torch.ones(len(y)))  # Faster: y.sum().backward()\n",
        "x.grad"
      ],
      "metadata": {
        "colab": {
          "base_uri": "https://localhost:8080/"
        },
        "id": "kku8VtU4jUj1",
        "outputId": "a47b22ad-76e9-47f0-ed54-3c727a0c6a09"
      },
      "execution_count": null,
      "outputs": [
        {
          "output_type": "execute_result",
          "data": {
            "text/plain": [
              "tensor([0., 2., 4., 6.])"
            ]
          },
          "metadata": {},
          "execution_count": 214
        }
      ]
    },
    {
      "cell_type": "code",
      "source": [
        "x.grad.zero_()\n",
        "y = x * x\n",
        "y.backward(gradient=torch.ones(len(y)))  # Faster: y.sum().backward()\n",
        "x.grad"
      ],
      "metadata": {
        "colab": {
          "base_uri": "https://localhost:8080/"
        },
        "id": "qWEytdJ32wPZ",
        "outputId": "690c525b-f3a3-419c-e33e-d14d5f5fc032"
      },
      "execution_count": null,
      "outputs": [
        {
          "output_type": "execute_result",
          "data": {
            "text/plain": [
              "tensor([0., 2., 4., 6.])"
            ]
          },
          "metadata": {},
          "execution_count": 215
        }
      ]
    },
    {
      "cell_type": "code",
      "source": [
        "y"
      ],
      "metadata": {
        "colab": {
          "base_uri": "https://localhost:8080/"
        },
        "id": "E9d3w1Gf2yTb",
        "outputId": "0d323bb5-2548-446d-becc-b103c32d98f3"
      },
      "execution_count": null,
      "outputs": [
        {
          "output_type": "execute_result",
          "data": {
            "text/plain": [
              "tensor([0., 1., 4., 9.], grad_fn=<MulBackward0>)"
            ]
          },
          "metadata": {},
          "execution_count": 216
        }
      ]
    },
    {
      "cell_type": "markdown",
      "source": [
        "####2.5.3. Detaching Computation"
      ],
      "metadata": {
        "id": "kjTmnNpUG9_F"
      }
    },
    {
      "cell_type": "code",
      "source": [
        "x.grad.zero_()\n",
        "y = x * x\n",
        "u = y.detach()\n",
        "z = u * x\n",
        "\n",
        "z.sum().backward()\n",
        "x.grad == u"
      ],
      "metadata": {
        "colab": {
          "base_uri": "https://localhost:8080/"
        },
        "id": "8FQ94ClBjoA7",
        "outputId": "4cef02c1-ed9b-4723-82f0-4def346e8792"
      },
      "execution_count": null,
      "outputs": [
        {
          "output_type": "execute_result",
          "data": {
            "text/plain": [
              "tensor([True, True, True, True])"
            ]
          },
          "metadata": {},
          "execution_count": 217
        }
      ]
    },
    {
      "cell_type": "code",
      "source": [
        "x"
      ],
      "metadata": {
        "colab": {
          "base_uri": "https://localhost:8080/"
        },
        "id": "XUJdLdV341Yv",
        "outputId": "54785b71-d168-4e99-950d-097045bf9513"
      },
      "execution_count": null,
      "outputs": [
        {
          "output_type": "execute_result",
          "data": {
            "text/plain": [
              "tensor([0., 1., 2., 3.], requires_grad=True)"
            ]
          },
          "metadata": {},
          "execution_count": 218
        }
      ]
    },
    {
      "cell_type": "code",
      "source": [
        "y"
      ],
      "metadata": {
        "colab": {
          "base_uri": "https://localhost:8080/"
        },
        "id": "SC9FyTO84xIp",
        "outputId": "f1afd2fc-b77d-4a12-c822-5ca3b7278a6b"
      },
      "execution_count": null,
      "outputs": [
        {
          "output_type": "execute_result",
          "data": {
            "text/plain": [
              "tensor([0., 1., 4., 9.], grad_fn=<MulBackward0>)"
            ]
          },
          "metadata": {},
          "execution_count": 219
        }
      ]
    },
    {
      "cell_type": "code",
      "source": [
        "u = y.detach()\n",
        "u"
      ],
      "metadata": {
        "colab": {
          "base_uri": "https://localhost:8080/"
        },
        "id": "714iRLns4vfG",
        "outputId": "59e9066d-7740-4b0f-f4df-91e2f66bd5b7"
      },
      "execution_count": null,
      "outputs": [
        {
          "output_type": "execute_result",
          "data": {
            "text/plain": [
              "tensor([0., 1., 4., 9.])"
            ]
          },
          "metadata": {},
          "execution_count": 220
        }
      ]
    },
    {
      "cell_type": "code",
      "source": [
        "z"
      ],
      "metadata": {
        "colab": {
          "base_uri": "https://localhost:8080/"
        },
        "id": "kuxm44YF4zcz",
        "outputId": "2c7d564d-fb1e-4e31-cd2b-70bddc9f6ad6"
      },
      "execution_count": null,
      "outputs": [
        {
          "output_type": "execute_result",
          "data": {
            "text/plain": [
              "tensor([ 0.,  1.,  8., 27.], grad_fn=<MulBackward0>)"
            ]
          },
          "metadata": {},
          "execution_count": 221
        }
      ]
    },
    {
      "cell_type": "code",
      "source": [
        "x.grad.zero_()\n",
        "y = x * x\n",
        "u = y.detach()\n",
        "z = u * x\n",
        "\n",
        "z.sum().backward()\n",
        "x.grad"
      ],
      "metadata": {
        "colab": {
          "base_uri": "https://localhost:8080/"
        },
        "id": "exRwG0Mq5U3j",
        "outputId": "032621fc-a6ab-4d9a-c55c-f81b5c374f86"
      },
      "execution_count": null,
      "outputs": [
        {
          "output_type": "execute_result",
          "data": {
            "text/plain": [
              "tensor([0., 1., 4., 9.])"
            ]
          },
          "metadata": {},
          "execution_count": 222
        }
      ]
    },
    {
      "cell_type": "code",
      "source": [
        "y.sum().backward()\n",
        "x.grad"
      ],
      "metadata": {
        "colab": {
          "base_uri": "https://localhost:8080/"
        },
        "id": "Ks5Lhjst5qPv",
        "outputId": "0742edf2-eb16-4490-c183-3a3909389b3e"
      },
      "execution_count": null,
      "outputs": [
        {
          "output_type": "execute_result",
          "data": {
            "text/plain": [
              "tensor([ 0.,  3.,  8., 15.])"
            ]
          },
          "metadata": {},
          "execution_count": 223
        }
      ]
    },
    {
      "cell_type": "markdown",
      "source": [
        "####2.5.4. Gradients and Python Control Flow"
      ],
      "metadata": {
        "id": "-HkCzBUXG-sb"
      }
    },
    {
      "cell_type": "code",
      "source": [
        "def f(a):\n",
        "  b = a * 2\n",
        "  while b.norm() < 1000:\n",
        "    b = b * 2\n",
        "  if b.sum() > 0:\n",
        "    c = b\n",
        "  else:\n",
        "    c = 100 * b\n",
        "  return c"
      ],
      "metadata": {
        "id": "n2GXV_vTj4qv"
      },
      "execution_count": null,
      "outputs": []
    },
    {
      "cell_type": "code",
      "source": [
        "a = torch.randn(size=(), requires_grad=True)\n",
        "d = f(a)\n",
        "d.backward()"
      ],
      "metadata": {
        "id": "BM6f0L3akDE5"
      },
      "execution_count": null,
      "outputs": []
    },
    {
      "cell_type": "code",
      "source": [
        "a.grad == d / a"
      ],
      "metadata": {
        "colab": {
          "base_uri": "https://localhost:8080/"
        },
        "id": "P159b9lOkMwv",
        "outputId": "c8a12d39-d9a9-4156-8dd6-1fa71cbc1130"
      },
      "execution_count": null,
      "outputs": [
        {
          "output_type": "execute_result",
          "data": {
            "text/plain": [
              "tensor(True)"
            ]
          },
          "metadata": {},
          "execution_count": 226
        }
      ]
    },
    {
      "cell_type": "markdown",
      "source": [
        "####2.5.5. Discussion & Exercises"
      ],
      "metadata": {
        "id": "vmzgngL5G_lt"
      }
    },
    {
      "cell_type": "markdown",
      "source": [
        "#####2.5.1.1. My Own Exercises"
      ],
      "metadata": {
        "id": "IVqHRPuhtdBX"
      }
    },
    {
      "cell_type": "markdown",
      "source": [
        "**1**. The gradient of a scalar-valued function with respect to a vector  is vector-valued with the same shape as $ \\mathbf{x} $. -> 왜?\n",
        "\n",
        "벡터 $ \\mathbf{x} $에 대해 스칼라 값 함수 $f(x) $를 미분하면, 그 결과는 원래 벡터 $ \\mathbf{x} $와 같은 차원을 가지는 벡터. 즉, $ \\mathbf{x} $가 스칼라 값 함수라면, 그 미분 결과는 $ \\frac{\\partial f}{\\partial \\mathbf{x}} $와 같은 벡터. 이 벡터는 $ \\mathbf{x} $와 동일한 차원과 형식을 가짐.\n",
        "\n",
        "예를 들어,  $ f(x) = x_1^2 + x_2^2 + x_3^2 $를 벡터 $ \\mathbf{x} = [x_1, x_2, x_3] $에 대해 미분하면, 그 결과는 각 요소에 대해 편미분한 결과인 벡터 $ [2x_1, 2x_2, 2x_3] $. 즉, $ \\mathbf{x} $가 3차원이므로, 그 미분 결과도 3차원 벡터.\n",
        "\n"
      ],
      "metadata": {
        "id": "gl8t-xsAq24N"
      }
    },
    {
      "cell_type": "code",
      "source": [
        "# Can also create x = torch.arange(4.0, requires_grad=True)\n",
        "x.requires_grad_(True)\n",
        "x.grad  # The gradient is None by default\n",
        "print(x.grad)"
      ],
      "metadata": {
        "colab": {
          "base_uri": "https://localhost:8080/"
        },
        "id": "wnDNufkatVSx",
        "outputId": "149dfd48-d913-413c-c29d-e61c17546d62"
      },
      "execution_count": null,
      "outputs": [
        {
          "output_type": "stream",
          "name": "stdout",
          "text": [
            "tensor([ 0.,  3.,  8., 15.])\n"
          ]
        }
      ]
    },
    {
      "cell_type": "markdown",
      "source": [
        "**2.**\n",
        "\n",
        "$\n",
        "y = 2 \\cdot \\mathbf{x}^T \\mathbf{x}\n",
        "$\n",
        "\n",
        "$\n",
        "\\mathbf{x}^T \\mathbf{x} = x_1^2 + x_2^2 + \\cdots + x_n^2\n",
        "$\n",
        "\n",
        "\n",
        "$\n",
        "y = 2 \\cdot (x_1^2 + x_2^2 + \\cdots + x_n^2)\n",
        "$\n",
        "\n",
        "임의의 $ x_i $에 대해 미분:\n",
        "\n",
        "$\n",
        "\\frac{\\partial y}{\\partial x_i} = 2 \\cdot 2x_i = 4x_i\n",
        "$\n",
        "\n",
        "따라서, 전체 벡터 $\\mathbf{x}$에 대한 미분:\n",
        "\n",
        "$\n",
        "\\frac{\\partial y}{\\partial \\mathbf{x}} = 4 \\cdot \\mathbf{x}\n",
        "$\n",
        "\n",
        "즉, 함수 $ y $의 벡터 $ \\mathbf{x} $에 대한 기울기는 $4 \\cdot \\mathbf{x}$.\n",
        "\n"
      ],
      "metadata": {
        "id": "XJpnNTPIulEq"
      }
    },
    {
      "cell_type": "markdown",
      "source": [
        "![6ab3e8f94f2eeb576d53718bfc5ee75a.png](data:image/png;base64,iVBORw0KGgoAAAANSUhEUgAABCoAAARWCAYAAAD9tVNwAAAAOXRFWHRTb2Z0d2FyZQBNYXRwbG90bGliIHZlcnNpb24zLjYuMywgaHR0cHM6Ly9tYXRwbG90bGliLm9yZy/P9b71AAAACXBIWXMAAB7CAAAewgFu0HU+AAEAAElEQVR4nOzdeXxU1f3/8fdkHQiBCQSSAJKwSHCFAmotauuCKy61irhWbZXW7Wut9dt+1X79tVr129qq1brUfUXcFbUWrYpaV9AoikFZhi0TCMlAWCYhyfz+mJrk3gkhN8zMmTv39Xw8fDy4J7O8Yz6ckE/OuccXjUajAgAAAAAASANZpgMAAAAAAAB8i0YFAAAAAABIGzQqAAAAAABA2qBRAQAAAAAA0gaNCgAAAAAAkDZoVAAAAAAAgLRBowIAAAAAAKQNGhUAAAAAACBt0KgAAAAAAABpg0YFAAAAAABIGzQqAAAAAABA2qBRAQAAAAAA0gaNCgAAAAAAkDZoVAAAAAAAgLRBowIAAAAAAKQNGhUAAAAAACBt0KgAAAAAAABpg0YFAAAAAABIGzQqAAAAAABA2qBRAQAAAAAA0gaNCgAAAAAAkDZoVAAAAAAAgLSRYzoAAAAAAKTCli1b9OGHH2r+/PlatGiRVqxYoY0bNyo3N1cDBw5UZWWlDj74YB166KHKy8szHRfwLF80Go2aDgEAAAAAyfTII4/ojjvuUFNT0w4fO3z4cP2///f/NH78+BQkA2DHigoAAAAAGW/FihXtTYri4mLts88+2mOPPTRw4EBt27ZNX331lV5++WVt2LBBq1at0oUXXqi//e1v2nvvvQ0nB7yHFRUAAAAAMt7111+vlStX6owzztB+++2n7OzsuMc0NDTosssu0+effy5JKi8v15NPPqmsLG7tB6QSjQoAAAAAGW/Dhg0aMGDADh+3bt06nXDCCe2rL+666y5NmjQp2fEAdMLWDwCwaW5u1vLly7V06VKFw2Ft3rxZffr0Uf/+/VVeXq5x48YpNzfXdMy0V19fr2+++UY1NTXauHGjmpqa5Pf71a9fP/Xr10+77LKLRo0axf9Lh84//3wtWLCg/frOO+/U5MmTE/4cZJ6vvvpKL774oj777DOFQiFt3LhRra2t7R8/77zzNHPmTIMJsT18X0qMnjQpJGnw4MGaOHGi3nvvPUnS119/TaMCSDEaFQAgadGiRZo3b54++ugjLVy4UC0tLdt9bF5enr773e9qxowZ2nfffR2/1zXXXKM5c+Z0+xifz6e8vDzl5eVpwIABGjhwoIYPH66RI0dqr7320p577im/3+/4vZPtq6++0ksvvaS3335bq1at2uHjc3JyNHr0aE2ZMkWHHXaYxo4dm4KUgLc0NTXphhtu0Isvvmg6ChxI5fclxCsoKGj/cyQSMZgE8CYaFQA87V//+pduvfXWHv1Q/a3m5mbNmzdP8+bN04EHHqirrrpKgwYNSmiuaDSqpqYmNTU1qbGxUatWrdJnn33W/vH8/Hx973vf03HHHacDDjhAPp8voe/vVHV1tW655RZ9+OGHjp7X0tKi6upqVVdX67777tOoUaN0zjnn6IgjjmA/MJLixRdf1Jo1a9qvjz32WA0dOtRgouS79tpr9corr5iOgR5K1+9LXrNkyZL2P2f6HAGkIxoVADztiy++6PYfgz6fT4WFhe1NA7u3335bZ555pu65556U/kOmqalJb7zxht544w2NGjVKl19+uZHforW1tem+++7T3//+d8sS8q706dNHeXl52rx583Z/M7h06VJdffXVuueee/TEE08oJ4dvU0isF1980bINZtKkSRn9Q8gnn3wS16SorKzUAQccoEGDBlkagrvvvnuq46ELbv2+lEk+/vhjLVu2TJKUm5ur7373u4YTAd7DvwABoJO+ffvq4IMP1j777KPvfOc7Kikpaf9hORQKad68eXr44YdVU1PT/py1a9fqwgsv1KOPPqq+ffs6fs8RI0botNNOixvftm2bNm7cqE2bNikUCmnhwoVat25d3OOWLl2qCy64QDNmzNCll16ash/uW1padPXVV2vu3LlxHxs0aJB+8IMfaJ999tFee+2loqIi5eXlSYqtFlm7dq2+/vprffTRR3r99dcVCoUszw8Gg2ptbaVRAeyk5557znJ9zDHH6JprrjG+Cgs9Z+L7kpdFIhFdf/317dennHKK+vfvbzAR4E38CxAAJFVUVOi0007TkUceud1/1JWWlmr69Ok65phj9Nvf/lZvvfVW+8dWrlyp++67TxdddJHj9y4uLtZJJ53Uo8eGQiG99NJLevLJJ1VXV2f52KxZs1RbW6vrr78+JT/g/7//9//imhT9+vXT2WefrRkzZmz3Hho+n08lJSUqKSnRAQccoEsvvVRvv/227r33Xn3xxRdJz+1Fd999t+kIMOTTTz+1XJ933nk0KVzC5Pclr4pGo7r66qsVDAYlxX6RcN555xlOBXgTG4ABeFppaamuvvpqPfHEEzrxxBN79JungoICXX/99XHLpGfNmpX0G26VlpbqJz/5iebMmaPzzjsv7j4Ob7zxhm6++eakZpCkRx99NG45eVlZme6//36dffbZjm706fP5dNBBB+mBBx7QNddco8LCwkTHBTxp27ZtWr16dft1QUGBhg8fbjAResJt35cyyV/+8he98cYbkmL/T2+88UbLTTUBpA6NCgCedvLJJ+v4449Xdna2o+fl5eXpkksusYxFIhHHN5PsrZycHM2cOVN/+ctf2rdUfGvWrFn64IMPkvbeq1at0t/+9jfL2KBBg3Tfffdp5MiRvX5dn8+nadOm6fHHH2evPJAAmzZtslz369fPUBI44dbvS253++2367HHHpMU225zyy23aNdddzWcCvAuGhUA0EsTJ06MO5N98eLFKc0wZcoUXXbZZXHjN998s6LRaFLe86677oq7gdtvfvMbDR48OCGvX1paqrvvvlu5ubkJeT3Aq+y/SeckncyXDt+X3Ohvf/ub7r//fkkdTYoJEyaYDQV4HPeoAIBeysrK0rBhw7Rhw4b2sfXr16c8x0knnaR58+bp3//+d/vY119/rQ8//FD77bdfQt9r3bp1+uc//2kZmzJlin7wgx8k9H2cbB3pTmtrqxYtWqSlS5eqvr5era2tGjBggA499FAVFRVt93lbtmzRsmXLFAwGFQ6HtWXLFvXp00cDBgzQsGHDtPvuuys/Pz8hGaXYD5QLFixQKBRSOByW3+/XsGHDNH78eAUCgYS9z86KRqOqrq7WihUr1NDQoM2bN6t///4qLi7W3nvvrYEDByb8PVtbW/Xll1/q66+/VjgcVl5enoqKirTHHnuooqIi4e9nSl1dnRYuXKj6+npt2LBBffr0UVFRkSoqKjR27Nhe3VciWc1KpK90+b7kJrfffnt7k6KgoIAmBZAmaFQAwE7Ytm2b5drUTerOOOMMS6NCkubMmZPwRsUrr7wSdwzpj370o4S+hxOTJ0+2XH/88ceSYkve77//fj333HOWf7B/q6KiIu6533zzjebOnasPPvhAixYt6va41dzcXO23334666yzNHHixF7nr6ur0+23367XXntNW7dujft4dna2pkyZogsuuEBjxozp9fucf/75liM577zzzrjPvzurVq3SAw88oHnz5qm+vr7Lx/h8Pu22224666yzdNhhh/X4tbf3NWxubtbDDz+sJ554YrvvOWLECM2cOVNHHHFEt+9h//w7+9nPftbtc8877zzNnDmz28f0Vmtrq1544QU9+eST3f7Wu7i4WFOnTtW5557bbYNNiv//2VlNTc12P/6///u/OvbYY3sWvBu/+MUv9Pbbb7dfn3HGGbr00kt79Vq//vWv9dprr7Vfn3POObrwwgt3NmLGS5fvS0588MEHcV/bP/3pT46a4Ndee63llJv8/HzdfPPN2meffbb7nFtvvVUPPfSQpFiT4tZbb9X48eMdZQeQHKwBBIBeamtr05o1ayxjgwYNMpJl3333VXl5uWXsvffeS/hvVDv/ACLFPt8pU6Yk9D121sKFC3XyySfrwQcf7LJJ0ZW//vWvmjFjhu69914tXLiw2yaFFPtB4J133tH555+va665Jm4rTE+89dZbOvnkk/Xiiy922aSQYj/Izps3T2eccYZeeOEFx++xs1paWnTLLbfopJNO0nPPPbfdhoEU++39l19+qV//+tc677zzFA6He/2+q1ev1plnnqk77rij2/dcsWKFrrzySl177bU7/JqlmyVLluiUU07Rddddt8Ol+XV1dXr88cd1wgknxB03mm7sv4n+/PPPe/U67733nqVJ8e2NhNG9dPq+5MR+++0X973k9ttv7/Hf65tvvtnydyMnJ0c33HBDt02Km2++ub1J0a9fP91+++00KYA0QqMCAHrp/fff1+bNmy1ju+22m6E08b9JDYfDWrFiRcJef9u2bVq4cKFlbK+99nJ8w7dk+uabb3ThhRdq3bp1lvE+ffqoT58+231eY2Pjdj/Wt29fDRgwYLtHvs6ZM0eXXXaZ2traepzzrbfe0n//9393+b7Z2dnq37+/5begLS0t+v3vf2/5wS3ZNm/erMsuu0wPP/ywWlpa4j6el5enAQMGdPn1/+STT3TOOeeotrbW8fvW1tbq/PPP15IlSyzjBQUF2/0aPvfcc7rrrrscv5cpn376qX76059q+fLlXX68sLCwy/+vmzdv1rXXXpvWn6u9UfHVV191WT/daWpq0o033mgZ++Uvf5mwLWGZLN2+Lzlx6aWXWup+2bJlevHFF3f4vHvuuUePPPJI+3VWVpZ+//vf68ADD9zuc2666ab25xQWFur222/XnnvuuRPpASQaWz8AoJeeeuopy3WfPn0cLadPtL322ktPP/20Zezrr7+OW2nRW0uXLo1bUpxup3P8z//8T/s/0idOnKhTTz1V++yzT/tpBxs2bNDbb7+t4uLiLp8/dOhQTZkyRfvss4/GjBmjYcOGWf7hvGrVKn388cd66qmn9NVXX7WPf/DBB7rvvvv005/+dIcZV61apSuvvNLyw1tWVpZOOOEEnXDCCaqsrFR2drZaWlr06aef6oknntAbb7yhaDSqa6+9NiW/HY1Go7ryyivjthNNnDhRP/rRjzRp0qT2/4dtbW2qrq7Wyy+/rKefflrNzc2SpJUrV+p//ud/dPfddztqZv3mN79pb3Dsu+++mjFjhiZNmtR+RGBdXZ1effVV/f3vf7ecavHggw/q6KOP7vK+FaeffroOP/xwSdJjjz1maeCddtppGjFixHbzJLrG161bp1/+8pdxTarvfe97mjFjhiZPnqy8vDy1tbVp+fLleumll/TYY49Z/u79/e9/V3l5uY488si41//1r3/d/ucNGzbojjvuaL8eMGCAfv7zn3eZa6+99trZT02S2u/f8u0qo6amJlVXV2uPPfbo8Ws88MADWrVqVfv19773PR188MG9yrNu3Tq99dZbvXpub3S1rSyV0u37khMjR47UiSeeqCeffLJ97O6779aRRx653SbVrFmzdOedd7Zf+3w+XXXVVZo6dep23+emm27S448/Lin2d+L222/XuHHjEvRZAEgUGhUA0Asffvih5s2bZxmbNm1a3FGhqdTVPQxqamoS9vqrV6+OGxs9enTCXj8Rli5dKin2m7kzzjgj7uMDBgzQtGnT4sb33ntvHXLIIfrud7/b7esPHz5cw4cP13HHHad7773X8pvthx9+WDNmzNjhEZDXXXed5TSG/Px8/fnPf467n0hOTo4mT56syZMn67nnntN1112nTZs2xR05mQwPP/yw3nnnHUvGK6+8UkcffXTcY7OysrTbbrtpt9120zHHHKNLL71UdXV1kqSqqio99thjOvPMM3v83p999pmys7P161//Wj/84Q/jPl5cXKzTTz9d++67r37605+2N6ZaW1v19NNP65e//GXcc77//e+3//mf//ynpVFx0EEHpfQHud/97ndxW5Iuv/xyzZgxwzKWlZWlUaNG6eKLL9ZRRx2lCy64wLIN5vrrr9fEiRM1ZMgQy/NOOumk9j+vWbPG0qjo27ev5ePJkJubq913312ffPJJ+9jnn3/e40bFihUr9OCDD7Zf5+fn64orruh1nmAwqBtuuKHXz3dq2rRpxhoD6fh9yanzzz9fr7zySvs8t3btWs2aNUtnn3123GPnzJmjm266yTL2y1/+Uscdd9x2X/+OO+5ob1JI0vTp0xUKhRQKhbrNVVpaSjMDSDG2fgCAQ42Njbr22mstYwUFBcb3T/fv3z9uLJF3e//2h88dvadpZ555ZpdNiu5MmzZth02KzrKysnTeeedZbj64efNmvfzyy90+r6qqSh999JFl7Oqrr97hTU9POOEEnX/++T3OtzM2btyoe+65xzJ23XXXddmksBs3bpz+9Kc/WVZQ2FcD9MSFF17YZZOis1133TVuBcvrr7/u6H1SbeHChXrvvfcsYz/5yU/imhR2Y8aM0S233GL5/7p582bLD1zpZGfuU3HDDTe0r8qRpLPOOkvDhw9PVLSMla7fl5wqKirSOeecYxnr6n5Db7zxhn7/+99b7sN0wQUX7PDvUucGmhRbnXT55Zfv8L9Zs2bt5GcGwCkaFQDgQDQa1TXXXBN3s7JLLrlku9sJUqWwsDBubHs3aeyNLVu2xI3taPVAqhUVFSXthIaunHXWWZbrb0+s2J5nnnnGcj1x4sQul+935eyzz9awYcOcBeyFp556yvK1Pvzwwx3deX/PPffUUUcd1X69bt26uJuwdqeioqLHKzCOO+44yw/va9euTeujGJ944gnL9fDhw3v8g+Ruu+2m6dOnW8aee+45y+qcdNHbRsWrr76qDz/8sP162LBhXf4mHVap+r708ccft6/y+va/V199NWGv/61TTz1VQ4cObb9ubGxsPz5Uit2H48orr7TcaPPss8/Wueeem/AsAMxh6wcAOHDnnXfG7Xc+6KCDjB7R+a2ubjTo9DfZ3enqtbq7QWVXrrjiCv3rX//q0WPLysp6dCO1zo4++uiU3nBv5MiRKigoaN9+YL/ZaGfRaNSynUJS3A+e3cnNzdUPf/hD3Xbbbb0L20P2Hzx29BvKrhx++OGaM2dO+/WCBQt0yCGH9Oi5J554Yo+PUxwwYIBGjhypb775pn1s+fLlaXvKgf2eHyeeeKKjZfkzZszQrFmz2n+L3NjYqM8++0z77rtvQnPurPHjxysrK6v9BrNr1qxRXV1dtz80b9q0SX/5y18sY7/61a+Un5+/U1kmT568wwai26Xz96XeyMvL00UXXaT/+Z//aR978sknNWPGDNXW1upXv/qVZdXNySefrIsuuqhHr3333XcnPC+A5KBRAQA99Mwzz+jee++1jFVUVOiaa64xE8imqxUPidybnJubGzeWyBUbiZDIveHNzc1avny5amtrtXnzZm3durXLo/I6nwaybt06tbW1KSsrfsHiihUrLMuXs7OzdcABBzjK9IMf/CCpjYpwONx+nw8ptmJm7733dvw69r3cn332WY+fO3HiREfvNWzYMEujorsTXExavnx53PL1njZvvjVs2DCNGzdOixYtah9Lx0ZFv379NHr0aH399dftYwsXLux2Zc6dd95p2V520EEHOf774UXp/n2ptw4//HDNmjWrfe5oamrS7373Oy1atMjyfWfatGk7dQ8TAOmLRgUA9MDrr78ed0O2kpIS3XbbbWlzn4aubrKYyNUFXa2eSMWNHZ3o6oaiTmzYsEFz5szR3LlztWjRoi4bE92JRqPatGlTlzXR+Yc2SSovL3f89RkxYoT69OmTtAbRwoULLXu++/XrF3eKQE/Yj2p1sh2j85Lvnujbt6/l2n40Y7ro3EyRYvd36c29F3bbbTdLo8JeV+liwoQJlmyfffbZdhsVX331leWkh/z8fF1++eXJjuh6bvi+tDN+8YtfWO5X0XlbkCQdeuihuvrqq3u8AguAu9CoAIAdeP/993XVVVdZfvgKBAK6/fbbVVpaajCZ1caNG+PGErk/uavX6uo9u3PiiSdu97e/77zzTtzWCKcGDBjQ6+c+//zzuvXWW+N+6+3Uli1buvwhIRwOW67Lysocv3ZWVpZKS0u1bNmy3sbrVudTJSQpFAol5MQEJ/9Pu7rXSnfsR5/amyTpwv7/wGlDZnvPc/p3MFXGjx9vaT5sb1tUW1ubrr/+ektT8Nxzz+31/x+vcMv3pZ2x1157aerUqZo7d27cx6ZMmaLrrrvO0dHHANyFRgUAdKOqqkq/+tWvLPdnKCgo0G233aaKigpzwbqwePHiuLFE/oO1qxs5LlmyxHL04450d7LG+vXrd7pRYf/tek/dc889uvPOO3fqvb+1vR+U7atPCgoKevX6ybyBabJ+6HVyw8dM/e2ofUtKor7+O9tYSxb7DTW//PJLtbS0WLZKSbGtC1988UX79YgRI+JuUgsrU9+Xhg8frv/6r/+yjFVWVibt/aTYdj57o2L33XfXjTfeGFdLADILf8MBYDuqq6t16aWXWpbZ+/1+3XzzzWl5nnpXv7FM5D8iR48erZycHLW0tLSPdV6C7lYLFiyIa1Lk5eXpBz/4gSZPnqxdd91VgwcPVmFhofLz8+P+cXzssceqpqYmlZGTJpE3X4W3lZaWqqysrP3vRiQS0ddff63ddtut/TH19fX629/+ZnneFVdc0eX9cHpr3bp1cTeaTKaKioqE3ivHzuT3pdLS0h6fyJMI7733nv70pz/Fja9bty5lGQCYQ6MCALqwfPlyXXTRRZbfgubm5uqPf/yjvvOd7xhMtn32O9sPHDiwV3vgtyc3N1d77rmnPv300/axzz77TK2tra5efnvHHXdYrseOHaubbrqpx1szurqJaVfsvwnv7b0UknlfEPuWlT322EMPPvhg0t7PS+xbWhL19d+Z7U7JNmHCBEsT7/PPP7c0Km6++WbLKp5DDjmk21VXvREMBhOyfamnpk2blrRGhRu/L/XWJ598ossvv7zL5um6dev00EMP6fzzzzeQDECqxN+WHAA8bs2aNbrgggvU0NDQPpadna3rrrtO+++/v8Fk2/f+++9rxYoVlrEpU6YkfBn9gQceaLlev3693n333YS+RyrV19erqqqq/To7O1v/93//1+MmRUtLS48bB4FAwHLdm1UYbW1tqq2tdfy8nioqKrJcp+u2AjeyNxR6uwpnzZo1lut0vmni+PHjLdeff/55+5/nz5+vl19+uf26T58+uuyyy1KWzW3c+H2pt7788ktdeumlampqah+zrxZ5+OGHWVkBZDgaFQDQybp16/Tzn/9ca9eubR/z+Xy6+uqrHR8lmEqPPPJI3NgxxxyT8Pc5+uij41ZPPP300wl/n1RZsmSJ5Z4Se+21l6NVKNXV1T0+GWTXXXe1XAeDQUf3bpBiR5z2dAVHb4wdO9ZyXVNTk3Ynu7iV/USaDRs2aPXq1Y5fx77dyl5X6cR+n4pvGxUtLS268cYbLR/76U9/mjE3gUw0t35f6o1vvvlGF198sWXF0aGHHqoHHnjA0qzYunVr3LYhAJmFrR8A8B/hcFgXXnhh3A8PV1xxhaZNm2Yo1Y7Nnj1b77//vmVs3LhxSVl+PHjwYB1++OF65ZVX2sfeffddvfXWW45uqpku7KdclJSUOHr+22+/3ePHjhgxQgMGDGhfpdDa2qp33nlHhx12WI9f480333SUz6nhw4dr2LBh7X8HWltb9e677+qII45I6vumkv0eI6k6JaSiosLy9ZekN954Q2eccUaPX2PNmjX66quvLGN77713wjIm2ujRo9W/f//27R2rVq1SQ0ODnn/+eS1durT9cSNHjtTpp5+elAyTJ0+O2xbnJm79vtQbK1eu1IUXXmj5O7L//vvr2muvVU5Oji666CJddNFF7R976aWXdOqpp8Y1WAFkBlZUAIBi+74vueQSyz+eJemiiy7SySefbCjVjv373//WzTffbBnz+Xz6xS9+kbT3nDlzpvLz8y1jf/jDH1y5DNd+0z77yQzd2bx5s6PVJD6fT1OmTLGMdT6+cUe2bdum5557rseP761DDz3Ucv3ggw8qGo0m/X1TxX4yTCpXjNi//s8884zl5rQ78sQTT1i+Fv3790/rRoXP54vL9+qrr+qee+6xjF1xxRWc4NAFt35f6o1QKKSf//znWr9+ffvYhAkT9Mc//rF9nv7ud7+r/fbbr/3jbW1tcd//AGQOGhUAPC8Sieiyyy7Tl19+aRk/99xzdfbZZ5sJtQMtLS26++67demll6q5udnysTPOOEOTJk1K2nsPHz5cF1xwgWVs/fr1Ovfcc7V8+fKkvW8yDBkyxHJdVVXV4x9cb7zxRst+8Z448cQTLdfz58/XP/7xjx4994EHHtCqVascvV9vnHHGGerTp0/79eLFi3Xbbbcl/X1TZdCgQZbrZcuWpey9TznlFMv1ihUr9MADD/TouV999ZVmzZplGTv++OPl9/sTFS8p7Ns/br75ZsuWpyOOOEL77LNPilOlPzd+X+qt9evX64ILLlAoFGofGzdunG6++ea4+r744ost91768MMPd/pYawDpiUYFAE9raWnRf//3f2vBggWW8RkzZsT9MJ4OQqGQ7r//fh177LG6++6745atT5061bI0NllOO+00HXnkkZaxmpoanXPOOXrooYcc33th1apV+uSTTxIZsUfGjRungoKC9uvNmzfrxhtv7HY7QEtLi2644QbLjQB7asKECXFNpN///vf68MMPu33e888/r7vvvtvx+/XGwIEDdc4551jGHnzwQV1//fWOvq5NTU2aM2eOTj/9dIXD4QSn7D37kb0vvfRSr0/gcGqPPfaIu/HhXXfdpWeffbbb5y1ZskT/9V//ZbkfSr9+/XTqqacmJWci2RsVnVeQFBQUJHX1l1u57fvSztiwYYMuvPBCy82gR44cqdtuuy3upCQpNmfbv/fccsstjlYmAXAH1tkB8LQ//elPcadWlJSUqKKiQk899ZTj1ysoKNBRRx3l6Dl1dXVdvte2bdvU2NioxsZG1dbWauHChZabqdmdeeaZuuiii1JyVKjP59M111yjlpYWvfbaa+3jjY2NuvXWW/Xoo4/q4IMP1r777qu99tpLgUDAss1iy5YtCgaDWrRokebNm6f33nuvxzelTKScnBwdf/zxeuyxx9rHXnnlFYVCIZ1zzjmaOHFi+2/06urq9O677+qhhx5SMBiUFLvvxObNmy3LlXfkqquu0owZM9rvaN/U1KSLLrpIJ5xwgk488USNHTtWWVlZamlp0aeffqonnnhCb7zxhqTYEZcDBw5sf/9kOeecc/TVV1/pX//6V/vY008/rTfeeEMnnnii9t9/f1VWVlp+27llyxYtXbpUixcv1nvvvaf3339fW7duTWrO3pgyZYqys7Pb623FihU66aST9P3vf1/Dhw+P+w3u7rvvrt133z1h7//b3/5WM2bMaN+HH41Gdd1112nevHk65ZRTNGnSJOXm5ioajWr58uV6+eWX9eijj8atnPr1r38dtyIoHe2+++7Ky8uLyy9J559/voqLiw2kSm/p8H0pFTZv3qxLLrlE33zzTfvY0KFDdfvtt8edktTZz3/+c7322mvtR5cuW7ZMzz77bMZthwG8jkYFAE+z7/2VpNraWt1www29er2ysjLH/yBcsWJFr99Pip3UcPnll2vixIm9fo3eyMnJ0R/+8AeNHDlS9957r2UVwvr16/XUU09Z/lFdUFCgnJwcbd26tcsfWjobO3Zsyo4qPPfcc/XGG29Yjov85JNP9MknnygrK0uFhYWKRCKWo/Kk2Odzww036Je//KWj99tll1107bXX6te//nX7D8ttbW165pln9Mwzzyg7O1sFBQVqbGy03I/A5/Ppyiuv1OzZs5PeqPD5fPrd736nrKwsSyOqvr5e99xzT/s9Bvr06aO8vDxt3rzZNb/RLCkp0bRp0/T888+3j61bt267PwCed955CW1UDB48WH/605902WWXWe6J8vbbb+vtt9+Wz+dTYWGhNm/evN3m3XnnnRf3W+V0lZeXp913312ffvqpZXzMmDFxW2EQkw7fl5ItEonoF7/4hb744ov2seLiYv3tb3/bYQNu6NChOumkk/T444+3j91999066qijulyFAcCd2PoBAC6Un5+vQw89VLfccosee+yxlDcpvpWVlaWZM2fqoYce2uEpI5s3b9aGDRu6bVKMHTtWv/3tb/XII48k5dSSrgQCAd18880qKyuL+1hbW5s2bNgQ16QoLi7W7bff3uu7zR988MG68cYbu/xHdWtrqzZu3GhpUuTm5uq3v/2toxNCdpbf79cNN9ygX/ziF5btMZ1t3bpVGzZs6LZJUVFRoby8vGTF7JVf/epXOvjgg429/3e+8x39/e9/V0VFRdzHotGoNm7c2GWToqCgQFdddZVmzpyZgpSJY9/+IUn//d//zQ00PaqlpUVXXHGFZWvLgAEDdPvtt/f4eOif/OQnlvmzoaFB999/f8KzAjCH7xAAkIZ8Pp9yc3OVl5enAQMGaNCgQRo+fLhGjRqlPffcU3vttVfcyRsmjRs3Tnfeeae++uorvfTSS5o3b17ccXpdyc3N1ZgxYzRp0iQdffTRxo6ZGz16tB555BHdc889eu6557a7ZWHAgAE67rjjdO6556qwsHCn3vMHP/iBnnrqKd122216/fXXu3zPrKwsTZkyRRdeeKHGjBmzU+/XW6effrqOO+44PfHEE/rnP//Z5W97O/P5fNp1112133776dBDD9Wee+6ZoqQ95/f79cc//lGfffaZ5s6dqy+//FKrVq3Spk2b4ppSyTJmzBg98cQTev755/XUU09p8eLF233soEGDdPjhh+ucc87RwIEDU5IvkRYtWmS5PuaYY/Sd73zHUBqY1NraqiuvvFL//ve/28cKCgp06623avTo0T1+nUAgoB//+Me6/fbb28dmzZqlk046qcumMwD38UUz6cwxAEDaWL9+vb7++muFQiFt3LhRzc3Nys/PV2FhoQoLCzV06FCNGTMm7ohQ05qamvT5559r+fLl2rhxo7KyslRUVKTRo0drt912S8o9QCKRiObPn69QKKRwOCy/369hw4ZpwoQJ3e7VNqG+vl5ffvml6uvrFQ6H1dLSor59+6p///4aMWKEKioqWH7dC3V1dVq4cKHWr1+vDRs2qG/fvgoEAho5cqTGjh1rOenATd5//33LDX4LCwv19NNPu7LhAgBIHRoVAAAASLjW1ladeeaZltUiv/rVr7g3BQBgh7hHBQAAABJu9uzZlibF7rvvrpNOOslgIgCAW9CoAAAAQEJ9/fXXuu2229qvs7OzddVVV6Xk+GQAgPvRqAAAAEDCfPnll/qv//ovy41Jzz33XGM3ywUAuA+nfgAAAKBXvvrqKy1cuFBS7IjIL7/8Uu+8847leN0JEybopz/9qamIAAAXolEBAACAXnniiSf04osvbvfjw4YN0//93/+x5QMA4AhbPwAAANArX3311XY/NnbsWN15550cRQoAcIwVFQAAAHCsublZS5cubb/Ozc1VIBDQuHHjdOihh+rII49UTg7/1AQAOOeLdt5ECAAAAAAAYBBbPwAAAAAAQNqgUQEAAAAAANIGjQoAAAAAAJA2aFQAAAAAAIC0QaMCAAAAAACkDRoVAAAAAAAgbXC4dQY56qijtHbtWg0ZMkSvvPKK6TgAAAAAADjGiooMsnbtWoVCIa1du9Z0lB2qqqpSVVWV6RhwEWoGTlAvcGrWrFny+XxasGCB6ShwCeYZOEXNwCkv1wyNCgAAAAAAkDZoVAAAAAAAgLRBowIAAAAAAKQNGhUAAAAAACBtcOoHjCgvLzcdAS5DzcAJ6gVOlZWVmY4Al2GegVPUDJzycs3QqIARgUDAdAS4DDUDJ6gXOFVYWGg6AlyGeQZOUTNwyss1w9YPAAAAAACQNmhUwAgvnwmM3qFm4AT1AqcWL15sOgJchnkGTlEzcMrLNUOjAgAAAAAApA0aFQAAAAAAIG3QqAAAAAAAAGmDRgUAAAAAAEgbNCoAAAAAAEDayDEdAN5UWVlpOgJchpqBE9QLnCovLzcdAS7DPAOnqBk45eWaoVEBI/x+v+kIcBlqBk5QL3AqPz/fdAS4DPMMnKJm4JSXa4atHzAiEokoEomYjgEXoWbgBPUCp5qamkxHgMswz8ApagZOeblmaFTAiOrqalVXV5uOARehZuAE9QKngsGg6QhwGeYZOEXNwCkv1wyNCgAAAAAAkDZoVAAAAAAAgLRBowIAAAAAAKQNGhUAAAAAACBt0KgAAAAAAABpI8d0AHjT+PHjTUeAy1AzcIJ6gVNjx441HQEuwzwDp6gZOOXlmmFFBQAAAAAASBs0KmBEOBxWOBw2HQMuQs3ACeoFTjU2NpqOAJdhnoFT1Ayc8nLNsPUDRgSDQUlSIBAwGwSuQc3ACeoFTtXU1JiOAJdhnoFT1Ayc8nLNsKICAAAAAACkDRoVAAAAAAAgbdCoAAAAAAAAaYNGBQAAAAAASBvcTBNG+P1+0xHgMtQMnKBe4FReXp7pCHAZ5hk4Rc3AKS/XDI0KGFFZWWk6AlyGmoET1AucqqioMB0BLsM8A6eoGTjl5Zph6wcAAAAAAEgbNCpgRCgUUigUMh0DLkLNwAnqBU7V1dWZjgCXYZ6BU9QMnPJyzdCogBG1tbWqra01HQMuQs3ACeoFTtXX15uOAJdhnoFT1Ayc8nLN0KgAAAAAAABpg0YFAAAAAABIGzQqAAAAAABA2qBRASN80Wb12/qB1LLFdBQAAAAASC+NXym/+RspGjWdxIgc0wHgMcH7pdAL2rN2rrLaNkt1w6XSo02nggsEAgHTEeAi1AucKiwsNB0BLsM8A6eoGTiy+AaNW/2gWvKGSb7jpF1+LA3cz3SqlKFRgdRacb+0/u2OpTy1L9OoQI+Ul5ebjgAXoV7gVFlZmekIcBnmGThFzaDHom3S2lckSTnNq6Vld0iFu3uqUcHWD6RWia0pUfuSZ5czAQAAAECc8Hypaa11zP5zVIajUYHUsv8F27Jc2vSVkShwl2AwqGAwaDoGXIJ6gVM1NTWmI8BlmGfgFDWDHqt92Xrdb5xUMMpMFkNoVCC1+u8l9RluHQu93PVjgU7C4bDC4bDpGHAJ6gVONTY2mo4Al2GegVPUDHrM3qjw2GoKiUYFUs3n62L7B40KAAAAAFDTWqnhI+uYB+/pR6MCqWdvVKx/W9q20UwWAAAAAEgXta9K6riHX6uvrzTwAHN5DKFRgdQbfKjaOh84E90mrXvdXB4AAAAASAe21eab+uwnZecbCmMOjQqkXk4/bfZPso6x/QMAAACAl7W1SGtftQxt7OO91RSSOv9aG0idaMlRUvCDjoHal2PHlPp85kIhrZWUlJiOABehXuDUwIEDTUeAyzDPwClqBjvU8L60rcEylD/iBDNZDKNRASP6j5khBa/pGIiskTZ+Jg0YbywT0ltpaanpCHAR6gVOFRcXm44Al2GegVPUDHbIvsq8/94aUj7RTBbD2PoBM/qNlfrazgJm+wcAAAAArwpxLOm3aFTAiOrFi9WQv791MPSSmTBwherqalVXV5uOAZegXuDU8uXLTUeAyzDPwClqBt3aulraWGUZWtG8l2drhkYFjIhEImrIszUq6t+TmuvNBELai0QiikQipmPAJagXONXc3Gw6AlyGeQZOUTPoVu0r1uvcgBp8lZ6tGRoVMGaTf7KU3afTSJu09p/G8gAAAACAEfZt8EOOkHzevaUkjQoYE83yS8WHWAe5TwUAAAAAL2lrltbNtY55+P4UEo0KmGb/C1j7ihRtM5MFAAAAAFJt/dtSyybrWMmRZrKkCRoVMKvkKOt1c50U/thMFgAAAABINftpH4F9pPwhZrKkCe9ueoFR5eXlsT8UBKTC3aTGRR0fDL0sFe1rJBfSV3vNAD1AvcCpsrIy0xHgMswzcIqawXbZt7//Z9W5l2uGRgWMCAQCHRclR1sbFbUvS7tdk+pISHOWmgF2gHqBU4WFhaYjwGWYZ+AUNYMubV4qbfrKOlYaa1R4uWbY+gHz7PepCH8kRWrNZAEAAACAVLEfS5o3WApMNpMljdCogBFVVVWqqqqKXQw6QMrpZ33A2ldTHwppzVIzwA5QL3Bq8eLFpiPAZZhn4BQ1gy7Fbfs4SvLFfkz3cs3QqIB5WXnS4KnWsdqXzGQBAAAAgFRo3Sqt+5d1zOPHkn6LRgXSQ9wxpa9KbS1msgAAAABAstW9KbVFOg1kSUMON5UmrdCoQHqwH1PaskGqf89MFgAAAABItpBtFfmg70l5RWaypBkaFUgPfYZJ/cdbx+z7tQAAAAAgE0Sj8dvd2fbRjkYF0kepffsHjQoAAAAAGWhTtbRluXWMRkW7HNMB4E2VlZXxgyXHSIuv77je+Jm0dZXUZ3jqgiFtdVkzwHZQL3CqvLzcdAS4DPMMnKJmYGH/pax/qNR/b8uQl2uGFRUwwu/3y+/3WweL9pNybXuy7OcKw7O6rBlgO6gXOJWfn286AlyGeQZOUTOwiDuW9GjJ57MMeblmaFTAiEgkokgkYh3MypGGHGEdY/sH/qPLmgG2g3qBU01NTaYjwGWYZ+AUNYN22xqlunnWsZJj4h7m5ZqhUQEjqqurVV1dHf8B+76sda9JrfzjEd3UDNAF6gVOBYNB0xHgMswzcIqaQbt1r0vRbR3Xvlxp8KFxD/NyzdCoQHopOUJSpyVPLZuk9fO2+3AAAAAAcBX7aR/FB0m5hWaypCkaFUgv+UOkon2sY/bzhQEAAADAjaJtHEvaAzQqkH5Kplmva+fEzhkGAAAAADfb8IkUqbGOlU7r+rEeRqMC6cf+F3XzEmnTYjNZAAAAACBR7KvFC3aV+o01kyWN0ahA+hkwIXaOcGehOUaiAAAAAEDC2H+uKY0/7QNSjukA8Kbx48dv/4M+X+x4nuDfO8Zq50i7/jL5wZC2uq0ZwIZ6gVNjx/LbLDjDPAOnqBkoUiuFP7KOdbPtw8s1w4oKpCf7X9j170jNYSNRAAAAAGCn1b5svc4plAYdaCZLmqNRASPC4bDC4fD2HzD4UCkrv+M62iKt+2fScyF97bBmgE6oFzjV2NhoOgJchnkGTlEziNv2MeRwKStvuw/3cs2w9QNGBINBSVIgEOj6ATkFUvHB0tp/dIyF5kjDpic/HNLSDmsG6IR6gVM1NTU7fhDQCfMMnKJmPK6tOf4Xr/bTDm28XDOsqED6sm//qH1FiraayQIAAAAAvVU3T2rZZB0rOcpMFhegUYH0VWK7A25zndTwoZksAAAAANBb9m0fRftK/hIzWVyARgXSV0GFVLiHdYxjSgEAAAC4STQaO8Wwsx1s+/A6GhVIb/btH6GXzOQAAAAAgN7YtFjavMQ6VnpM14+FJBoVMMTv98vv9+/4gfbtHxurpC0rkxMKaa3HNQOIeoFzeXnbv+s60BXmGThFzXiYfVW4f6g04Ds7fJqXa4ZTP2BEZWVlzx44cH8pt0ja1tAxVvuSNPJnyQmGtNXjmgFEvcC5iooK0xHgMswzcIqa8bBa26rwkmMkn2+HT/NyzbCiAuktKyf+brhs/wAAAADgBs1haf3b1jG2fewQjQoYEQqFFAqFevZg+30q1r0mtWxJfCikNUc1A8+jXuBUXV2d6QhwGeYZOEXNeNS6f0rRlo7rrHxp8KE9eqqXa4ZGBYyora1VbW1tzx485AhZSrUtItW9kZRcSF+OagaeR73Aqfr6etMR4DLMM3CKmvEo+2rw4oOlnH49eqqXa4ZGBdJf3kBp0BTrmH2fFwAAAACkk2irVPuydYxtHz1CowLuEHdM6ZzYecQAAAAAkI4aPpKabVsL7acaoks0KuAO9r/QW1dKGz83kwUAAAAAdsR+LGnhHlLBSDNZXIZGBdyhcHepb4V1jO0fAAAAANKVvVHBto8eo1EBIwKBgAKBQM+f4PNJJV1s/4BnOK4ZeBr1AqcKCwtNR4DLMM/AKWrGY7aukjZWWcfsP8/sgJdrJsd0AHhTeXm58yeVHiMtu63juv49qalOyi9OXDCkrV7VDDyLeoFTZWVlpiPAZZhn4BQ14zH20z5yi6SB+zt6CS/XDCsq4B7FP5Cy+3YaiEpr/2EqDQAAAAB0zb76u+RIKYt1Aj1FowJGBINBBYNBZ0/K9kuDp1rH2P7hGb2qGXgW9QKnampqTEeAyzDPwClqxkNat0p1r1vHHG77kLxdMzQqYEQ4HFY4HHb+RPsNaGr/IbVtS0gmpLde1ww8iXqBU42NjaYjwGWYZ+AUNeMh696INSvaZcVWVDjk5ZqhUQF3KTnaet2yQVr/rpksAAAAAGBXa1v1Peh7Ut5AM1lcikYF3KXPMGnAROuYfSIAAAAAABOi0fgbafZi24fX0aiA+9i3f3CfCgAAAADpYOPn0tYV1jH7zy/YIRoVcJ9SW0dyU7W06WszWQAAAADgW6EXrdd9yqXCPcxkcTHOR4ERJSUlvX9yYLKUXyo1hTrGQi9KYy7b+WBIWztVM/Ac6gVODRzI3mE4wzwDp6gZj7A3KsqOk3y+Xr2Ul2uGFRUworS0VKWlpb17si8rflVFzQs7HwppbadqBp5DvcCp4uJi0xHgMswzcOTNN1V6+OEqPeww6ZprTKdBskRCUsMH1rHSY3v9cl6eZ2hUwJ3sf+Hr35GaG8xkAQAAALrz0EPS559LX3wh3XGH1NJiOhGSwX4TzZxCqfj7ZrK4HI0KGFFdXa3q6urev8Dgw6Qsf8d1tFWqfWXngyFt7XTNwFOoFzi1fPly0xHgMswz6LGmJumZZ1Q9fbqqp0+X1q6V3nrLdCokg33bx5AjpKy8Xr+cl+cZGhUwIhKJKBKJ9P4FcvrGmhWd2ScGZJSdrhl4CvUCp5qbm01HgMswz6DHXn1V2rBBkaIiRYqKYmOzZpnNhMRr3Sqtm2sdKz1up17Sy/MMjQq4V5lt+0ftK1LbNjNZAAAAgK501ZR4+mmJBmlmWfcvqXVLp4EsqfRoY3HcjkYF3KvEdkPNlg3S+rfNZAEAAADsNm+Wnn8+fryhQZo7N34c7mVf3T3oe1LeIDNZMgCNCrhXn6FSYJJ1jO0fAAAASBcvvSRt2dL1x9j+kTmi0fifQ3bitA/QqIDb2fd91bwQmygAAAAA07prRjz3nLR1a8qiIIk2LJAia6xjO3l/Cq/LMR0A3lReXp6YFyo9VvrqfzuutyyVGhdJ/XdPzOsjbSSsZuAJ1AucKisrMx0BLsM8gx3asEF6+eX2y3L7Vo9Nm2If/9GPUhwMCVdjW01RMEbqV7nTL+vleYZGBYwIBAKJeaEBE6Q+w6WtqzrGQi/SqMhACasZeAL1AqcKCwtNR4DLMM9gh55/PnY06X8Eli6Nf8ysWTQqMkFX2z58vp1+WS/PM2z9gLv5fPE31eQ+FQAAADCtJ/egmDNHamxMfhYkz9ZVsa0fnXF/ip1GowJGVFVVqaqqKjEvVmbb/1X/b6lpXWJeG2kjoTWDjEe9wKnFixebjgCXYZ5Bt+rq4k71qJo5U1UzZ1ofF4lIL7yQwmBIuNAc63VuQBp0QEJe2svzDI0KuF/xwVJ2QaeBqFT78nYfDgAAACTVM89ILS09eyynf7ibfTV3yVFSVq6ZLBmERgXcL9svDZlqHWP7BwAAAExx0nx49VWpvj55WZA8LZulda9bx9j2kRA0KpAZ7BPC2lel1qauHwsAAAAkS02N9OabPX/8tm3Ss88mLQ6SaN1rUlunnzl82dKQI83lySA0KpAZSo6R1OnOui2bpLo3TaUBAACAVz35pBSNOnsO2z/cqcZ2f5FBB0l5RWayZBgaFcgM/hKpaD/rGNs/AAAAkGqPP+78Of/6lxQKJT4LkifaJtW+ZB1j20fC5JgOAG+qrKxM/IuWHis1vN9xHXpR2vuvCTnDGOYlpWaQsagXOFVeXm46AlyGeQZdWrZMev/9Lj9UOXv29p/X1iY99ZR00UVJCoaEa/hIaqq1jiW4UeHleYYVFTDC7/fL7/cn9kXtE8PWFdLGzxP7HjAmKTWDjEW9wKn8/HzTEeAyzDPoUjfNCH9Dg/wNDdt/Lts/3MW+ervfOKnfmIS+hZfnGRoVMCISiSgSiST2RfvvKfWtsI6FOJc6UySlZpCxqBc41dTEDZjhDPMMutRNsyFSVKRIUTf3L3j3XWnFiiSEQlLYf84oOy7hb+HleYZGBYyorq5WdXV1Yl/U54tfVcF9KjJGUmoGGYt6gVPBYNB0BLgM8wzifPWV9Omn2/1w9fTpqp4+vfvX6G57CNLHlmD8yu0k3J/Cy/MMjQpkFvsE0fChFOHGRAAAAEiyJ57Y+ddg+4c72H8ZmjdIGri/mSwZiptpIrMUf1/KKZRaGjvGQi9JFT8xlwkAAACZb/hw6eqru/7YM89Yr7f3OEmKRCSP3pfANeyNipJjJF+2mSwZikYFMktWnjTkSGnNkx1joRdoVAAAACC5ftLNvzf9fuv9J373u+TnQXJs2yite8M6xrGkCcfWD2Qe+0Sxbq7UutVMFgAAAACZY+0/pei2jmtfrjTkcHN5MhSNCmSe0qNlKe3WrdK6143FAQAAAJAh7Kd9FP9Ayu1vJEomY+sHjBg/fnzyXjxvkDRoirT+7Y6xmuel0mnJe08kXVJrBhmHeoFTY8eONR0BLsM8A6fG33WX6QjYWW0tsfvfdZbEbR9enmdYUYHMVGo7xzj0ohRtM5MFAAAAgPutf0faVm8dKzuu68dip9CogBHhcFjhcDh5b1B2vPW6qTZ2VClcK+k1g4xCvcCpxsbGHT8I6IR5Bk6FR41SeNQo0zGwM0LPW68HTJD6lift7bw8z7D1A0YEg0FJUiAQSM4b9NtVKtxNalzUMVbzvDTwu8l5PyRd0msGGYV6gVM1NTWmI8BlmGfgVHDqVElSgC0g7hSNxn6e6Kz0+K4fmyBenmdYUYHMZZ847B1QAAAAAOiJjQulLcusY/ZV3EgYGhXIXPaJo3GRtOlrM1kAAAAAuJf9l559RsS2fiApaFQgcxXtK+WXWsfsy7UAAAAAYEdqbMeSlh4n+XxmsngAjQpkLl9W/HFBbP8AAAAA4MTWNVL4I+sY2z6Siptpwgi/35+aNyo7Xgr+veN6/b+lpnVS/uDUvD8SJmU1g4xAvcCpvLw80xHgMswzcMrf0GA6AnorZFtNkTNAKv5+0t/Wy/MMjQoYUVlZmZo3GnyolF0gtW7+z0CbFJojlZ+TmvdHwqSsZpARqBc4VVFRYToCXIZ5Bk5Vzp5tOgJ6K+60j6OlrNykv62X5xm2fiCzZfulIUdYx7hPBQAAAICe2NYo1f3LOpbkY0lBowKGhEIhhUKh1LyZff/Yun9KLVtS895ImJTWDFyPeoFTdXV1piPAZZhn4FRo0iSFJk0yHQNOrf2H1Nbcce3LlUqOSslbe3meoVEBI2pra1VbW5uaNys9RvJld1y3bpXWvZaa90bCpLRm4HrUC5yqr683HQEuwzwDp2onT1bt5MmmY8Ap+2rswQdLuf1T8tZenmdoVCDz5Q2SBh5gHWP7BwAAAIDutG2Tal+yjrHtIyVoVMAb7Ns/Qi9K0VYzWQAAAACkv/VvS9vC1rGy44xE8RoaFfAGe6OieZ1U/76ZLAAAAADSn30VdmCS1Ge4mSweQ6MC3lAwSuq/p3XMfh4yAAAAAEhSNNrFsaRs+0iVHNMB4E2BQCD1b1p6vLRxYcd1zfPSHjemPgd6xUjNwLWoFzhVWFhoOgJchnkGTgWWLDEdAU5s/EzaGrSO2VdpJ5mX5xkaFTCivLw89W9adpy0+LqO603VUmO1VFiZ+ixwzEjNwLWoFzhVVlZmOgJchnkGTpW/xqlzrmJfTdGnXOq/V0ojeHmeYesHvCMwWfLb/iEa4vQPAAAAADb2RkXZ8ZLPZyaLB9GogBHBYFDBYHDHD0wkX5ZUartLL8eUuoaRmoFrUS9wqqamxnQEuAzzDJwKHnaYgocdZjoGemLLSmnDAutYird9SN6eZ2hUwIhwOKxwOJz6N7ZPMPXvSZHa1OeAY8ZqBq5EvcCpxsZG0xHgMswzcCo8erTCo0ebjoGesN90PzcgDTow5TG8PM/QqIC3FB8i5fTrNBCVQnOMxQEAAACQZuyrrkuOkbJyzWTxKBoV8JbsfGnIkdYx7lMBAAAAQJK2bZDq3rSOGdj24XWc+tGF1tZWVVdXq6qqqv2/RYsWadu2bZKk/fffX0899VSPXmvlypX67ne/6+j9Kyoq9O677zrOjR4qO15a0+nrt3au1LJZyikwlwkAAACAebWvSNFtHddZefG/6ETS0aiw+cc//qGLLrpIW7duNR0FyVJytOTLlqKtseu2SKxZMfQEo7EAAAAAGGbf9lF8iJRbaCaLh9GosNmwYUPSmhT9+vXTSSedtMPHDRo0KCnvn05KSkrMvXneQGnQQVLdGx1joedpVKQ5ozUD16Fe4NTAgQNNR4DLMM/AqZKPPzYdATvS1izVvmwdM7jtw8vzDI2K7Rg8eLDGjx+vCRMmaPz48XrzzTd177337tRrBgIBXXfddQlK6G6lpaVmA5Qdb2tUvCi1tUhZ/JVIV8ZrBq5CvcCp4uJi0xHgMswzcKp0/nzTEbAjdW9KLRutY6XHGYkieXue4acym4MPPlgffvihhg0bZhn/5JNPDCVCUpQeL31+acd183qp/l2p+PvGIgEAAAAwqOY563VgH6nPUCNRvI5TP2yGDBkS16RA4lVXV6u6utpcgIIKacAE69iaZ00kQQ8Zrxm4CvUCp5YvX246AlyGeQZOVU+frurp003HwPZE2+IbFUN/aCTKt7w8z9CogBGRSESRSMRsiDLbxFPzrBSNmsmCHUqLmoFrUC9wqrm52XQEuAzzDJyKFBUpUlRkOga2p+FDKVJjHbP/vJBiXp5naFTAu+wTz9YV0oZPjUQBAAAAYJB9NUW/cVLhOCNRwD0qUqqlpUXz5s1TVVWV6uvrlZ+fr4EDB7bftDM/P990RG/pv6fUd5S0ZWnHWM2zUuA75jIBAAAASK1oNPZzQGdlJxiJghgaFSkUCoV06qmndvmxQCCgs846SxdddJEKCgpSnMyjfL7YvrNvbuoYq3lW2u135jIBAAAASK3GRdKmxdYxw/en8Dq2fqSJcDisW2+9VUcddZSWLFmyU6/V1tamNWvWdPsf/sO+/WPjQmnTN2ayAAAAAEg9+7YP/zApMNlIFMSwoiIF+vXrp6OPPlo/+MEPtOeee6qsrEw5OTmqq6vTggUL9Mgjj+jtt9+WJC1ZskRnnHGG5syZo0GDBvXq/dauXat99tmn28e8/PLLcWPjx4+XFGuaBIPBuI/7/X5VVlZKiq0Oqa2tjXtMIBBQeXm5JCkYDCocDsc9pqSkpP0x1dXVXd4gpry8XIFAQJJUVVXV5edQWVkpv9+vSCSy3bvh7vBzyi9SZf4QqWlt+9iaBX/TugE/dvw5fXvOsfHPKYFfp3T6nL7Nm0mfUyZ+ndLlc2pubtaIESMkKWM+Jynzvk7p9Dlt27bNcp0Jn5OUeV+ndPqcmpublZeX136dCZ+TlHlfp7T5nMrK1Pyf14wUFckvvj+l0+e06+pH1bfTx+typ6hfU7Pxz+nbGz2HQqG0/zp9+7xEYUVFkg0ZMkQLFizQX/7yFx1//PEaPXq0+vbtq7y8PA0dOlTTpk3TrFmzdOONN8rn80mSVqxYoeuvv95w8uQKBALtf5GM8mVLpcdbhgZs/pehMOhO2tQMXCEvL08DBgwwHQMukpubazoCXCYvL09+v990DLhI3saNytu40XQM2OS2hNS3+UvL2IaCQwylscrLy7M0RL3EF41yHmNP3HTTTfrzn/8sSdp///311FNPJfw9brjhBv31r3+VJGVnZ2v+/PkaPHhwj58/adIkhUIhDRkyRC+99FK3jx06dOhOZc0ota9I7x3dacAnHblG8pcaiwQASK0FCxZo0qRJmj9/viZOnGg6DoBM84c/SFde2XHNj2DpY+lt0mcXd1znBqSj1kpZNLBNYkVFGrn44ovbO/Otra2aN29er14nKytLQ4cO7fY/06qqqra7JCnlig+Rcgo7DUSl0AvG4qBraVUzSHvUC5xavHjxjh8EdMI8A6eqZs5U1cyZpmPAbo3ttI+SaWnTpPDyPEOjIo0UFBToO9/pOBrz66+/NpjGQ7LzpZKjrWP2CQsAAABAZmleL61/yzrGaR9pgUZFmikpKWn/c319vcEkHmM//WPd69K2DWayAAAAAEi+0Bwp2tpxneWXhhxhLg/a0ahIM1u2bGn/c9++fbt5JBKq5Cgpq9ONaqLbYveuAAAAAJCZ7MeSDjlCyikwEgVWNCrSzMKFC9v//O0RNEiB3P7S4EOtYzVs/wAAAAAyUssWae2r1rGyE4xEQTwaFWlk3rx5WrNmTfv1/vvvbzCNB9m3f9S+LLXGn1EMAAAAwOXWviq1bu249mVLZceaywOLHNMBMllzc7Mk9ejs2/Xr1+s3v/lN+/Wuu+6qvfbaK2nZTKusrDQdIV7pcZJmSvrPcVEtm6R1/5JKj+7uWUiRtKwZpC3qBU6Vl5ebjgCXYZ6BU5WzZ5uOgM7s2z4GHSTlDTISZXu8PM+woiKJamtr9b3vfU9/+9vftGrVqi4fE41G9dprr+noo4/W8uXLJUk+n09XX321srIy98vj9/vbj2JNG/4SaeD3rGNs/0gbaVkzSFvUC5zKz883HQEuwzwDp/wNDfI3NJiOAUlq2yaFXrSOpeG2Dy/PM6yo6MKZZ56pUChkGVu3bl37n6uqqjR16tS45z388MNx95WoqanRddddp+uuu0677LKLxo0bp4EDByonJ0f19fX65JNP4t7rqquu0qGH2u6XkGEikdiWirT7i1f2Q6n+3Y7rmuelCXfGloLBqLStGaQl6gVONTU1mY4Al2GegVORoiJJolmRDtbPk7bZvg5p2Kjw8jxDo6ILixcv3u4KCCl2MseXX34ZN75t27ZuX3flypVauXLldj9eWlqq66+/XocffnjPw7pUdXW1JGn8+PGGk9gMPUH64vKO6+Z1Uv170qADjEVCTNrWDNIS9QKngsGg6QhwGeYZOFU9fbokafxddxlOAq15znodmCT1HWEkSne8PM/QqEii4cOH6/XXX9f8+fP18ccfa/Hixaqvr1dDQ4O2bt2qfv36qaSkROPHj9fBBx+so446Srm5uaZje1vBaKn/XtLGzzvG1jxLowIAAADIBNGoFHrOOpaGqym8jkZFFz744IOEvI7P59O4ceM0btw4nX766Ql5TaRA2Q+tjYqaZ6U9/yT5fOYyAQAAANh54Y+lrbbV8/bT/2Bc5t6tEegt+0S1ZZm1cQEAAADAneynfRTsKhXubiQKto9GBWA3YLzUx3ZMHad/AAAAAO5n/3d92QmsnE5DNCoAO59PGmpbVbGGRgUAAADgao3VUuMi65j93/1IC9yjAkak/Z1ry34oLbm543pjlbR5mVQw0lgkr0v7mkFaoV7g1NixY01HgMswz8ApTvtIA/bVFPmlUtF+ZrL0gJfnGVZUAF0ZNEXKK7aOrXnGTBYAAAAAOy9u28fxko8fidMRXxUYEQ6HFQ6HTcfYPl92bOLqrIZGhUlpXzNIK9QLnGpsbDQdAS7DPAOnwqNGKTxqlOkY3rVlpdTwoXUszU/78PI8w9YPGBEMBiVJgUDAbJDulJ0oBe/tuK7/txSpkfxl5jJ5mCtqBmmDeoFTNTU1piPAZZhn4FRw6lRJUoAtIGbYV1PkBqTBBxuJ0lNenmdYUQFsz+BDpZz+1jFuqgkAAAC4z5qnrdelx0lZeWayYIdoVADbk50vlU6zjrH9AwAAAHCXSK20/m3r2NATzWRBj9CoALoz9EfW67o3peb1RqIAAAAA6IXQ85KiHdfZBdKQw43FwY7RqAC6M+QIKbtPx3W0Vap5wVweAAAAAM7YT+8rOdr6b3ykHRoVMMLv98vv95uOsWM5BdKQo6xj9v1tSAnX1AzSAvUCp/Ly2KcMZ5hn4JS/oUH+hgbTMbynuUFa97p1zL5qOk15eZ7h1A8YUVlZaTpCzw090XpvinVzpW0bpdz+238OEs5VNQPjqBc4VVFRYToCXIZ5Bk5Vzp5tOoI3heZI0ZaO66z82IoKF/DyPMOKCmBHSqdJvtyO67ZmqfYlc3kAAAAA9Ix9NfSQw6XcQjNZ0GM0KmBEKBRSKBQyHaNncgdIQw6zjrH9I+VcVTMwjnqBU3V1daYjwGWYZ+BUaNIkhSZNMh3DW1o2SWtftY65ZNuH5O15hkYFjKitrVVtba3pGD1XZpvQal+RWraYyeJRrqsZGEW9wKn6+nrTEeAyzDNwqnbyZNVOnmw6hrfUviK1RTqufTlS6bHm8jjk5XmGRgXQE2XHyfLXpXVLfHcWAAAAQPqwn/ZRfLCUN9BMFjhCowLoifzBUvH3rWP2iQ8AAABAemiNSLVzrGNDTzSTBY7RqAB6yj6xhV6M3VgTAAAAQHpZ91rsHhXtfFLZCabSwCEaFUBPlf3Qet2yIf5MZgAAAADm2W9+P+gAyV9qJgscyzEdAN4UCARMR3CuzzBp4P5S/XsdY2uekUqOMpfJQ1xZMzCGeoFThYUcVQdnmGfgVGDJEtMRvKNtm1TzgnWszH3bPrw8z9CogBHl5eWmI/RO2YnWRkXNc9L4O6Qs/iolm2trBkZQL3CqrKzMdAS4DPMMnCp/7TXTEbyj7i1pm+00Jxfen8LL8wxbPwAn7BNcc520/h0zWQAAAADEs2/7CEyW+o4wkwW9QqMCRgSDQQWDQdMxnCsYJQ2YYB2zT4RICtfWDIygXuBUTU2N6QhwGeYZOBU87DAFDzvMdIzMF22Vap61jg39kZksO8nL8wyNChgRDocVDodNx+gd+0RX86wUbTOTxUNcXTNIOeoFTjU2NpqOAJdhnoFT4dGjFR492nSMzFf/ntRUax1z4bYPydvzDI0KwCn7jXgiq6WGD81kAQAAANBhzTPW6/57Sv3GmsmCXqNRATjVf3ep3zjrmH1CBAAAAJBa0Wj8v8tdeNoHaFQAvWNfPrbm6djECAAAAMCMDQukrbZ7Orj0/hReR6MC6A37hLdlqbShykwWAAAAAPE3uS8YI/Xfy0wW7JQc0wHgTSUlJaYj7JwB35H6VkhblneM1TwjBSYYCpT5XF8zSCnqBU4NHDjQdAS4DPMMnCr5+GPTETJbNBrfqBh6ouTzmcmTAF6eZ2hUwIjS0lLTEXaOzxfb77bkzx1ja56WdvuduUwZzvU1g5SiXuBUcXGx6QhwGeYZOFU6f77pCJmt8Utp02LrmMu3fXh5nmHrB9Bb9vtUNH4pbfzSTBYAAADAy9Y8Zb3uM1wKTDaTBTuNRgWMqK6uVnV1tekYO2fg/pJ/qHXMPkEiYTKiZpAy1AucWr58uekIcBnmGThVPX26qqdPNx0jc61+0npd9iPJ5+4fd708z7j7KwfXikQiikQipmPsHF9W/HIyGhVJkxE1g5ShXuBUc3Oz6QhwGeYZOBUpKlKkqMh0jMzUuEhq/MI6NuxkM1kSyMvzDI0KYGcMPcl6vfFzqdGbXU8AAADAiNW2Xxb6h8ZWP8O1aFQAO2PQFCnfdpMbVlUAAAAAqWP/9/dQ92/78Dq+esDO8GXH31STRgUAAACQGpsWSxs/s47ZVz3DdWhUADtrqG3/24ZPpU3fGIkCAAAAeIp920d+SWzVM1wtx3QAeFN5ebnpCIlTfKCUP0RqWtsxtuYpaeyvzWXKQBlVM0g66gVOlZWVmY4Al2GegVPlc+eajpCZutz2kW0mS4J5eZ6hUQEjAoGA6QiJ48uWyk6Ult/ZMbb6SRoVCZZRNYOko17gVGFhoekIcBnmGTgVWLrUdITMs3mJtOET61gGbfvw8jzD1g8gEYbZJsQNC6TNfDMCAAAAksa+7SNvsFR8kJksSCgaFTCiqqpKVVVVpmMkzqDvS3nF1jFuqplQGVczSCrqBU4tXrzYdAS4DPMMnKqaOVNVM2eajpFZ1jxpvR56YsZs+5C8Pc/QqAASIStHKvuhdcze4QUAAACQGJuXSeH51rFhJ3f9WLgOjQogUezbP8IfSZuXG4kCAAAAZDT76uW8QbFVzsgINCqARCk+WModaB1b87SZLAAAAEAmszcqyn4YW+WMjECjAkiUrFyp7ATrmH3fHAAAAICdsyUoNXxoHWPbR0ahUQEkkn2CbPhA2rLCTBYAAAAgE9lXLecOjK1uRsZgbQyMqKysNB0hOQYfIuUGpG3hjrE1z0hjLjUUKHNkbM0gKagXOFVeXm46AlyGeQZOVc6ebTpC5ojb9nFCbHVzhvHyPMOKChjh9/vl9/tNx0i8rDy2fyRJxtYMkoJ6gVP5+fmmI8BlmGfglL+hQf6GBtMx3G/LSqn+PeuY/ab2GcLL8wyNChgRiUQUiURMx0iOobaJsv7f0tbVZrJkkIyuGSQc9QKnmpqaTEeAyzDPwKlIUZEiRUWmY7hfzTPW69yANPhQI1GSzcvzDI0KGFFdXa3q6mrTMZJj8GFSzgDrGKd/7LSMrhkkHPUCp4LBoOkIcBnmGThVPX26qqdPNx3D/VbbViuXHh9b1ZyBvDzP0KgAEi07Xyo7zjpm30cHAAAAwJmtq6X6d61jnPaRkWhUAMkw1DZhrn9HitSYyQIAAABkgjW2bR85/WOrmZFxaFQAyTBkqpRT2GkgGj+xAgAAAOg5+yrl0uNiq5mRcWhUAMmQ7Y9NnJ3Z99MBAAAA6JlIjbT+besY2z4yFo0KIFnsp3+snydFas1kAQAAANxszbOSoh3XOYXSkMONxUFy5ZgOAG8aP3686QjJV3KElNNPatn0n4Fo7PSPURcYjeVWnqgZJAz1AqfGjh1rOgJchnkGTo2/6y7TEdxtjf20j2Njq5gzmJfnGVZUAMmS3UcqmWYds0+wAAAAALoXCUl1b1nH7KuXkVFoVMCIcDiscDhsOkbyDbOdlV33Fqd/9JJnagYJQb3AqcbGRtMR4DLMM3AqPGqUwqNGmY7hTmueknXbRz+p5EhjcVLFy/MMWz9gRDAYlCQFAgGzQZKt5KjtbP+4yGgsN/JMzSAhqBc4VVNDExnOMM/AqeDUqZKkAFtAnFs923pdenxs9XKG8/I8w4oKIJmy/bGJtLPVT5jJAgAAALjN1tXS+nesY/ZVy8g4NCqAZBt2ivV6/TuxCRcAAABA9+K2ffSXhhxhLA5Sg0YFkGxDDo9NqJ2t5qaaAAAAwA7ZVyOXnSBl5xuJgtShUQEkW3Z+bELtbM3sLh8KAAAA4D+2rJDq37OO2VcrIyPRqIARfr9ffn9mn3tsYZ9Q69+LTbzoMc/VDHYK9QKn8vLyTEeAyzDPwCl/Q4P8DQ2mY7iLfRVybpE05DAzWQzw8jzDqR8worKy0nSE1BpyWGxi3dbpm9PqJ6Vdf2kuk8t4rmawU6gXOFVRUWE6AlyGeQZOVc5mRa1j9lXIZT+UsrzTWPbyPMOKCiAVsvJiE2tnbP8AAAAAurZ5udTwoXWM0z48g0YFjAiFQgqFQqZjpJZ9Ym34UNq8zEwWF/JkzaDXqBc4VVdXZzoCXIZ5Bk6FJk1SaNIk0zHcw/5LvbxB0uBDzGQxxMvzDI0KGFFbW6va2lrTMVJr8CGxCbazNZz+0VOerBn0GvUCp+rr601HgMswz8Cp2smTVTt5sukY7rHavu3jRCkr10wWQ7w8z9CoAFIlKzc2wXa26omuHwsAAAB41aZvpPB86xjbPjyFRgWQSvYJdsOC2EQMAAAAIMa+6jhvsFT8AyNRYAaNCiCVin8Qm2g7sy9rAwAAALzMvup46I+kLA6s9BIaFUAqZeXEJtrOaFQAAAAAMY3V0sYq69iwU8xkgTG0pWBEIBAwHcGcYadIy+/suN5YFZuQC717TnJPeLpm4Bj1AqcKCwtNR4DLMM/AqcCSJaYjuIP9l3j5pVLxgWayGObleYZGBYwoLy83HcGc4gNjE25Tp6OGVs+Wxl1tLpMLeLpm4Bj1AqfKyspMR4DLMM/AqfLXXjMdwR3sx5IOPUnyZZvJYpiX5xm2fgCp5suOTbidreb0DwAAAHjcxi+ljQutY5z24Uk0KmBEMBhUMBg0HcMc+4Tb+IW08QszWVzC8zUDR6gXOFVTU2M6AlyGeQZOBQ87TMHDDjMdI73Zt334h0qDppjJkga8PM/QqIAR4XBY4XDYdAxzBk2JTbydrX6y68dCEjUDZ6gXONXY2Gg6AlyGeQZOhUePVnj0aNMx0lc02sW2j5Mln3d/ZPXyPOPdrzpgki8rNvF2tvqJ2AQNAAAAeM3GhVLjIuvYcE778CoaFYAp9u0fm76K35MHAAAAeIF920efXaSi/cxkgXE0KgBTBn43NgF3xk01AQAA4DXRaPy/g4dN9/S2D6/jKw+YwvYPAAAAQNpQJW3+2jrGaR+elmM6ALyppKTEdIT0MPwUacmfO643fyNtWCAFJpnLlKaoGThBvcCpgQMHmo4Al2GegVMlH39sOkL6Wv249bpvhRTYx0iUdOLleYZGBYwoLS01HSE9BPaR+o6UtizrGFs1i0ZFF6gZOEG9wKni4mLTEeAyzDNwqnT+fNMR0lM0Gvv3b2fDTpF8PjN50oiX5xm2fgAm+XzS8BnWsdWzpGibmTwAAABAKtW/J21dYR0bfqqZLEgbNCpgRHV1taqrq03HSA/DbI2Krauk+n+byZLGqBk4Qb3AqeXLl5uOAJdhnoFT1dOnq3o6912Is9q2mqLfOKn/3maypBkvzzNs/YARkUjEdIT00X8vqXB3qfHLjrFVj0uDDjCXKQ1RM3CCeoFTzc3NpiPAZZhn4FSkqMh0hPTT1hJ/LOnwU9n28R9enmdYUQGY5vPFL29b/WRs4gYAAAAy1fq3pKZa65h9WzQ8iUYFkA7s2z+a10l1/zKTBQAAAEiFVbbTPgZMlPqNNZMFaYVGBZAO+o2RApOtY/aJGwAAAMgUrU3SmqetY9xEE/9BowJIF/ZVFWueiU3gAAAAQKZZ+09pW9g6NoybjSKGm2nCiPLyctMR0s/wU6QvfiUpGrtu2SjVviINPcFkqrRBzcAJ6gVOlZWVmY4Al2GegVPlc+eajpBeVttWDw86QOo7wkyWNOXleYZGBYwIBAKmI6SfPsOlQQdK6+d1jK2eRaPiP6gZOEG9wKnCwkLTEeAyzDNwKrB0qekI6aNls1TzvHXMvroYnp5n2PoBpBP7XY5DL0gtm8xkAQAAAJIhNEdq3dJpIEsadrKxOEg/NCpgRFVVlaqqqkzHSD9DT5J82R3XrVulmhfM5Ukj1AycoF7g1OLFi01HgMswz8CpqpkzVTVzpukY6cF+0/jBh0r5Q8xkSWNenmdoVADpJH+wNPgw69jqWWayAAAAAInWHJbWvmId47QP2NCoANKNfaKu/YfUXG8mCwAAAJBINc9Kbc0d11l5UtkPzeVBWqJRAaSbshOkrPyO6+g2ac2zxuIAAAAACWNfLTzkKCkvYCQK0heNCiDd5A6QSo62jtmPbwIAAADcpmmttO516xjbPtAFGhVAOrJP2OvekCIhM1kAAACARFj9lBRt7bjO7iuVTjOXB2krx3QAeFNlZaXpCOmt5Bgpp1+no0nbpNVPSqMvNhrLJGoGTlAvcKq8vNx0BLgM8wycqpw923QE8+yrhMuOl3IKzGRxAS/PM6yogBF+v19+v990jPSV01cqPd465vHtH9QMnKBe4FR+fv6OHwR0wjwDp/wNDfI3NJiOYc6WFdL6d6xjw2aYyeISXp5naFTAiEgkokgkYjpGerNv/6h/T9q83EiUdEDNwAnqBU41NTWZjgCXYZ6BU5GiIkWKikzHMGe1bUVJbkAacoSRKG7h5XmGRgWMqK6uVnV1tekY6W3IVCnX9s1s9RNmsqQBagZOUC9wKhgMmo4Al2GegVPV06erevp00zHMWWXf9nGilM1qtu54eZ6hUQGkq6w8aehJ1jH7cU4AAABAutu0WNqwwDrGaR/oBo0KIJ0Nt+3b2/Cp1PiVkSgAAABAr6yy/bItv0QafLCZLHAFGhVAOiv+vuQvs47Zl80BAAAA6Soajf/369CTJV+2mTxwBRoVQDrzZUtDbXsZVz0am/ABAACAdLfhE2mTbUWwfdUwYEOjAkh3u5xmvd68RAp/ZCYLAAAA4MTKR63XfSukgd8zEgXukWM6ALxp/PjxpiO4R2AfqWCMtPmbjrGVj0pF+5rLZAA1AyeoFzg1duxY0xHgMswzcGr8XXeZjpB60db4m8EPP03y+czkcRkvzzOsqADSnc8Xm9A7Wz1LamsxkwcAAADoibq3pMga69jw081kgavQqIAR4XBY4XDYdAz32MU2oTetlda9biaLIdQMnKBe4FRjY6PpCHAZ5hk4FR41SuFRo0zHSC37to/+46X+u5vJ4kJenmfY+gEjgsGgJCkQCJgN4hb9xkqByVL4446xVY9JJUeYy5Ri1AycoF7gVE1NjekIcBnmGTgVnDpVkhTwyhaQ1oi05inrmP2Xb+iWl+cZVlQAbmFfJlfzjNSyxUwWAAAAoDuhl6SWjZ0GfNLwU43FgbvQqADcYvgpsvyVbdkkhV40FgcAAADYrlWPWa+Lvy/1GW4mC1yHRgXgFv4yafAh1rFVj3b9WAAAAMCU5rBUO8c6xk004QCNCsBN7BN87StS83ozWQAAAICurHlaamvuuM7Kk4b+yFweuA6NChjh9/vl9/tNx3CfoSdKWfkd19EWafVT2398BqFm4AT1Aqfy8vJMR4DLMM/AKX9Dg/wNDaZjpIZ91W/J0VJekZksLubleYZTP2BEZWWl6QjulNtfKj3WegflVY9KI2eay5Qi1AycoF7gVEVFhekIcBnmGThVOXu26QipsXW1VPemdYxtH73i5XmGFRWA29gn+vVvS1uCZrIAAAAAna2aJSnacZ3TXyqdZiwO3IlGBYwIhUIKhUKmY7hTyVFSbsA6tmqWkSipRM3ACeoFTtXV1ZmOAJdhnoFToUmTFJo0yXSM5LNv+xj6Iynbm9sXdpaX5xkaFTCitrZWtbW1pmO4U3a+NPRk65gHTv+gZuAE9QKn6uvrTUeAyzDPwKnayZNVO3my6RjJ1bhI2vCJdWz4aWayZAAvzzM0KgA32sW2/WPj59KGz81kAQAAACRppe2XZ/4yafDBZrLA1WhUAG406ECpz3DrmAdWVQAAACBNRaPSqsesY8NmSL5sM3ngajQqADfyZUnDTrWOrXpciraZyQMAAABva3hf2rLMOmZfBQz0EI0KwK3sE//WFdL6d81kAQAAgLfZt330GysNmGgmC1wvx3QAeFMgEDAdwf367y0V7iE1ftExtupRqfhAc5mSiJqBE9QLnCosLDQdAS7DPAOnAkuWmI6QPG3bpNVPWMeGny75fGbyZAgvzzM0KmBEeXm56Qju5/PF7qK86MqOsdVPSnvfKmXlmcuVJNQMnKBe4FRZWZnpCHAZ5hk4Vf7aa6YjJM/auVKz7ZhnTvvYaV6eZ9j6AbiZ/RvAtnqp9lUzWQAAAOBN9ptoFu0n9RtjJgsyAo0KGBEMBhUMBk3HcL+CCmngFOtYhp7+Qc3ACeoFTtXU1JiOAJdhnoFTwcMOU/Cww0zHSLyWzVLNc9ax4dxEMxG8PM/QqIAR4XBY4XDYdIzMYL+pZs3z0raNZrIkETUDJ6gXONXY2Gg6AlyGeQZOhUePVnj0aNMxEq/meal1c8e1L1saNt1cngzi5XmGRgXgdkNPlnydbjfTFpHWPGMuDwAAALxj5cPW68GHSf4SM1mQMWhUAG6XXyyVHGUdW/mQmSwAAADwjkhIWvtP69guZ5rJgoxCowLIBPZvCHVvSltWGokCAAAAj1j1mKS2juvsAqnsBFNpkEFoVACZoPRYKWdAp4Foxt5UEwAAAGnCvu1j6I+knAIzWZBRcnb8ECDxSkrYt5ZQ2X5p2MlS8J6OsZUPS7v+t+TzmcuVQNQMnKBe4NTAgQNNR4DLMM/AqZKPPzYdIbE2LpQ2fGodY9tHQnl5nqFRASNKS0tNR8g8u5xpbVQ0filt+EQKTDSXKYGoGThBvcCp4uJi0xHgMswzcKp0/nzTERLLvprCP1QafLCZLBnKy/MMWz+ATDHoAKlPuXXM/g0EAAAA2FnRVmmlbZvx8NNjR5MCCUCjAkZUV1erurradIzM4suSdjnDOrbqMamtxUyeBKNm4AT1AqeWL19uOgJchnkGTlVPn67q6dNNx0iMujelyGrrGNs+Es7L8wyNChgRiUQUiURMx8g89m8QTWvjj4xyKWoGTlAvcKq5udl0BLgM8wycihQVKVJUZDpGYqywrdodMEEasJeRKJnMy/MMjQogkxRWSkX7WsfY/gEAAIBEadki1TxtHWM1BRKMRgWQaezfKGqek7ZtNBIFAAAAGabmOallU6eBLGn4qabSIEPRqAAyzbAZkq/TgT5tEWnN09t/PAAAANBT9tW6Q6ZK/jIzWZCxaFQAmSa/WCo5yjrG9g8AAADsrEgo/v5nbPtAEuTs+CFA4pWXl+/4Qei9Xc6UQi92XNe9KW1ZKfXdxViknUXNwAnqBU6VlfHbQDjDPAOnyufONR1h5616TFJbx3V2gVR2gqk0Gc/L8wyNChgRCARMR8hspcdKOQOklg3/GYhKqx6Vxv7aaKydQc3ACeoFThUWFpqOAJdhnoFTgaVLTUfYefZVukN/JOUUmMniAV6eZ9j6AWSibL807GTr2MqHpWjUTB4AAAC428aF0oZPrWNs+0CS0KiAEVVVVaqqqjIdI7Ptcpb1uvFLacMCM1kSgJqBE9QLnFq8eLHpCHAZ5hk4VTVzpqpmzjQdo/fsqyn8w6TBB5vJ4hFenmdoVACZatAUqW+FdWwFN9UEAACAQ9FWaeWj1rFdTpd82WbyIOPRqAAylS9LGn6GdWz141Jbi5k8AAAAcKe6N6XIausY2z6QRDQqgEw2wvYNpGlt/JFSAAAAQHfsq3IHTJD672kkCryBRgWQyfqNlYr2tY7Z9xcCAAAA29OyRap52jrGagokGY0KINPZv5HUPCdt22gkCgAAAFym5jmpZVOngSxp+Kmm0sAjckwHgDdVVlaajuAdw2ZIn/9Civ7n3hRtEWnNU1L5uWZzOUTNwAnqBU6Vl5ebjgCXYZ6BU5WzZ5uO0Dv21bhDpkr+MjNZPMbL8wwrKmCE3++X3+83HcMb8oulkqOsYyseMpNlJ1AzcIJ6gVP5+fmmI8BlmGfglL+hQf6GBtMxnNm6Jv7+Zmz7SBkvzzM0KmBEJBJRJBIxHcM7djnLer3+LWnzMjNZeomagRPUC5xqamoyHQEuwzwDpyJFRYoUFZmO4cyqRyS1dVzn9JPKTjCVxnO8PM/QqIAR1dXVqq6uNh3DO0qPlXJt3xhXumtVBTUDJ6gXOBUMBk1HgMswz8Cp6unTVT19uukYPReNSisetI4NnS7lFJjJ40FenmdoVABekJ0ff9OjFQ9K0bauHw8AAABvC38sNX5pHRvxYzNZ4Dk0KgCvGHG29XrLMmn9O0aiAAAAIM3ZV1P0HSUNOsBMFngOjQrAKwKTpcLdrWMrHjASBQAAAGmstUla9Zh1bMRZko8fH5EaVBrgFT5f/HK9NU9KLZvN5AEAAEB6Cs2RttlOKLHfnB1IIhoVgJcMP0OWv/Ytm6Q1zxiLAwAAgDRkX3U76PtSwUgjUeBNOaYDwJvGjx9vOoI39RkqDTlcWvuPjrEVD0gj0v88bGoGTlAvcGrs2LGmI8BlmGfg1Pi77jIdoWcitdLaV6xj9nudISW8PM+wogLwGvs3mro3pC0cywcAAABJqx6Voq0d19l9paE/MpcHnkSjAkaEw2GFw2HTMbyp7HgpZ0Cngai08mFjcXqKmoET1AucamxsNB0BLsM8A6fCo0YpPGqU6Rjdi0bjt30MPUnKLTQSx+u8PM/QqIARwWBQwSC/xTci2y8Nn2EdW/Fg7BtTGqNm4AT1AqdqampMR4DLMM/AqeDUqQpOnWo6Rvc2fCpt/Nw6xrYPY7w8z9CoALzI/g1n8zdS/b+NRAEAAECasK+m6FMuFX/fSBR4G40KwIuK9pP62W4cZ//GBAAAAO9oa47dn6KzEWdJPn5kROpRdYAX+XzxqypWz5ZathiJAwAAAMNCL0vN661ju5xlJgs8j0YF4FW7nCnJ13HdslGqec5UGgAAAJhkX1076ACp3xgjUQAaFTDC7/fL7/ebjuFtfYZLgw+zjq180EyWHqBm4AT1Aqfy8vJMR4DLMM/AKX9Dg/wNDaZjdK1pnVT7knVslx+byYJ2Xp5nckwHgDdVVlaajgBJGvFjad3cjuu1c6Wtq2JNjDRDzcAJ6gVOVVRUmI4Al2GegVOVs2ebjrB9qx6Toi0d19l9pGEnm8sDSd6eZ1hRAXhZ2Q+lnM7nYkellY8YiwMAAAADVthW1Zb9UModYCYLIBoVMCQUCikUCpmOgZy+0rBTrGMrHpCiUSNxukPNwAnqBU7V1dWZjgCXYZ6BU6FJkxSaNMl0jHgbqqQNn1jH7DddhxFenmdoVMCI2tpa1dbWmo4BKbb9o7NN1VLDB2aydIOagRPUC5yqr683HQEuwzwDp2onT1bt5MmmY8Szr6bwD5MGH2ImCyy8PM/QqAC8buAUqWC0dcz+DQsAAACZp22btOpR69iIsyRftpk8wH/QqAC8zueLv6vzqsel1oiZPAAAAEiN2n9ITWutY5z2gTRAowJArHPeWcsGqeY5I1EAAACQIivut14XfVcq9O5JE0gfNCoASH3LpWLbXsTgfWayAAAAIPkitVLoResYN9FEmsgxHSAdtba2qrq6WlVVVe3/LVq0SNu2bZMk7b///nrqqad69dpvv/22nnzySS1YsEChUEj5+fkqKyvT97//fZ166qkaM2ZMIj+VtBUIBExHgF35T6S6f3Vcr3tN2hKMNTHSADUDJ6gXOFVYWLjjBwGdMM/AqcCSJaYjWK18RIq2dFxn95GGzzCXB3G8PM/QqLD5xz/+oYsuukhbt25N6Os2Njbqiiuu0AsvvGAZ37p1q8LhsBYtWqR7771Xv/zlL3XxxRcn9L3TUXl5evzwi06G/lCqGhDb9iFJisaOKh33vyZTtaNm4AT1AqfKyspMR4DLMM/AqfLXXjMdoUM0Kq2wrZ4depKUO8BMHnTJy/MMWz9sNmzYkPAmxbZt2/STn/zE0qQYN26cTjrpJB177LEqKSlpf9wNN9ygv/zlLwl9f6BHsvtIu5xmHQveL0XbzOQBAABAcjR8KDV+aR0bca6ZLEAXWFGxHYMHD9b48eM1YcIEjR8/Xm+++abuvffeXr3WzTffrHfffVeS5Pf79ec//1nHH398+8ebm5v1f//3f7rjjjskSTfddJO++93vav/999/5TyRNBYNBSd7uEqalEedKy+7ouN4alOrekAYfai7Tf1AzcIJ6gVM1NTWmI8BlmGfgVPCwwySlycoK+2qKvqOk4oPMZMF2eXmeoVFhc/DBB+vDDz/UsGHDLOOffPJJr16vrq5Od999d/v1NddcY2lSSFJeXp6uuuoqrV69Wi+88IKi0aiuv/76uG0imSQcDkvy5l+6tBaYJPXfS9r4ecdY8L60aFRQM3CCeoFTjY2NpiPAZZhn4FR49GhJadCoaNkSO4q+s/JzJB+L7dONl+cZqtFmyJAhcU2KnfHkk09qy5YtkqRRo0bpjDPO2O5jr7rqKmVlxb4k8+fP18KFCxOWA+gRny9+2d+ap6XmBjN5AAAAkFhrnpJaOjdnfdIuPzYWB+gKjYok+8c//tH+5+nTp8vn8233scOGDdOUKVPar1955ZWkZgO6tMsZki+347qtSVo9y1weAAAAJI79CPohh0t9dzGTBdgOGhVJFIlEtGDBgvbrntxz4nvf+177n7+9rwWQUvnFUpl1e1LcNzQAAAC4z6ZvpPVvWcfKf2ImC9ANGhVJtGTJErW1xU5M8Pl82nPPPXf4nL322qv9z19//XXSsgHdKrdt/wh/LG34zEwWAAAAJMaKB6zXuQOl0uOMRAG6w800k2jJkiXtfy4uLpbf79/hczrfHyMcDmv9+vUaNGhQUvKZ9O2RrEhTQw6X/MOkyOqOseB90t43G4tEzcAJ6gVODRw40HQEuAzzDJwq+fhjswGirfGNil3OkLLzjcTBjnl5nqFRkUQNDR03ICwuLu7RcwYPHhz3Gk4bFW1tbVqzZk23jxk6dKij10y00tJSo++PHfBlSyN+LC3+Q8fYqkekPW409s2MmoET1Auc6un3aeBbzDNwqnT+fLMB1s61/hJKil9Fi7Ti5XmGRkUSfXvah6Qerabo6nGdX6On1q5dq3322afbx7z88stxY+PHj5cUW8nx7Zm99myVlZWSpFAopNra2rjHBAKB9uNzgsFg+5E6nZWUlLT/pauurlYkEol7THl5uQKBgCSpqqqqy8+hsrJSfr9fkUhE1dXVXT6Gz6n3n9PQAdM0WJ0aFc3rtfyDv2pDwVTXfk6Z+HXic+Jz4nNKzOe0ePFiy3UmfE5S5n2d+Jz4nFz7OZWVSTNnxj6n2bPll1L+OQ2ovkmBTh/fkrebNm4tUekA9e5z6iRjvk58Tr3+nL59XqJwj4ok6lxAeXl5PXpOfr71t9VdFWEmqK6u3u5fDqSHVv9IadBBlrGBjc+ZCSNqBs6Ew2HL9jtgRxobG3f8IKCTcDisuro60zHgIuHRoxUePdrIe2e11Kv/ljctY/WFx3f9YKSNcDjcZePCC3zRaDRqOoQb3HTTTfrzn/8sKXZ6x1NPPbXD59xxxx269tprJUnf+c53NGfOnB0+Z+vWrRozZkz79SuvvKK99967RxknTZqkUCikIUOG6KWXXur2saa3fnzb5Ut05w0JtuJBacHZnQaypCOCUp/hKY9CzcAJ6gVOzZo1S6eeeqrmz5+viRMnmo4DF2CegSN/+IOqVqyQJI2/6y4p1T+CLblF+vzSjuusfOnIGimvKLU54IiX5xm2fiRR37592//c05UR9sd1fo2eysrKMt6IQIYYepL02cVSy7e/aWyTVjwkVf6P0VgAAADooWhUCt5rHRt6Ik0KpDW2fiRRUVHHX/6eLg1ct27ddl8DSLmcAmnYDOvYivtS/1sAAAAA9M6GBdLGz61jI7iJJtIbjYokGt1pD1pdXV2PVlWsXt1xJ95AIJCRR5PCZex3g968RFr/tpksAAAAcCZ4n/W6zwhp8CFmsgA9RKMiiUaPHq2srNj/4mg0qi+++GKHz/n8845u56677pq0bECPFe0nFe5mHbMvHwQAAED6ad0qrXzUOjbiHMnHj4FIb9yjIon8fr8mTpyojz/+WJL03nvvadKkSd0+5/3332//85QpU5Kaz6Rvj+CBC/h8seWBX/yqY2zNk9Lef5Vy+6csBjUDJ6gXOFVWVmY6AlyGeQZOlc+dm/o3XfOs1LLBOjbi7NTnQK94eZ6hlZZkRx55ZPufZ8+e3e1jV69erXfeeafL52aaQCDQfs4vXGCXMyVfdsd161Zp9ayURqBm4AT1AqcKCwtNR4DLMM/AqcDSpQosXZraN11h2/Yx+FCpoCK1GdBrXp5naFQk2cknn9x+cseSJUv02GOPbfexf/jDH9Ta2iopdtToXnvtlZKMwA75S6SSadYxtn8AAACkr81LpXWvW8e4iSZcgkZFkhUXF+v8889vv7766qv1wgsvWB6zbds2/eEPf9Bzzz3XPvab3/wmVRGNqKqqaj8XGC5R/hPrdcOH0obPUvb21AycoF7g1OLFi01HgMswz8CpqpkzVTVzZure0P5LpdyANPSHqXt/7DQvzzPco6ILZ555pkKhkGWs87GhVVVVmjp1atzzHn74YZWWlsaNX3rppfroo4/07rvvKhKJ6Oc//7luvfVW7bnnnmpqatIHH3yg2tra9sdffvnl2n///RP4GQEJUHKU5B8qRdZ0jC3/uzT+r+YyAQAAIF5bi7TifuvY8DOk7D5m8gAO0ajowuLFi7Vq1artfnzLli368ssv48a3bdvW5eNzc3N1zz336IorrtCLL74oSVq0aJEWLVoU97jLLrtMl1xyyU6kB5IkKyd2l+jF13WMrXpE2vP/+KYHAACQTmpfliI11rGK88xkAXqBrR8p0r9/f9155516/PHHdeKJJ6qiokJ9+vRR//79NW7cOM2cOVNz586lSYH0Zt/+sS0srXnaSBQAAABsx/K/W6+L9pUG7G0mC9ALrKjowgcffJC01z7ooIN00EEHJe31gaQqGCkNniqt63S81vK/S7ucYS4TAAAAOmxdFVtR0Vk5qyngLqyoAOCMfdng+nlSY7WZLAAAALAK3i+preM6p580fIaxOEBvsKICRlRWVpqOgN4qO17KK5aa6zrGgvdIe/4xqW9LzcAJ6gVOlZeXm44Al2GegVOVs2cn/02ibfGnfQw7NdasgOt4eZ5hRQWM8Pv98vv9pmOgN7LypBE/to6teFBqa07q21IzcIJ6gVP5+fmmI8BlmGfglL+hQf6GhuS+ydq50tagdazip8l9TySNl+cZGhUwIhKJKBKJmI6B3iq3fcNrXifVPJ/Ut6Rm4AT1AqeamppMR4DLMM/AqUhRkSJFRcl9k+A91uv+e0uBfZL7nkgaL88zNCpgRHV1taqrua+BaxWOkwYdaB2z3106wagZOEG9wKlgMLjjBwGdMM/Aqerp01U9fXry3qBpbfwvjirOk3y+5L0nksrL8wyNCgC9Y7979Lq50uZlZrIAAAB43YoHpei2jussvzT8dHN5gJ1AowJA7ww7ScoNWMfsN28CAABA8kWj8ds+hp0s5SV5qwmQJDQqAPROdh9p+BnWsRX3S20tZvIAAAB41fp50qbF1jH76lfARWhUAOi9Cts3wMgaqfYVM1kAAAC8yn6vsH7jpEEHmMkCJACNCgC9N2BvqWhf61gwuTfVBAAAQCfN9dKap6xj5T/lJppwtRzTAeBN48ePNx0BiVL+U6nhw47r0EvS1tVSn2EJfRtqBk5QL3Bq7NixpiPAZZhn4NT4u+5KzguvfFRq63TEsi9XGnFWct4LKeXleYYVFQB2zrAZUnZBp4G22L0qAAAAkFzRaPxq1rITpPzBRuIAiUKjAkaEw2GFw2HTMZAIuYXS8FOtY8F7pWhbQt+GmoET1AucamxsNB0BLsM8A6fCo0YpPGpUYl+04UNp4+fWMfs9xOBaXp5naFTAiGAwqGAwaDoGEsX+DXHLcmndawl9C2oGTlAvcKqmpsZ0BLgM8wycCk6dquDUqQl+Udtqir4jpcGHJvY9YIyX5xkaFQB2XmAfqf/e1jH73acBAACQONsapVWzrGPlP5F8/IgH96OKAew8ny9+VUXN81LTWjN5AAAAMt3qx6XWzR3XvmxpxDnm8gAJRKMCQGIMP13K8ndcR7dJQW6qCQAAkHDRqLTsTutYyTFSn6Fm8gAJRqMCQGLkFUnDplvHlt+d8JtqAgAAeF74Y2nDJ9YxbqKJDEKjAkb4/X75/f4dPxDuMvJn1ustSxN2U01qBk5QL3AqLy/PdAS4DPMMnPI3NMjf0JCYF1t+l/W6zwip5KjEvDbShpfnmRzTAeBNlZWVpiMgGYq+K/Xfy3pM1rI7pSGH7/RLUzNwgnqBUxUVFaYjwGWYZ+BU5ezZiXmh5rC06nHrWMV5sXtUIKN4eZ5hRQWAxPH5pArbqorQC9LW1WbyAAAAZJpVj0itWzqufdmx0z6ADEKjAkaEQiGFQiHTMZAMu5whZRd0XEdbpeC9O/2y1AycoF7gVF1dnekIcBnmGTgVmjRJoUmTdu5FurqJZtkJkr9s514XacnL8wyNChhRW1ur2tpa0zGQDLn9peGnWceCf5faWnbqZakZOEG9wKn6+nrTEeAyzDNwqnbyZNVOnrxzL1L/b6nxC+uYfTUrMoaX5xkaFQASb+RM6/XWVVLtK2ayAAAAZAr7aoqCMdLgQ8xkAZKIRgWAxAtMkgK23xgsv7PrxwIAAGDHmuqkNU9axyrOl3z8SIfMQ1UDSA77MsTaV6TNy41EAQAAcL0VD0ptTR3XWXnSiLONxQGSiUYFgOQYPkPK6d9pICoF7zEWBwAAwLWiUWn5XdaxoSdJ+YPN5AGSLMd0AHhTIBAwHQHJllMg7XKmtOz2jrHgPdK4/5Wych2/HDUDJ6gXOFVYWGg6AlyGeQZOBZYs6f2T696QNn9tHeMmmhnPy/MMjQoYUV5ebjoCUqFiprVR0VQr1TwvDTvJ8UtRM3CCeoFTZWUc7QdnmGfgVPlrr/X+yfabaBbuLg06YOcCIe15eZ5h6weA5BmwlzRwinWMm2oCAAD0XCQk1TxrHauYKfl8ZvIAKUCjAkYEg0EFg0HTMZAKI23LEte9Lm36uuvHdoOagRPUC5yqqakxHQEuwzwDp4KHHabgYYc5f+KK+6VoS8d1dp/Y9lpkPC/PMzQqYEQ4HFY4HDYdA6kw9CQpd6B1bPndjl+GmoET1AucamxsNB0BLsM8A6fCo0crPHq0sydFW+P/3TRshpRXlLhgSFtenmdoVABIrmx//NFZK+6XWiNG4gAAALjG2n9KW5Zbx+yrVYEMRKMCQPJVnG+9bl4vrXnaTBYAAAC3sN9Ec8B3pMA+ZrIAKUSjAkDyFVZKxYdYx+xngQMAAKDD1lVSaI51jJtowiNoVABIjZEzrdfr35Y2fmEmCwAAQLpbfo+kto7rnH7S8NOMxQFSKcd0AHhTSUmJ6QhItbITpPwhUtPajrFld0rj/9qjp1MzcIJ6gVMDBw7c8YOATphn4FTJxx/3/MFtLVLwHuvY8DOk3MLEhkJa8/I8Q6MCRpSWlpqOgFTLypPKfyItvr5jbOVD0h7Xx35DsAPUDJygXuBUcXGx6QhwGeYZOFU6f37PHxx6QYqsto5xE03P8fI8w9YPAKlTfr6kTvsqWzZKKx81FgcAACAtLb3del30XWnAeDNZAANoVMCI6upqVVdXm46BVCuokEqOsY4tu12KRnf4VGoGTlAvcGr58uWmI8BlmGfgVPX06aqePn3HD2xcJNX9yzo26sLkhEJa8/I8Q6MCRkQiEUUiEdMxYIL9G+3Gz6X17+zwadQMnKBe4FRzc7PpCHAZ5hk4FSkqUqSoaMcPXPo363VesTT05OSEQlrz8jxDowJAag05XCoYbR1bdnvXjwUAAPCSbY3SygetY+U/lbLzzeQBDKFRASC1fFlSxc+tY2ueliIhM3kAAADSxapHpZbGTgNZ3EQTnkSjAkDqlZ8jZfk7rqMt0vK/m8sDAABgWjQav8q0dJrUt9xMHsAgGhUAUi9voDT8NOvY8rtiZ4YDAAB40fq3pY0LrWPcRBMelWM6ALypvJzOsOeNulBacV/HdWS1VPO8NOxHXT6cmoET1AucKisrMx0BLsM8A6fK587t/gH21RQFu0qDD0teIKQ9L88zNCpgRCAQMB0BpgUmxs4Eb3i/Y2zZ7dttVFAzcIJ6gVOFhYWmI8BlmGfgVGDp0u1/MFIjrXnGOjby57F7e8GzvDzPUPkAzLEvZ6x7I3Z2OAAAgJcs/3vsnl3fyu4jjTjbWBzANBoVMKKqqkpVVVWmY8C0oSfFzgbvzH52+H9QM3CCeoFTixcvNh0BLsM8A6eqZs5U1cyZ8R9o2xa7V1dnw0+X8opSEwxpy8vzDI0KAOZk+2Nng3e28sHYGeIAAABeUPO8FFljHRvJTTThbTQqAJg18meyTEUtjdKqR4zFAQAASCn7TTQHfk8KTDASBUgXNCoAmNW3PHZGeGdLb4+dJQ4AAJDJNn4h1b1pHRt5gZEoQDqhUQHAPPtNNRu/iJ0lDgAAkMmW3WG9zhscu4cX4HE0KgCYN/iw2FnhndmXQQIAAGSSbY3SyoesYxXnSdn5ZvIAaSTHdAB4U2VlpekISCe+rNgyx4W/6Bhb80zsTHF/mSRqBs5QL3CqvLzcdAS4DPMMnKqcPds6sPLh2L252mVJFV2cCgLP8vI8w4oKGOH3++X3+03HQDoZ8ePYmeHfirZIy+9uv6Rm4AT1Aqfy8/kNJpxhnoFT/oYG+RsaYhfRaPzq0bLjpL4jUh8MacvL8wyNChgRiUQUiURMx0A6ySuKnRne2fK7YmeLi5qBM9QLnGpqajIdAS7DPAOnIkVFihQVxS7q3pIav7Q+gJtowsbL8wyNChhRXV2t6upq0zGQbuxnhkdqpJpnJVEzcIZ6gVPBYNB0BLgM8wycqp4+XdXTp8cu7Ksp+o2VBh+a+lBIa16eZ2hUAEgfgQmxs8M7W/pXI1EAAACSoljtv4hpN/KC2D27AEiiUQEg3Yy6xHq9/h0pvMBMFgAAgEQ7UlK0teM6p5804mxTaYC0RKMCQHoZeqLkH2odY1UFAADIAL6sFulw2+AuZ0u5A0zEAdIWjQoA6SUrN/5mUqseU05rvZk8AAAACVI09Gup0DY46iIjWYB0RqMCQPqpOF/K6nRUYFuzBm582lweAACAnRZVcflC69CQI6XCSjNxgDSWYzoAvGn8+PGmIyCd5Q+Whp8qrXigfags8ozK9vqLuUxwFeYYODV27FjTEeAyzDNwavw7d8fuT9HZ6Eu6fCwgeXueYUUFgPQ06mLrdaRGWsOqCgAA4FLTbNcFu0pDjjASBUh3NCpgRDgcVjgcNh0D6SwwURp0gGWoZfGfDYWB2zDHwKnGxkbTEeAyzDNwJLdB0X1tY6Mu5khSdMvL8wxbP2BEMBiUJAUCAbNBkN5GXRI7nvQ/cjZ+JDV8JBXtYzAU3IA5Bk7V1NSYjgCXYZ6BI0UfWHsSOYXSiB8biwN38PI8QwsPQPoqO0HqM9w6xlGlAADATVo2S0UfW8dGnCPl9jeTB3ABGhUA0leXR5XOkiIhM3kAAACcWvWolL3VOsaRpEC3aFQASG/l50nNna6j26TldxuLAwAA0GPRqLTkVutYnwOkfruayQO4REobFb/73e/0zTffpPItAbhdfrE0zza27A6prbnLhwMAAKSNujekxi+sYxOuMpMFcJGUNiruvvtuHXzwwTrhhBM0e/Zsbd26dcdPQkby+/3y+/2mY8AtXrJdN4Wk1U8ZiQJ3YI6BU3l5eaYjwGWYZ9AjttUUTXkjpSFTDYWB23h5njFy6sf8+fM1f/58/e///q+OP/54nXrqqRo/fryJKDCksrLSdAS4yXJJX0jao9PY0lulXU4zkwdpjzkGTlVUVJiOAJdhnsEObV4mhV6wDOWPu5wjSdFjXp5nUvq35Ec/+pH8fr+i0aii0agaGxv16KOPatq0aZo6daoeeOABbdiwIZWRALjFHNt1wwdS/QdGogAAAOzQstslRTuuc/pLI84yFgdwk5Q2Km655RZ98sknuv766zVhwgRJam9afPXVV7r66qs1ceJEXXzxxfr3v/+dymhIsVAopFCIkxvQc6GWiWrdkGsd5KhSbAdzDJyqq6szHQEuwzyDbrVskpbfYxnaXDxDobpNhgLBjbw8z6R83VG/fv105plnas6cOXrttdd07rnnqqioqL1h0dTUpOeee06nnHKKpkyZottuu01r165NdUwkWW1trWpra03HgIvUTtpHtaGJ1sHVs6VIjZlASGvMMXCqvr7edAS4DPMMurXyEaml80pxn1bkHEvNwBEvzzNGN0iNGzdOv/vd77RgwQL97W9/0/e//31lZWW1Ny1WrFihG2+8Ufvuu6/OPfdczZ07V21tbSYjAzCoftU4KavTDYWi26Rld5oLBAAAYBeNxu6l1VnpNDXn7mImD+BCaXEnl9zcXB133HF69NFH9d577+myyy7T8OHD2xsWLS0tmjt3rs4991zts88+uvHGGxUMBk3HBpBirdv80i5nWAeX3ym1RswEAgAAsFs3V2pcZB0bdYmZLIBLpUWjorNhw4bpsssu0/vvv6/HHntMxx13nPLz89ubFrW1tbrtttt04IEH6pRTTtFLL72k1tZW07EBpMqoi63XTWulVY+ZyQIAAGD3zZ+t14W7SYMPNZMFcKm0a1R0tu++++rggw/WmDFjJEk+n08+n0/RaFRtbW3697//rZ/97Gc68MAD9eyzzxpOCyAlBuwd/81+yV9iyywBAABM2viFtPZV69joX0g+n5k8gEvlmA7QlaqqKj3++ON64YUX1NjYKEntDYq8vDzts88++vTTT7V582ZJ0ooVK3TJJZdo7ty5uv322+VjIkh7gUDAdAS4TGDJko6L0b+Q1r3ecb1xobTuNWnI1NQHQ1pijoFThYWFpiPAZZhn0KUlN1uv84rbt61SM3DKyzWTNo2KcDisp59+Wo8//riqq6slxY4u/dbIkSN1+umna/r06Ro4cKC2bt2q559/Xvfff7+++OILRaNRvfjii5o8ebLOPfdcU58Geqi8vNx0BLhM+WuvdVyUHCX1q5Q2VXeMLfkLjQq0Y46BU2VlZaYjwGWYZxCnaZ208mHr2MifS9l9JFEzcM7LNWO8UTFv3jw9/vjj+uc//6nm5mZJHQ2K/Px8HXXUUTr99NO1//77W57Xp08fzZgxQzNmzNB9992n3/72t5KkWbNm0agAMp0vSxp9qVT1846x2ldiN64q3M1YLAAA4GHL7pDamjqus/KkkReYywO4mJFGxerVq/XEE09o9uzZWr16tSTr6okxY8botNNO08knn6yioqIdvt65556rF198UR999JGWLl2atNxInG9PbfFylxDOBA87TJLUXjG7nCV9eaW0rb7jQUtulibclepoSEPMMXCqpqbGdAS4DPMMLFoj0rLbrWPDT5P8pe2X1Ayc8nLNpLRR8fzzz+uJJ57QO++8096Y6Lx64phjjtEZZ5yhfffd1/Fr77bbbvroo4/U1NS04wfDuHA4LMmbf+nQO+HRoyV1alTk9JVG/kxa/IeOB614SNrtOim/OOX5kF6YY+DUt/fEAnqKeQYWqx6PnUTW2ehLLZfUDJzycs2ktFFx4YUXtt8U81uVlZU67bTTdNJJJ2nAgAG9fu3c3NxERATgJiMvlL7+oxTdFrtui0jL75QqrzKbCwAAeEc0GrtXVmfFh0gDxpvJA2SAlG/9iEaj8vv9OvbYY3X66adr8uTJCXndH/7wh9pjjz0S8loAXKLPUGn4DOuNq5beJo35lZSdby4XAADwjnWvSxs/t46NucxMFiBDpLRRsdtuu+n000/XiSeeqP79+yf0tSdMmKAJEyYk9DUBuMDoX1gbFU210upZ0ogfm8sEAAC8w76aol9l7IQyAL2W0kbF3LlzU/l2ALwg8B2p+AdS3ZsdY9/8OXazTZ/PVCoAAOAFjYuk2petY6MvjZ1QBqDXjB9PCm8qKSkxHQEuU/Lxx9v/4OjLrI2KjZ9JdW9Igw9Jei6kJ+YYODVw4EDTEeAyzDOQJC25xXqdOzD2y5IuUDNwyss1Q6MCRpSWlu74QUAnpfPnd/PBY6SCXaXNX3eMffNnGhUexhwDp4qLOS0IzjDPQE110ooHrWMjfxY7mawL1Ayc8nLNsCYJgPv5suKOAFPtS1JjtZE4AADAA5bfFTtx7Fu+3NiJZAB2Go0KGFFdXa3qan6IRM9VT5+u6unTt/+AET+WcousY0tuTmompC/mGDi1fPly0xHgMswzHtfaFDtprLNhp8ROJNsOagZOeblmaFTAiEgkokgksuMHAv8RKSpSpKho+w/IKZAqZlrHVj4oNa9PbjCkJeYYONXc3Gw6AlyGecbjVj8hNYWsY2N+0e1TqBk45eWaoVEBIHOMukjydbr1TutWadld5vIAAIDME43G7oXV2aDvS4GJZvIAGYhGBYDM0WdYbNllZ8tuk9r4TSkAAEiQujeljVXWsTGXGYkCZCoaFQAyi33ZZaRGWjXLTBYAAJB5vrnJel0wRiqdZiYLkKFoVADILIFJ0qCDrGPf/Cm2TBMAAGBnbPwydrJYZ6P/K3YCGYCEydnxQ4DEKy8vNx0BLlM+d27PHzzml9L6eR3XGz+X1r4qlRyZ+GBIS8wxcKqsrMx0BLgM84xHffMn63XuQGnEOT16KjUDp7xcMzQqYEQgEDAdAS4TWLq05w8unSb1Gydt+qpj7Os/0qjwEOYYOFVYWGg6AlyGecaDtq6RVj5iHRt5QezksR6gZuCUl2uGNUoAMo8vK7aqorO6f0nh+WbyAAAA91t6ixTd1nGdlR87cQxAwtGogBFVVVWqqqra8QOB/6iaOVNVM2f2/Am7nCHll1rHvv5jYkMhbTHHwKnFixebjgCXYZ7xmG0bpWV3WsdGnC35S3r8EtQMnPJyzdCoAJCZsv3S6EusY6uflDYvM5MHAAC41/K/Sy0bOw344ldvAkgYGhUAMlfFz6TszvtG26QlfzEWBwAAuFDbNmnpzdaxshOkfruaSAN4Ao0KAJkrr0iqOM86FrxXal5vJg8AAHCfVbOkrausY7v+ykwWwCNoVADIbKMvlXzZHdetW6RldxiLAwAAXCQalb6x3eNq4BRp4P5m8gAeQaMCQGbrWy4NO8U6tvSvUmvETB4AAOAea/8pbfzcOsZqCiDpckwHgDdVVlaajgCXqZw9O/aHO+/s/oFdGfMradVjHddNa6WVD0kV5ycmHNIOcwycKi8vNx0BLsM84xH21RT9KqXSY3v1UtQMnPJyzbCiAkb4/X75/X7TMeAi/oYG+RsaevfkwARp8FTr2Dc3SdHWnc6F9MQcA6fy8/NNR4DLMM94QHiBtO5169iYyyVf736EombglJdrhkYFjIhEIopEWHqPnosUFSlSVNT7F7Av09y0WKp5YedCIW0xx8CppqYm0xHgMswzHvC1bTVFfom0yxm9fjlqBk55uWZoVMCI6upqVVdXm44BF6mePl3V06f3/gUGHyYNmGAdsy/nRMZgjoFTwWDQdAS4DPNMhtu8XFrzpHVs1CVSdu9/u03NwCkv1wyNCgDe4PPFlmt2Vv+etP5dM3kAAED6WvIX6xbR7AJp5M/N5QE8hkYFAO8YNl3qs4t1zL6sEwAAeFtzvRS8xzpW/lMpbye2oAJwhEYFAO/IypVGX2YdC70gNXpzSR0AAOjCsjuk1i0d175sacwvzOUBPIhGBQBvqfiplBvoNBCNnQACAADQGpGW/tU6NuwUqS9HGAOpRKMCgLfk9IvfY7ryQWnrGjN5AABA+ljxgNRUax0b86suHwogeXzRaDRqOgQSY9KkSQqFQiotLdX8+fNNxwESx+fr+HMipqxISPpnhdTW6TjCMZdLe3K/CsCrFixYoEmTJmn+/PmaOHGi6TgATGhrkV4bK21Z1jE2+DBpylxzmQCPYkUFAO/xl0ojzraOLb9Tam4wEgcAAKSB1bOtTQpJGvsbM1kAj6NRASPC4bDC4bDpGHCR8KhRCo8albgX3PVX+v/t3Xl8FPX9x/H35lxCAkk4knCFOyAiSFDRausBahGtJ2ir1XqUFmmr1h5e1VrP1qNeVerZVltEf23xPrDeeBE0IEfCuVxJOJIlAbI59/fHSpIhATKQ7Hdm5/V8PPJw97uzu+/IJzOzn535jmUVWL9DWv1wx70+jGIdA7uqqqpMR4DLsJ6JMeGwtOIu61jGkVLPEzrsLagZ2OXlmkkwHQDeFAgEJEnp6elmg8A1ApMmSZLSO+oFuw6R+k2TNvyreWz1A9LQa6SErh31LjCEdQzsKikpMR0BLsN6JsaUvSpVLraODbvOevrpQaJmYJeXa4YjKgB417DfWu/Xbmt93XQAABDbwmGp+E7rWNohUs4ZZvIAoFEBwMO6HyZlnWYdW3mP1FhrJg8AAIi+bR9K5fOtY8N+I/n4qASYwl8fAG/bc5Ks6g3S+ufMZAEAANFXfIf1fpdcqd8FZrIAkESjAoDX9fiW1OM469iKu6Vwg5k8AAAgeoILpc1vWseGXSvFJZrJA0ASjQoY4vf75ff7TceAi/grKuSv6KTLh+55VMWOImnTfzvnvRAVrGNgV1JSkukIcBnWMzGieI8rfST1kgZc2ilvRc3ALi/XDFf9gBF5eXmmI8Bl8ubMidx4/vmOf/Hep0rdx0rbv2oeW3Gn1OfsDp3tG9HDOgZ2DRw40HQEuAzrmRiwo1ja9KJ1bMhVUkJKp7wdNQO7vFwzHFEBAD5f6yuABAukLfPM5AEAAJ1vxR8lhZvvJ6RJg2YYiwOgGY0KGFFaWqrS0lLTMeAipfn5Ks3P77w36Huu1HWodWzPS5XBNVjHwK6tW7eajgCXYT3jctUbpHV/t44NmiElpXfaW1IzsMvLNUOjAkaUlZWprKzMdAy4SNn48SobP77z3sAXLw37tXVs67tS+Wed957oNKxjYFd5ebnpCHCTxkaVrVunsnXrpF27TKfBgVh5nxSua74flxw57aMTsW2CXV6uGRoVALBb/x9K/j7WMY6qAADs6X//k556KvJz2mmm08Cu2m3S2r9ax3IvlfzZZvIAaIVGBQDsFp8sDbnGOlY6V6pcYiYPAMCZZs9uvv3++9KmTeaywL5VD0kNO5vv++Klob8ylwdAKzQqAKClgT+WEjOsYyvuNpMFAOA8tbXS//1f8/1wWHrhBXN5YE/9Dmn1g9axvudLXQeZyQOgTTQqAKClxDRp8M+sYxv+Ke1cYyYPAMBZ3nxTCgatY//6l5EoOABr/yrVVVjHhv+27WUBGEOjAkakp6crPT3ddAy4SPqqVUpftSo6bzbk51J8i2uohxu+uYQZ3IJ1DOxKS0szHQFu8c1pH5bt0mefSWtoaDteQ0haeY91LPt0qduhUXl7tk2wy8s1k2A6ALwpNzfXdAS4TO68edF7s6Qe0sDp0qr7m8fWPSXl3SB16Re9HDhgrGNgV05OjukIcINdu6S5cyW1sV16/nnpt3wz72iBJ6VQiXVs+HVRe3u2TbDLyzXDERUA0Jah10YuVbZbYy1HVQCA1736qrRzZ9uPtZxgE87TUCOtuMs61uskKfNoM3kA7BONChgRCAQUCARMx4CLBCZOVGDixOi9YZc+Uu5l1rG1j0uh0uhlwAFjHQO7SkpK9r8Q0KIZ0Wq7VFgoLVtmIBTaZf3fpOoN1rG8m6IagW0T7PJyzdCogBHBYFDBPSeiAvYhOGSIgkOGRPdNh/1G8iU2329s49xWOBLrGNhVVVVlOgKcrrIyckTFN9rcLj3/fJRDoV0a66TiO61jPY6Ten4nqjHYNsEuL9cMjQoA2JuUAdKAi61jax6VaraYyQMAMGfuXKmmZt/LzJ4duVwpnGX9c9KutdaxvN8ZiQKgfWhUAMC+DL9O8sU332/YZZ1kEwDgDe2Zg6KoKHIKCJyjsV4qvsM6ljEhMj8FAMeiUQEA+9J1sNTvQuvY6oek2nIzeQAA0bdtm/TWW+1blkk1nWXj89LOFdaxvJskn89MHgDtQqMCAPYn73pZVpf1O6RVDxiLAwCIsn//W6qvb9+ynP7hHOFGqfh261h6vpT1XTN5ALRbgukA8KasrCzTEeAyWQsWmHvz1OFSv2nShn81j616QBp6jZTY3Vwu7BXrGNiVmZlpOgKcrI2jJPa6XQoEpM8+kyZM6ORQ2K9N/ydV7XElFoNHU7Btgl1erhkaFTAiOzvbdAS4THZBgdkAw2+wNirqt0urH5bybjCXCXvFOgZ29ezZ03QEOFVJifTuu62G97ldmj2bRoVp4Uap6DbrWLfDpOwzzOQR2ybY5+Wa4dQPAGiPbqOkPudax1beJ9VxSUMAiGkvvmj/VI45c6SGhs7Jg/YpeUmqXGQdy7uRuSkAl6BRASOKiopUVFRkOgZcpGjqVBVNnWo2RN6N1vt15dLaR81kwT6xjoFda9euNR0BTrWXyTH3uV0qKZE+/LATQ2GfwmGp6A/WsbSRUp9zzOT5Btsm2OXlmqFRASNCoZBCoZDpGHCRUEaGQhkZZkN0H9P6kNGV90r1u8zkwV6xjoFdtbW1piPAiQIBaf78Nh/a73aJq3+YU/a6tH2hdWz4jZLP7Ecftk2wy8s1Q6MCAOzIu8l6v2aztPavZrIAADrXnDkH/twXX5Tq6jouC9qnraMpug6LTIoNwDVoVACAHRnjpd6nWsdW/lFq8Ga3GwBi2sEcFbFtm/TOOx2XBe2z5R2p4lPr2PDrJV+8mTwADgiNCgCwa8TvrPdDJVLgSTNZAACdo7hYWrhw/8vtC6d/RF/Rrdb7KQOl/j8wEgXAgaNRAQB2ZR4t9TrJOrbiLqmhxkweAEDHe/75g3+N//xH8uj55UZseU/atsckpsOvl+ISjcQBcOASTAeAN+Xm5pqOAJfJfftt0xGs8m6KHF66W/WGyFEVg2eYy4QmrGNgV05OjukIcJrTT5eOOabtxz78ULn/+Efz/Xnz9v46dXWS39+x2dBaOCwtv9k61qW/NOBiM3nawLYJdnm5ZmhUwIj09HTTEeAy6atXm45g1fM7Uo/vSNvebx4rvl3KvVSKZ4fUNNYxsCstLc10BDjN2LF7fywUUvrvf998/6ST9r4somPr/6RtH1jHhv1Wiksyk6cNbJtgl5drhlM/AOBAjfy99X5oE1cAAQAg2sJhadmeR1MMkHIvM5MHwEGjUQEjCgsLVVhYaDoGXKRw+nQVTp9uOoZVz+9IPU+0jhXfKTVUm8mDJqxjYFdxcbHpCHAZR26XvGrL21L5x9axvBuk+GQzefaCbRPs8nLN0KgAgIOx51EVNaXSmsfMZAEAwGvCYWnZHlfjShkoDbjERBoAHYRGBQAcjB7HSr1Pto6tuEuq32kmDwAAXrL5DaniM+tY3k2OmpsCgH00KgDgYI3Y86iKzdKav5jJAgCAV7R5NMVgqf9FZvIA6DA0KgDgYGVOkLK+ax1b8UepfoeZPAAAeEHpK1JwgXVsxO+kuEQzeQB0GBoVANAR9jyqonartPphM1kAAIh14bC0fI8rfXQdJvX7gZk8ADpUgukA8Ka8vDzTEeAyeXPmRG485tCJKjOOkLJPl0pfbh5b8Sdp0AwpsZu5XB7FOgZ25ebmmo4Al2naLsGMkrnS9i+tYyN+J8U59+MN2ybY5eWa4YgKGOH3++X3+03HgIv4Kyrkr6gwHWPfRtxivV9XLq1+yEgUr2MdA7uSk511GUM4nyu2S7Eq3Nj6aIrUPKnfBWbytBPbJtjl5ZqhUQEjQqGQQqGQ6RhwkVBGhkIZGaZj7Fv6OCnnTOvYynukuu1G4ngZ6xjYVVNTYzoCXMYV26VYtek/UuUi69iImyVfvJk87cS2CXZ5uWZoVMCIoqIiFRUVmY4BFymaOlVFU6eajrF/rY6qCEqr/mwgiLexjoFdgUDAdAS4jGu2S7GmraMp0g6R+jr/34JtE+zycs3QqACAjtR9jNTnXOvYyvukWg4PBgDgoG18QapaYh0bcYvjj6YAYA+NCgDoaCNuluRrvl9fKa2631gcAABiQrhBKtrjKlvdRkt9zjGTB0CnoVEBAB2t26GtD0Fd9WepdpuROAAAxIQNz0tVy6xjI26RfHykAWINf9UA0BlaHVVRFblcKQAAsK+xTlp+i3Ws+9jWk1gDiAk0KgCgM6SNbH2ZtNUPSqESM3kAAHCzdX+Tdq6wjnE0BRCzfOFwOGw6BDpGfn6+SktLlZ2drYKCAtNxgI7ja3FkgptWWTtWSO+MjJxTu9ugGdKYR8xlAtCmhQsXKj8/XwUFBRo3bpzpOHC6V1+Vpkxpvu+mbZMbNYSkecOk6g3NY+lHSN/5zLqPACBm0IIEgM6SOkwacKl1bO1fpZ2rzeQBAMCN1jxqbVJI0iF30KQAYhiNChgRDAYVDAZNx4CLBAcPVnDwYNMx7BvxOykuufl+uL71ObbocKxjYFdVVZXpCHAZ126X3KauSiq+wzrW8wSp10lm8hwEtk2wy8s1Q6MCRgQCAQUCAdMx4CKBSZMUmDTJdAz7uvSTBl1pHVv/rFS5pO3l0SFYx8CukhLmj4E9rt0uuc2q+6XardYxlx5NwbYJdnm5ZmhUAEBnG/5bKSG1xUBYWnajsTgAALhCzVZp5T3WsewzpMwJZvIAiBoaFQDQ2ZJ7SUN+aR0r+a9U8bmROAAAuMKKuyOX927ik0beZiwOgOihUQEA0TD0Gimph3Vs6fVmsgAA4HTVG6XVD1vH+n1f6j7aTB4AUUWjAgCiIbGbNOw669iWdyI/AADAqugPUmOo+b4vQRr5e3N5AEQVjQoY4ff75ff7TceAi/grKuSvqDAd4+AMniH5+1rHll4vhcNm8sQw1jGwKykpyXQEuExMbJecasdKKfCkdSz3cqnrEDN5OgjbJtjl5ZpJMB0A3pSXl2c6Alwmb86cyI3nnzcb5GDEd4lcrvSr6c1jFZ9LJXOlPmcaixWLWMfAroEDB5qOAJdp2i6h4y3/XeRy3rvF+aW8m8zl6SBsm2CXl2uGRkUUPP/887rmmmtsPeeCCy7QPffcs/8FAbjLgB9JK/4k7VzZPLbsRinndMkXby4XAABOsL1Q2vAv69jgn0ld+pjJA8AITv2AEaWlpSotLTUdAy5Smp+v0vx80zEOXlyiNPJW61jVEmn9P83kiVGsY2DX1q1bTUeAy8TMdslplu5x+e6EbtLw35jJ0sHYNsEuL9cMR1RE2dChQ3Xsscfud7nx48dHIY05ZWVlkqTs7GzDSeAWZd/8TcRExfSdJhXfKVUubh5bfrPUb5oUx3nyHYF1DOwqLy83HQEu07RdKigwnCSGbJsvlb1iHRt6beurZrkU2ybY5eWaoVERZYcffrhuv/120zEAmOSLk0beLn12RvPYrjXS2iciE24CAOA14XDry3Yn9ZKGXGUkDgCzOPUDAEzIniJlHm0dK/qDVL/TTB4AAEza/Ja07X3r2PDrpcQ0M3kAGEWjAgBM8PmkkXdYx2pKpZX3mckDAIAp4QZpya+tY136S4N+YiYPAONoVACAKb2Ol3qfYh1b+UepZrOROAAAGLH+OalykXVsxC1SvN9IHADmMUcFjEhPTzcdAS6TvmqV6QidY9TdkcNdFY7cr98hLb9VGvOw0VhuxzoGdqWlcXg57InZ7VK0NYQil+luKW2UNOBiM3k6Edsm2OXlmqFREWWVlZV6+eWXVVxcrMrKSqWlpSkrK0v5+fkaOXKkfD6f6YhRkZubazoCXCZ33jzTETpH9zFS/4uk9X9vHls7SxryCyl1mLlcLsc6Bnbl5OSYjgCXidntUrStfkiqXm8dG3W35Is3k6cTsW2CXV6uGRoVUfbmm2/qzTffbPOxQYMG6corr9T555/vmYYFAEkj/yBtfF5qrIncD9dHZj4/8gWzuQAA6Ey126SiPa6G1/N4KWuykTgAnINGhYOsWbNG1157rd544w09+uijSklJOaDXaWxs1KZNm/a5TJ8+fQ7otTtKIBCQ5O0uIewJTJwoSYrJikkZEDmCYsUfm8c2vSiVfyplTjCXy8VYx8CukpIS0xHgMk3bJY6sOHBFd0j1261jo/4YmXA6BrFtgl1erhkaFVHSt29fTZkyRccee6xGjBihHj16NDUUPvroIz311FNauXKlJGnevHm68sor9eSTTyouzv58p5s3b9YRRxyxz2Vee+21VmNjxoyRJAWDwaY/ipb8fr/y8vIkSaWlpSorK2u1THp6etMfUiAQUDAYbLVMVlZW03goFFIoFGq1TG5ubtM5WYWFhW3+Dnl5efL7/QqFQioqKmpzmWj+TtnZ2ZKkoqIifqeO/p2mTlUoI0OSlBwrv9Me/05ba6ZoRNxjSmisbFomVPAL+Sd+Kvl8rvydTP47bdu2Td27d1dubm7M/E5S7P07Oel3Wr/eeuh5LPxOUuz9Oznmd2po0LbTT1d8TU1To8L1v9M3ovXvlFi3USM3PqyWLYmKrqdo3bokaV3z7+em30na97/Ttm3bml4nVn6n3WLp38lJv9PumklOTnb877T7eR2Fq35EwamnnqpPP/1Uv/vd73TiiSeqT58+Sk5OVpcuXTRkyBBdfPHFevvttzVt2rSm57z11lv6z3/+YzA1gGhqiO+msvQrLGP+nZ9LpS8bSgQAQOfJqXhEvnBt0/1GJag0Y6bBRACcxBcOh8OmQyCisbFR5557rj777DNJ0ogRI/TOO++0+/n5+fkqLS1V79699eqrr+5zWdOnfuzu8nV05w0xyudT4fTpkqQxjz1mOEwnaqiR3hkh7VrbPJY6QjpxsRTHAXB2sI6BXbNnz9YFF1yggoICjRs3znQcON2rr6rw5UgjecysWRK70/YEF0rv5VvHBv9COuzPRuJEC9sm2OXlmuGICgeJi4vT1Vdf3XR/+fLl+51rYm+v06dPn33+AHCg+GRp5B6Tiu1YLq172kweAAA6WjgsLfm1dSyhm5R3Y9vLA/AkGhUOM2HCBCUmJjbd3z1vBQCP6He+1H2Pb3OX/U6q32kmDwAAHWnzW9KWPY4YHv5bKbmnmTwAHIljiR0mMTFRmZmZTZOSlJeXG07UObKyskxHgMtkLVhgOkJ0+OKkQ/8ofTyxeaymVFp5nzTiJnO5XIZ1DOzKzMw0HQEu45ntUkcKN7Q+msLfN3LahwewbYJdXq4ZGhUOtGvXrqbbB3qJUqfbPWst0F7ZBQWmI0RPr5Ok3qdKm99oHlv5R2nQdCm5t7lcLsI6Bnb17Mm3ubDHU9uljrL+OalykXVs5B+khNjc390T2ybY5eWa4dQPhwkEAqqqqmq67+UuGuBpo+6WWl60rX6HtPxWY3EAADgoDdXSsj3moeh2qDTgh2byAHA0GhUOM3v27Kbb3bp106hRowym6TxFRUV7vXYv0JaiqVNVNHWq6RjR0/0wqf8eO29rZ0k7is3kcRnWMbBr7dq1piPAZTy3XTpYqx+Sqtdbxw65W/LFm8ljANsm2OXlmqFR0cl27mz/BHhffPGF/vrXvzbdP+OMM5SQEJtn54RCIYVCIdMx4CKhjAyFMjJMx4iukX+Q4pKb74frpSW/NZfHRVjHwK7a2lrTEeAyntwuHaiaLVLRHdaxnidIWd81k8cQtk2wy8s1Q6Oik73yyis67bTT9MILL6iysrLNZUKhkJ588kmdf/75TYXYvXt3XXPNNdGMCsBpUvpLQ/aYYKzkP9KWd83kAQDgQCy/Warfbh0b9UfJ52t7eQCeF5tf1zvMV199pauuukoJCQkaOnSohgwZovT0dDU0NKi0tFQFBQWWeSn8fr+eeuop5qcAIA2/Xgo8JdVubR77+hrp+AWeOlwWAOBSlUukNbOsY/2+L2WMN5MHgCvQqIii+vp6LV++XMuXL9/rMocffrjuv/9+DRs2LIrJADhWYndp5K1S4Yzmse1fSev+JuVeaiwWAADt8vUvJTU234/vIh1yl7E4ANyBRkUnO/PMMzV48GAVFBSooKBAgUBA5eXlqqioUDgcVlpamvr3769x48ZpypQpOvLII01HBuA0uVdIqx+RqpY0jy29QepznpSYZi4XAAD7Uva6tPlN69jQayOnNgLAPtCo6GTJyck64ogjdMQRR5iO4ii5ubmmI8Blct9+23QEc+ISpEPvlT45tXmsplRacbd0yG3mcjkY6xjYlZOTYzoCXMbT26X2aKyTFu8x35q/jzTs12byOADbJtjl5ZqhUQEj0tPTTUeAy6SvXm06gllZp0hZk6Wy15rHVt4jDbxCSvHuRmxvWMfArrQ0jk6CPZ7fLu3P2lnSjj1Odz7kDikh1UweB2DbBLu8XDNc9QMA3OLQe6wTaDbWcLlSAIDz1FZIy262jqXnS/0vMpMHgOvQqIARhYWFKiwsNB0DLlI4fboKp083HcOstJHSwJ9axzbOlso/MZPHwVjHwK7i4mLTEeAybJf2oehWqa7cOnbo/ZLP2x892DbBLi/XjLfXFgDgNiNvkRLTrWOLr5bCjW0tDQBAdO0ollY/bB3rc67U8zgzeQC4Eo0KAHCTpB5S3h6H01Z8Jm2YbSYPAAAtff0rKVzffD8uSRp1t7k8AFyJRgUAuM3gGVLXYdaxpb+R6neZyQMAgCRteUcqfck6NuQqqetgI3EAuBeNCgBwm7ikyMSaLVVvkFbeayYPAADhhtaXI03uLQ2/wUweAK5GowIA3Cj7dKnnidaxFXdJ1ZvM5AEAeFvgKalykXVs5B+kxG5m8gBwtQTTAeBNeXl5piPAZfLmzInceOwxs0GcwueTRt8vvXu4pG8m0mzYJS27QRr3tNFoTsA6Bnbl5uaajgCXadouQaqrlJbdaB3rNlrKvcxMHodi2wS7vFwzHFEBI/x+v/x+v+kYcBF/RYX8FRWmYzhL98Na7wSue0aq+NxIHCdhHQO7kpOTTUeAy7BdaqHoNqlms3Vs9P2SL95MHodi2wS7vFwzNCpgRCgUUigUMh0DLhLKyFAoI8N0DOcZ+QcpIc06VjjT85crZR0Du2pqakxHgMuwXfpG1XJp1f3WsezTpV4nmcnjYGybYJeXa4ZGBYwoKipSUVGR6RhwkaKpU1U0darpGM7jz5LybrKOBb+IHFnhYaxjYFcgEDAdAS7DdklSOCwt/kXry5EeyuTObWHbBLu8XDM0KgDA7Yb8Qkrd4xzGJb+VaoNG4gAAPKJkrrT5LevYkGuk1GFtLw8A7USjAgDcLi5JGv2Adax2i7T8ZjN5AACxr6Fa+vpq65i/r5TH5UgBHDwaFQAQC7JOkXLOtI6teUTavthIHABAjFvxR2nXWuvYofdICalG4gCILTQqACBWHHqfFNdiZuhwg7ToZ5FziAEA6Cg710rFd1nHenxH6jvNSBwAsYdGBQDEiq6DpGG/to5te1/aOMdMHgBAbPr6Gqmx5ZUI4qTDHpR8PmORAMQWXzjMV22xIj8/X6WlpcrOzlZBQYHpOEDHabnjwypr3+p3Se+MlKrXNY/5+0oTl3M4LrAPCxcuVH5+vgoKCjRu3DjTceB0r74qTZnSfN9L26bNb0vzT7aODZopjXnITB4AMYkjKgAgliSkSKP3uJ59aKNUfIeZPACA2NFYKy36uXUsqac08lYzeQDELBoVMCIYDCoYDJqOARcJDh6s4ODBpmO4Q85ZUq+J1rGV90o7VpjJYwDrGNhVVVVlOgJcxpPbpVUPSjuWW8cOuVNKyjCTx2XYNsEuL9dMgukA8KZAICBJSk9PNxsErhGYNEmSlG42hjv4fJFzhf93mBSuj4w11kqLr5KOftVotGhhHQO7SkpKTEeAyzRtl2bNMpwkSkIlUtHvrWPp46XcS83kcSG2TbDLyzXDERUAEIvSRkqD9zg8t+w1qfQVM3kAAO625DdS/Q7r2GEPSz4+TgDoeKxZACBWjbhZSs6yji2+SmoItbk4AABt2vaxtP4f1rEBP5IyjzKTB0DMo1EBALEqsZs06o/WsZ2rpJX3mMkDAHCfxnpp0UzrWEK3yNwUANBJaFQAQCzrf6GUebR1rOj2SMMCAID9WfOItP0r69iI30v+rDYXB4COQKMCRvj9fvn9ftMx4CL+igr5KypMx3AfX1zkHOKWq/vGkFQ4UwqHjcXqbKxjYFdSUpLpCHAZT2yXqjdKy260jqWNkgZfaSaPy7Ftgl1erhmu+gEj8vLyTEeAy+TNmRO58fzzZoO4Ufq4yE7l6oeaxza/IW16Uep7nrlcnYh1DOwaOHCg6QhwmabtUixbfFXrCTTHPCrFJRqJ43Zsm2CXl2uGIyoAwAtG/kHy51jHFl8l1VUaiQMAcLjS1yIN7ZYGXCr1PM5MHgCeQqMCRpSWlqq0tNR0DLhIaX6+SvPzTcdwr8Tu0ug/W8dCm6RlvzMSp7OxjoFdW7duNR0BLhPT26X6Xa0n0EzqIY2620yeGMG2CXZ5uWZoVMCIsrIylZWVmY4BFykbP15l48ebjuFufc6Tep9iHVv9kBRcaCZPJ2IdA7vKy8tNR4DLxPR2qfh2adca69ioP0nJPc3kiRFsm2CXl2uGRgUAeIXPJ415RIpLbjHYKH31EyncYCwWAMBBqpZJK/5kHetxnDTgYjN5AHgSjQoA8JKuQ6S8PWZwD34hrZllJg8AwDnCYemrn0rhuuYxX0JkAk0fHxsARA9rHADwmqG/klL3mEV66XVSyJvnQAIAvrH+H9K2961jQ38pdRtlJg8Az6JRAQBeE58c+XaspfpK6etfmskDADCvtrz1dqBLrpR3k5k8ADwtwXQAeFN6errpCHCZ9FWrTEeILb1OkPpfFPn2bLcN/5QG/EjqPdFcrg7COgZ2paWlmY4Al4m57dKS30q1e1z9ZszDUkJXM3liENsm2OXlmqFRASNyc3NNR4DL5M6bZzpC7Dn0Hqn0Zaku2DxWOEM6cZEU7zcWqyOwjoFdOTk5piPAZWJqu7RtvhR43DqWc5aUPcVMnhjFtgl2eblmOPUDALwqubc06m7r2M4V0oq7214eABB7Guukwp9Yx+K7SqMfMJMHAESjAoYEAgEFAgHTMeAigYkTFZjo/lMSHCf3ciljgnWs+A6parmZPB2EdQzsKikpMR0BLhMz26VV90uVi61jI2+VUvqbyRPD2DbBLi/XDI0KGBEMBhUMBk3HgIsEhwxRcMgQ0zFijy9OGvuY5ItvHmuslb66Qgo3mst1kFjHwK6qqirTEeAyMbFd2rFCWnazdazbGGnwz83kiXFsm2CXl2uGRgUAeF33MdKQq6xj2z6S1s4yEgcAEAXhsPTVj6XGUItBX6R5Hcc0dgDMolEBAJBG/F5KGWQdW/IbqXqDmTwAgM4VeELa+p51bPDPpMwJbS4OANFEowIAELn83Ni/Wsfqq6SvfhL51g0AEDuqN0lf/8o61iVXOuR2M3kAYA80KgAAEb0nSgMutY6VvSptnG0mDwCg44XD0qIrpfrt1vGxs6SEVDOZAGAPnIAGI7KyskxHgMtkLVhgOoI3HHqPVPaaVFPaPLbo51KvSVJyT3O5bGIdA7syMzNNR4DLuHa7tOn/pJL/Wsf6XyRlnWIkjpewbYJdXq4ZGhUwIjs723QEuEx2QYHpCN6QlCEd9rD0xbnNY7VbpcVXS+P/YS6XTaxjYFfPnu5pxMEZXLldqi2XFs20jiX1kkbfbyaPx7Btgl1erhlO/QAAWPU9R8o5yzq24Vmp7A0zeQAAHePra6WaMuvYYQ9KST3M5AGAvaBRASOKiopUVFRkOgZcpGjqVBVNnWo6hncc9rCU0N069tV0qa7KTB6bWMfArrVr15qOAJdx3XZp8zxp3dPWsawpUt9pZvJ4ENsm2OXlmqFRASNCoZBCodD+FwS+EcrIUCgjw3QM7+jSJzJfRUvV66RlN5jJYxPrGNhVW1trOgJcxlXbpfqd0lc/to4lpEljH5V8PjOZPIhtE+zycs3QqAAAtC33MqnnCdax1Q9L5Z+YyQMAODDLfiftWmMdG/VHqUs/M3kAYD9oVAAA2ubzSWP/KsX5WwyGpS8vkxpqjMUCANhQ8YW06s/WsR7flgb+uM3FAcAJaFQAAPYudag08lbrWNUyqeg2M3kAAO3XUBNpLquxeSwuWTr8ccnHxwAAzsUaCgCwb0OultLzrWMr7pQqFpjJAwBon6JbpcrF1rERN0upw83kAYB2SjAdAN6Um5trOgJcJvftt01H8K64BGnsE9L7R0jh+shYuEFaeLF0fIEU79/38w1gHQO7cnJyTEeAyzh+u1TxuVR8l3Ws2xhp6LVm8oBtE2zzcs3QqIAR6enppiPAZdJXrzYdwdvSx0rDb5CKft88VrVUWn6zNOpuY7H2hnUM7EpLSzMdAS7j6O1SQ7VUcLEsp3z4EqX8v0lxicZieR3bJtjl5Zrh1A8AQPvk3SB1P9w6tuIergICAE6z7CZpx3Lr2IjfSd3HmMkDADbRqIARhYWFKiwsNB0DLlI4fboKp083HcPb4hKlcX+LfCvXpFFaeIlUv8tUqjaxjoFdxcXFpiPAZRy7Xdr2kbTyPutY+nhp2G/N5EETtk2wy8s1Q6MCANB+3UdLI39vHdtRLC27wUweAECz+p2R5rHCzWNxSZEmcxxnfANwDxoVAAB7hv5KyjjSOrbqAWnrB2byAAAilvxW2rnKOjbyD1K3Q8zkAYADRKMCAGBPXMI33861vNpH+JtTQHaYSgUA3rblf9Kah61jmUdLQ39pJg8AHAQaFQAA+9JGSIfcbh3btUZa8mszeQDAy+oqpYWXWsfiu0jjnpF88UYiAcDBoFEBADgwQ34hZX7LOrbmUWnzPDN5AMCrvr5Wqg5Yxw65U0odbiYPABwkZtWBEXl5eaYjwGXy5syJ3HjsMbNB0MwXH/m27t0xUkOLq358eal04mIpsbuxaKxjYFdubq7pCHCZpu2SaWVvSIHHrWM9vi0N/pmZPNgrtk2wy8s1wxEVMMLv98vv9+9/QeAb/ooK+SsqTMfAnlKHSqPuto5Vr5cWX2MmzzdYx8Cu5ORk0xHgMo7YLtUGpS8vt47Fd5XGPS352M13GrZNsMvLNcMaDEaEQiGFQiHTMeAioYwMhTIyTMdAWwbNkHqeYB1b95RUMtdMHrGOgX01NTWmI8BlHLFdWjRTCm20jh36J6nrYDN5sE9sm2CXl2uGRgWMKCoqUlFRkekYcJGiqVNVNHWq6Rhoiy9OOvwpKSHVOv7l5VKoxEgk1jGwKxAI7H8hoAXj26X1z0kbnrOO9ZooDfyJmTzYL7ZNsMvLNUOjAgBw8LoOlA79s3Wsdqu08EdSuNFEIgCIXTvXSoUzrGMJ3aXDn5R8PiORAKAj0agAAHSM3EulnLOsY5vflFY/bCYPAMSicIO08CKpvtI6PvYxKWWAmUwA0MFoVAAAOobPJx3+uOTPsY4v+bW0fbGZTAAQa4rvkrZ9ZB3rd6HU73wzeQCgE9CoAAB0nKQe0ri/Wccaa6SCH0gN3pwMCgA6TMXn0vJbrGMpA6UxHLkGILbQqAAAdKzek6Qhe1yetHKxtPQ6M3kAIBbU75AW/EAK17cYjJPyn5USuxuLBQCdwRcOh8OmQ6Bj5Ofnq7S0VNnZ2SooKDAdB+g4LScGY5XlDg010vtHSpWLrOPHvCn1PtlMJmAfFi5cqPz8fBUUFGjcuHGm48DpXn1VmjKl+X40tk1fXiEFnrCO5d0kjby1898bAKKMIyoAAB0vPlka/08pzm8dL7hYqtlqJhMAuNWmf7duUmQcFWlUAEAMolEBI4LBoILBoOkYcJHg4MEKDh5sOgbs6DZKGvVH61hNqfTl5Z3+7SPrGNhVVVVlOgJcJmrbpeqNkaMpWorvGjnlIy6x898fHYZtE+zycs0kmA4AbwoEApKk9PR0s0HgGoFJkyRJ6WZjwK7BM6Wy16TNbzSPlc6NfDM48Iq9P+8gsY6BXSUlJaYjwGWatkuzZnXem4QbpYWXSHXl1vHDHpJSh3be+6JTsG2CXV6uGY6oAAB0Hp9PGve0lNTLOr74KmlHsZFIAOAaq/4sbZlnHetzrjTgEhNpACBqaFQAADqXP1sa95R1rGGX9MX5XLIUAPYmWND6akn+vtLYWdZJpgEgBtGoAAB0vuwp0qCfWse2fyl9fa2ZPADgZHXbpc+nSo21LQZ9Uv7fpaRMY7EAIFpoVAAAomPUPVLaIdaxNY9IG180kwcAnCgcjkyeuWu1dXzotVKvE81kAoAoo1EBI/x+v/x+//4XBL7hr6iQv6LCdAwcjIQU6Yg5UnwX6/iXl0k7V7f9nAPEOgZ2JSUlmY4Al+m07dLax6RNL1jHMo+WDrm9498LUcW2CXZ5uWa46geMyMvLMx0BLpM3Z07kxvPPmw2Cg9NtlHTYw5HmxG71ldIX06TjPpLikzvkbVjHwK6BAweajgCXadoudaTgV9Liq61jiRnS+NlcijQGsG2CXV6uGY6oAABE14AfSf0utI4FF0hLfmMmDwA4QV2l9MVUqbHGOj7uGSllgJFIAGAKjQoYUVpaqtLSUtMx4CKl+fkqzc83HQMdweeTxj4qpe7xLcHqB6RN/+mQt2AdA7u2bt1qOgJcpkO3S+Gw9NV0aecK6/iQq6WcMzrmPWAc2ybY5eWaoVEBI8rKylRWVmY6BlykbPx4lY0fbzoGOkpCamS+irg9zrv88lJp59qDfnnWMbCrvLzcdAS4TIdulwKPSxtnW8cyjpRG3dUxrw9HYNsEu7xcMzQqAABmdD9MOuwB61hdUFowbY9L8gFADNu+SFr0C+tYQvdv5qVgklcA3kSjAgBgTu4VUt/zrWMVn0tLrjOTBwCiqX7HN/NShKzj456Wug4ykwkAHIBGBQDAHJ9PGjtL6jrUOr7qPqnkZTOZACAawmHpq59KO4qs44N/JvU5y0wmAHAIGhUAALMSu30zX8UelyZdeHGHzFcBAI4UeEra8Kx1LD1fGvUnM3kAwEESTAeAN6Wnp5uOAJdJX7XKdAR0pvTDpdH3S4UzmsfqKqTPz5G+/ZEU38Xey7GOgU1paWmmI8BlDmq7VPGFtOhK61jCN03b+OS2nwPXY9sEu7xcMzQqYERubq7pCHCZ3HnzTEdAZxv4E2nLu9KmF5rHti+MHBo97unIaSLtxDoGduXk5JiOAJc54O1SzZZIE7axxjp++JNS18EHHwyOxbYJdnm5Zjj1AwDgDD6fdPgTUmqedXz936S1j5nJBAAdqbFeWnCBVL3eOj7kKqnvuUYiAYAT0aiAEYFAQIFAwHQMuEhg4kQFJk40HQOdLbGbdNR/pIRU6/iiX0jln7T7ZVjHwK6SkhLTEeAyB7RdWnaDtOUd61iPb0uj/thxweBYbJtgl5drhkYFjAgGgwoGg6ZjwEWCQ4YoOGSI6RiIhrSR0uHPWMfCddLn50qh0na9BOsY2FVVVWU6AlzG9nZp44vSij0aEv4+0hHPS3GJHRsOjsS2CXZ5uWZoVAAAnKfvOdKw31jHQpukL6ZKjXVmMgHAgapcKn35I+uYL1E68kXJn20mEwA4GI0KAIAzjbxN6nWSdWzbh9LXvzKTBwAORN126fOzpPod1vHDHpAyjzaTCQAcjkYFAMCZ4hKk8f+Sugywjq9+QFr/TzOZAMCOcKNUcLG0o9g6PuCSyJWOAABtolEBAHCu5F7Skf8nxSVbx7+6XNq+yEwmAGiv4ruk0rnWse7jpDF/sXXJZQDwmgTTAeBNWVlZpiPAZbIWLDAdAaZkjJfGPCp9eWnzWEO19NlZ0vELpKSMVk9hHQO7MjMzTUeAy+x3u7T5LWnZjdaxpB7SUf+W4rt0XjA4Ftsm2OXlmqFRASOys5k4CvZkFxSYjgCTcn8kVXwmrZ3VPLZrtbTgAmnCK5HTRFpgHQO7evbsaToCXGaf26UdK6UvLpAUbjEYFzmdLSW3s6PBodg2wS4v1wynfgAA3GH0A1LGUdaxzW9KX19rJg8AtKU2KH16ulRXbh0/5Hap9yQjkQDAbTiiAkYUFRVJkvLy8gwngVsUTZ0qSaJiPCw+OXIpv/fypZrNzeOrH5C6HSIN/HHTEOsY2LV27VrTEeAyTdulOXOaBxvrpQXnSzuWWxfOOav1JZfhOWybYJeXa4ZGBYwIhUKmI8BlQhmt5yGAB3XpJx35b+njE6XG2ubxwiulrsOkXidIYh0D+2pra/e/ENBCm9ulr38ZOdKrpW6HSeP+xuSZYNsE27xcM5z6AQBwlx7fksY+bh0L10ufnxM5LxwATFgzS1r9oHUsubc04SUpMc1MJgBwKRoVAAD3GfDD1odR11VEzguvDRqJBMDDtvxPWjTTOhaXJB31XybPBIADQKMCAOBOh9whZX/POrZjubRgWuQICwCIhhxJn5/ber0z9gkp82gjkQDA7WhUAADcyRcnjX82cv53S5vfUp/ye81kAuApcQk10vWKHNHV0vDrpAEXGckEALGAyTRhRG4uh0HCnty33zYdAU6UkBo5//v9Iy1XAulV+S91zRovaYy5bHCVnJwc0xHgMrnvvKWul5dK/fZ4IOdMaeRtJiLB4dj/hV1erhkaFTAiPT3ddAS4TPrq1aYjwKlSciPngX90vOVKICkrfy31Hiv1OtFUMrhIWhqTHcKe9OPXtL5mdrcxUv4/Ikd8AXtg/xd2eblmWIsCANwv82jp8CetY+EG6b3TpKoiM5kAxK6GV6TT9hhLzooc4ZWQaiQSAMQSjqiAEYWFhZKkMWM4LBvtUzh9uiQO5Mc+9L9QqloqFd/ZPJYYkj45Vfr2J5I/21w2OF5xcbHpCHCLTf+VGmdZx+KSv7nCxwATieAS7P/CLi/XDEdUAABix8jbpN6nW8d2rZU+mSzVVRmJBCCGbJsvLbhAUtg6fvhTUuYEI5EAIBbRqAAAxA5fnDT6Se3a3ss6vv1L6YvzpMY6M7kAuF9VkfTp6VJjyDqefZXU//tGIgFArKJRAQCILQmpWlNwqmp2dbOOb35T+vIKKRxu+3kAsDeh0shpZHXlluFtqWdJR91nKBQAxC4aFQCAmFNfm6LVC74rVe7xwPq/Sct+ZyQTAJeqq5I+OS1yGlkLlV2+pQ09r5d8PjO5ACCG0agAAMSk2l3p0u2S4rtYHyi+TVozq62nAIBVY13ktLHtC63j6fkK9P6T5Es0kwsAYhxX/YAReXl7Xngc2Le8OXMiNx57zGwQuEJTvVRIGj9b+uwsSY3NCxTOkPx9pJzT23o6PCg3N9d0BDhNOCx99ePIaWMtpQyWJryqYepuJhdci/1f2OXlmuGIChjh9/vl9/tNx4CL+Csq5K+oMB0DLmGpl5wzpDGP7LFEo7RgmlT+WdSzwZmSk5NNR4DTLL9ZWveMdSyph3TM65I/i30Z2EbNwC4v1wyNChgRCoUUCoX2vyDwjVBGhkIZGaZjwCVa1cugn0jDr7cu1FAtfTpF2rEiuuHgSDU1NaYjwEnW/lUq+oN1LL6LNOEVKXW4JPZlYB81A7u8XDM0KmBEUVGRioqKTMeAixRNnaqiqVNNx4BLtFkvI2+T+v/QOla7VZp/slS9MXrh4EiBQMB0BDjFxhelr366x2Bc5DSyzAlNI+zLwC5qBnZ5uWZoVAAAvMHnkw5/XOo1yTq+a6308USpZouRWAAcpOx1acH3ZZnTRoqcPpZzhpFIAOBFNCoAAN4RlyQd+X9S98Ot4zuWS/NPkWqDRmIBcICt70ufnS2F66zjw6+PnD4GAIgaGhUAAG9JTJOOeUNK3WMm7e1fSp+eJtXvNJMLgDkVX0ifni417nEu+MCfRE4bAwBEFY0KAID3JPeWjnlb6rLHJSnL50ufnSk1eHPiKsCTKr+W5p8q1VdZx/tdGDnlw+czkwsAPIxGBQDAm1L6S9+aJyVnW8e3zJO+OF9qrGv7eQBix46V0seTpLpy63jOmdK4pyUfu8oAYIIvHA6HTYdAx8jPz1dpaamys7NVUFBgOg7QcVp+m8UqC/tTXS2lpDTf31/NVH4tffid1h9U+v1Ayv87H1Q8YuHChcrPz1dBQYHGjRtnOg6iYdd66cPjpOo9rvjSa5I04WUpPtlMLgAAR1QAADyu26HSMW9KCWnW8Q3PSYVX0hwDYlHNZmn+xNZNisxjpKP+Q5MCAAyjUQEjgsGggsGg6RhwkeDgwQoOHmw6BlzCdr1kjJcmvCrFd7GOr31MWvIbmhUeUFVVtf+FEBtqK6SPT5Z2FFvHux8eWQ8kdG3Xy7AvA7uoGdjl5ZpJMB0A3hQIRL7BSE9PNxsErhGYNEmSlG42BlyiqV5mzWr/k3oeJx35b+nTM6yXJ1z5JykuMTLzP5PqxaySkhLTERANtRXS/JOlykLreOqIyJFVSentfin2ZWAXNQO7vFwzHFEBAMBuWadK4/+lVpvH4jukpddxZAXgZrXl0scTpeAC63jKoG8m1u1lJhcAoBUaFQAAtNT3HGncU63HV9wtLfk1zQrAjWq3SR+fJG1faB3350SaFF36mskFAGgTjQoAAPY04GJp7BOS9jjVY+U90tfX0KwA3KRmi/TRidL2r6zj/j7Sse9JXZn/CACchkYFAABtGXiZdPhTatWsWPVnafFVNCsAN6jZLH18olS5yDrepZ907PtS6nAzuQAA+8RkmjDC7/ebjgCX8VdUmI4AF+mwesm9RPLFSwsvkdTYPL76QSlcLx32kOSj5x8LkpKSTEdARwuVRZoUVUut4136S8e+K3UdclAvz74M7KJmYJeXa8YXDvOVUKzIz89XaWmpsrOzVVBQYDoO0HFaXmmBVRb2p7paSklpvt8RNbP+n1LBRbI0KyRp4HRpzF9oVsSAhQsXKj8/XwUFBRo3bpzpODhYoZLI6R47llvHu+R+06QYZCYXAKBd2LMCAGB/+n9fGv/PyNEVLa2dJX01XQo3tv08ANFXvUn66PjWTYqUQdJx79OkAAAX4NQPGFFaWipJys7ONpwEblGany9JomLQHk310pFHl/WbFjlyYsEFUriheTzwhNRYJx3+hBTHZtWttm7dajoCOsLOtdL8SdLOldbxlMGRIylSBnTYW7EvA7uoGdjl5ZphjwpGlJWVSfLmHx0OTNn48ZJoVKB9muqlo0+D63te5KiKL6ZF5qjYbf3fpLpy6YjnpfguHfueiIry8nLTEXCwKr+W5p8ihTZZx7sOjTQpuvTr0LdjXwZ2UTOwy8s1w6kfAADY0eds6cgXJV+idbz05ciHpNqgkViAp22bL3347dZNitThkat7dHCTAgDQuWhUAABgV873pKP+I8XtMRv3tg+lj74TmcgPQHSUvS7NnyjV7XG1n26HSse+J3XpYyQWAODA0agAAOBAZJ8mfettKaG7dbxykfTBsdLOVWZyAV6y/jnp0zOkhmrreOYx0rEfSP4cM7kAAAeFRgUAAAeqx7HScR9IyXucO7prtfTBt6TgV0ZiAZ6w6gGp4ELrfDGSlHWadMzbUlKGmVwAgIPGZJowIj093XQEuEz6Kr6dRvtFtV66HyZ9e/43Vxpo8b41ZZHTQCa8JPX8TvTy4ICkpaWZjoD2CoelZTdKxXe0fqz/RdLhT0pxia0f62Dsy8AuagZ2eblmaFTAiNzcXNMR4DK58+aZjgAXiXq9dB0kHfex9Mmp0vavmsfrKyMTbB7xfGReCzhWTg6nCLhCuEEqnCGt/Wvrx4ZcLR16T+QywlHAvgzsomZgl5drhlM/AADoCP6syMR9PfY4eqKxRvrsbGn1I0ZiATGjfkfkb6mtJsUhd0qH3hu1JgUAoHOxNocRgUBAgUDAdAy4SGDiRAUmTjQdAy5hrF4Su0vHvCHlnLnHA43SopnSop9LjfVtPROGlZRwpRZHq94gfXicVPrSHg/ESWMfl4b/VvL5ohqJfRnYRc3ALi/XDI0KGBEMBhUMBk3HgIsEhwxRcMgQ0zHgEkbrJd4vHfGClHtZ68dWPyR9doZUVxn9XNinqqoq0xGwNxULpPePtJ5WJUlxSdKRL0gDLzcSi30Z2EXNwC4v1wyNCgAAOlpcQuRb3rybWj9W9rr04beknWujHgtwnY3/J330bSm0xxEviZnSMW9Jfc42kwsA0KloVAAA0Bl8PmnkrVL+s5Fvfluq/Fr64Cip/FMz2QCnC4el4julL86VGqqtj6UOl77zKVfTAYAYRqMCAIDO1P8H0rf+JyX1tI7XbJY+Ol7aMNtILMCxGmulLy+Vll7f+rGeJ0jf/kRKHRb9XACAqKFRAQBAZ+vxLek7n0lph1jHG2ukBRdIy2+NfIMMeF3tNunjSdK6Z1o/lntZZLLapMyoxwIARFeC6QDwpqysLNMR4DJZCxaYjgAXcWS9dB0sfXu+9MVUafNb1seW3yxVLZUOf0JKSDWTz+MyM/nwa9z2RdLnZ0s7V+3xgE8a9Udp6C+jfmWPfWFfBnZRM7DLyzVDowJGZGdnm44Al8kuKDAdAS7i2HpJ7C5NeFVa/HNpzaPWxzY+L1Uulo78PylthJl8HtazZ8/9L4TOs+4fUuH01vNRxKdI+c9Jfc40Emtf2JeBXdQM7PJyzXDqBwAA0RSXIB32iDT6AbXaDFctld4/Qtr4opFoQNQ11Ehf/VRa+MPWTQp/X+m4jxzZpAAAdC6OqIARRUVFkqS8vDzDSeAWRVOnSpKoGLRHU73MmWM4yV74fNKQn0tdh0oLvi/Vb29+rH6H9MV5UsUvpUPulOISzeX0kLVr15qO4D271n1T65+3fiz9COmo/0hd+kY/VzuxLwO7qBnY5eWa4YgKGBEKhRQKhUzHgIuEMjIUysgwHQMu4Zp6yZ4snVAgdRvT+rGV90ofnySFSqKfy4Nqa2tNR/CWzW9J741ru0kx6KfScR86ukkhsS8D+6gZ2OXlmqFRAQCASV2HRCbZ7H9x68e2fSi9O07a+mH0cwGdIdwoFd0mzT81coWPluK7SOP+Lo35ixSfbCYfAMARaFQAAGBaQoo07mlp7CwpLsn6WE2p9PEJ0sr7uIQp3K22XPr0DGnZTZL2qOWuQ6VvfyoNuMhINACAs9CoAADACXw+aeCPpeM+lrrkWh8LN0hf/1L69DQpVGomH3AwtvxPeneMVPZq68dyzpSOXyB1PyzqsQAAzkSjAgAAJ8kYH5m3ovcprR8re13632ip5KXo5wIOREON9PWvpI8nStUb9ngwThp1t3TkvyOX7gUA4Btc9QNG5Obm7n8hoIXct982HQEu4vp6SeohHf1q5Fz+5b+X5TD52q3SZ9+LHH1x6H1SQldjMWNJTk6O6Qixp3KJtOAHUmVh68eSe0vjZ0u9Toh+rg7CvgzsomZgl5drhkYFjEhPTzcdAS6Tvnq16QhwkZioF1+8NOJmKfMYaeHFra/+sfav0pZ3pfHPShlHmskYQ9LS0kxHiB3hRmn1w9KSX0uNNa0f7zVRGveM46/qsT/sy8AuagZ2eblmOPUDAAAn6z1JOmGRlHNW68d2rpA+OCZy5EVjffSzAXsKlUifTJYW/6J1kyIuKXIU0DFvur5JAQDoXBxRASMKCyOHgY4ZM8ZwErhF4fTpkiQqBu3RVC+zZhlO0kGSe0pH/p+07mlp0c+lhp3Nj4UbIldRKHtdyv+H1HWwuZwuVlxcbDqC+236j/TVFa0vOypJ3Q6V8v8pdR8d/VydhH0Z2EXNwC4v1wxHVAAA4AY+n5R7qXRioZQxofXj5fOl/x0qrbiHoysQXaES6fOp0udnt92kGHK19J0vYqpJAQDoXDQqAABwk65DpOM+lEbcEpnHoqWGamnJr6T3j5SCC43Eg4eEG6W1j0vzRkqbXmj9uL+PdMxb0uj7pHh/9PMBAFyLRgUAAG4TlxCZaPO4D6WUNk712P6l9N4R0tfXSvU7Wz8OHKyq5dJHx0tf/Viq39768T7nSCcuisyxAgCATTQqAABwq8yjpRO+kgbNkOTb48FGaeW9kdNByt40EA4xqaFGWn6r9O4YaduHrR9P6iGN+7t0xAuR2wAAHAAaFQAAuFlimjTmEem4j6S0Ua0f37VW+uRUacEPpJrNUY+HGLLtY+m9w6XlN0uNta0f73+RdNIyacBFkTlVAAA4QL5wOBw2HQIdIz8/X6WlpcrOzlZBQYHpOPsUCoUkSX4/56yiHXw+hTIyJEn+8nLDYeB41dUK9Y1c+tBfUSF5aTPXWCut+KNU9Ie2P0gmZkojfy8NnC7FJUY/n4N98sknOuaYY1RQUKBx48aZjuMsoRJp6Y3SuqfafjxlkDT2Man3ydHNZRj7MrCLmoFdXq4ZjqiAEX6/35N/cDhw/oqKyIdOoB08Wy9xSVLejdIJi6Qe32n9eF25tOhn0v9GS6WveKuJsx/JycmmIzhP/S6p6Dbp7WFtNyl88dLQX0knLvZck0JiXwb2UTOwy8s1Q6MCRoRCoaYOIdAeoYyMpqMqgP3xfL2k5UnH/k8a+4SUmN768R1F0qenS/NPlrYvino8x2lsVM2ib/4/rFtnNosThBul9c9J7+RJy26SGtqYkDU9P3LJ0UP/KCV0jX5GB2BfBnZRM7DLyzVDowJGFBUVqaioyHQMuEjR1KkqmjrVdAy4BPUiyRcnDbwsMmdA3/PbXmbLPOndw6Uvr5BCpdHN5ySffqrAyy9Hbk+fLjU2ms1j0raPpPcnSAUXStUbWj+ekCodep/07U+l9MOjn89B2JeBXdQM7PJyzdCoAAAglvmzpSP+FbmUafr4NhZolAJPSPOGSUV3SA3VUY9o3OzZzbc3b5bmzzeXxZSdq6XPp0ofHicFv2hjAZ+Ue7k0cYU09OrIJXIBAOgkNCoAAPCCHsdK3/lMyv+H1KVf68frd0jLbpDeHiKt/HNkfgIvaGiQ5syxjrVsXMS6nWukL38szRshbXqh7WV6nSSd8KV0+OORxhcAAJ2MRgUAAF7hi5P6XyidVCSNuFWKT2m9TKhE+vpq6e3B0op7pfo25ieIJe+/L5WVWcdeeEGqrzeTJ1p2rpIWXibNGy4FHpfCda2XSc2TJrwsHfO21H1M9DMCADyLRgUAAF6TkCKNuClyGP+AH0nytV6mpkxacq301kCp+O7IERexqK2jJzZvlt57L+pRomJHsVRwsTQvL3Ilj3AbDZnETGn0g5GreWRPkXxt1AcAAJ2IRgUAAF7VpY807inp+AKp18S2l6ndKi39baRhUXSHVFcZ1YidqrZW+r//a/uxWDv9o2qZtOBCad5Iaf3fpXBD62Xi/NKQa6RJK6UhP5PiEqOfEwAASb5wmIuox4r8/HyVlpYqOztbBQUFpuMAHaflt3mssrA/1dVSSotTGqiZ9ts2Xyq6Vdr85t6XSUyXci+TBs2Qug6OWrRO8dpr0mmnSZIWSsqXVCBpnCSlp0dOCUlKMhbvoIXD0pZ3pNUPS6UvSdrL30J8F2ngT6Vh10r+nKhGBACgLRxRAQAAInocIx3zRuTSk1mT216mLiitvFd6e6j0yelS2ZtS2KWX89zXURPBoPTWW1GL0qHqqqTVj0jvHCLNnySVzlWbTYr4FGnor6RJa6TR99KkAAA4BteWghHBYFCSlJ6ebjQH3CM4OPLNbbrZGHCJpnpZvdpwEpfKPEo6+lWpYoFU9Idvvo3fU1gqeyXykzpcGnSlNOBiKbF71OMekOpq6T//abpb1bevtHGjdZnZs6UpU6Ic7CBUFUWOnlj/N6m+au/LJaRKg2ZKQ6+RkntFL1+MYV8GdlEzsMvLNUOjIspqa2v10ksvae7cuSoqKtLWrVvVvXt39e/fX5MnT9bUqVOVmZlpOmanCwQCkrz5R4cDE5g0SRKNCrRPU73MmmU4ictljJcmzJWCX0ZOCSn5b9vL7SiWFv8icnnT/j+Ucq+IXCXCyZMwvvaatKN5gtCSo46S/v1v6zJz50q7dllPJXKaxlqp9DVpzV+kLW/ve9mENGnwz6WhV0tJPaKTL4axLwO7qBnY5eWaoVERRStXrtSMGTO0ZMkSy/jmzZu1efNmFRQU6NFHH9V9992nk046yVBKAAD2kH64dNR/pB0rIh+IA09J9W1Mqlm/I/L4mr9IaSOlfj+Q+l3gzLks2jNZ5o4dkYbGued2fh47wo3S1g+kDf+UNr0o1VXse/m0kZEjKPpfJCWmRScjAAAHgTkqomTTpk2aNm1aU5PC5/Pp6KOP1vnnn69JkybJ7/dLkrZu3arLLrtMH330kcm4AAC0ljpMGn2/dOpGacxjUtqovS9btUxadqP09hDp/aOlVQ9JobLoZd2XqirplVfat6xTrv4RDkeObPn6V9KbA6SPT5ACj++jSREn5ZwpfWuedOISafAMmhQAANfgiIoomTlzpkpLSyVJ/fr101NPPaVRo5p38MrLy/XTn/5UH330kerq6jR9+nTNnz9f3bu75FxfAIB3JKRKg6ZLA38sbX1fWvNw5LSQti55KUkVn0Z+Fl8l9Z4o9T0/MlmnPyuaqZu99JIUCrVv2VdflSorpW7dOjdTW8JhqXKxVDI3cvTEjuX7f05SDyn3cmnQT6WU3M7PCABAJ6BREQXvvPOOPvvsM0lSUlKSnnnmGY0cOdKyTGZmpp5++mlNnDhRgUBAwWBQf/nLX3TdddeZiAwAwP75fFKv4yM/u9ZLa2dJ6/8hVa/byxMapc1vRX4kqfvhUtZ3pd6nSpkTpLjE6OS2c5REKBRpbFx4Yeflaam2QtoyTyp7PXKZ2NCm9j2vx3HSgB9J/c6PXG4UAAAXo1ERBc8880zT7fPOO69Vk2K3lJQUXXvttfrZz34mSXr22Wf1q1/9SgkJsffPtPtUF6C9/BX7OQcbaIF6MSClv3TIbdLIW6XyTyJHAGycI9Vu3ftztn8Z+Sm+Q0roJvWaKGWdGmlcpPTvnJzl5dKbb7YaTqrax1UyZs/uvEZFuFEKFkhlb0ib35DKP5XUzsu9djtM6vf9SHOCoyeijn0Z2EXNwC4v14wvHA63cWFtdJSdO3dq9OjRqqmpkSTNnTtX48eP3+vyoVBIhx12mHbu3ClJev7553Xssce2673y8/NVWlqq7OxsFRQUHHx4wClaXjmAVRb2p7raepUGasacxjpp89uRpkXJf6WGne1/bsogKePI5p/u46SEDrj6xpNPSpdf3mp4oaR8SQWSxu35YEKCVFYmdcRVuUKlUsXnzT/BL6S6YPufnzLwm+bEBVK3Qw8+DwAADhR7X9U7zIIFC5qaFCkpKRo7duw+l/f7/crPz9cHH3wgSfr444/b3agAAMBR4hKl7MmRn/qdUunLkaMstsyT6vdxBIMk7VoT+dn4fOS+L15KO1TKPEpKP1JKHyd1HWp/gsgDmRyzvj5y6dI2Ghx7FQ5LNWVS1XIp2KIxUb3e/vunDJSypkSaE5lHO/uyrwAAdAAaFZ1sxYoVTbdHjBjRrtM4Ro8e3dSoWLlyZadlM2n3xKLZ2dmGk8AtSvPzJUlUDNqjqV44usw5ErpGTlHod37kSIvyT76Zh+ENaftX+39+uEGqLIz86K/N48lZkYZF16FS6lCp67DIf1OGSIndrR/qy8qk//2vzZffOnKktGzZ3t9/9uzWjYpwoxQqkXaulHaslHauaHF7pb0jSFqK80s9j4/M35F1auR3ojnhOOzLwC5qBnZ5uWZoVHSyVatWNd3u169fu57Tp0+fptux2qgoK4tcos6Lf3Q4MGXfnDJFxaA9muqFRoUzxSVKPb8d+Rl1Z+TD/ua3vpmn4S2prrz9r1VTFvkp/7iN90mSEjOlpMzI1TA2bJdmNEpVknZIqpH0zZlBjQMTpWWSjpW0+4JbcZJSJKVKSntHeu8kybdDqi2P/NRVNL/AwUod0Tw/R89vMyGmC7AvA7uoGdjl5ZqhUdHJKlpM6NarV692Pad3795Nt4PBoO33bGxs1KZN+54lvGUzBDDugw+kRx5p37LTpu39sR//WDrppI7JBCB6/DnSgIsjP+EGqXKJdR6HysVq9wSTLTXWSjWlkR9J6iJpL6uI3qsWRW6cKWnIXl4v2PbRGLYlpErpR1jn4OjSvi8zAADwAhoVnWz3pJhS+2dtbblcy+e3V1lZmcaMGbPPZR566KFWY8OHD5ckVVVVqaSkpNXjSUlJGjhwoCRp69atKi9v/Y1XWlqacnJyJEklJSWqamMW9czMzKbnrlq1SrW1ta2WycnJUVpa5Lzj4uLiNn+H3NxcJScnq6amRoFAoM1lovk79ezZU5K0du1afie7v1NmpvTCC6rq00clRx3V+neaNEm1W7ZIksqWLVN5G1fOSduwQTk1NdLChc74nWLx38ktv1NDg4JpaUrbsEENkmo++cT9v9M3Yurfab+/U6qkEyWdqOGD+0tVyxTaulB1275Ucu0qJTZsUUeeDLFsg/W/HaXRl6CahH4KJQ1VKHGIQklDVZeQo+F9Rko1UtWKKpWUfNTqee75d2oWO7XXvt8pGAwqPj5eDQ0NMfM7SbH37+Sk32n3F5C7du2Kmd9pt1j6d3LS77S7ZsrKyhz/O51//vltvt6BolHRyXZPpClJiYntuz58UlJS0+1QKGT7PRsbG7V16z4uByfpggsusP26QKfbuDEyYd3+7O088tNO69g8iA3HHGM6AVzkwj939CvWS1r7zc+8jn5xAAAcgUaFyyQnJzfdrqura9dzWnbIDuTauT179tTf/va3fS7T3tNQOsvuLt/ujh2g//xHuu22vT5cfPbZkqThe2tk/OY30tSpnZEMbhMKqfjeeyV9Uy/MU+E9DbVSbZlUVynVbZfqK6XKUilULjXukBqqvrnqSPP2duHK7bri3rV69rphGjmgxWVQ41KkuDQpIS3y37QsqUsPKbGblNBdSsyQknsy2aUHsS8Du6gZ2OXlmqFR0cm6du3adLu9R0e0XK7l89srOTlZp5xyiu3nRVOPHj0kRQ4/AiRJAwdKd90VuQxgG3pUVkqS2qyYuDjp6qulrKxOiwcXqa621su4cUbjwB1KXn1VuneKRp47W+OoGbQD+zKwi5qBXV6uGRoVnSwjI6Pp9pZvzrHfn82bNzfdTk9P7+hIjuDFPzbsR2amdMop0quvtvlw7rx9HDJ94ok0KWCxz3oB2rD7/GCgvdiXgV3UDOzycs3EmQ4Q64YMaZ46fMOG9s3Q1fKKHUOHDu3wTIBjHei5bR18ThwAAAAAc2hUdLJhw4Y13V6+fLnq93JYe0uLFy9uuh2rjYpAILDXmWbhYWecIe1lXpbAxIkKTJzY+oHEROmsszo5GNxmr/UC7EVbM5sD+8K+DOyiZmCXl2uGRkUnGz9+fNOEmrt27VJhYeE+l6+pqdHChQub7n/rW9/q1HymBIPBpsvtAE26ddvrlTuCQ4Yo2OIIpSannBI5bQRoYa/1AuxFW5e4A/aFfRnYRc3ALi/XDI2KTta1a1dLs2HOnDn7XP7111/Xjh07JEXmp5gwYUKn5gMcx+5pHJz2AQAAAMQUGhVRcPHFFzfdfuGFF1RUVNTmctXV1frTn/7UdP/CCy9UQgLzncJjJk+WUlPbt6zfHzldBAAAAEDMoFERBRMnTtRRRx0lKXJqx8UXX6ylS5dalikvL9ell16qtWvXSoocTTFjxoxoRwXMS0mRvve99i07ZYqUlta5eQAAAABEFV/XR8nDDz+sKVOmqKysTOvXr9fJJ5+sCRMmaODAgdq2bZs+/PBDVVdXS5ISEhL02GOPqXv37oZTA4acf7703HPtWw4AAABATKFRESV9+vTRnDlzNGPGDC1ZskThcFiffPKJPvnkE8tyPXr00H333afjjjvOUNLoyMrKMh0BTnbyyVJ6utRi8qCsBQusy6SmRk4TAdrQql6A/chkUl7YxL4M7KJmYJeXa4ZGRRQNHTpUr7zyiubOnau5c+eqqKhIW7duVbdu3TRgwABNnjxZ06ZN88TOUnZ2tukIcLKkJOmcc6Qnn2wayi4osC5z5plSly7RzQXXaFUvwH707NnTdAS4DPsysIuagV1erhkaFVGWlJSk8847T+edd57pKICznX++pVHR5uMAAAAAYg6TacKIoqKivV79BJAkHX+81Lt3092iqVNVNHVq5E5GhjRpkplccAVLvQDtsHsya6C92JeBXdQM7PJyzdCogBGhUEihUMh0DDhZQoLU4sijUEaGQhkZkTvnnBM5PQTYC0u9AO1QW1trOgJchn0Z2EXNwC4v1wyNCgDOtbfTOzjtAwAAAIhZNCoAONcxx0j9+1vHsrIip4UAAAAAiEk0KgA4V1ycNG2adWzqVCk+3kweAAAAAJ2ORgUAZ9vzNA9O+wAAAABiGpcnhRG5ubmmI8Atxo2TLrtMuY2NUpcu0oQJphPBBXLfftt0BLhMTk6O6QhwGfZlYBc1A7u8XDM0KmBEenq66QhwC59PeuIJpZvOAVdJX73adAS4TFpamukIcBn2ZWAXNQO7vFwznPoBAAAAAAAcg0YFjCgsLFRhYaHpGHARagZ2FE6frsLp003HgIsUFxebjgCXYbsEu6gZ2OXlmqFRAQAAAAAAHINGBQAAAAAAcAwaFQAAAAAAwDFoVAAAAAAAAMegUQEAAAAAABwjwXQAeFNeXp7pCHAZagZ25M2ZYzoCXCY3N9d0BLgM2yXYRc3ALi/XDI0KGOH3+01HgMtQM7DDX1FhOgJcJjk52XQEuAzbJdhFzcAuL9cMp37AiFAopFAoZDoGXISagR2hjAyFMjJMx4CL1NTUmI4Al2G7BLuoGdjl5ZqhUQEjioqKVFRUZDoGXISagR1FU6eqaOpU0zHgIoFAwHQEuAzbJdhFzcAuL9cMjQoAAAAAAOAYNCoAAAAAAIBj0KgAAAAAAACOQaMCAAAAAAA4Bo0KAAAAAADgGAmmA8CbxowZYzoCXIaagR1jZs0yHQEuM3z4cNMR4DJsl2AXNQO7vFwzHFEBAAAAAAAcg0YFjAgGgwoGg6ZjwEWoGdgRHDxYwcGDTceAi1RVVZmOAJdhuwS7qBnY5eWa4dQPGBEIBCRJ6enpZoPANagZ2BGYNEmSlM4pIGinkpIS0xHgMmyXYBc1A7u8XDMcUQEAAAAAAByDRgUAAAAAAHAMGhUAAAAAAMAxaFQAAAAAAADHYDJNGOH3+01HgMtQM7DDX1FhOgJcJikpyXQEuAzbJdhFzcAuL9cMjQoYkZeXZzoCXIaagR15c+aYjgCXGThwoOkIcBm2S7CLmoFdXq4ZTv0AAAAAAACOQaMCRpSWlqq0tNR0DLgINQM7SvPzVZqfbzoGXGTr1q2mI8Bl2C7BLmoGdnm5ZmhUwIiysjKVlZWZjgEXoWZgR9n48SobP950DLhIeXm56QhwGbZLsIuagV1erhkaFQAAAAAAwDFoVAAAAAAAAMegUQEAAAAAAByDRgUAAAAAAHCMBNMB4E3p6emmI8BlqBnYkb5qlekIcJm0tDTTEeAybJdgFzUDu7xcMzQqYERubq7pCHAZagZ25M6bZzoCXCYnJ8d0BLgM2yXYRc3ALi/XDKd+AAAAAAAAx6BRASMCgYACgYDpGHARagZ2BCZOVGDiRNMx4CIlJSWmI8Bl2C7BLmoGdnm5ZmhUwIhgMKhgMGg6BlyEmoEdwSFDFBwyxHQMuEhVVZXpCHAZtkuwi5qBXV6uGRoVAAAAAADAMWhUAAAAAAAAx6BRAQAAAAAAHINGBQAAAAAAcIwE0wHgTVlZWaYjwGWoGdiRtWCB6QhwmczMTNMR4DJsl2AXNQO7vFwzNCpgRHZ2tukIcBlqBnZkFxSYjgCX6dmzp+kIcBm2S7CLmoFdXq4ZTv0AAAAAAACOQaMCRhQVFamoqMh0DLgINQM7iqZOVdHUqaZjwEXWrl1rOgJchu0S7KJmYJeXa4ZTP2BEKBQyHQEuQ83AjlBGhukIcJna2lrTEeAybJdgFzUDu7xcMxxRAQAAAAAAHINGBQAAAAAAcAxO/YBFY2OjduzYocrKStXW1qqhoaFT3mf3665YsaJTXh+xx401Ex8fr6SkJHXr1k2pqamKi6M3DAAAAOwPjQo0qaqq0saNGxUOhzv9veLj4yVJ9fX1nf5eiA1urJn6+nrV1NSoqqpKPp9Pffv2VVpamulYAAAAgKPRqICktpsUPp+v6cNhR9v9uj6fr1NeH7HHjTXT0NDQ9DcVDoe1ceNGmhVRkvv226YjwGVycnJMR4DL5Obmmo4Al6FmYJeXa4ZGBdTY2GhpUqSmpiozM1MpKSmu+lAIOE04HNauXbtUXl6uHTt2NDUrhg8fzmkgnSx99WrTEeAyNBBhV3p6uukIcBlqBnZ5uWbYU0bTBygp0qTo16+funbtSpMCOEg+n09du3ZVv379lJqaKinSvNixY4fhZAAAAIBz0aiAKisrm25nZmZGpUGxa9cu7dq1q9PfB7HDzTXj8/mUmZnZdL/l3xw6R+H06SqcPt10DLhIcXGx6QhwmcLCQhUWFpqOARehZmCXl2uGRgVUW1srKfJhKiUlxXAaIDa1PJVq998cAAAAgNZoVKDpso/x8fGc7gF0kpaT03bWZX8BAACAWECjAgAAAAAAOAZX/QAAuM+//y098UTbjzU0SIMGNd+fPHnvr3PLLdKRR3ZoNAAAABwcGhUAAPc55BDp9df3/njLiTT3tlxKijRqVMfmAgAAwEGjUQEj/H6/6QhwGWoGFiNGSGPHSl991ebDeXPm7P81Tj9d6tq1Q2PBvXJzc01HgMvk5eWZjgCXoWZgl5drhkYFjIiLY3oU2EPNoJXzz99ro8JfUdG+5wPfSE5ONh0BLkMDHXZRM7DLyzXDnj+MaGxsVGNjo+kYcBFqBq1Mm7bXh0IZGQplZOz9ud26Saee2gmh4FY1NTWmI8BlQqGQQqGQ6RhwEWoGdnm5ZjiiAkbs/oNLSUkxnARuEe2a2bx5s+bNm6ePP/5Ya9eu1bZt29S9e3cddthhuvjii3XooYdGJQf2YeBAacIE6dNPWz1UNHWqJGnMrFltP/essyQPf0uB1gKBgOkIcJmioiJJ0pgxYwwngVtQM7DLyzXDERUA0Ibnn39e9913nzZu3KgJEybowgsv1JgxY/TBBx/o0ksv1VtvvWU6IqQDP32D0z4AAAAciyMqAKANo0aN0qxZs5Sfn28Z//LLL/XTn/5Ud911l44//nglJSUZSghJ0nnnSVdfLYXD7X9Ojx7SSSd1XiYAAAAcFI6oAIA2nHjiia2aFJJ0+OGHa/z48aqsrNTKlSsNJINFnz7Sd75j7znnnislJnZOHgAAABw0jqgAcNCWLl2qjz/+WF999ZXWrFmjiooKJSQkqFevXhozZoy+973vaezYsaZjdpiEhMiqMz4+3nASSIqcxvHee+1f/oILOi0KAAAADh6NCgAH5YorrtCXX37Zaryurk7r1q3TunXr9PLLL+u0007TjTfeqESXf5NdWlqqzz//XD179tTQoUNNx4EknXOOdOWVUkPD/pft00c69tjOzwQAAIADRqMCRnC1j9ixZcsWSVKvXr00ceJEjR07VtnZ2WpsbNSiRYv03HPPafPmzXr11VdVX1+v22+//YDexwk1U19fr9/97neqra3Vz372M46ocIqePaVJk6Q33mga2uvVPqZOlfh3QxuGDx9uOgJcxouz8OPgUDOwy8s1Q6MCwEEZOHCgrrzySp144omtPriPHj1ap512mi699FKtW7dOb775ps455xyNGzfOUNoD19jYqFtuuUULFy7UWWedpdNOO810JLR0/vmWRsU+lwMAAICjMZkmjKivr1d9fb3pGOgAf/7znzVp0qS9Hl2Qnp6uq6++uun+O++8c0DvY7JmGhsbdeutt+qNN97Qd7/7XV133XVGcmAfzjxTanEFluDgwQoOHmxdZuBA6cgjoxoL7lFVVWU6AlwmGAwqGAyajgEXoWZgl5drhkYFjKitrVVtba3pGMZMnjxZ48eP109+8pP9Lrty5UodddRRGj9+vJ599tkopOt448ePb7q9YcOGA3oNOzVTXV2tk08+WePHj9f3vve9vTY4QqGQLr30Uo0fP17HHHOMFi5c2GqZxsZG/f73v9crr7yiU045Rbfccovi4lh1Ok737tLkyU13A5MmKTBpknWZ88+XfL4oB4NblJSUmI4AlwkEAgoEAqZjwEWoGdjl5ZphbxswYNSoUZKk5cuXKxwO73PZ+++/Xw0NDerXr5+mTZsWjXgdrmWDIRof8rt06aIf/ehHkqSNGzfqlVdeabVMY2OjbrrpJi1atEhxcXG69dZbW52SsrtJ8eqrr2rSpEm69dZbmZfCyfZ3WgenfQAAALgCjQrAgNGjR0uSduzYsc8u6QcffKDPPvtMkvTzn//ctVfMaHmkwqBBg6Lynuecc46ys7MlSU899VSroyruvfdevfvuu5Kkq6++WhMnTrQ8vvt0j1dffVUTJ07UH/7wB5oUTjdlirS3SVdHjJAOOyy6eQAAAHBAmEwTMGB3o0KSli1bpoEDB7Zapr6+Xn/+858lSePGjdOJJ57YrtdueZrFgbr55pt1+umnH/TrSJEP/M8880zT/Ul7Ho7fSZKSknT55Zfrtttu06ZNm/TSSy/p7LPPliQ9++yzev755yVJF110kS644IJWz3/88cf1yiuvKCUlRQMGDNCTTz7Zapnjjz9eeXl5nfuLoP26dpXOOEOaPbv1Y5z2AQAA4Bo0KtA+4UapdlvHvV7trsh/481fcnKvknpIvs456GjkyJGKj49XQ0ODli5dqu9+97utlnn++ee1bt06+Xw+XXPNNZ2SIxr++c9/asmSJZKkE044QSNHjrT1/H/84x+SpOTkZE2ZMsXWc08//XT9/e9/17p16/T000/rjDPO0LvvvqsHHnhAknTKKafo5z//eZvP3X2++q5du/TUU0+1uUyfPn1oVDjN+ee33ahw6WlTAAAAXkSjAu1Tu016vXeHvZyD2xPNvrtZSu7VKS/t9/s1bNgwLV++vOlDfEvBYFBPPPGEJOm0007TiBEj2v3as9v6kGZTVlbWQb+GJBUUFOihhx6SJGVmZh7Q1TJ2NxX69u2rM844w9Zz4+Pj9ZOf/ETXX3+9SkpKdNddd+m1115TOBzW+PHjdcstt8i3l2/Zb7nlFt1yyy2288KwU0+VuneXv6KieWzs2MipH8A+JLW4agzQHn6/33QEuAw1A7u8XDM0KgBDRo8ereXLl6u4uFgNDQ2W+Q9mzZqlqqoqdenSRVdeeaWt1x06dGhHRz0gq1at0q9+9Ss1NDQoOTlZd911lzIzMw/49Xw+3wGtrCdNmqRnnnlGxcXF+u9//ysp8v/onnvuce2cH9iH5GTprLOU1+J0IybRRHu0dQoesC8cUQe7qBnY5eWaYTJNwJBDDz1UUuQSmatXr24aX716tf79739Lkn74wx+qV6/OOaqjM23cuFEzZ85UZWWl4uPjdfvtt7e6oka0+Hw+nXXWWU33e/TooQcffFCpqalG8iAK9mxMcNoHAACAq3BEBWBIywk1lyxZomHDhkmS/vznP6uhoUFZWVm66KKLbL/uypUrDzpbVlaW0tLSDui5W7Zs0YwZM7Rlyxb5fD7ddNNNOv744w84y6effiopMrloXV2d7aMg1q1bp1mzZjXdD4VCHOId6048UaU33CDV1ys7Lk7im3K0w9atW01HgMuUlpZKUtMVpoD9oWZgl5drhkYF2iepR2TOhg6yqzoymWZKFwfPVpHUo1NffsCAAerevbu2b9+uZcuW6cwzz9RHH32k+fPnS5JmzJhxQKc6nN8Bh7kf6FU/gsGgrrzySm3cuFGS9Ktf/cr2BJh7SkiIrKZqa2vV2Nhoq1FRXl6un/3sZwoGg03/r3fu3Kmnn35aV1999UHlgoMlJqrsvPMkSdljxhgOA7coLy83HQEuU1ZWJsmbHyBwYKgZ2OXlmqFRgfbxxXXsxJIN31z1I9nBjYooGDVqlObPn6+lS5daLkd6yCGHaPLkyWbD2bRjxw7NnDmz6TSWmTNnaurUqcbyVFdX66qrrtLGjRuVkpKiRx55RE888YTee+89vfjii/rBD36g3r07boJYAAAAAB2DRgVg0OjRozV//nytXLlS//rXv7R27VpJ0jXXXLPXq1Hsz4IFCzowYfuEQiH94he/0PLlyyVJl156qS655JKo59itvr5ev/nNb7R06VLFx8fr7rvv1ogRI/TjH/9Y77//vmpqavT444/rhhtuMJYRAAAAQNuYTBMwaPc8FXV1dXrkkUckSSeddJLGjh1rMJU9dXV1uvbaa1VYWChJuuCCCzRjxgyjme68886mU2iuv/56HX300ZKk4cOHN82X8dJLL2nDhg2mIgIAAADYC46oAAw69NBD5fP5FA6HVV9fr6SkJP385z83HcuW66+/vmnCyyOOOELf+9739jmhZ2JionJzczstz6xZszR37lxJ0hVXXKHvfe97lsenT5+u9957Tw0NDXrsscd02223dVoWAAAAAPbRqIAR8fHxpiM4QmpqqgYOHKg1a9ZIkqZNm6a+ffsaTmXPu+++23T7iy++2O9knjk5OXr55Zdtv097aua///2vHn/8cUnSGWecoenTp7daZujQoTrppJM0b948vfXWW7rkkks0dOhQ23ngbOnp6aYjwGUO9EpH8C7WM7CLmoFdXq4ZTv2AEcnJyUpOTjYdwxEyMjKa/nvZZZcZTuNc+6uZjz76SHfeeack6eijj9b111+/12WvuOIKxcXFqbGxUX/5y186PCvMy83N7dQjdxB7cnJyTEeAy7CegV3UDOzycs1wRAVg0JIlS7Rw4UJJkVMSUlNTDSeyz8TknW059thj9dlnn7Vr2SFDhujzzz/v5EQAAAAADgRHVMCImpoa1dTUmI5h3IMPPigp8sH5rLPOMpzG2agZ2BEIBBQIBEzHgIuUlJSYjgCXYT0Du6gZ2OXlmqFRASMaGhrU0NBgOoZR//3vf1VQUCBJ+vWvf828HftBzcCOYDCoYDBoOgZcpKqqynQEuAzrGdhFzcAuL9cMp34AURIKhbRlyxbt3LlTH3zwgZ566ilJ0tlnn638/HzD6QAAAADAGWhUAFHy+uuv6/bbb7eMjRo1Stdcc42hRAAAAADgPDQqgChZvny5JCkpKUk5OTmaNGmSLrroIvn9fsPJAAAAAMA5aFQAUXLdddfpuuuuMx0DAAAAAByNRgWMSExMNB0BLkPNwI6srCzTEeAymZmZpiPAZVjPwC5qBnZ5uWZoVMAIPnTCLmoGdmRnZ5uOAJfp2bOn6QhwGdYzsIuagV1erhkuTwoAAAAAAByDRgWMCIVCCoVCpmPARagZ2FFUVKSioiLTMeAia9euNR0BLsN6BnZRM7DLyzXDqR8worGx0XQEuAw1AztoasGu2tpa0xHgMqxnYBc1A7u8XDMcUQEAAAAAAByDRgUAAAAAAHAMGhUAAAAAAMAxaFQAQJSEw2HTEQAAAADHYzJNKD4+XvX19aqvr1dDQ4Pi4+M7/T2TkpI6/T0QW9xeMw0NDWpoaJCkqPyNeV1ubq7pCHCZnJwc0xHgMqxnYBc1A7u8XDM0KqCUlBTV1NRIkoLBoHr06NHp75mQQOnBHrfXTDAYbLqdkpJiLohHpKenm44Al0lLSzMdAS7DegZ2UTOwy8s14+49f3SI9PR0VVRUSJI2b96shoYGdevWTcnJyfL5fIbTAe4VDodVU1OjyspKbdu2rWk8IyPDYCoAAADA2WhUQH6/X927d9f27dslSdu2bdO2bdvk8/k67RB1DoGHXW6smYaGhlbzUnTv3l3JycmGEnlHYWGhJGnMmDGGk8AtiouLTUeAy7CegV3UDOzycs3QqICkyLm5SUlJ2rJlS9NYOBxWfX19p7xfbW2tJPfPO4DoiYWa6dWrV1ROrQIAAADcjEYFJEk+n089e/ZUt27dtGPHDu3cuVO1tbVqbGzslPerrq6W5P55BxA9bqyZuLg4JSUlqWvXrkpNTXV1kwUAAACIFvfs8SMqkpKSlJmZqczMzE59n92HMQ0bNqxT3wexg5oBAAAAvCHOdAAAAAAAAIDdOKICUbdp0yZNnjxZkvTFF1+oT58+hhPB6agZ2EG9wK5NmzbpZz/7mSRZ5moC9ob1DOyiZmCX12uGIyoAAAAAAIBj0KgAAAAAAACOQaMCAAAAAAA4Bo0KAAAAAADgGDQqAAAAAACAY9CoAAAAAAAAjkGjAgAAAAAAOAaNCgAAAAAA4Bi+cDgcNh0CHSM3N1f19fWKi4tT7969TcfZq8bGRm3evFmS1Lt3b8XF0S/DvlEzsIN6gV2NjY0qKytTY2OjevbsqeTkZNOR4HCsZ2AXNQO73FgzvXv31uuvv94hr0WjIob0799fjY2NpmMAAAAAADwmOztbBQUFHfJaCR3yKnCE5ORk1dTUKD4+Xj169DAdBwAAAADgER15VD9HVAAAAAAAAMdw/okuAAAAAADAM2hUAAAAAAAAx6BRAQAAAAAAHINGBQAAAAAAcAwaFQAAAAAAwDFoVAAAAAAAAMegUQEAAAAAAByDRgUAAAAAAHCMBNMBgJbKy8v1xRdf6Msvv9Ty5csVCARUVlamnTt3KiEhQenp6crLy9PRRx+tc889Vzk5OaYjwwHWr1+vDz74QJ9++qmWLVumTZs2aefOnUpNTVVOTo7GjRuns846S0cffbTpqHCIhoYGFRUVqbCwsOln2bJlqqurkyQdffTRevHFFw2nRGerra3VSy+9pLlz56qoqEhbt25V9+7d1b9/f02ePFlTp05VZmam6ZhwANYZsIt9E9jBZ6DWfOFwOGw6BLDbD3/4Q73zzjvtWjY5OVkzZ87UVVddpbg4Dg7yoq+//lq//e1v9eWXX7Zr+aOPPloPPPCA+vbt28nJ4GRvvPGGZs6cqerq6r0uw4eO2Ldy5UrNmDFDS5Ys2esyPXv21H333aeTTjopisngNKwzYAf7JjgQfAZqjSMq4FiZmZkaNmyY+vbtq65du6q6ulpr167VV199pfr6etXU1Ojee+9VIBDQAw88YDouDFi1alWrHYHBgwdrxIgRysjIUGVlpRYsWKCSkhJJ0ieffKIzzjhD//73v5Wbm2siMhxg+/bt+/zAgdi3adMmTZs2TaWlpZIkn8+nCRMmKDc3V9u2bdOHH36oUCikrVu36rLLLtOzzz6rY4891nBqmMI6A3awb4KDxWegCBoVcJRjjjlGkyZN0rHHHqtBgwa1ucyWLVt0yy236L///a8k6cUXX9SkSZM0ZcqUKCaFkwwcOFDf//73dfbZZ7c6FK6xsVFz5szRjTfeqOrqapWWlmrmzJl66aWX5PP5DCWGE/Tq1UtjxozR2LFjNWbMGL333nt68sknTcdCFMycObOpSdGvXz899dRTGjVqVNPj5eXl+ulPf6qPPvpIdXV1mj59uubPn6/u3bubigwHYJ0BO9g3gR18BmqNUz/gSuFwWNOmTdPHH38sSTruuOM0e/Zsw6kQbZ988onWrVunc889V/Hx8ftc9vXXX9fll1/edP+5557T8ccf38kJ4USbN29WXV1dq8Ns7733Xt13332SOIw7lr3zzjv64Q9/KElKSkrSa6+9ppEjR7ZabteuXZo4caICgYCkSHPjuuuui2pWOAPrDNjBvgk6k5c+A8XuSS2IaT6fT9OmTWu6//XXXxtMA1OOPvpoTZs2bb87ApL03e9+V4cffnjT/faeB4jY07t3b84F9rBnnnmm6fZ5553XZpNCklJSUnTttdc23X/22WdVX1/f2fHgQKwzYAf7JuhMXvoMRKMCrtWjR4+m2zt37jSYBG4xfvz4ptvr1683mASACTt37mz6FkqSpk6dus/lJ0+erK5du0qSgsGgPv30007NB8B72DeBXV75DESjAq5VXFzcdLtfv34Gk8AtWp732dDQYDAJABMWLFigmpoaSZEjJsaOHbvP5f1+v/Lz85vut2xyAEBHYN8EdnnlMxCNCrhSaWmpZs2a1XT/tNNOM5gGbrF8+fKm23369DGYBIAJK1asaLo9YsQIJSTsf07x0aNHN91euXJlp+QC4F3sm8AOL30G4qofcI3q6mqtX79e//vf//Too49q69atkqRhw4Zp5syZhtPB6TZu3Gj5NvS4444zmAaACatWrWq63d5voVp+cKBRAaAjsW+C9vDqZyAaFXCszz//XGedddY+lznxxBP18MMPKzU1NUqp4Fa33HJL0yGVffv21aRJkwwnAhBtFRUVTbd79erVruf07t276XYwGOzoSAA8jH0TtIXPQBE0KuBK6enpuuOOO/S9733PdBS4wJw5c/Taa6813b/uuuuUnJxsMBEAE1pOOub3+9v1nJbLxfKkZQCii30THAgvfQaiUQHHysrK0iWXXCIpcs3gHTt2aPXq1Vq8eLGCwaBmzJihZ599VnfddZeGDBliNiwcq7CwUNddd13T/TPPPHO/WolDqgAACmRJREFUXWoAsWn3RJqSlJiY2K7nJCUlNd0OhUIdngmA97Bvgn3hM1AEjQrs19NPP62nn366Q1/z17/+taZMmbLPZXJzc3X77be3Gi8tLdXdd9+tOXPmaP78+TrjjDP0wgsv6JBDDunQjDhwpmpmT+vWrdMll1zS9OFi5MiRuuuuuzo0FzqGU2oGsa3lt5V1dXXtek5tbW3T7fYehQEAe8O+CfaHz0ARNCqwX+Xl5ZYJyDpCZWXlAT83Oztb999/v9LS0vTkk082dRbfeecdxcfHd2BKHCgn1ExZWZkuuOACbd68WVJkpf/cc88pLS2tQ3OhYzihZhD7unbt2nS7vUdHtFyu5fMBwC72TXAwvPYZiMuTwrWuu+66phX7ihUr9L///c9wIjhFeXm5LrjgAq1du1ZS5BC62bNnKysry2wwAEZlZGQ03d6yZUu7nrP7A4UUOTcYAA4E+yboKF75DMQRFdivX/7yl/rlL39pOkYrXbp00fjx4/Xuu+9KkhYsWMBsyQ5hsmaqqqr0gx/8QEVFRZKkzMxMzZ49WwMGDDCSB+3j1PUMYkvLc3k3bNjQruds2rSp6fbQoUM7PBOA2Me+CTqSVz4DcUQFXK179+5Nt1tedg7etGvXLl100UVatGiRJKlbt2567rnnNHz4cMPJADjBsGHDmm4vX75c9fX1+33O4sWLm27TqABgF/sm6Axe+AxEowKuVlZW1nSbQ3K9LRQK6ZJLLtEXX3whKdJt/vvf/67DDjvMcDIATjF+/PimCTV37dqlwsLCfS5fU1OjhQsXNt3/1re+1an5AMQW9k3QWbzwGYhGBVyrvLzcsgPJN13eVVdXpyuuuEIff/yxpMjM/k899ZSOOOIIw8kAOEnXrl0tzYY5c+bsc/nXX39dO3bskBTZEZwwYUKn5gMQO9g3QWfxymcgGhVwDDuHLTU2NurGG29UTU2NpMjKf+LEiZ0VDQ7W0NCgK6+8smkioYSEBD322GP69re/bTgZACe6+OKLm26/8MILTeeM76m6ulp/+tOfmu5feOGFSkhgai8A+8e+CezgM1DbaFTAMV588UVNnjxZL7zwgqqqqva63NKlS3XRRRdp7ty5TWM/+clPlJmZGY2YcJBwOKxf/vKXevXVVyVJcXFxevDBB3XyyScbTgbAqSZOnKijjjpKUuTUjosvvlhLly61LFNeXq5LL720aXb+9PR0zZgxI9pRAbgQ+yawi89AbfOFw+Gw6RCAJD3++OO65ZZbJEU6z0OHDtXgwYOVnp4un8+niooKLV26tGnHcbfJkyfr0Ucf5ZsuD3rmmWd0ww03NN0fNGiQvvOd77T7+bfffntnxIILXHTRRSotLbWMbdmypemSlSkpKRo4cGCr5/3jH/9QdnZ2NCKiE23atElTpkxpOsfX5/NpwoQJGjhwoLZt26YPP/xQ1dXVkiLbo2effVbHHXecycgwjHUG2ot9E9jFZ6C2xeZvBVdKSkpqul1fX6/ly5dr+fLle10+NTVV11xzjS6//HLFx8dHIyIcZtu2bZb7a9as0Zo1a9r9fHYGvKu4uHifl6fctWtXq2/Zpcg5x3C/Pn36aM6cOZoxY4aWLFmicDisTz75RJ988olluR49eui+++6jSQHWGWg39k1gF5+B2kajAo5x8cUX69hjj9WHH36oL7/8UsXFxdq4caMqKyslRf4os7KydMghh+i4447Taaedpq5duxpODQBwo6FDh+qVV17R3LlzNXfuXBUVFWnr1q3q1q2bBgwYoMmTJ2vatGkxe0gtAMAZ+AzUNk79AAAAAAAAjsFkmgAAAAAAwDFoVAAAAAAAAMegUQEAAAAAAByDRgUAAAAAAHAMGhUAAAAAAMAxaFQAAAAAAADHoFEBAAAAAAAcg0YFAAAAAABwDBoVAAAAAADAMWhUAAAAAAAAx6BRAQAAAAAAHINGBQAAAAAAcAwaFQAAAAAAwDFoVAAAAAAAAMegUQEAAAAAAByDRgUAAAAAAHAMGhUAAAAAAMAxaFQAAAAAAADHoFEBAAAAAAAcg0YFAAAAAABwDBoVAAAAAADAMWhUAAAAAAAAx6BRAQAAAAAAHINGBQAAAAAAcAwaFQAAwBMCgYDy8vLUt29f9e3bV4888sh+n3PDDTc0LT9+/HgFg8HODwoAgMfRqAAAAJ6Qm5ur22+/ven+n/70Jy1atGivy8+bN0/PPPOMJCkuLk4PPvig0tPTOzklAACgUQEAADzj3HPP1ZlnnilJqqur05VXXqldu3a1Wm7z5s265pprmu7PmDFDxxxzTLRiAgDgaTQqAACAp9x5553q16+fJGn16tW6+eabLY+Hw2FdffXV2rZtmyRpzJgxuvbaa6OeEwAAr6JRAQAAPKVbt2566KGHFB8fL0n65z//qddff73p8ccff1zvvfeeJCklJUUPPfSQEhMTTUQFAMCTfOFwOGw6BAAAQLTdc889uv/++yVJ6enpmjdvnsrLy3X66aerpqZGUmQei+9///smYwIA4Dk0KgAAgCc1NDTo7LPP1oIFCyRJxxxzjLZu3ari4mJJ0uTJk/X444+bjAgAgCfRqAAAAJ61bt06nXzyyaqqqrKMZ2dna968ecrIyDCUDAAA72KOCgAA4FkDBgzQHXfcYRnz+Xx64IEHaFIAAGAIjQoAAOBpPXv2tNzPysrSuHHjDKUBAAA0KgAAgGeVl5frqquusoyVlpa2umQpAACIHhoVAADAs6699lqVlZVJkgYOHGi5ZOkbb7xhMhoAAJ5FowIAAHjSP/7xD7355puSJL/fr7/97W/6xS9+0fT4tddeq9LSUlPxAADwLBoVAADAc1auXKnf//73Tfd/97vfaejQobrqqquUn58vSaqoqNAvfvELcYE0AACii0YFAADwlNraWs2cOVPV1dWSpEmTJuniiy+WJMXHx+uhhx5SamqqJOmjjz7SrFmzjGUFAMCLaFQAAABP+eMf/6jFixdLknr37q17773X8nhubq5uu+22pvt33323vv7666hmBADAy2hUAAAAz2h5hITP59N9992nHj16tFruvPPO0xlnnCGp9REYAACgc9GoAAAAnrB7zonGxkZJ0qWXXqoTTjhhr8vfdddd6tu3ryRpxYoVuvXWW6OSEwAAr6NRAQAAPOHXv/5101U8RowYoeuvv36fy3fv3l0PPvig4uIiu0t///vf9dZbb3V6TgAAvM4XZiprAAAAAADgEBxRAQAAAAAAHINGBQAAAAAAcAwaFQAAAAAAwDFoVAAAAAAAAMegUQEAAAAAAByDRgUAAAAAAHAMGhUAAAAAAMAxaFQAAAAAAADHoFEBAAAAAAAcg0YFAAAAAABwDBoVAAAAAADAMWhUAAAAAAAAx6BRAQAAAAAAHINGBQAAAAAAcAwaFQAAAAAAwDFoVAAAAAAAAMegUQEAAAAAAByDRgUAAAAAAHAMGhUAAAAAAMAxaFQAAAAAAADHoFEBAAAAAAAcg0YFAAAAAABwDBoVAAAAAADAMWhUAAAAAAAAx6BRAQAAAAAAHINGBQAAAAAAcIz/B6qWwzCEAuZAAAAAAElFTkSuQmCC)\n",
        "\n"
      ],
      "metadata": {
        "id": "FqdUSxy9wf5S"
      }
    }
  ]
}